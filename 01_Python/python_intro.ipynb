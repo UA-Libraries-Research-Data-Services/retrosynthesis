{
 "cells": [
  {
   "cell_type": "markdown",
   "metadata": {},
   "source": [
    "# Introduction to Python\n",
    "\n",
    "V.F. Scalfani, University of Alabama Libraries\n",
    "\n",
    "Fall 2024"
   ]
  },
  {
   "cell_type": "markdown",
   "metadata": {},
   "source": [
    "## Anticipated Length of Workshop\n",
    "\n",
    "1 hour"
   ]
  },
  {
   "cell_type": "markdown",
   "metadata": {},
   "source": [
    "## What is the purpose of this workshop?\n",
    "\n",
    "This workshop is designed to review the basics of Python and ensure that participants for the computer-assisted retrosynthesis workshops have a working knowledge of Python. If you are already engaged with writing your own Python code, this will be review. Here is what we will cover:\n",
    "\n",
    "1. Setting up a Conda Python development environemnt\n",
    "2. Getting help in Python\n",
    "3. Python syntax and variables\n",
    "4. Indexing and accessing data\n",
    "5. Functions\n",
    "6. Conditional statements\n",
    "7. Loops\n",
    "8. Data I/O\n",
    "9. Multiprocessing"
   ]
  },
  {
   "cell_type": "markdown",
   "metadata": {},
   "source": [
    "## Additional Resources\n",
    "\n",
    "Content in this workshop was adapted from a previsouly offered Conda and 3-part Python workshop series from UA Libraries: https://github.com/ualibweb/UALIB_Workshops\n",
    "\n",
    "In addition to the workshop content, we recommend starting with the following Python resources to learn more:\n",
    "\n",
    "1. https://github.com/jakevdp/WhirlwindTourOfPython\n",
    "\n",
    "2. http://swcarpentry.github.io/python-novice-gapminder/\n",
    "\n",
    "3. https://docs.python.org/3/tutorial/index.html\n",
    "\n",
    "4. Python Crash Course: a hands-on, project-based introduction to programming, by Eric Matthes: [Scout Link](http://libdata.lib.ua.edu/login?url=https://search.ebscohost.com/login.aspx?direct=true&db=cat00456a&AN=ua.8611906&site=eds-live&scope=site)\n"
   ]
  },
  {
   "cell_type": "markdown",
   "metadata": {},
   "source": [
    "## 1. Setting up a Conda Python development environment"
   ]
  },
  {
   "cell_type": "markdown",
   "metadata": {},
   "source": [
    "As you develop Python code, you will notice that there are various dependencies that need to be installed. It's often necassary or convenient to have different Python environments for different projects. There are several good solutions available to manage Python dependencies.\n",
    "\n",
    "Our preferred method is to use the Conda package manager. See our previous workshop on \"Introduction to Conda\" for more information: https://github.com/ualibweb/UALIB_Workshops\n",
    "\n",
    "**What is Conda?**\n",
    "\n",
    "“Conda is an open source package management system and environment management system that runs\n",
    "on Windows, macOS, Linux and z/OS. Conda quickly installs, runs and updates packages and their\n",
    "dependencies. Conda easily creates, saves, loads and switches between environments on your local\n",
    "computer. It was created for Python programs, but it can package and distribute software for any\n",
    "language.” [1]\n",
    "\n",
    "**Local Installation Instructions**\n",
    "\n",
    "1. Install Miniforge, a community packaged conda-forge distribution, follow docs to install: https://github.com/conda-forge/miniforge\n",
    "\n",
    "2. Setup a basic rdkit-based cheminformatics Python environment:\n",
    "\n",
    "The following code is entered in a terminal or Anaconda Navigator:\n",
    "\n",
    "```\n",
    "conda create --name retro_rdkit_env\n",
    "conda activate retro_rdkit_env\n",
    "conda install -c conda-forge rdkit jupyterlab numpy matplotlib pandas\n",
    "\n",
    "```\n",
    "\n",
    "3. Install VSCode and Python extensions (optional, as you could use Jupyter Lab or another IDE)\n",
    "\n",
    "https://code.visualstudio.com/"
   ]
  },
  {
   "cell_type": "markdown",
   "metadata": {},
   "source": [
    "### Check Installation"
   ]
  },
  {
   "cell_type": "code",
   "execution_count": 1,
   "metadata": {},
   "outputs": [
    {
     "name": "stdout",
     "output_type": "stream",
     "text": [
      "3.12.5 | packaged by conda-forge | (main, Aug  8 2024, 18:36:51) [GCC 12.4.0]\n"
     ]
    }
   ],
   "source": [
    "# First let's make sure everything is working with Python\n",
    "import sys\n",
    "print(sys.version)"
   ]
  },
  {
   "cell_type": "code",
   "execution_count": 2,
   "metadata": {},
   "outputs": [
    {
     "name": "stdout",
     "output_type": "stream",
     "text": [
      "Hello, Cheminformatics World!\n"
     ]
    }
   ],
   "source": [
    "print(\"Hello, Cheminformatics World!\")"
   ]
  },
  {
   "cell_type": "markdown",
   "metadata": {},
   "source": [
    "## 2. Getting help in Python"
   ]
  },
  {
   "cell_type": "markdown",
   "metadata": {},
   "source": [
    "### Web Documentation\n",
    "\n",
    "We recommend starting out with viewing the online web-based documentation for Python: https://docs.python.org/3/. See also the Library Reference section for built-in Python functions: https://docs.python.org/3/library/index.html"
   ]
  },
  {
   "cell_type": "markdown",
   "metadata": {},
   "source": [
    "### help() function \n",
    "\n",
    "For additional tips, see refs [2,3]"
   ]
  },
  {
   "cell_type": "code",
   "execution_count": 3,
   "metadata": {},
   "outputs": [
    {
     "name": "stdout",
     "output_type": "stream",
     "text": [
      "Help on built-in function sorted in module builtins:\n",
      "\n",
      "sorted(iterable, /, *, key=None, reverse=False)\n",
      "    Return a new list containing all items from the iterable in ascending order.\n",
      "\n",
      "    A custom key function can be supplied to customize the sort order, and the\n",
      "    reverse flag can be set to request the result in descending order.\n",
      "\n"
     ]
    }
   ],
   "source": [
    "# If you know the name of the function, use the help() function \n",
    "# to display the docstring\n",
    "help(sorted)"
   ]
  },
  {
   "cell_type": "code",
   "execution_count": 4,
   "metadata": {},
   "outputs": [
    {
     "name": "stdout",
     "output_type": "stream",
     "text": [
      "Help on list object:\n",
      "\n",
      "class list(object)\n",
      " |  list(iterable=(), /)\n",
      " |\n",
      " |  Built-in mutable sequence.\n",
      " |\n",
      " |  If no argument is given, the constructor creates a new empty list.\n",
      " |  The argument must be an iterable if specified.\n",
      " |\n",
      " |  Methods defined here:\n",
      " |\n",
      " |  __add__(self, value, /)\n",
      " |      Return self+value.\n",
      " |\n",
      " |  __contains__(self, key, /)\n",
      " |      Return bool(key in self).\n",
      " |\n",
      " |  __delitem__(self, key, /)\n",
      " |      Delete self[key].\n",
      " |\n",
      " |  __eq__(self, value, /)\n",
      " |      Return self==value.\n",
      " |\n",
      " |  __ge__(self, value, /)\n",
      " |      Return self>=value.\n",
      " |\n",
      " |  __getattribute__(self, name, /)\n",
      " |      Return getattr(self, name).\n",
      " |\n",
      " |  __getitem__(self, index, /)\n",
      " |      Return self[index].\n",
      " |\n",
      " |  __gt__(self, value, /)\n",
      " |      Return self>value.\n",
      " |\n",
      " |  __iadd__(self, value, /)\n",
      " |      Implement self+=value.\n",
      " |\n",
      " |  __imul__(self, value, /)\n",
      " |      Implement self*=value.\n",
      " |\n",
      " |  __init__(self, /, *args, **kwargs)\n",
      " |      Initialize self.  See help(type(self)) for accurate signature.\n",
      " |\n",
      " |  __iter__(self, /)\n",
      " |      Implement iter(self).\n",
      " |\n",
      " |  __le__(self, value, /)\n",
      " |      Return self<=value.\n",
      " |\n",
      " |  __len__(self, /)\n",
      " |      Return len(self).\n",
      " |\n",
      " |  __lt__(self, value, /)\n",
      " |      Return self<value.\n",
      " |\n",
      " |  __mul__(self, value, /)\n",
      " |      Return self*value.\n",
      " |\n",
      " |  __ne__(self, value, /)\n",
      " |      Return self!=value.\n",
      " |\n",
      " |  __repr__(self, /)\n",
      " |      Return repr(self).\n",
      " |\n",
      " |  __reversed__(self, /)\n",
      " |      Return a reverse iterator over the list.\n",
      " |\n",
      " |  __rmul__(self, value, /)\n",
      " |      Return value*self.\n",
      " |\n",
      " |  __setitem__(self, key, value, /)\n",
      " |      Set self[key] to value.\n",
      " |\n",
      " |  __sizeof__(self, /)\n",
      " |      Return the size of the list in memory, in bytes.\n",
      " |\n",
      " |  append(self, object, /)\n",
      " |      Append object to the end of the list.\n",
      " |\n",
      " |  clear(self, /)\n",
      " |      Remove all items from list.\n",
      " |\n",
      " |  copy(self, /)\n",
      " |      Return a shallow copy of the list.\n",
      " |\n",
      " |  count(self, value, /)\n",
      " |      Return number of occurrences of value.\n",
      " |\n",
      " |  extend(self, iterable, /)\n",
      " |      Extend list by appending elements from the iterable.\n",
      " |\n",
      " |  index(self, value, start=0, stop=9223372036854775807, /)\n",
      " |      Return first index of value.\n",
      " |\n",
      " |      Raises ValueError if the value is not present.\n",
      " |\n",
      " |  insert(self, index, object, /)\n",
      " |      Insert object before index.\n",
      " |\n",
      " |  pop(self, index=-1, /)\n",
      " |      Remove and return item at index (default last).\n",
      " |\n",
      " |      Raises IndexError if list is empty or index is out of range.\n",
      " |\n",
      " |  remove(self, value, /)\n",
      " |      Remove first occurrence of value.\n",
      " |\n",
      " |      Raises ValueError if the value is not present.\n",
      " |\n",
      " |  reverse(self, /)\n",
      " |      Reverse *IN PLACE*.\n",
      " |\n",
      " |  sort(self, /, *, key=None, reverse=False)\n",
      " |      Sort the list in ascending order and return None.\n",
      " |\n",
      " |      The sort is in-place (i.e. the list itself is modified) and stable (i.e. the\n",
      " |      order of two equal elements is maintained).\n",
      " |\n",
      " |      If a key function is given, apply it once to each list item and sort them,\n",
      " |      ascending or descending, according to their function values.\n",
      " |\n",
      " |      The reverse flag can be set to sort in descending order.\n",
      " |\n",
      " |  ----------------------------------------------------------------------\n",
      " |  Class methods defined here:\n",
      " |\n",
      " |  __class_getitem__(...)\n",
      " |      See PEP 585\n",
      " |\n",
      " |  ----------------------------------------------------------------------\n",
      " |  Static methods defined here:\n",
      " |\n",
      " |  __new__(*args, **kwargs)\n",
      " |      Create and return a new object.  See help(type) for accurate signature.\n",
      " |\n",
      " |  ----------------------------------------------------------------------\n",
      " |  Data and other attributes defined here:\n",
      " |\n",
      " |  __hash__ = None\n",
      "\n"
     ]
    }
   ],
   "source": [
    "# Help also works on variables\n",
    "a = [6,3,0,5]\n",
    "help(a)"
   ]
  },
  {
   "cell_type": "markdown",
   "metadata": {},
   "source": [
    "### dir() function [4]"
   ]
  },
  {
   "cell_type": "code",
   "execution_count": 5,
   "metadata": {},
   "outputs": [
    {
     "data": {
      "text/plain": [
       "['CLOCK_BOOTTIME',\n",
       " 'CLOCK_MONOTONIC',\n",
       " 'CLOCK_MONOTONIC_RAW',\n",
       " 'CLOCK_PROCESS_CPUTIME_ID',\n",
       " 'CLOCK_REALTIME',\n",
       " 'CLOCK_TAI',\n",
       " 'CLOCK_THREAD_CPUTIME_ID',\n",
       " '_STRUCT_TM_ITEMS',\n",
       " '__doc__',\n",
       " '__loader__',\n",
       " '__name__',\n",
       " '__package__',\n",
       " '__spec__',\n",
       " 'altzone',\n",
       " 'asctime',\n",
       " 'clock_getres',\n",
       " 'clock_gettime',\n",
       " 'clock_gettime_ns',\n",
       " 'clock_settime',\n",
       " 'clock_settime_ns',\n",
       " 'ctime',\n",
       " 'daylight',\n",
       " 'get_clock_info',\n",
       " 'gmtime',\n",
       " 'localtime',\n",
       " 'mktime',\n",
       " 'monotonic',\n",
       " 'monotonic_ns',\n",
       " 'perf_counter',\n",
       " 'perf_counter_ns',\n",
       " 'process_time',\n",
       " 'process_time_ns',\n",
       " 'pthread_getcpuclockid',\n",
       " 'sleep',\n",
       " 'strftime',\n",
       " 'strptime',\n",
       " 'struct_time',\n",
       " 'thread_time',\n",
       " 'thread_time_ns',\n",
       " 'time',\n",
       " 'time_ns',\n",
       " 'timezone',\n",
       " 'tzname',\n",
       " 'tzset']"
      ]
     },
     "execution_count": 5,
     "metadata": {},
     "output_type": "execute_result"
    }
   ],
   "source": [
    "# The Python dir() function is useful for exploring modules\n",
    "# this prints a list of available functions and variables\n",
    "# example with time module\n",
    "import time  # In python, you will often need to import libraries to use them.\n",
    "dir(time)"
   ]
  },
  {
   "cell_type": "code",
   "execution_count": 6,
   "metadata": {},
   "outputs": [
    {
     "name": "stdout",
     "output_type": "stream",
     "text": [
      "Help on built-in function sleep in module time:\n",
      "\n",
      "sleep(...)\n",
      "    sleep(seconds)\n",
      "\n",
      "    Delay execution for a given number of seconds.  The argument may be\n",
      "    a floating-point number for subsecond precision.\n",
      "\n"
     ]
    }
   ],
   "source": [
    "# now we can use help() to get more information about a particular function or method\n",
    "help(time.sleep)"
   ]
  },
  {
   "cell_type": "markdown",
   "metadata": {},
   "source": [
    "## 3. Python syntax and variables \n",
    "\n",
    "Some content in this section adapted and inspired from refs [5,6]."
   ]
  },
  {
   "cell_type": "markdown",
   "metadata": {},
   "source": [
    "### Simple Variables"
   ]
  },
  {
   "cell_type": "code",
   "execution_count": 7,
   "metadata": {},
   "outputs": [
    {
     "name": "stdout",
     "output_type": "stream",
     "text": [
      "5\n"
     ]
    }
   ],
   "source": [
    "# An integer\n",
    "a = 5\n",
    "print(a)"
   ]
  },
  {
   "cell_type": "code",
   "execution_count": 8,
   "metadata": {},
   "outputs": [
    {
     "data": {
      "text/plain": [
       "int"
      ]
     },
     "execution_count": 8,
     "metadata": {},
     "output_type": "execute_result"
    }
   ],
   "source": [
    "type(a)"
   ]
  },
  {
   "cell_type": "code",
   "execution_count": 9,
   "metadata": {},
   "outputs": [
    {
     "name": "stdout",
     "output_type": "stream",
     "text": [
      "1.825\n"
     ]
    }
   ],
   "source": [
    "# Floating points\n",
    "b = 1.825\n",
    "print(b)"
   ]
  },
  {
   "cell_type": "code",
   "execution_count": 10,
   "metadata": {},
   "outputs": [
    {
     "data": {
      "text/plain": [
       "float"
      ]
     },
     "execution_count": 10,
     "metadata": {},
     "output_type": "execute_result"
    }
   ],
   "source": [
    "type(b)"
   ]
  },
  {
   "cell_type": "code",
   "execution_count": 11,
   "metadata": {},
   "outputs": [
    {
     "name": "stdout",
     "output_type": "stream",
     "text": [
      "Thanks for coming to our workshop!\n"
     ]
    }
   ],
   "source": [
    "# a string\n",
    "s1 = \"Thanks for coming to our workshop!\"\n",
    "print(s1)"
   ]
  },
  {
   "cell_type": "code",
   "execution_count": 12,
   "metadata": {},
   "outputs": [
    {
     "data": {
      "text/plain": [
       "str"
      ]
     },
     "execution_count": 12,
     "metadata": {},
     "output_type": "execute_result"
    }
   ],
   "source": [
    "type(s1)"
   ]
  },
  {
   "cell_type": "code",
   "execution_count": 13,
   "metadata": {},
   "outputs": [
    {
     "name": "stdout",
     "output_type": "stream",
     "text": [
      "single quotes work too\n"
     ]
    }
   ],
   "source": [
    "s2 = 'single quotes work too'\n",
    "print(s2)"
   ]
  },
  {
   "cell_type": "code",
   "execution_count": 14,
   "metadata": {},
   "outputs": [
    {
     "name": "stdout",
     "output_type": "stream",
     "text": [
      "Like when there is a single quote ' within the string\n"
     ]
    }
   ],
   "source": [
    "# Sometimes it is necassary to use double quotes\n",
    "s3 = \"Like when there is a single quote ' within the string\"\n",
    "print(s3)"
   ]
  },
  {
   "cell_type": "markdown",
   "metadata": {},
   "source": [
    "### Compound Variables\n",
    "\n",
    "Two common compound variables are lists and dictionaries. For others, see: https://docs.python.org/3/library/index.html\n"
   ]
  },
  {
   "cell_type": "code",
   "execution_count": 15,
   "metadata": {},
   "outputs": [
    {
     "name": "stdout",
     "output_type": "stream",
     "text": [
      "[9, 17, 35, 53]\n"
     ]
    }
   ],
   "source": [
    "# create a list with numbers\n",
    "atom_nums = [9, 17, 35, 53]\n",
    "print(atom_nums)"
   ]
  },
  {
   "cell_type": "code",
   "execution_count": 16,
   "metadata": {},
   "outputs": [
    {
     "data": {
      "text/plain": [
       "list"
      ]
     },
     "execution_count": 16,
     "metadata": {},
     "output_type": "execute_result"
    }
   ],
   "source": [
    "type(atom_nums)"
   ]
  },
  {
   "cell_type": "code",
   "execution_count": 17,
   "metadata": {},
   "outputs": [
    {
     "name": "stdout",
     "output_type": "stream",
     "text": [
      "['F', 'Cl', 'Br', 'I']\n"
     ]
    }
   ],
   "source": [
    "# create a list with strings\n",
    "halogens = [\"F\", \"Cl\", \"Br\", \"I\"]\n",
    "print(halogens)"
   ]
  },
  {
   "cell_type": "code",
   "execution_count": 18,
   "metadata": {},
   "outputs": [
    {
     "name": "stdout",
     "output_type": "stream",
     "text": [
      "[9, 'F', 17, 'Cl']\n"
     ]
    }
   ],
   "source": [
    "# Lists can mix types\n",
    "mixed = [9, \"F\", 17, \"Cl\"]\n",
    "print(mixed)"
   ]
  },
  {
   "cell_type": "code",
   "execution_count": 19,
   "metadata": {},
   "outputs": [
    {
     "name": "stdout",
     "output_type": "stream",
     "text": [
      "[[9, 17, 35, 53], ['F', 'Cl', 'Br', 'I']]\n"
     ]
    }
   ],
   "source": [
    "# We can even do lists within lists\n",
    "halogens_list = [[9, 17, 35, 53],[\"F\", \"Cl\", \"Br\", \"I\"]]\n",
    "print(halogens_list)"
   ]
  },
  {
   "cell_type": "code",
   "execution_count": 20,
   "metadata": {},
   "outputs": [],
   "source": [
    "# We often prefer dictionaries over lists\n",
    "# As it's easier to keep track of variables and idxs\n",
    "\n",
    "halogens_dict = {\n",
    "    \"F\": 9,\n",
    "    \"Cl\": 17,\n",
    "    \"Br\": 35,\n",
    "    \"I\": 53\n",
    "}"
   ]
  },
  {
   "cell_type": "code",
   "execution_count": 21,
   "metadata": {},
   "outputs": [
    {
     "data": {
      "text/plain": [
       "{'F': 9, 'Cl': 17, 'Br': 35, 'I': 53}"
      ]
     },
     "execution_count": 21,
     "metadata": {},
     "output_type": "execute_result"
    }
   ],
   "source": [
    "halogens_dict"
   ]
  },
  {
   "cell_type": "code",
   "execution_count": 22,
   "metadata": {},
   "outputs": [
    {
     "data": {
      "text/plain": [
       "{'Entry 1': {'halogen': 'F', 'num': 9},\n",
       " 'Entry 2': {'halogen': 'Cl', 'num': 17},\n",
       " 'Entry 3': {'halogen': 'Br', 'num': 35},\n",
       " 'Entry 4': {'halogen': 'I', 'num': 53}}"
      ]
     },
     "execution_count": 22,
     "metadata": {},
     "output_type": "execute_result"
    }
   ],
   "source": [
    "# Or something like this works well too\n",
    "# If you want more defined key-value pairs\n",
    "\n",
    "halogens_entries_dict = {'Entry 1': {'halogen': 'F', 'num': 9},\n",
    " 'Entry 2': {'halogen': 'Cl', 'num': 17},\n",
    " 'Entry 3': {'halogen': 'Br', 'num': 35},\n",
    " 'Entry 4': {'halogen': 'I', 'num': 53}}\n",
    "\n",
    "halogens_entries_dict"
   ]
  },
  {
   "cell_type": "markdown",
   "metadata": {},
   "source": [
    "## 4. Indexing and accessing data\n",
    "\n",
    "Some content in this section adapted and inspired from refs [5,6]."
   ]
  },
  {
   "cell_type": "code",
   "execution_count": 23,
   "metadata": {},
   "outputs": [
    {
     "name": "stdout",
     "output_type": "stream",
     "text": [
      "[9, 17, 35, 53]\n",
      "9\n",
      "53\n",
      "[9, 17]\n"
     ]
    }
   ],
   "source": [
    "# Python indexing starts at 0 from left to right. \n",
    "# When indexing from right to left, the indexing starts at -1.\n",
    "print(atom_nums)\n",
    "print(atom_nums[0])\n",
    "print(atom_nums[-1])\n",
    "print(atom_nums[0:2]) # a slice"
   ]
  },
  {
   "cell_type": "code",
   "execution_count": 24,
   "metadata": {},
   "outputs": [
    {
     "name": "stdout",
     "output_type": "stream",
     "text": [
      "[[9, 17, 35, 53], ['F', 'Cl', 'Br', 'I']]\n",
      "[9, 17, 35, 53]\n",
      "['F', 'Cl', 'Br', 'I']\n",
      "9\n",
      "I\n"
     ]
    }
   ],
   "source": [
    "# When indexing a lists of lists\n",
    "# Need to go 2 or more levels\n",
    "print(halogens_list)\n",
    "print(halogens_list[0])\n",
    "print(halogens_list[1])\n",
    "print(halogens_list[0][0])\n",
    "print(halogens_list[1][3])"
   ]
  },
  {
   "cell_type": "code",
   "execution_count": 25,
   "metadata": {},
   "outputs": [
    {
     "name": "stdout",
     "output_type": "stream",
     "text": [
      "{'F': 9, 'Cl': 17, 'Br': 35, 'I': 53}\n",
      "35\n"
     ]
    }
   ],
   "source": [
    "# Access dictionary data using keys\n",
    "print(halogens_dict)\n",
    "print(halogens_dict[\"Br\"])"
   ]
  },
  {
   "cell_type": "code",
   "execution_count": 26,
   "metadata": {},
   "outputs": [
    {
     "name": "stdout",
     "output_type": "stream",
     "text": [
      "F\n",
      "9\n"
     ]
    }
   ],
   "source": [
    "# We could also cast the dictionary into a list\n",
    "print(list(halogens_dict.keys())[0])\n",
    "print(list(halogens_dict.values())[0])"
   ]
  },
  {
   "cell_type": "code",
   "execution_count": 27,
   "metadata": {},
   "outputs": [
    {
     "name": "stdout",
     "output_type": "stream",
     "text": [
      "{'halogen': 'Br', 'num': 35}\n",
      "Br\n",
      "35\n"
     ]
    }
   ],
   "source": [
    "# Example with 2 key-value pairs\n",
    "print(halogens_entries_dict[\"Entry 3\"])\n",
    "print(halogens_entries_dict[\"Entry 3\"][\"halogen\"])\n",
    "print(halogens_entries_dict[\"Entry 3\"][\"num\"])"
   ]
  },
  {
   "cell_type": "code",
   "execution_count": 28,
   "metadata": {},
   "outputs": [
    {
     "name": "stdout",
     "output_type": "stream",
     "text": [
      "Entry 1\n",
      "{'halogen': 'F', 'num': 9}\n",
      "F\n",
      "9\n"
     ]
    }
   ],
   "source": [
    "print(list(halogens_entries_dict.keys())[0])\n",
    "print(list(halogens_entries_dict.values())[0])\n",
    "print(list(halogens_entries_dict.values())[0][\"halogen\"])\n",
    "print(list(halogens_entries_dict.values())[0][\"num\"])"
   ]
  },
  {
   "cell_type": "markdown",
   "metadata": {},
   "source": [
    "## 5. Functions\n",
    "\n",
    "Some content in this section adapted and inspired from ref [7]."
   ]
  },
  {
   "cell_type": "markdown",
   "metadata": {},
   "source": [
    "### Using Existing Functions"
   ]
  },
  {
   "cell_type": "code",
   "execution_count": 29,
   "metadata": {},
   "outputs": [
    {
     "name": "stdout",
     "output_type": "stream",
     "text": [
      "Hello Cheminformatics World!\n"
     ]
    }
   ],
   "source": [
    "# functions are called with parentheses\n",
    "print(\"Hello Cheminformatics World!\")"
   ]
  },
  {
   "cell_type": "code",
   "execution_count": 30,
   "metadata": {},
   "outputs": [
    {
     "name": "stdout",
     "output_type": "stream",
     "text": [
      "[9, 45, 1, 23]\n"
     ]
    }
   ],
   "source": [
    "# functions can be applied directly to objects: \"methods\"\n",
    "myList = [23, 1, 45, 9]\n",
    "myList.reverse() # () evaluates reverse function method with no arguments\n",
    "print(myList)"
   ]
  },
  {
   "cell_type": "code",
   "execution_count": 31,
   "metadata": {},
   "outputs": [
    {
     "data": {
      "text/plain": [
       "3.0"
      ]
     },
     "execution_count": 31,
     "metadata": {},
     "output_type": "execute_result"
    }
   ],
   "source": [
    "# use a function from within a module\n",
    "import math\n",
    "math.sqrt(9)"
   ]
  },
  {
   "cell_type": "code",
   "execution_count": 32,
   "metadata": {},
   "outputs": [
    {
     "data": {
      "text/plain": [
       "3.0"
      ]
     },
     "execution_count": 32,
     "metadata": {},
     "output_type": "execute_result"
    }
   ],
   "source": [
    "# or\n",
    "from math import sqrt\n",
    "sqrt(9)"
   ]
  },
  {
   "cell_type": "markdown",
   "metadata": {},
   "source": [
    "### Define Custom Functions\n",
    "\n",
    "Python functions are defined using the `def`` statement. A general Python syntax format for a function looks like this:\n",
    "\n",
    "```python\n",
    "\n",
    "def function_name():\n",
    "    do something\n",
    "\n",
    "```\n",
    "or\n",
    "\n",
    "```python\n",
    "\n",
    "def function_name(param1, parmam2, ...):\n",
    "    do something\n",
    "```"
   ]
  },
  {
   "cell_type": "code",
   "execution_count": 33,
   "metadata": {},
   "outputs": [],
   "source": [
    "# functions do not need inputs\n",
    "def print_halogens():\n",
    "    \"\"\" Prints a list of common halogen elements\n",
    "        There are no inputs.\n",
    "    \"\"\"\n",
    "    print(\"Fluorine\")\n",
    "    print(\"Chlorine\")\n",
    "    print(\"Bromine\")\n",
    "    print(\"Iodine\")"
   ]
  },
  {
   "cell_type": "code",
   "execution_count": 34,
   "metadata": {},
   "outputs": [
    {
     "name": "stdout",
     "output_type": "stream",
     "text": [
      "Fluorine\n",
      "Chlorine\n",
      "Bromine\n",
      "Iodine\n"
     ]
    }
   ],
   "source": [
    "# call the function\n",
    "print_halogens()"
   ]
  },
  {
   "cell_type": "code",
   "execution_count": 35,
   "metadata": {},
   "outputs": [],
   "source": [
    "# Use return to output a variable\n",
    "def molecular_formula(InChI):\n",
    "    \"\"\" returns extracted molecular formula from a standard InChI input\"\"\"\n",
    "    L = InChI.split('/')\n",
    "    return L[1]"
   ]
  },
  {
   "cell_type": "code",
   "execution_count": 36,
   "metadata": {},
   "outputs": [
    {
     "data": {
      "text/plain": [
       "'C9H8O4'"
      ]
     },
     "execution_count": 36,
     "metadata": {},
     "output_type": "execute_result"
    }
   ],
   "source": [
    "my_inchi = \"InChI=1S/C9H8O4/c1-6(10)13-8-5-3-2-4-7(8)9(11)12/h2-5H,1H3,(H,11,12)\"\n",
    "molecular_formula(my_inchi)"
   ]
  },
  {
   "cell_type": "markdown",
   "metadata": {},
   "source": [
    "## 6. Conditional statements\n",
    "\n",
    "Some content in this section adapted and inspired from refs [8,9]\n",
    "\n",
    "\n",
    "A simplified general Python syntax for conditional statements is as follows:\n",
    "\n",
    "```\n",
    "if expression1:\n",
    "  do something1\n",
    "elif expression2:\n",
    "  do something2\n",
    "else:\n",
    "  do something3\n",
    "\n",
    "```"
   ]
  },
  {
   "cell_type": "markdown",
   "metadata": {},
   "source": [
    "### if\n",
    "\n",
    "\n",
    "Use an `if` statement to make a choice and determine the direction of code execution. Start the line of code with `if` followed by the condition, then end with a colon, `:`. Conditional statements are often tested with comparison operators (e.g., >) or sequence operations (e.g., x in s):\n",
    "\n",
    "https://docs.python.org/3/library/stdtypes.html#boolean-operations-and-or-not\n",
    "\n",
    "https://docs.python.org/3/library/stdtypes.html#sequence-types-list-tuple-range"
   ]
  },
  {
   "cell_type": "code",
   "execution_count": 37,
   "metadata": {},
   "outputs": [
    {
     "name": "stdout",
     "output_type": "stream",
     "text": [
      "Iodine has more than 5 characters\n"
     ]
    }
   ],
   "source": [
    "# if statement with condition met\n",
    "element = 'Iodine'\n",
    "\n",
    "if len(element) > 5:\n",
    "  print(element, 'has more than 5 characters')"
   ]
  },
  {
   "cell_type": "code",
   "execution_count": 38,
   "metadata": {},
   "outputs": [],
   "source": [
    "# if statement with condition not met\n",
    "element = 'Lead'\n",
    "\n",
    "if len(element) > 5:\n",
    "  print(element, 'has more than 5 characters')"
   ]
  },
  {
   "cell_type": "markdown",
   "metadata": {},
   "source": [
    "### else\n",
    "\n",
    "In the above example, the condition is not met, so nothing happens, we can add an else condition to create an alternative code execution."
   ]
  },
  {
   "cell_type": "code",
   "execution_count": 39,
   "metadata": {},
   "outputs": [
    {
     "name": "stdout",
     "output_type": "stream",
     "text": [
      "Lead has less than 5 characters\n"
     ]
    }
   ],
   "source": [
    "# add an else\n",
    "element = 'Lead'\n",
    "\n",
    "if len(element) > 5:\n",
    "  print(element, 'has more than 5 characters')\n",
    "else:\n",
    "  print(element, 'has less than 5 characters')"
   ]
  },
  {
   "cell_type": "markdown",
   "metadata": {},
   "source": [
    "### elif\n",
    "\n",
    "Additional conditional tests can be added before else with the elif statement (else if)."
   ]
  },
  {
   "cell_type": "code",
   "execution_count": 40,
   "metadata": {},
   "outputs": [
    {
     "name": "stdout",
     "output_type": "stream",
     "text": [
      "Boron has 5 characters\n"
     ]
    }
   ],
   "source": [
    "# for example, what if we want to test len(element) == 5\n",
    "element = 'Boron'\n",
    "\n",
    "if len(element) > 5:\n",
    "  print(element, 'has more than 5 characters')\n",
    "elif len(element) == 5:\n",
    "   print(element, 'has 5 characters') \n",
    "else:\n",
    "  print(element, 'has less than 5 characters')"
   ]
  },
  {
   "cell_type": "code",
   "execution_count": 41,
   "metadata": {},
   "outputs": [
    {
     "name": "stdout",
     "output_type": "stream",
     "text": [
      "Boron has 5 characters\n"
     ]
    }
   ],
   "source": [
    "# caution, the if-elif-else sequence stops when the first one is true\n",
    "element = 'Boron'\n",
    "\n",
    "if len(element) > 5:\n",
    "  print(element, 'has more than 5 characters')\n",
    "elif len(element) == 5:\n",
    "   print(element, 'has 5 characters')\n",
    "elif 'n' in element:\n",
    "   print(element, 'contains the character n') \n",
    "else:\n",
    "  print(element, 'has less than 5 characters')"
   ]
  },
  {
   "cell_type": "code",
   "execution_count": 42,
   "metadata": {},
   "outputs": [
    {
     "name": "stdout",
     "output_type": "stream",
     "text": [
      "Boron has 5 characters and contains the character n\n"
     ]
    }
   ],
   "source": [
    "# One solution with a boolean\n",
    "\n",
    "element = 'Boron'\n",
    "\n",
    "if len(element) > 5:\n",
    "  print(element, 'has more than 5 characters')\n",
    "elif len(element) == 5 and 'n' in element:\n",
    "   print(element, 'has 5 characters and contains the character n')\n",
    "else:\n",
    "  print(element, 'has less than 5 characters')"
   ]
  },
  {
   "cell_type": "code",
   "execution_count": 43,
   "metadata": {},
   "outputs": [
    {
     "name": "stdout",
     "output_type": "stream",
     "text": [
      "Boron contains the character n\n",
      "Boron has 5 characters\n"
     ]
    }
   ],
   "source": [
    "# Alternative with all ifs\n",
    "element = 'Boron'\n",
    "\n",
    "if len(element) > 5:\n",
    "  print(element, 'has more than 5 characters')\n",
    "if 'n' in element:\n",
    "   print(element, 'contains the character n')\n",
    "if len(element) == 5:\n",
    "   print(element, 'has 5 characters')  \n",
    "if len(element) < 5:\n",
    "  print(element, 'has less than 5 characters')"
   ]
  },
  {
   "cell_type": "markdown",
   "metadata": {},
   "source": [
    "## 7. Loops [10,11,12]"
   ]
  },
  {
   "cell_type": "markdown",
   "metadata": {},
   "source": [
    "If we wanted to print a series of statements, we could do this one at a time, but it is very slow and inefficient:"
   ]
  },
  {
   "cell_type": "code",
   "execution_count": 44,
   "metadata": {},
   "outputs": [
    {
     "name": "stdout",
     "output_type": "stream",
     "text": [
      "Fluorine 9\n",
      "Chlorine 17\n",
      "Bromine 35\n",
      "Iodine 53\n"
     ]
    }
   ],
   "source": [
    "print(\"Fluorine 9\")\n",
    "print(\"Chlorine 17\")\n",
    "print(\"Bromine 35\")\n",
    "print(\"Iodine 53\")"
   ]
  },
  {
   "cell_type": "markdown",
   "metadata": {},
   "source": [
    "`for` loops allow repeated execution of code on a known collection of values such as a range of numbers or a list. A general syntax example is as follows:\n",
    "\n",
    "```python\n",
    "for item in items:\n",
    "  do something\n",
    "\n",
    "```\n",
    "\n",
    "`while` loops are another type of loop and are useful when you need to iterate for a specific condition and/or don't know the specific number of iterations.\n",
    "We will not cover these today,  see reference [11] for examples. (For what it's worth, I believe we will only be using for loops for these workshops)\n",
    "\n",
    "```python\n",
    "while condition:\n",
    "  do something\n",
    "\n",
    "```"
   ]
  },
  {
   "cell_type": "code",
   "execution_count": 45,
   "metadata": {},
   "outputs": [],
   "source": [
    "halogens = [\"Fluorine\", \"Chlorine\", \"Bromine\", \"Iodine\"]"
   ]
  },
  {
   "cell_type": "code",
   "execution_count": 46,
   "metadata": {},
   "outputs": [
    {
     "name": "stdout",
     "output_type": "stream",
     "text": [
      "Fluorine\n",
      "Chlorine\n",
      "Bromine\n",
      "Iodine\n"
     ]
    }
   ],
   "source": [
    "# 1. Method one where we access list elements directly\n",
    "for halogen in halogens:\n",
    "    print(halogen)"
   ]
  },
  {
   "cell_type": "code",
   "execution_count": 47,
   "metadata": {},
   "outputs": [
    {
     "name": "stdout",
     "output_type": "stream",
     "text": [
      "0 Fluorine\n",
      "1 Chlorine\n",
      "2 Bromine\n",
      "3 Iodine\n"
     ]
    }
   ],
   "source": [
    "# 2. Method two, use a range to access idxs\n",
    "for idx in range(len(halogens)):\n",
    "    print(idx, halogens[idx])"
   ]
  },
  {
   "cell_type": "code",
   "execution_count": 48,
   "metadata": {},
   "outputs": [
    {
     "name": "stdout",
     "output_type": "stream",
     "text": [
      "0 Fluorine\n",
      "1 Chlorine\n",
      "2 Bromine\n",
      "3 Iodine\n"
     ]
    }
   ],
   "source": [
    "# 3. Method 3, use enumerate\n",
    "for idx, halogen in enumerate(halogens):\n",
    "    print(idx, halogen)"
   ]
  },
  {
   "cell_type": "code",
   "execution_count": 49,
   "metadata": {},
   "outputs": [],
   "source": [
    "# We can also loop through lists of lists, like this:\n",
    "halogens = [[\"Fluorine\", 9], [\"Chlorine\", 17], [\"Bromine\", 35], [\"Iodine\", 53]]"
   ]
  },
  {
   "cell_type": "code",
   "execution_count": 50,
   "metadata": {},
   "outputs": [
    {
     "name": "stdout",
     "output_type": "stream",
     "text": [
      "Fluorine 9\n",
      "Chlorine 17\n",
      "Bromine 35\n",
      "Iodine 53\n"
     ]
    }
   ],
   "source": [
    "# 1. Direct\n",
    "for halogen, num in halogens:\n",
    "    print(halogen, num)"
   ]
  },
  {
   "cell_type": "code",
   "execution_count": 51,
   "metadata": {},
   "outputs": [
    {
     "name": "stdout",
     "output_type": "stream",
     "text": [
      "0 Fluorine 9\n",
      "1 Chlorine 17\n",
      "2 Bromine 35\n",
      "3 Iodine 53\n"
     ]
    }
   ],
   "source": [
    "# 2. range\n",
    "for idx in range(len(halogens)):\n",
    "    print(idx, halogens[idx][0], halogens[idx][1])"
   ]
  },
  {
   "cell_type": "code",
   "execution_count": 52,
   "metadata": {},
   "outputs": [
    {
     "name": "stdout",
     "output_type": "stream",
     "text": [
      "0 Fluorine 9\n",
      "1 Chlorine 17\n",
      "2 Bromine 35\n",
      "3 Iodine 53\n"
     ]
    }
   ],
   "source": [
    "# 3. enumerate\n",
    "for idx, (halogen, num) in enumerate(halogens):\n",
    "    print(idx, halogen, num)\n"
   ]
  },
  {
   "cell_type": "code",
   "execution_count": 53,
   "metadata": {},
   "outputs": [
    {
     "name": "stdout",
     "output_type": "stream",
     "text": [
      "['Fluorine', 9]\n",
      "Fluorine\n",
      "9\n",
      "['Chlorine', 17]\n",
      "Chlorine\n",
      "17\n",
      "['Bromine', 35]\n",
      "Bromine\n",
      "35\n",
      "['Iodine', 53]\n",
      "Iodine\n",
      "53\n"
     ]
    }
   ],
   "source": [
    "# It is sometimes necassary and useful to use more than one loop\n",
    "# We will come back to this as we work with some of the reaction data\n",
    "halogens = [[\"Fluorine\", 9], [\"Chlorine\", 17], [\"Bromine\", 35], [\"Iodine\", 53]]\n",
    "\n",
    "for halogen_data in halogens:\n",
    "    print(halogen_data)\n",
    "    for item in halogen_data:\n",
    "        print(item)"
   ]
  },
  {
   "cell_type": "code",
   "execution_count": 54,
   "metadata": {},
   "outputs": [],
   "source": [
    "# Let's look at how to loop through a dictionary:\n",
    "halogens_dict = {\n",
    "    \"F\": 9,\n",
    "    \"Cl\": 17,\n",
    "    \"Br\": 35,\n",
    "    \"I\": 53\n",
    "}"
   ]
  },
  {
   "cell_type": "code",
   "execution_count": 55,
   "metadata": {},
   "outputs": [
    {
     "name": "stdout",
     "output_type": "stream",
     "text": [
      "F\n",
      "Cl\n",
      "Br\n",
      "I\n"
     ]
    }
   ],
   "source": [
    "for key in halogens_dict.keys():\n",
    "    print(key)"
   ]
  },
  {
   "cell_type": "code",
   "execution_count": 56,
   "metadata": {},
   "outputs": [
    {
     "name": "stdout",
     "output_type": "stream",
     "text": [
      "9\n",
      "17\n",
      "35\n",
      "53\n"
     ]
    }
   ],
   "source": [
    "for value in halogens_dict.values():\n",
    "    print(value)"
   ]
  },
  {
   "cell_type": "code",
   "execution_count": 57,
   "metadata": {},
   "outputs": [
    {
     "name": "stdout",
     "output_type": "stream",
     "text": [
      "F 9\n",
      "Cl 17\n",
      "Br 35\n",
      "I 53\n"
     ]
    }
   ],
   "source": [
    "# Both at same time\n",
    "for key,value in halogens_dict.items():\n",
    "    print(key, value)"
   ]
  },
  {
   "cell_type": "code",
   "execution_count": 58,
   "metadata": {},
   "outputs": [
    {
     "name": "stdout",
     "output_type": "stream",
     "text": [
      "Entry 1 {'halogen': 'F', 'num': 9}\n",
      "Entry 2 {'halogen': 'Cl', 'num': 17}\n",
      "Entry 3 {'halogen': 'Br', 'num': 35}\n",
      "Entry 4 {'halogen': 'I', 'num': 53}\n"
     ]
    }
   ],
   "source": [
    "# another example\n",
    "halogens_entries_dict = {'Entry 1': {'halogen': 'F', 'num': 9},\n",
    " 'Entry 2': {'halogen': 'Cl', 'num': 17},\n",
    " 'Entry 3': {'halogen': 'Br', 'num': 35},\n",
    " 'Entry 4': {'halogen': 'I', 'num': 53}}\n",
    "\n",
    "for key, value in halogens_entries_dict.items():\n",
    "    print(key, value)"
   ]
  },
  {
   "cell_type": "code",
   "execution_count": 59,
   "metadata": {},
   "outputs": [
    {
     "name": "stdout",
     "output_type": "stream",
     "text": [
      "Entry 1 F 9\n",
      "Entry 2 Cl 17\n",
      "Entry 3 Br 35\n",
      "Entry 4 I 53\n"
     ]
    }
   ],
   "source": [
    "# If you want to access value elements\n",
    "for key, value in halogens_entries_dict.items():\n",
    "    print(key, value['halogen'], value['num'])"
   ]
  },
  {
   "cell_type": "markdown",
   "metadata": {},
   "source": [
    "## 8. Data I/O"
   ]
  },
  {
   "cell_type": "markdown",
   "metadata": {},
   "source": [
    "### Loading Data\n",
    "\n",
    "Loading tabular data into python lists or dictionaries will be needed for the workshops. Here are a few methods"
   ]
  },
  {
   "cell_type": "markdown",
   "metadata": {},
   "source": [
    "We will use a the dataset, rxns_10.rsmi, which is a random sample of 10 from the 1976_Sep2016_USPTOgrants_smiles.rsmi dataset:\n",
    "https://figshare.com/articles/dataset/Chemical_reactions_from_US_patents_1976-Sep2016_/5104873"
   ]
  },
  {
   "cell_type": "code",
   "execution_count": 60,
   "metadata": {},
   "outputs": [],
   "source": [
    "# import the data\n",
    "import csv\n",
    "\n",
    "rxn_data_list = []\n",
    "with open('../X_Data/rxns_10.rsmi', 'r') as infile:\n",
    "    reader = csv.reader(infile, delimiter='\\t')\n",
    "\n",
    "    for idx,row in enumerate(reader): # this let's us add an index\n",
    "        rxn_data_list.append([idx] + row)"
   ]
  },
  {
   "cell_type": "code",
   "execution_count": 61,
   "metadata": {},
   "outputs": [
    {
     "data": {
      "text/plain": [
       "[[0,\n",
       "  '[NH2:1][C:2]1[C:7]([O:8]C)=[CH:6][C:5]([Cl:10])=[CH:4][C:3]=1[C:11](=[O:16])[C:12]([F:15])([F:14])[F:13].B(Br)(Br)Br.O>C(Cl)Cl>[NH2:1][C:2]1[C:7]([OH:8])=[CH:6][C:5]([Cl:10])=[CH:4][C:3]=1[C:11](=[O:16])[C:12]([F:15])([F:13])[F:14]',\n",
       "  'US06140499',\n",
       "  '',\n",
       "  '2000',\n",
       "  '100%',\n",
       "  '102.1%'],\n",
       " [1,\n",
       "  '[Cl:1][C:2]1[CH:10]=[C:9]2[C:5]([C:6]([C:11]3[N:12]=[C:13]4[C:19]([C:20]([NH:22][CH:23]([CH3:25])[CH3:24])=[O:21])=[CH:18][N:17](COCC[Si](C)(C)C)[C:14]4=[N:15][CH:16]=3)=[N:7][NH:8]2)=[CH:4][CH:3]=1.FC(F)(F)C(O)=O.C(N)CN>ClCCl>[Cl:1][C:2]1[CH:10]=[C:9]2[C:5]([C:6]([C:11]3[N:12]=[C:13]4[C:19]([C:20]([NH:22][CH:23]([CH3:25])[CH3:24])=[O:21])=[CH:18][NH:17][C:14]4=[N:15][CH:16]=3)=[N:7][NH:8]2)=[CH:4][CH:3]=1',\n",
       "  'US08658646B2',\n",
       "  '2169',\n",
       "  '2014',\n",
       "  '41%',\n",
       "  '40.6%'],\n",
       " [2,\n",
       "  'S(=O)(=O)(O)O.[N+:6]([O-:9])([O-])=[O:7].[Na+].[Br:11][C:12]1[CH:17]=[CH:16][CH:15]=[CH:14][C:13]=1[OH:18]>O.C(OCC)(=O)C>[Br:11][C:12]1[CH:17]=[CH:16][CH:15]=[C:14]([N+:6]([O-:9])=[O:7])[C:13]=1[OH:18] |f:1.2|',\n",
       "  'US08367710B2',\n",
       "  '0081',\n",
       "  '2013',\n",
       "  '42.8%',\n",
       "  '42.8%']]"
      ]
     },
     "execution_count": 61,
     "metadata": {},
     "output_type": "execute_result"
    }
   ],
   "source": [
    "rxn_data_list[0:3]"
   ]
  },
  {
   "cell_type": "code",
   "execution_count": 62,
   "metadata": {},
   "outputs": [],
   "source": [
    "# Alternatively let's use a dictionary\n",
    "rxn_data_dict = {}\n",
    "col_names = ['reaction_smiles', 'PatentNumber', 'ParagraphNum', 'Year', 'TextMinedYield', 'CalculatedYield']\n",
    "with open('../X_Data/rxns_10.rsmi', 'r') as infile:\n",
    "    reader = csv.DictReader(infile, delimiter='\\t', fieldnames=col_names)\n",
    "\n",
    "    for idx,row in enumerate(reader):\n",
    "        rxn_data_dict[idx] = row"
   ]
  },
  {
   "cell_type": "code",
   "execution_count": 63,
   "metadata": {},
   "outputs": [
    {
     "data": {
      "text/plain": [
       "[(0,\n",
       "  {'reaction_smiles': '[NH2:1][C:2]1[C:7]([O:8]C)=[CH:6][C:5]([Cl:10])=[CH:4][C:3]=1[C:11](=[O:16])[C:12]([F:15])([F:14])[F:13].B(Br)(Br)Br.O>C(Cl)Cl>[NH2:1][C:2]1[C:7]([OH:8])=[CH:6][C:5]([Cl:10])=[CH:4][C:3]=1[C:11](=[O:16])[C:12]([F:15])([F:13])[F:14]',\n",
       "   'PatentNumber': 'US06140499',\n",
       "   'ParagraphNum': '',\n",
       "   'Year': '2000',\n",
       "   'TextMinedYield': '100%',\n",
       "   'CalculatedYield': '102.1%'}),\n",
       " (1,\n",
       "  {'reaction_smiles': '[Cl:1][C:2]1[CH:10]=[C:9]2[C:5]([C:6]([C:11]3[N:12]=[C:13]4[C:19]([C:20]([NH:22][CH:23]([CH3:25])[CH3:24])=[O:21])=[CH:18][N:17](COCC[Si](C)(C)C)[C:14]4=[N:15][CH:16]=3)=[N:7][NH:8]2)=[CH:4][CH:3]=1.FC(F)(F)C(O)=O.C(N)CN>ClCCl>[Cl:1][C:2]1[CH:10]=[C:9]2[C:5]([C:6]([C:11]3[N:12]=[C:13]4[C:19]([C:20]([NH:22][CH:23]([CH3:25])[CH3:24])=[O:21])=[CH:18][NH:17][C:14]4=[N:15][CH:16]=3)=[N:7][NH:8]2)=[CH:4][CH:3]=1',\n",
       "   'PatentNumber': 'US08658646B2',\n",
       "   'ParagraphNum': '2169',\n",
       "   'Year': '2014',\n",
       "   'TextMinedYield': '41%',\n",
       "   'CalculatedYield': '40.6%'}),\n",
       " (2,\n",
       "  {'reaction_smiles': 'S(=O)(=O)(O)O.[N+:6]([O-:9])([O-])=[O:7].[Na+].[Br:11][C:12]1[CH:17]=[CH:16][CH:15]=[CH:14][C:13]=1[OH:18]>O.C(OCC)(=O)C>[Br:11][C:12]1[CH:17]=[CH:16][CH:15]=[C:14]([N+:6]([O-:9])=[O:7])[C:13]=1[OH:18] |f:1.2|',\n",
       "   'PatentNumber': 'US08367710B2',\n",
       "   'ParagraphNum': '0081',\n",
       "   'Year': '2013',\n",
       "   'TextMinedYield': '42.8%',\n",
       "   'CalculatedYield': '42.8%'})]"
      ]
     },
     "execution_count": 63,
     "metadata": {},
     "output_type": "execute_result"
    }
   ],
   "source": [
    "list(rxn_data_dict.items())[0:3]"
   ]
  },
  {
   "cell_type": "markdown",
   "metadata": {},
   "source": [
    "### Writing Data\n",
    "\n",
    "Let's go ahead and write the data with the new idx values"
   ]
  },
  {
   "cell_type": "code",
   "execution_count": 64,
   "metadata": {},
   "outputs": [],
   "source": [
    "# For the rxn_data_list, which is a list of lists\n",
    "with open('../X_Data/rxn_list.txt', 'w', newline='') as outfile:\n",
    "    writer = csv.writer(outfile, delimiter='\\t')\n",
    "\n",
    "    for row in rxn_data_list:\n",
    "        writer.writerow(row)"
   ]
  },
  {
   "cell_type": "code",
   "execution_count": 65,
   "metadata": {},
   "outputs": [],
   "source": [
    "# For the rxn_data_dict\n",
    "with open('../X_Data/rxn_dict.txt', 'w', newline='') as outfile:\n",
    "    writer = csv.writer(outfile, delimiter='\\t')\n",
    "\n",
    "    # header\n",
    "    header = ['idx'] # first one is idx\n",
    "    for key in list(rxn_data_dict.values())[0]:\n",
    "        header.append(key)\n",
    "    writer.writerow(header)\n",
    "\n",
    "    # write the data\n",
    "    for key, sub_dict in rxn_data_dict.items():\n",
    "        row = [key] + list(sub_dict.values())\n",
    "        writer.writerow(row)"
   ]
  },
  {
   "cell_type": "markdown",
   "metadata": {},
   "source": [
    "### Multiprocessing (Linux/Mac)\n",
    "\n",
    "Like most programming languages, Python, by default, will only use one CPU core. When processing a large dataset, multiprocessing can be useful to split the data into chunks and then process the data chunks on more than one CPU. There are several ways to do this in Python, we will look at the `concurrent.futures` and the`multiprocessing Pool` methods built into Python:\n",
    "\n",
    "https://docs.python.org/3/library/concurrent.futures.html#concurrent.futures.ProcessPoolExecutor\n",
    "\n",
    "https://docs.python.org/3/library/multiprocessing.html#using-a-pool-of-workers\n",
    "\n",
    "\n",
    "For this part, we will use a random sample of 100,000 rxns from Lowe, D. Chemical reactions from UA patents (1976-Sep2016), CC0 license: https://figshare.com/articles/dataset/Chemical_reactions_from_US_patents_1976-Sep2016_/5104873\n",
    "\n",
    "Here is how I prepared the dataset using my terminal:\n",
    "\n",
    "```\n",
    "7z x 1976_Sep2016_USPTOgrants_smiles.7z\n",
    "(head -n 1 1976_Sep2016_USPTOgrants_smiles.rsmi && tail -n +2 1976_Sep2016_USPTOgrants_smiles.rsmi | shuf -n 100000) > rxns_100k.rsmi\n",
    "```\n"
   ]
  },
  {
   "cell_type": "code",
   "execution_count": 66,
   "metadata": {},
   "outputs": [
    {
     "name": "stdout",
     "output_type": "stream",
     "text": [
      "Archive:  ../X_Data/rxns_100k.zip\n",
      "  inflating: ../X_Data/rxns_100k.rsmi  \n"
     ]
    }
   ],
   "source": [
    "# unzip the sample rxn data if necassary\n",
    "# !unzip ../X_Data/rxns_100k.zip -d ../X_Data/\n",
    "\n",
    "import os\n",
    "import subprocess\n",
    "\n",
    "# Path to the expected unzipped file\n",
    "unzipped_file_path = '../X_Data/rxns_100k.rsmi'\n",
    "\n",
    "# Check if the file exists\n",
    "if not os.path.exists(unzipped_file_path):\n",
    "    # Unzip the file if the .rsmi file does not exist\n",
    "    subprocess.run([\"unzip\", \"../X_Data/rxns_100k.zip\", \"-d\", \"../X_Data/\"])\n",
    "else:\n",
    "    print(\"File is already unzipped.\")"
   ]
  },
  {
   "cell_type": "code",
   "execution_count": 67,
   "metadata": {},
   "outputs": [],
   "source": [
    "# First load a the sample of rxns\n",
    "import csv\n",
    "rxn_data = {}\n",
    "col_names = ['reaction_smiles', 'PatentNumber', 'ParagraphNum', 'Year', 'TextMinedYield', 'CalculatedYield']\n",
    "with open('../X_Data/rxns_100k.rsmi', 'r') as infile:\n",
    "    reader = csv.DictReader(infile, delimiter='\\t', fieldnames=col_names)\n",
    "    next(reader)\n",
    "    for idx,row in enumerate(reader):\n",
    "        rxn_data[idx] = row"
   ]
  },
  {
   "cell_type": "code",
   "execution_count": 68,
   "metadata": {},
   "outputs": [],
   "source": [
    "# We will create a small RDKit demo function that canonicalizes the reactions\n",
    "# We will talk more about this tomorrow! :)\n",
    "\n",
    "from rdkit.Chem import AllChem, rdChemReactions\n",
    "def canonical_reaction(rxn_smiles):\n",
    "    try:\n",
    "        # attempt to parse rxn\n",
    "        rxn = rdChemReactions.ReactionFromSmarts(rxn_smiles, useSmiles=True)\n",
    "        # attempt to sanitize rxn\n",
    "        rdChemReactions.SanitizeRxn(rxn)\n",
    "        # attempt to canonicalize\n",
    "        canonical_rxn_smiles = rdChemReactions.ReactionToSmiles(rxn)\n",
    "    except Exception as e:\n",
    "        print(\"Error parsing or canonicalizing\")\n",
    "        return None\n",
    "    return canonical_rxn_smiles"
   ]
  },
  {
   "cell_type": "code",
   "execution_count": 69,
   "metadata": {},
   "outputs": [],
   "source": [
    "# make a copy of the dictionary that are separate objects:\n",
    "import copy\n",
    "rxn_data1 = copy.deepcopy(rxn_data)\n",
    "\n",
    "# Serial process all 100k reactions (1 worker/CPU)\n",
    "for key,value in rxn_data1.items():\n",
    "    rxn_smiles = value[\"reaction_smiles\"]\n",
    "    canonical_smiles = canonical_reaction(rxn_smiles)\n",
    "    value[\"canonical_rxn_smiles\"] = canonical_smiles"
   ]
  },
  {
   "cell_type": "code",
   "execution_count": 70,
   "metadata": {},
   "outputs": [
    {
     "data": {
      "text/plain": [
       "[(0,\n",
       "  {'reaction_smiles': '[Cl:1][C:2]1[CH:15]=[CH:14][CH:13]=[CH:12][C:3]=1[CH2:4][NH:5][C:6]1[S:7][CH2:8][C:9](=[O:11])[N:10]=1.[N:16]1[C:25]2[C:20](=[N:21][C:22]([CH:26]=O)=[CH:23][CH:24]=2)[CH:19]=[CH:18][CH:17]=1.C(O)(=O)C1C=CC=CC=1.N1CCCCC1>C1(C)C=CC=CC=1.CN(C=O)C.O>[Cl:1][C:2]1[CH:15]=[CH:14][CH:13]=[CH:12][C:3]=1[CH2:4][NH:5][C:6]1[S:7][C:8](=[CH:26][C:22]2[CH:23]=[CH:24][C:25]3[C:20](=[CH:19][CH:18]=[CH:17][N:16]=3)[N:21]=2)[C:9](=[O:11])[N:10]=1',\n",
       "   'PatentNumber': 'US07268231B2',\n",
       "   'ParagraphNum': '0109',\n",
       "   'Year': '2007',\n",
       "   'TextMinedYield': '37.4%',\n",
       "   'CalculatedYield': '37.4%',\n",
       "   'canonical_rxn_smiles': 'C1CCNCC1.O=C(O)c1ccccc1.O=[CH:26][c:22]1[n:21][c:20]2[cH:19][cH:18][cH:17][n:16][c:25]2[cH:24][cH:23]1.[Cl:1][c:2]1[c:3]([CH2:4][NH:5][C:6]2=[N:10][C:9](=[O:11])[CH2:8][S:7]2)[cH:12][cH:13][cH:14][cH:15]1>CC1=CC=CC=C1.CN(C)C=O.O>[Cl:1][c:2]1[c:3]([CH2:4][NH:5][C:6]2=[N:10][C:9](=[O:11])[C:8](=[CH:26][c:22]3[n:21][c:20]4[cH:19][cH:18][cH:17][n:16][c:25]4[cH:24][cH:23]3)[S:7]2)[cH:12][cH:13][cH:14][cH:15]1'}),\n",
       " (1,\n",
       "  {'reaction_smiles': '[CH2:1]([C:15]1[CH:16]=[C:17]([OH:21])[CH:18]=[CH:19][CH:20]=1)[CH2:2][CH2:3][CH2:4][CH2:5][CH2:6][CH2:7][CH2:8][CH2:9][CH2:10][CH2:11][CH2:12][CH2:13][CH3:14].[C:22]([O-])(=[O:24])[CH3:23].[Cl-].[Al+3].[Cl-].[Cl-].Cl>CCOCC>[OH:21][C:17]1[CH:16]=[C:15]([CH2:1][CH2:2][CH2:3][CH2:4][CH2:5][CH2:6][CH2:7][CH2:8][CH2:9][CH2:10][CH2:11][CH2:12][CH2:13][CH3:14])[CH:20]=[CH:19][C:18]=1[C:22](=[O:24])[CH3:23] |f:2.3.4.5|',\n",
       "   'PatentNumber': 'US04762942',\n",
       "   'ParagraphNum': '',\n",
       "   'Year': '1988',\n",
       "   'TextMinedYield': '',\n",
       "   'CalculatedYield': '',\n",
       "   'canonical_rxn_smiles': 'Cl.[Al+3].[CH2:1]([CH2:2][CH2:3][CH2:4][CH2:5][CH2:6][CH2:7][CH2:8][CH2:9][CH2:10][CH2:11][CH2:12][CH2:13][CH3:14])[c:15]1[cH:16][c:17]([OH:21])[cH:18][cH:19][cH:20]1.[Cl-].[Cl-].[Cl-].[O-][C:22]([CH3:23])=[O:24]>CCOCC>[CH2:1]([CH2:2][CH2:3][CH2:4][CH2:5][CH2:6][CH2:7][CH2:8][CH2:9][CH2:10][CH2:11][CH2:12][CH2:13][CH3:14])[c:15]1[cH:16][c:17]([OH:21])[c:18]([C:22]([CH3:23])=[O:24])[cH:19][cH:20]1'}),\n",
       " (2,\n",
       "  {'reaction_smiles': '[NH2:1][C:2]1[C:11]2[C:6](=[C:7](Br)[CH:8]=[CH:9][CH:10]=2)[N:5]=[N:4][C:3]=1[C:13]([NH:15][CH:16]1[CH2:18][CH2:17]1)=[O:14].[F:19][C:20]1[CH:25]=[CH:24][CH:23]=[C:22]([O:26][CH3:27])[C:21]=1B(O)O>>[NH2:1][C:2]1[C:11]2[C:6](=[C:7]([C:21]3[C:22]([O:26][CH3:27])=[CH:23][CH:24]=[CH:25][C:20]=3[F:19])[CH:8]=[CH:9][CH:10]=2)[N:5]=[N:4][C:3]=1[C:13]([NH:15][CH:16]1[CH2:18][CH2:17]1)=[O:14]',\n",
       "   'PatentNumber': 'US07465795B2',\n",
       "   'ParagraphNum': '0591',\n",
       "   'Year': '2008',\n",
       "   'TextMinedYield': '60%',\n",
       "   'CalculatedYield': '59.7%',\n",
       "   'canonical_rxn_smiles': 'Br[c:7]1[c:6]2[n:5][n:4][c:3]([C:13](=[O:14])[NH:15][CH:16]3[CH2:17][CH2:18]3)[c:2]([NH2:1])[c:11]2[cH:10][cH:9][cH:8]1.OB(O)[c:21]1[c:20]([F:19])[cH:25][cH:24][cH:23][c:22]1[O:26][CH3:27]>>[NH2:1][c:2]1[c:3]([C:13](=[O:14])[NH:15][CH:16]2[CH2:17][CH2:18]2)[n:4][n:5][c:6]2[c:7](-[c:21]3[c:20]([F:19])[cH:25][cH:24][cH:23][c:22]3[O:26][CH3:27])[cH:8][cH:9][cH:10][c:11]12'})]"
      ]
     },
     "execution_count": 70,
     "metadata": {},
     "output_type": "execute_result"
    }
   ],
   "source": [
    "list(rxn_data1.items())[0:3]"
   ]
  },
  {
   "cell_type": "code",
   "execution_count": 71,
   "metadata": {},
   "outputs": [
    {
     "data": {
      "text/plain": [
       "[(0,\n",
       "  {'reaction_smiles': '[Cl:1][C:2]1[CH:15]=[CH:14][CH:13]=[CH:12][C:3]=1[CH2:4][NH:5][C:6]1[S:7][CH2:8][C:9](=[O:11])[N:10]=1.[N:16]1[C:25]2[C:20](=[N:21][C:22]([CH:26]=O)=[CH:23][CH:24]=2)[CH:19]=[CH:18][CH:17]=1.C(O)(=O)C1C=CC=CC=1.N1CCCCC1>C1(C)C=CC=CC=1.CN(C=O)C.O>[Cl:1][C:2]1[CH:15]=[CH:14][CH:13]=[CH:12][C:3]=1[CH2:4][NH:5][C:6]1[S:7][C:8](=[CH:26][C:22]2[CH:23]=[CH:24][C:25]3[C:20](=[CH:19][CH:18]=[CH:17][N:16]=3)[N:21]=2)[C:9](=[O:11])[N:10]=1',\n",
       "   'PatentNumber': 'US07268231B2',\n",
       "   'ParagraphNum': '0109',\n",
       "   'Year': '2007',\n",
       "   'TextMinedYield': '37.4%',\n",
       "   'CalculatedYield': '37.4%'}),\n",
       " (1,\n",
       "  {'reaction_smiles': '[CH2:1]([C:15]1[CH:16]=[C:17]([OH:21])[CH:18]=[CH:19][CH:20]=1)[CH2:2][CH2:3][CH2:4][CH2:5][CH2:6][CH2:7][CH2:8][CH2:9][CH2:10][CH2:11][CH2:12][CH2:13][CH3:14].[C:22]([O-])(=[O:24])[CH3:23].[Cl-].[Al+3].[Cl-].[Cl-].Cl>CCOCC>[OH:21][C:17]1[CH:16]=[C:15]([CH2:1][CH2:2][CH2:3][CH2:4][CH2:5][CH2:6][CH2:7][CH2:8][CH2:9][CH2:10][CH2:11][CH2:12][CH2:13][CH3:14])[CH:20]=[CH:19][C:18]=1[C:22](=[O:24])[CH3:23] |f:2.3.4.5|',\n",
       "   'PatentNumber': 'US04762942',\n",
       "   'ParagraphNum': '',\n",
       "   'Year': '1988',\n",
       "   'TextMinedYield': '',\n",
       "   'CalculatedYield': ''}),\n",
       " (2,\n",
       "  {'reaction_smiles': '[NH2:1][C:2]1[C:11]2[C:6](=[C:7](Br)[CH:8]=[CH:9][CH:10]=2)[N:5]=[N:4][C:3]=1[C:13]([NH:15][CH:16]1[CH2:18][CH2:17]1)=[O:14].[F:19][C:20]1[CH:25]=[CH:24][CH:23]=[C:22]([O:26][CH3:27])[C:21]=1B(O)O>>[NH2:1][C:2]1[C:11]2[C:6](=[C:7]([C:21]3[C:22]([O:26][CH3:27])=[CH:23][CH:24]=[CH:25][C:20]=3[F:19])[CH:8]=[CH:9][CH:10]=2)[N:5]=[N:4][C:3]=1[C:13]([NH:15][CH:16]1[CH2:18][CH2:17]1)=[O:14]',\n",
       "   'PatentNumber': 'US07465795B2',\n",
       "   'ParagraphNum': '0591',\n",
       "   'Year': '2008',\n",
       "   'TextMinedYield': '60%',\n",
       "   'CalculatedYield': '59.7%'})]"
      ]
     },
     "execution_count": 71,
     "metadata": {},
     "output_type": "execute_result"
    }
   ],
   "source": [
    "# Using a list like this will makes multiprocessing a bit easier\n",
    "# So we can pass in the key, and dictionary values and keep track of them\n",
    "rxn_data2 = copy.deepcopy(rxn_data)\n",
    "items2 = list(rxn_data2.items())\n",
    "items2[0:3]"
   ]
  },
  {
   "cell_type": "code",
   "execution_count": 72,
   "metadata": {},
   "outputs": [],
   "source": [
    "# We will need to adjust our function a bit too\n",
    "from rdkit.Chem import AllChem, rdChemReactions\n",
    "def canonical_reaction(item):\n",
    "    key,value = item\n",
    "    try:\n",
    "        # attempt to parse rxn\n",
    "        rxn = rdChemReactions.ReactionFromSmarts(value[\"reaction_smiles\"], useSmiles=True)\n",
    "        # attempt to sanitize rxn\n",
    "        rdChemReactions.SanitizeRxn(rxn)\n",
    "        # attempt to canonicalize\n",
    "        canonical_rxn_smiles = rdChemReactions.ReactionToSmiles(rxn)\n",
    "    except Exception as e:\n",
    "        return key, None\n",
    "    return key, canonical_rxn_smiles"
   ]
  },
  {
   "cell_type": "code",
   "execution_count": 73,
   "metadata": {},
   "outputs": [
    {
     "name": "stdout",
     "output_type": "stream",
     "text": [
      "24 CPUs\n"
     ]
    }
   ],
   "source": [
    "# Now let's do multiprocessing\n",
    "# Decide how many cores you want to use\n",
    "# You may need to experiment with finding the ideal number, as the max is not always best\n",
    "\n",
    "import os\n",
    "# check your max number of CPUs\n",
    "max_cpus = int(os.cpu_count())\n",
    "print(f\"{max_cpus} CPUs\")"
   ]
  },
  {
   "cell_type": "code",
   "execution_count": 74,
   "metadata": {},
   "outputs": [
    {
     "name": "stdout",
     "output_type": "stream",
     "text": [
      "8\n"
     ]
    }
   ],
   "source": [
    "# This is adjusting the number of CPUs based on your hardware\n",
    "num_cpus = 1\n",
    "if max_cpus >= 16:\n",
    "    num_cpus = 8\n",
    "elif max_cpus >= 4:\n",
    "    num_cpus = 4\n",
    "elif max_cpus >= 2:\n",
    "    num_cpus = 2\n",
    "else:\n",
    "    num_cpus = 1\n",
    "print(num_cpus)"
   ]
  },
  {
   "cell_type": "code",
   "execution_count": 75,
   "metadata": {},
   "outputs": [],
   "source": [
    "# Using ProcessPoolExecutor for multiprocessing\n",
    "import concurrent.futures\n",
    "import multiprocessing\n",
    "\n",
    "# make a new copy\n",
    "rxn_data2 = copy.deepcopy(rxn_data)\n",
    "\n",
    "# I believe the if __name__ == \"__main__\": and force to fork is necassary to run on Mac (not tested)\n",
    "# On Linux, you can usually omit this.\n",
    "# This code won't work on Windows.\n",
    "\n",
    "if __name__ == '__main__':\n",
    "    multiprocessing.set_start_method('fork', force=True)\n",
    "\n",
    "    # create a list\n",
    "    items2 = list(rxn_data2.items())\n",
    "    \n",
    "    # We will use num_cpus\n",
    "    with concurrent.futures.ProcessPoolExecutor(max_workers=num_cpus) as executor:\n",
    "        # Map each dictionary item to the canonical_reaction function\n",
    "        results = list(executor.map(canonical_reaction, items2))\n",
    "\n",
    "    # Add results to the dictionary\n",
    "    for key, value in results:\n",
    "        rxn_data2[key][\"canonical_reaction\"] = value\n",
    "    "
   ]
  },
  {
   "cell_type": "code",
   "execution_count": 76,
   "metadata": {},
   "outputs": [
    {
     "data": {
      "text/plain": [
       "[(0,\n",
       "  {'reaction_smiles': '[Cl:1][C:2]1[CH:15]=[CH:14][CH:13]=[CH:12][C:3]=1[CH2:4][NH:5][C:6]1[S:7][CH2:8][C:9](=[O:11])[N:10]=1.[N:16]1[C:25]2[C:20](=[N:21][C:22]([CH:26]=O)=[CH:23][CH:24]=2)[CH:19]=[CH:18][CH:17]=1.C(O)(=O)C1C=CC=CC=1.N1CCCCC1>C1(C)C=CC=CC=1.CN(C=O)C.O>[Cl:1][C:2]1[CH:15]=[CH:14][CH:13]=[CH:12][C:3]=1[CH2:4][NH:5][C:6]1[S:7][C:8](=[CH:26][C:22]2[CH:23]=[CH:24][C:25]3[C:20](=[CH:19][CH:18]=[CH:17][N:16]=3)[N:21]=2)[C:9](=[O:11])[N:10]=1',\n",
       "   'PatentNumber': 'US07268231B2',\n",
       "   'ParagraphNum': '0109',\n",
       "   'Year': '2007',\n",
       "   'TextMinedYield': '37.4%',\n",
       "   'CalculatedYield': '37.4%',\n",
       "   'canonical_reaction': 'C1CCNCC1.O=C(O)c1ccccc1.O=[CH:26][c:22]1[n:21][c:20]2[cH:19][cH:18][cH:17][n:16][c:25]2[cH:24][cH:23]1.[Cl:1][c:2]1[c:3]([CH2:4][NH:5][C:6]2=[N:10][C:9](=[O:11])[CH2:8][S:7]2)[cH:12][cH:13][cH:14][cH:15]1>CC1=CC=CC=C1.CN(C)C=O.O>[Cl:1][c:2]1[c:3]([CH2:4][NH:5][C:6]2=[N:10][C:9](=[O:11])[C:8](=[CH:26][c:22]3[n:21][c:20]4[cH:19][cH:18][cH:17][n:16][c:25]4[cH:24][cH:23]3)[S:7]2)[cH:12][cH:13][cH:14][cH:15]1'}),\n",
       " (1,\n",
       "  {'reaction_smiles': '[CH2:1]([C:15]1[CH:16]=[C:17]([OH:21])[CH:18]=[CH:19][CH:20]=1)[CH2:2][CH2:3][CH2:4][CH2:5][CH2:6][CH2:7][CH2:8][CH2:9][CH2:10][CH2:11][CH2:12][CH2:13][CH3:14].[C:22]([O-])(=[O:24])[CH3:23].[Cl-].[Al+3].[Cl-].[Cl-].Cl>CCOCC>[OH:21][C:17]1[CH:16]=[C:15]([CH2:1][CH2:2][CH2:3][CH2:4][CH2:5][CH2:6][CH2:7][CH2:8][CH2:9][CH2:10][CH2:11][CH2:12][CH2:13][CH3:14])[CH:20]=[CH:19][C:18]=1[C:22](=[O:24])[CH3:23] |f:2.3.4.5|',\n",
       "   'PatentNumber': 'US04762942',\n",
       "   'ParagraphNum': '',\n",
       "   'Year': '1988',\n",
       "   'TextMinedYield': '',\n",
       "   'CalculatedYield': '',\n",
       "   'canonical_reaction': 'Cl.[Al+3].[CH2:1]([CH2:2][CH2:3][CH2:4][CH2:5][CH2:6][CH2:7][CH2:8][CH2:9][CH2:10][CH2:11][CH2:12][CH2:13][CH3:14])[c:15]1[cH:16][c:17]([OH:21])[cH:18][cH:19][cH:20]1.[Cl-].[Cl-].[Cl-].[O-][C:22]([CH3:23])=[O:24]>CCOCC>[CH2:1]([CH2:2][CH2:3][CH2:4][CH2:5][CH2:6][CH2:7][CH2:8][CH2:9][CH2:10][CH2:11][CH2:12][CH2:13][CH3:14])[c:15]1[cH:16][c:17]([OH:21])[c:18]([C:22]([CH3:23])=[O:24])[cH:19][cH:20]1'}),\n",
       " (2,\n",
       "  {'reaction_smiles': '[NH2:1][C:2]1[C:11]2[C:6](=[C:7](Br)[CH:8]=[CH:9][CH:10]=2)[N:5]=[N:4][C:3]=1[C:13]([NH:15][CH:16]1[CH2:18][CH2:17]1)=[O:14].[F:19][C:20]1[CH:25]=[CH:24][CH:23]=[C:22]([O:26][CH3:27])[C:21]=1B(O)O>>[NH2:1][C:2]1[C:11]2[C:6](=[C:7]([C:21]3[C:22]([O:26][CH3:27])=[CH:23][CH:24]=[CH:25][C:20]=3[F:19])[CH:8]=[CH:9][CH:10]=2)[N:5]=[N:4][C:3]=1[C:13]([NH:15][CH:16]1[CH2:18][CH2:17]1)=[O:14]',\n",
       "   'PatentNumber': 'US07465795B2',\n",
       "   'ParagraphNum': '0591',\n",
       "   'Year': '2008',\n",
       "   'TextMinedYield': '60%',\n",
       "   'CalculatedYield': '59.7%',\n",
       "   'canonical_reaction': 'Br[c:7]1[c:6]2[n:5][n:4][c:3]([C:13](=[O:14])[NH:15][CH:16]3[CH2:17][CH2:18]3)[c:2]([NH2:1])[c:11]2[cH:10][cH:9][cH:8]1.OB(O)[c:21]1[c:20]([F:19])[cH:25][cH:24][cH:23][c:22]1[O:26][CH3:27]>>[NH2:1][c:2]1[c:3]([C:13](=[O:14])[NH:15][CH:16]2[CH2:17][CH2:18]2)[n:4][n:5][c:6]2[c:7](-[c:21]3[c:20]([F:19])[cH:25][cH:24][cH:23][c:22]3[O:26][CH3:27])[cH:8][cH:9][cH:10][c:11]12'})]"
      ]
     },
     "execution_count": 76,
     "metadata": {},
     "output_type": "execute_result"
    }
   ],
   "source": [
    "list(rxn_data2.items())[0:3]"
   ]
  },
  {
   "cell_type": "code",
   "execution_count": 77,
   "metadata": {},
   "outputs": [],
   "source": [
    "# Now with multiprocessing pool\n",
    "\n",
    "import multiprocessing\n",
    "\n",
    "# make a new copy\n",
    "rxn_data3 = copy.deepcopy(rxn_data)\n",
    "\n",
    "if __name__ == '__main__':\n",
    "    multiprocessing.set_start_method('fork', force=True)\n",
    "\n",
    "    # num_cpus cpus\n",
    "    with multiprocessing.Pool(num_cpus) as pool:\n",
    "    \n",
    "        # create a list\n",
    "        \n",
    "        items3 = list(rxn_data3.items())\n",
    "\n",
    "        # Use map to apply canonical_reaction function to each item (key, value of data)\n",
    "        results = pool.map(canonical_reaction, items3)\n",
    "\n",
    "    # Add results to the dictionary\n",
    "    for key, value in results:\n",
    "        rxn_data3[key][\"canonical_reaction\"] = value\n"
   ]
  },
  {
   "cell_type": "code",
   "execution_count": 78,
   "metadata": {},
   "outputs": [
    {
     "data": {
      "text/plain": [
       "[(0,\n",
       "  {'reaction_smiles': '[Cl:1][C:2]1[CH:15]=[CH:14][CH:13]=[CH:12][C:3]=1[CH2:4][NH:5][C:6]1[S:7][CH2:8][C:9](=[O:11])[N:10]=1.[N:16]1[C:25]2[C:20](=[N:21][C:22]([CH:26]=O)=[CH:23][CH:24]=2)[CH:19]=[CH:18][CH:17]=1.C(O)(=O)C1C=CC=CC=1.N1CCCCC1>C1(C)C=CC=CC=1.CN(C=O)C.O>[Cl:1][C:2]1[CH:15]=[CH:14][CH:13]=[CH:12][C:3]=1[CH2:4][NH:5][C:6]1[S:7][C:8](=[CH:26][C:22]2[CH:23]=[CH:24][C:25]3[C:20](=[CH:19][CH:18]=[CH:17][N:16]=3)[N:21]=2)[C:9](=[O:11])[N:10]=1',\n",
       "   'PatentNumber': 'US07268231B2',\n",
       "   'ParagraphNum': '0109',\n",
       "   'Year': '2007',\n",
       "   'TextMinedYield': '37.4%',\n",
       "   'CalculatedYield': '37.4%',\n",
       "   'canonical_reaction': 'C1CCNCC1.O=C(O)c1ccccc1.O=[CH:26][c:22]1[n:21][c:20]2[cH:19][cH:18][cH:17][n:16][c:25]2[cH:24][cH:23]1.[Cl:1][c:2]1[c:3]([CH2:4][NH:5][C:6]2=[N:10][C:9](=[O:11])[CH2:8][S:7]2)[cH:12][cH:13][cH:14][cH:15]1>CC1=CC=CC=C1.CN(C)C=O.O>[Cl:1][c:2]1[c:3]([CH2:4][NH:5][C:6]2=[N:10][C:9](=[O:11])[C:8](=[CH:26][c:22]3[n:21][c:20]4[cH:19][cH:18][cH:17][n:16][c:25]4[cH:24][cH:23]3)[S:7]2)[cH:12][cH:13][cH:14][cH:15]1'}),\n",
       " (1,\n",
       "  {'reaction_smiles': '[CH2:1]([C:15]1[CH:16]=[C:17]([OH:21])[CH:18]=[CH:19][CH:20]=1)[CH2:2][CH2:3][CH2:4][CH2:5][CH2:6][CH2:7][CH2:8][CH2:9][CH2:10][CH2:11][CH2:12][CH2:13][CH3:14].[C:22]([O-])(=[O:24])[CH3:23].[Cl-].[Al+3].[Cl-].[Cl-].Cl>CCOCC>[OH:21][C:17]1[CH:16]=[C:15]([CH2:1][CH2:2][CH2:3][CH2:4][CH2:5][CH2:6][CH2:7][CH2:8][CH2:9][CH2:10][CH2:11][CH2:12][CH2:13][CH3:14])[CH:20]=[CH:19][C:18]=1[C:22](=[O:24])[CH3:23] |f:2.3.4.5|',\n",
       "   'PatentNumber': 'US04762942',\n",
       "   'ParagraphNum': '',\n",
       "   'Year': '1988',\n",
       "   'TextMinedYield': '',\n",
       "   'CalculatedYield': '',\n",
       "   'canonical_reaction': 'Cl.[Al+3].[CH2:1]([CH2:2][CH2:3][CH2:4][CH2:5][CH2:6][CH2:7][CH2:8][CH2:9][CH2:10][CH2:11][CH2:12][CH2:13][CH3:14])[c:15]1[cH:16][c:17]([OH:21])[cH:18][cH:19][cH:20]1.[Cl-].[Cl-].[Cl-].[O-][C:22]([CH3:23])=[O:24]>CCOCC>[CH2:1]([CH2:2][CH2:3][CH2:4][CH2:5][CH2:6][CH2:7][CH2:8][CH2:9][CH2:10][CH2:11][CH2:12][CH2:13][CH3:14])[c:15]1[cH:16][c:17]([OH:21])[c:18]([C:22]([CH3:23])=[O:24])[cH:19][cH:20]1'}),\n",
       " (2,\n",
       "  {'reaction_smiles': '[NH2:1][C:2]1[C:11]2[C:6](=[C:7](Br)[CH:8]=[CH:9][CH:10]=2)[N:5]=[N:4][C:3]=1[C:13]([NH:15][CH:16]1[CH2:18][CH2:17]1)=[O:14].[F:19][C:20]1[CH:25]=[CH:24][CH:23]=[C:22]([O:26][CH3:27])[C:21]=1B(O)O>>[NH2:1][C:2]1[C:11]2[C:6](=[C:7]([C:21]3[C:22]([O:26][CH3:27])=[CH:23][CH:24]=[CH:25][C:20]=3[F:19])[CH:8]=[CH:9][CH:10]=2)[N:5]=[N:4][C:3]=1[C:13]([NH:15][CH:16]1[CH2:18][CH2:17]1)=[O:14]',\n",
       "   'PatentNumber': 'US07465795B2',\n",
       "   'ParagraphNum': '0591',\n",
       "   'Year': '2008',\n",
       "   'TextMinedYield': '60%',\n",
       "   'CalculatedYield': '59.7%',\n",
       "   'canonical_reaction': 'Br[c:7]1[c:6]2[n:5][n:4][c:3]([C:13](=[O:14])[NH:15][CH:16]3[CH2:17][CH2:18]3)[c:2]([NH2:1])[c:11]2[cH:10][cH:9][cH:8]1.OB(O)[c:21]1[c:20]([F:19])[cH:25][cH:24][cH:23][c:22]1[O:26][CH3:27]>>[NH2:1][c:2]1[c:3]([C:13](=[O:14])[NH:15][CH:16]2[CH2:17][CH2:18]2)[n:4][n:5][c:6]2[c:7](-[c:21]3[c:20]([F:19])[cH:25][cH:24][cH:23][c:22]3[O:26][CH3:27])[cH:8][cH:9][cH:10][c:11]12'})]"
      ]
     },
     "execution_count": 78,
     "metadata": {},
     "output_type": "execute_result"
    }
   ],
   "source": [
    "list(rxn_data3.items())[0:3]"
   ]
  },
  {
   "cell_type": "markdown",
   "metadata": {},
   "source": [
    "Interestingly, using the multiprocessing Pool seems faster than the concurrent.futures method in this case. We mostly used the concurrent.futures method in some of the retrosynthesis tutorials, so maybe a good contribution would be to refactor with the multiprocessing Pool method if that is a lot faster..."
   ]
  },
  {
   "cell_type": "markdown",
   "metadata": {},
   "source": [
    "## References"
   ]
  },
  {
   "cell_type": "markdown",
   "metadata": {},
   "source": [
    "[1] https://docs.conda.io/en/latest/\n",
    "\n",
    "[2] https://jakevdp.github.io/PythonDataScienceHandbook/01.01-help-and-documentation.html\n",
    "\n",
    "[3] https://colab.research.google.com/notebooks/basic_features_overview.ipynb\n",
    "\n",
    "[4] https://stackoverflow.com/questions/139180/how-to-list-all-functions-in-a-python-module\n",
    "\n",
    "[5] http://swcarpentry.github.io/python-novice-gapminder/\n",
    "\n",
    "[6] https://github.com/jakevdp/WhirlwindTourOfPython\n",
    "\n",
    "[7] http://swcarpentry.github.io/python-novice-gapminder/16-writing-functions.html\n",
    "\n",
    "[8] http://swcarpentry.github.io/python-novice-gapminder/13-conditionals.html\n",
    "\n",
    "[9] https://github.com/vfscalfani/UALIB_Workshops/blob/master/01_MATLAB/06_MATLAB_Conditional_Statements.md\n",
    "\n",
    "[10] http://swcarpentry.github.io/python-novice-gapminder/12-for-loops.html\n",
    "\n",
    "[11] https://github.com/jakevdp/WhirlwindTourOfPython/blob/master/07-Control-Flow-Statements.ipynb\n",
    "\n",
    "[12] https://github.com/vfscalfani/UALIB_Workshops/blob/master/01_MATLAB/05_MATLAB_Loops.md"
   ]
  },
  {
   "cell_type": "markdown",
   "metadata": {},
   "source": []
  }
 ],
 "metadata": {
  "kernelspec": {
   "display_name": "rdkit1",
   "language": "python",
   "name": "python3"
  },
  "language_info": {
   "codemirror_mode": {
    "name": "ipython",
    "version": 3
   },
   "file_extension": ".py",
   "mimetype": "text/x-python",
   "name": "python",
   "nbconvert_exporter": "python",
   "pygments_lexer": "ipython3",
   "version": "3.12.5"
  }
 },
 "nbformat": 4,
 "nbformat_minor": 2
}

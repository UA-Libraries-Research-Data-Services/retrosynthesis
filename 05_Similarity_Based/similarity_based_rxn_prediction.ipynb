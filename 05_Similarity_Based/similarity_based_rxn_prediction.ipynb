{
 "cells": [
  {
   "cell_type": "markdown",
   "metadata": {},
   "source": [
    "# Similarity Based Retrosynthetic Prediction\n",
    "\n",
    "V.F. Scalfani and A.M. Fernandez\n",
    "\n",
    "Fall 2024 "
   ]
  },
  {
   "cell_type": "markdown",
   "metadata": {},
   "source": [
    "## Anticipated Length of Workshop\n",
    "\n",
    "~ 1 hour"
   ]
  },
  {
   "cell_type": "markdown",
   "metadata": {},
   "source": [
    "## Important Notes\n",
    "\n",
    "This notebook is part of the Retrosynthesis Workshop materials, which aim to introduce computational cheminformatics techniques for retrosynthesis prediction. Please note the following:\n",
    "\n",
    "1. **Educational Purpose**: The tutorials are designed for educational purposes to help you understand cheminformatics strategies for predicting synthetic routes. They are not intended to provide practical laboratory guidance.\n",
    "\n",
    "2. **Practical Limitations**: The methods demonstrated here are template-based and pattern-driven, meaning they rely on predefined reaction templates and do not fully capture real-world chemistry complexities. Any application of the predicted reactions would require signficant additional research, including a thorough review of the relevant literature, synthesis planning, and safety assessments. In addition, see the articles referenced throughout the Retrosynthesis Workshop notebooks to learn more about specific model limitations.\n",
    "\n",
    "3. **Intellectual Property**: The retrosynthetic prediction techniques in the tutorials use publicly available reaction data (and/or computer models derived from this data) from U.S. patents for training purposes. Synthetic pathways suggested by these models could potentially be protected by intellectual property laws.\n",
    "\n",
    "For the complete disclaimer and further details, please refer to the [README](https://github.com/ualibweb/retrosynthesis/tree/main). Code in the notebook is [MIT licensed](https://github.com/ualibweb/retrosynthesis/blob/main/LICENSE).\n"
   ]
  },
  {
   "cell_type": "markdown",
   "metadata": {},
   "source": [
    "## What is the purpose of this workshop?\n",
    "\n",
    "This workshop will introduce a computer-assisted retrosynthesis technique based on molecular similarity. This \"RetroSim\" method was developed by Coley and coworkers [1]. This technique is deterministic and reasonable to implement with some basic cheminformatics coding experience. While Coley and coworkers published the code openly [2], we opted to write our own code [a] here based on the reported methods to make things easier to teach. As such, there are certainly differences in the implementation and results, however, the overall approach and workflow is intended to be the same.\n",
    "\n",
    "[a] except for the reaction template extraction and canonicalization code. We use the rdchiral package to extract the retrosynthetic reaction templates (reaction SMARTS) [3] and rdcanon to standardize the reaction SMARTS [4]."
   ]
  },
  {
   "cell_type": "markdown",
   "metadata": {},
   "source": [
    "## Brief Description of Method\n",
    "\n",
    "Reaction templates (Reaction SMARTS patterns) are extracted from a curated dataset of 50,000 reactions [5]. Next, a target molecule is selected and the similarity of the target molecule to the precedent reactions product is used to rank the templates. A selected number of top ranked templates (100 most similar precedent products) are then applied to the target molecule for the retrosynthesis prediction and these are further ranked based on similarity to the precedent reactants.\n",
    "\n",
    "**Detailed workflow, from our interpretation and adaptation of steps outlined in ref [1]. If you find mistakes/bugs, please let us know!**\n",
    "\n",
    "*Data Curation*\n",
    "\n",
    "1. Load Schenider_JCIM_2016_56_2336_datasetB.csv 50,000 reactions into python [5]\n",
    "2. Next, perform some reaction standardization:\n",
    "    - make sure the reaction SMILES parse with rdkit\n",
    "    - check that all reactants, agents, and products can be sanitized\n",
    "    - move all reagents to reactants (this should be the case in the Schenider dataset anyway, but we will verify)\n",
    "    - Remove solvents, catalysts, etc. (we will define this in our workflow as any reactants where unmapped atoms < 1%)\n",
    "    - Limit to reactions where reactants > 0 and product == 1\n",
    "    - Limit to reactions where the product has at least 5 atoms\n",
    "    - Canonicalize the standardized reaction\n",
    "    - Save the final standardized canonical reaction smiles\n",
    "\n",
    "**Pre-compute fingerprints and templates**\n",
    "\n",
    "1. Compute Morgan fingerprints (radius 2 with molecular features) for all reaction reactants and product. The reactants all get one fingerprint together.\n",
    "2. Extract the reaction templates with rdchiral\n",
    "3. Canonicalize the reaction templates with rdcanon\n",
    "4. Save the final canonicalized reaction template\n",
    "\n",
    "Test set:\n",
    "\n",
    "1. Compute Morgan fingerprint of radius 2 with molecular features for all reaction product and reaction reactants\n",
    "\n",
    "2. Split the dataset randomly into 2 datasets\n",
    "\n",
    "   - 80% for training, 20% test\n",
    "\n",
    "The original article [1] uses a 80/10/10 split for validation to explore different fingerprints and similarity metrics, but we are selecting their validation parameters for the model (e.g., Morgan Fingerprints and Tanimoto Similarity), so our understanding is that we should not need the validation split for this demonstration. We will apply these parameters directly to the test set.\n",
    "\n",
    "## Workflow for the Model prediction\n",
    "\n",
    "1. Get the target compound fingerprint (from the test set)\n",
    "2. Now, iterate through the training set product fingerprints, and compute the tanimoto similarity score of the products (S_prod)\n",
    "3. Take the 100 most similar results (closer to 1.0)\n",
    "4. Next, iterate through the reaction templates of the 100 most similar results and apply this reaction template to the target compound\n",
    "        - some templates will produce candidate reactants, some will not produce any candidate reactants\n",
    "5. Now for each candidate reactant set generated, compute the fingerprint and compare tanimoto similairy to the 100 original reaction reactant fingerprints (S_reac)\n",
    "6. Compute an overall similarity of the predicted rxn, S_overall = S_prod x S_reac\n",
    "7. Now, order the predicted reactions based on overall similarity (highest number == rank 1)\n",
    "8. Remove any duplicate reaction predictions by comparing reactant canonical SMILES"
   ]
  },
  {
   "cell_type": "markdown",
   "metadata": {},
   "source": [
    "## References\n",
    "\n",
    "[1] Coley, C. W.; Rogers, L.; Green, W. H.; Jensen, K. F. Computer-Assisted Retrosynthesis Based on Molecular Similarity. ACS Cent. Sci. 2017, 3 (12), 1237–1245. https://doi.org/10.1021/acscentsci.7b00355.\n",
    "\n",
    "[2] https://github.com/connorcoley/retrosim\n",
    "\n",
    "[3] Coley, C. W.; Green, W. H.; Jensen, K. F. RDChiral: An RDKit Wrapper for Handling Stereochemistry in Retrosynthetic Template Extraction and Application. J. Chem. Inf. Model. 2019, 59 (6), 2529–2537. https://doi.org/10.1021/acs.jcim.9b00286.; software: https://github.com/connorcoley/rdchiral\n",
    "\n",
    "[4] Mahjour, B. A.; Coley, C. W. RDCanon: A Python Package for Canonicalizing the Order of Tokens in SMARTS Queries. J. Chem. Inf. Model. 2024, 64 (8), 2948–2954. https://doi.org/10.1021/acs.jcim.4c00138.; software: https://github.com/coleygroup/rdcanon\n",
    "\n",
    "[5] Schneider, N.; Stiefl, N.; Landrum, G. A. What’s What: The (Nearly) Definitive Guide to Reaction Role Assignment. J. Chem. Inf. Model. 2016, 56 (12), 2336–2346. https://doi.org/10.1021/acs.jcim.6b00564.\n"
   ]
  },
  {
   "cell_type": "markdown",
   "metadata": {},
   "source": [
    "# Local Setup of Python Environment\n",
    "\n",
    "Here is a conda environment recipe below. We need to install rdkit, rdchiral, and rdcanon.\n",
    "\n",
    "```\n",
    "conda create --name retro_sim_env\n",
    "conda activate retro_sim_env\n",
    "conda install -c conda-forge rdkit pip\n",
    "pip install rdchiral\n",
    "\n",
    "```\n",
    "\n",
    "Download or clone rdcanon: https://github.com/coleygroup/rdcanon\n",
    "Save to desired location\n",
    "\n",
    "```\n",
    "conda activate retro-sim-env\n",
    "cd rdcanon-main/\n",
    "pip install -e .\n",
    "\n",
    "```"
   ]
  },
  {
   "cell_type": "code",
   "execution_count": 1,
   "metadata": {},
   "outputs": [],
   "source": [
    "# Import required Libraries\n",
    "\n",
    "# general\n",
    "import os\n",
    "import csv\n",
    "from rdkit import Chem\n",
    "from functools import reduce\n",
    "import random\n",
    "\n",
    "# rdkit\n",
    "\n",
    "from rdkit.Chem import AllChem, rdChemReactions\n",
    "from rdkit.Chem.Draw import rdMolDraw2D\n",
    "from IPython.display import SVG\n",
    "\n",
    "# rdchiral\n",
    "from rdchiral.template_extractor import extract_from_reaction\n",
    "from rdchiral.main import rdchiralRun, rdchiralReaction, rdchiralReactants\n",
    "\n",
    "# rdcanon\n",
    "from rdcanon import canon_reaction_smarts\n",
    "\n",
    "# multiprocessing\n",
    "import multiprocessing\n",
    "import concurrent.futures"
   ]
  },
  {
   "cell_type": "markdown",
   "metadata": {},
   "source": [
    "## 1. Load Data and Setup"
   ]
  },
  {
   "cell_type": "code",
   "execution_count": 2,
   "metadata": {},
   "outputs": [
    {
     "name": "stdout",
     "output_type": "stream",
     "text": [
      "File is already unzipped.\n"
     ]
    }
   ],
   "source": [
    "# unzip the data if necassary\n",
    "# !unzip ../X_Data/Schneider_JCIM_2016_56_2336_dataSetB.zip -d ../X_Data/\n",
    "\n",
    "import os\n",
    "import subprocess\n",
    "\n",
    "# Path to the expected unzipped file\n",
    "unzipped_file_path = '../X_Data/Schneider_JCIM_2016_56_2336_dataSetB.csv'\n",
    "\n",
    "# Check if the file exists\n",
    "if not os.path.exists(unzipped_file_path):\n",
    "    # Unzip the file if the .csv file does not exist\n",
    "    subprocess.run([\"unzip\", \"../X_Data/Schneider_JCIM_2016_56_2336_dataSetB.zip\", \"-d\", \"../X_Data/\"])\n",
    "else:\n",
    "    print(\"File is already unzipped.\")\n"
   ]
  },
  {
   "cell_type": "code",
   "execution_count": 3,
   "metadata": {},
   "outputs": [],
   "source": [
    "# Read in the data\n",
    "# we added some parameters here that are helpful for testing\n",
    "# including the number of reactions to process and the rxn class\n",
    "\n",
    "# Reaction classes are as follows [1,5]:\n",
    "\n",
    "# 1  - heteroatom alkylation and arylation\n",
    "# 2  - acylation and related processes\n",
    "# 3  - C-C bond formation\n",
    "# 4  - heterocycle formation\n",
    "# 5  - protections\n",
    "# 6  - deprotections\n",
    "# 7  - reductions\n",
    "# 8  - oxidations\n",
    "# 9  - functional group interconversion (FGI)\n",
    "# 10 - functional group addition (FGA)\n",
    "\n",
    "# -1 means no filter\n",
    "max_reactions = -1\n",
    "class_rank_filter = -1\n",
    "\n",
    "reactions_data = {}\n",
    "with open(\"../X_Data/Schneider_JCIM_2016_56_2336_dataSetB.csv\", \"r\") as infile:\n",
    "    reader = csv.reader(infile)\n",
    "    # skip header\n",
    "    next(reader)\n",
    "    for idx, line in enumerate(reader):\n",
    "        if class_rank_filter != -1 and str(line[0]) != str(class_rank_filter):\n",
    "            continue\n",
    "        if max_reactions != -1 and idx > max_reactions:\n",
    "            break\n",
    "        reactions_data[idx] = {\n",
    "            \"rxn_class\": line[0],\n",
    "            \"patent_id\": line[1],\n",
    "            \"rxn_smiles_mapping_name\": line[2],\n",
    "        }"
   ]
  },
  {
   "cell_type": "code",
   "execution_count": 4,
   "metadata": {},
   "outputs": [
    {
     "data": {
      "text/plain": [
       "50000"
      ]
     },
     "execution_count": 4,
     "metadata": {},
     "output_type": "execute_result"
    }
   ],
   "source": [
    "len(reactions_data)"
   ]
  },
  {
   "cell_type": "code",
   "execution_count": 5,
   "metadata": {},
   "outputs": [
    {
     "data": {
      "text/plain": [
       "(0,\n",
       " {'rxn_class': '6',\n",
       "  'patent_id': 'US05849732',\n",
       "  'rxn_smiles_mapping_name': 'C.CCCCCC.CO.O=C(OCc1ccccc1)[NH:1][CH2:2][CH2:3][CH2:4][CH2:5][C@@H:6]([C:7]([O:8][CH3:9])=[O:10])[NH:11][C:12](=[O:13])[NH:14][c:15]1[cH:16][c:17]([O:18][CH3:19])[cH:20][c:21]([C:22]([CH3:23])([CH3:24])[CH3:25])[c:26]1[OH:27].[ClH:28].[Pd]>>[ClH:28].[NH2:1][CH2:2][CH2:3][CH2:4][CH2:5][C@@H:6]([C:7]([O:8][CH3:9])=[O:10])[NH:11][C:12](=[O:13])[NH:14][c:15]1[cH:16][c:17]([O:18][CH3:19])[cH:20][c:21]([C:22]([CH3:23])([CH3:24])[CH3:25])[c:26]1[OH:27]'})"
      ]
     },
     "execution_count": 5,
     "metadata": {},
     "output_type": "execute_result"
    }
   ],
   "source": [
    "# look at first entry\n",
    "list(reactions_data.items())[0]"
   ]
  },
  {
   "cell_type": "markdown",
   "metadata": {},
   "source": [
    "## Multiprocessing\n",
    "\n",
    "> **_NOTE:_** The multiprocessing code in this notebook was developed on Linux Ubuntu 22.04. We think we have written the multiprocessing code in a way that it will also run on Mac OS, but it is not tested. The multiprocessing code in this notebook will not work on Windows."
   ]
  },
  {
   "cell_type": "code",
   "execution_count": 6,
   "metadata": {},
   "outputs": [
    {
     "name": "stdout",
     "output_type": "stream",
     "text": [
      "24 CPUs\n"
     ]
    }
   ],
   "source": [
    "# Get total number of CPUs available\n",
    "total_cpus = int(os.cpu_count())\n",
    "print(f\"{total_cpus} CPUs\")"
   ]
  },
  {
   "cell_type": "code",
   "execution_count": 7,
   "metadata": {},
   "outputs": [
    {
     "name": "stdout",
     "output_type": "stream",
     "text": [
      "Using 12 CPUs\n"
     ]
    }
   ],
   "source": [
    "# This is adjusting the number of CPUs based on your hardware\n",
    "max_cpus = 1\n",
    "if total_cpus >= 24:\n",
    "    max_cpus = 12\n",
    "elif total_cpus >= 16:\n",
    "    max_cpus = 8\n",
    "elif total_cpus >= 4:\n",
    "    max_cpus = 4\n",
    "elif total_cpus >= 2:\n",
    "    max_cpus = 2\n",
    "else:\n",
    "    max_cpus = 1\n",
    "print(f\"Using {max_cpus} CPUs\")"
   ]
  },
  {
   "cell_type": "markdown",
   "metadata": {},
   "source": [
    "## 2. Reaction Standardization"
   ]
  },
  {
   "cell_type": "code",
   "execution_count": 8,
   "metadata": {},
   "outputs": [],
   "source": [
    "# It will be easier to split the standardization steps into functions\n",
    "\n",
    "def validate_reaction(key,smiles):\n",
    "    \"\"\"\n",
    "    Check if a reaction is valid\n",
    "    \"\"\"\n",
    "    try:\n",
    "        # attempt to parse rxn\n",
    "        reaction = rdChemReactions.ReactionFromSmarts(smiles, useSmiles=True)\n",
    "        # attempt to sanitize rxn\n",
    "        rdChemReactions.SanitizeRxn(reaction)\n",
    "    except Exception as e:\n",
    "        print(f\"Error parsing for key: {key}, Error: {str(e)}\")\n",
    "        return None\n",
    "    return reaction\n",
    "\n",
    "def validate_reactants(key, reaction):\n",
    "    \"\"\"\n",
    "    Check if reactants are valid\n",
    "    \"\"\"\n",
    "    for mol in reaction.GetReactants():\n",
    "        try:\n",
    "            # if this works for all, return rxn\n",
    "            Chem.SanitizeMol(mol)\n",
    "        except:\n",
    "            # if there is an exception with any, return None\n",
    "            print(f\"Error reactant sanitization for key: {key}\")\n",
    "            return None\n",
    "    return reaction\n",
    "\n",
    "\n",
    "def validate_agents(key, reaction):\n",
    "    \"\"\"\n",
    "    Check if agents are valid\n",
    "    \"\"\"\n",
    "\n",
    "    # make sure rxn has agents to test\n",
    "    if len(reaction.GetAgents()) > 0:\n",
    "       for mol in reaction.GetAgents():\n",
    "           try:\n",
    "               # if this works for all, return rxn\n",
    "               Chem.SanitizeMol(mol)\n",
    "           except:\n",
    "               # if there is an exception with any, return None\n",
    "               print(f\"Error agent sanitization for key: {key}\")\n",
    "               return None\n",
    "    return reaction\n",
    "\n",
    "\n",
    "def validate_products(key, reaction):\n",
    "    \"\"\"\n",
    "    Check if products are valid\n",
    "    \"\"\"\n",
    "    for mol in reaction.GetProducts():\n",
    "        try:\n",
    "            # if this works for all, return rxn\n",
    "            Chem.SanitizeMol(mol)\n",
    "        except:\n",
    "            # if there is an exception with any, return None\n",
    "            print(f\"Error product sanitization for key: {key}\")\n",
    "            return None\n",
    "    return reaction\n",
    "\n",
    "\n",
    "# This is required for rdchiral template extraction input format (reactants>>product)\n",
    "# again with our dataset, there are no agents\n",
    "def move_agents_to_reactants(reaction):\n",
    "    \"\"\"\n",
    "    Move agents to reactants\n",
    "    \"\"\"\n",
    "    for agent in reaction.GetAgents():\n",
    "        Chem.SanitizeMol(agent)\n",
    "        reaction.AddReactantTemplate(agent)\n",
    "    reaction.RemoveAgentTemplates()\n",
    "    rdChemReactions.SanitizeRxn(reaction)\n",
    "    return reaction\n",
    "\n",
    "# I think rdchiral input ignores them anyway.\n",
    "def remove_reactant_spectators(reaction):\n",
    "    \"\"\"\n",
    "    Remove reactant spectators\n",
    "    \"\"\"\n",
    "    # Default is remove if less than 20 % mapped\n",
    "    # I think we want to change this to thresholdUnmappedAtoms=0.01\n",
    "    # This should remove only molecules with essentially 0 % atom mapping (i.e. spectators)\n",
    "    # But keep all molecules with partial mapping.\n",
    "    \n",
    "    # This moves the spectators to agents\n",
    "    reaction.RemoveUnmappedReactantTemplates(thresholdUnmappedAtoms=0.01)\n",
    "    reaction.RemoveUnmappedProductTemplates(thresholdUnmappedAtoms=0.01)\n",
    "\n",
    "    # now we can delete the agents\n",
    "    reaction.RemoveAgentTemplates()\n",
    "    # sanitize the new rxn\n",
    "    rdChemReactions.SanitizeRxn(reaction)\n",
    "    return reaction\n",
    "\n",
    "def count_reactants(reaction):\n",
    "    \"\"\"\n",
    "    count reactants\n",
    "    \"\"\"\n",
    "    return len(reaction.GetReactants())\n",
    "\n",
    "def count_products(reaction):\n",
    "    \"\"\"\n",
    "    count products\n",
    "    \"\"\"\n",
    "    return len(reaction.GetProducts())\n",
    "\n",
    "# this may be unnecassary as rdchiral seems to do this, see ref [3]\n",
    "def check_map_prod_5(reaction):\n",
    "    \"\"\"\n",
    "    Check if product has at least 5 atoms and less than 5 unmapped atoms\n",
    "    \"\"\"\n",
    "    product = reaction.GetProducts()[0]\n",
    "    Chem.SanitizeMol(product)\n",
    "    mapped_atoms = sum([1 for atom in product.GetAtoms() if atom.HasProp('molAtomMapNumber')])\n",
    "    unmapped_atoms = len(product.GetAtoms()) - mapped_atoms\n",
    "\n",
    "    if unmapped_atoms < 5 and len(product.GetAtoms()) >= 5:\n",
    "        return reaction\n",
    "    else:\n",
    "        return None\n",
    "\n",
    "def remove_atom_mapping(smiles):\n",
    "    \"\"\"\n",
    "    Remove atom mapping from smiles\n",
    "    \"\"\"\n",
    "    mol = Chem.MolFromSmiles(smiles)\n",
    "    for atom in mol.GetAtoms():\n",
    "        atom.ClearProp('molAtomMapNumber')\n",
    "    return Chem.MolToSmiles(mol)"
   ]
  },
  {
   "cell_type": "code",
   "execution_count": 9,
   "metadata": {},
   "outputs": [],
   "source": [
    "# function to standardize and canonicalize all reactions\n",
    "def standardize_reactions(item):\n",
    "    \"\"\"\n",
    "    Standarize and canonicalize reactions\n",
    "    Steps:\n",
    "    1. Check if reaction is valid\n",
    "    2. Check if reactants are valid\n",
    "    3. Check if agents are valid\n",
    "    4. Check if products are valid\n",
    "    5. Move agents to reactants\n",
    "    6. Remove reactant spectators\n",
    "    7. Check if reactants > 0 and products = 1\n",
    "    8. Check if < 5 unmapped product atoms and at least 5 atoms\n",
    "    9. Canonicalize reaction\n",
    "\n",
    "    Returns:\n",
    "    key: key of the reaction\n",
    "    value: None if reaction is invalid, else a dictionary with the standardized rxn\n",
    "    \"\"\"\n",
    "\n",
    "    key, value = item\n",
    "    reaction =  validate_reaction(key, value[\"rxn_smiles_mapping_name\"])\n",
    "    if not reaction:\n",
    "        return key, None\n",
    "    if not validate_reactants(key, reaction):\n",
    "        return key, None\n",
    "    if not validate_agents(key, reaction):\n",
    "        return key, None\n",
    "    if not validate_products(key, reaction):\n",
    "        return key, None\n",
    "\n",
    "    # move agents to reactants\n",
    "    reaction = move_agents_to_reactants(reaction)\n",
    "\n",
    "    # remove reactant spectators\n",
    "    reaction = remove_reactant_spectators(reaction)\n",
    "\n",
    "    # Check if reactants > 0 and products = 1\n",
    "    if count_reactants(reaction) < 1 or count_products(reaction) != 1:\n",
    "        return key, None\n",
    "\n",
    "    # Check if < 5 unmapped product atoms and at least 5 atoms\n",
    "    if not check_map_prod_5(reaction):\n",
    "        return key, None\n",
    "\n",
    "    canonical_rxn = rdChemReactions.ReactionToSmiles(reaction)\n",
    "\n",
    "    return key, {\n",
    "        \"rxn_class\": value[\"rxn_class\"],\n",
    "        \"patent_id\": value[\"patent_id\"],\n",
    "        \"rxn_smiles_mapping_name\": value[\"rxn_smiles_mapping_name\"],\n",
    "        \"standardized_rxn\": canonical_rxn,\n",
    "    }"
   ]
  },
  {
   "cell_type": "code",
   "execution_count": 10,
   "metadata": {},
   "outputs": [],
   "source": [
    "# here is how this works on our data structure\n",
    "# grab the keys and values\n",
    "items = list(reactions_data.items())"
   ]
  },
  {
   "cell_type": "code",
   "execution_count": 11,
   "metadata": {},
   "outputs": [
    {
     "data": {
      "text/plain": [
       "(0,\n",
       " {'rxn_class': '6',\n",
       "  'patent_id': 'US05849732',\n",
       "  'rxn_smiles_mapping_name': 'C.CCCCCC.CO.O=C(OCc1ccccc1)[NH:1][CH2:2][CH2:3][CH2:4][CH2:5][C@@H:6]([C:7]([O:8][CH3:9])=[O:10])[NH:11][C:12](=[O:13])[NH:14][c:15]1[cH:16][c:17]([O:18][CH3:19])[cH:20][c:21]([C:22]([CH3:23])([CH3:24])[CH3:25])[c:26]1[OH:27].[ClH:28].[Pd]>>[ClH:28].[NH2:1][CH2:2][CH2:3][CH2:4][CH2:5][C@@H:6]([C:7]([O:8][CH3:9])=[O:10])[NH:11][C:12](=[O:13])[NH:14][c:15]1[cH:16][c:17]([O:18][CH3:19])[cH:20][c:21]([C:22]([CH3:23])([CH3:24])[CH3:25])[c:26]1[OH:27]'})"
      ]
     },
     "execution_count": 11,
     "metadata": {},
     "output_type": "execute_result"
    }
   ],
   "source": [
    "items[0]"
   ]
  },
  {
   "cell_type": "code",
   "execution_count": 12,
   "metadata": {},
   "outputs": [
    {
     "data": {
      "text/plain": [
       "(0, None)"
      ]
     },
     "execution_count": 12,
     "metadata": {},
     "output_type": "execute_result"
    }
   ],
   "source": [
    "# Process single reaction\n",
    "standardize_reactions(items[0])"
   ]
  },
  {
   "cell_type": "code",
   "execution_count": 13,
   "metadata": {},
   "outputs": [
    {
     "data": {
      "text/plain": [
       "(1,\n",
       " {'rxn_class': '2',\n",
       "  'patent_id': 'US20120114765A1',\n",
       "  'rxn_smiles_mapping_name': 'O[C:1](=[O:2])[c:3]1[cH:4][c:5]([N+:6](=[O:7])[O-:8])[c:9]([S:10][c:11]2[c:12]([Cl:13])[cH:14][n:15][cH:16][c:17]2[Cl:18])[s:19]1.[NH2:20][c:21]1[cH:22][cH:23][cH:24][c:25]2[cH:26][n:27][cH:28][cH:29][c:30]12>>[C:1](=[O:2])([c:3]1[cH:4][c:5]([N+:6](=[O:7])[O-:8])[c:9]([S:10][c:11]2[c:12]([Cl:13])[cH:14][n:15][cH:16][c:17]2[Cl:18])[s:19]1)[NH:20][c:21]1[cH:22][cH:23][cH:24][c:25]2[cH:26][n:27][cH:28][cH:29][c:30]12',\n",
       "  'standardized_rxn': 'O[C:1](=[O:2])[c:3]1[cH:4][c:5]([N+:6](=[O:7])[O-:8])[c:9]([S:10][c:11]2[c:12]([Cl:13])[cH:14][n:15][cH:16][c:17]2[Cl:18])[s:19]1.[NH2:20][c:21]1[cH:22][cH:23][cH:24][c:25]2[cH:26][n:27][cH:28][cH:29][c:30]12>>[C:1](=[O:2])([c:3]1[cH:4][c:5]([N+:6](=[O:7])[O-:8])[c:9]([S:10][c:11]2[c:12]([Cl:13])[cH:14][n:15][cH:16][c:17]2[Cl:18])[s:19]1)[NH:20][c:21]1[cH:22][cH:23][cH:24][c:25]2[cH:26][n:27][cH:28][cH:29][c:30]12'})"
      ]
     },
     "execution_count": 13,
     "metadata": {},
     "output_type": "execute_result"
    }
   ],
   "source": [
    "# that one above did not pass our checks, try another\n",
    "standardize_reactions(items[1])"
   ]
  },
  {
   "cell_type": "code",
   "execution_count": 14,
   "metadata": {},
   "outputs": [],
   "source": [
    "# Now let's process all 50,000 with multiprocessing\n",
    "# Standardize all reactions; removes invalid reactions\n",
    "# the if __name__ == \"__main__\": and force to fork is necassary to run on Mac\n",
    "\n",
    "if __name__ == \"__main__\":\n",
    "    multiprocessing.set_start_method('fork', force=True)\n",
    "\n",
    "    standardized_reactions = {}\n",
    "    items = list(reactions_data.items())\n",
    "\n",
    "    with concurrent.futures.ProcessPoolExecutor(max_workers=max_cpus) as executor:\n",
    "        results = list(executor.map(standardize_reactions, items))\n",
    "\n",
    "    # Collect results\n",
    "    for key, result in results:\n",
    "        if result is not None:\n",
    "            standardized_reactions[key] = result"
   ]
  },
  {
   "cell_type": "code",
   "execution_count": 15,
   "metadata": {},
   "outputs": [
    {
     "data": {
      "text/plain": [
       "48252"
      ]
     },
     "execution_count": 15,
     "metadata": {},
     "output_type": "execute_result"
    }
   ],
   "source": [
    "len(standardized_reactions)"
   ]
  },
  {
   "cell_type": "markdown",
   "metadata": {},
   "source": [
    "## 3. Compute Fingerprints and Templates"
   ]
  },
  {
   "cell_type": "code",
   "execution_count": 16,
   "metadata": {},
   "outputs": [],
   "source": [
    "# We will need to compute fingerprints and extract the reactions templates\n",
    "# Here is one example, then we will put everything into a function"
   ]
  },
  {
   "cell_type": "code",
   "execution_count": 17,
   "metadata": {},
   "outputs": [
    {
     "data": {
      "text/plain": [
       "(1,\n",
       " {'rxn_class': '2',\n",
       "  'patent_id': 'US20120114765A1',\n",
       "  'rxn_smiles_mapping_name': 'O[C:1](=[O:2])[c:3]1[cH:4][c:5]([N+:6](=[O:7])[O-:8])[c:9]([S:10][c:11]2[c:12]([Cl:13])[cH:14][n:15][cH:16][c:17]2[Cl:18])[s:19]1.[NH2:20][c:21]1[cH:22][cH:23][cH:24][c:25]2[cH:26][n:27][cH:28][cH:29][c:30]12>>[C:1](=[O:2])([c:3]1[cH:4][c:5]([N+:6](=[O:7])[O-:8])[c:9]([S:10][c:11]2[c:12]([Cl:13])[cH:14][n:15][cH:16][c:17]2[Cl:18])[s:19]1)[NH:20][c:21]1[cH:22][cH:23][cH:24][c:25]2[cH:26][n:27][cH:28][cH:29][c:30]12',\n",
       "  'standardized_rxn': 'O[C:1](=[O:2])[c:3]1[cH:4][c:5]([N+:6](=[O:7])[O-:8])[c:9]([S:10][c:11]2[c:12]([Cl:13])[cH:14][n:15][cH:16][c:17]2[Cl:18])[s:19]1.[NH2:20][c:21]1[cH:22][cH:23][cH:24][c:25]2[cH:26][n:27][cH:28][cH:29][c:30]12>>[C:1](=[O:2])([c:3]1[cH:4][c:5]([N+:6](=[O:7])[O-:8])[c:9]([S:10][c:11]2[c:12]([Cl:13])[cH:14][n:15][cH:16][c:17]2[Cl:18])[s:19]1)[NH:20][c:21]1[cH:22][cH:23][cH:24][c:25]2[cH:26][n:27][cH:28][cH:29][c:30]12'})"
      ]
     },
     "execution_count": 17,
     "metadata": {},
     "output_type": "execute_result"
    }
   ],
   "source": [
    "item1 = standardize_reactions(items[1])\n",
    "item1"
   ]
  },
  {
   "cell_type": "code",
   "execution_count": 18,
   "metadata": {},
   "outputs": [
    {
     "data": {
      "text/plain": [
       "'O[C:1](=[O:2])[c:3]1[cH:4][c:5]([N+:6](=[O:7])[O-:8])[c:9]([S:10][c:11]2[c:12]([Cl:13])[cH:14][n:15][cH:16][c:17]2[Cl:18])[s:19]1.[NH2:20][c:21]1[cH:22][cH:23][cH:24][c:25]2[cH:26][n:27][cH:28][cH:29][c:30]12>>[C:1](=[O:2])([c:3]1[cH:4][c:5]([N+:6](=[O:7])[O-:8])[c:9]([S:10][c:11]2[c:12]([Cl:13])[cH:14][n:15][cH:16][c:17]2[Cl:18])[s:19]1)[NH:20][c:21]1[cH:22][cH:23][cH:24][c:25]2[cH:26][n:27][cH:28][cH:29][c:30]12'"
      ]
     },
     "execution_count": 18,
     "metadata": {},
     "output_type": "execute_result"
    }
   ],
   "source": [
    "std_rxn_smiles = item1[1]['standardized_rxn']\n",
    "std_rxn_smiles"
   ]
  },
  {
   "cell_type": "code",
   "execution_count": 19,
   "metadata": {},
   "outputs": [
    {
     "data": {
      "image/png": "[encoded data removed]",
      "text/plain": [
       "<rdkit.Chem.rdChemReactions.ChemicalReaction at 0x7b99a2bbe180>"
      ]
     },
     "execution_count": 19,
     "metadata": {},
     "output_type": "execute_result"
    }
   ],
   "source": [
    "from rdkit.Chem import Draw\n",
    "from rdkit.Chem.Draw import IPythonConsole\n",
    "IPythonConsole.molSize = (800,300)\n",
    "\n",
    "rxn1 = rdChemReactions.ReactionFromSmarts(std_rxn_smiles, useSmiles=True)\n",
    "rxn1"
   ]
  },
  {
   "cell_type": "code",
   "execution_count": 20,
   "metadata": {},
   "outputs": [
    {
     "data": {
      "image/png": "[encoded data removed]",
      "text/plain": [
       "<rdkit.Chem.rdchem.Mol at 0x7b99a3f7ac70>"
      ]
     },
     "execution_count": 20,
     "metadata": {},
     "output_type": "execute_result"
    }
   ],
   "source": [
    "IPythonConsole.molSize = (300,300)\n",
    "# Get the reactants\n",
    "reactants = rxn1.GetReactants()\n",
    "for reactant in reactants:\n",
    "    Chem.SanitizeMol(reactant)\n",
    "    \n",
    "# combine the reactants in a single mol object\n",
    "combined_reactants = reduce(Chem.CombineMols, reactants)\n",
    "Chem.SanitizeMol(combined_reactants)\n",
    "combined_reactants"
   ]
  },
  {
   "cell_type": "code",
   "execution_count": 21,
   "metadata": {},
   "outputs": [
    {
     "data": {
      "image/png": "[encoded data removed]",
      "text/plain": [
       "<rdkit.Chem.rdchem.Mol at 0x7b99a3f78ba0>"
      ]
     },
     "execution_count": 21,
     "metadata": {},
     "output_type": "execute_result"
    }
   ],
   "source": [
    "# Get the product\n",
    "product = rxn1.GetProducts()[0]\n",
    "Chem.SanitizeMol(product)\n",
    "product"
   ]
  },
  {
   "cell_type": "code",
   "execution_count": 22,
   "metadata": {},
   "outputs": [],
   "source": [
    "# compute fingerprints\n",
    "reactant_fingerprint = AllChem.GetMorganFingerprint(combined_reactants, radius=2, useFeatures=True)\n",
    "product_fingerprint = AllChem.GetMorganFingerprint(product, radius=2, useFeatures=True)"
   ]
  },
  {
   "cell_type": "code",
   "execution_count": 23,
   "metadata": {},
   "outputs": [],
   "source": [
    "# extract templates\n",
    "split_rxn = std_rxn_smiles = item1[1]['standardized_rxn'].split(\">>\")\n",
    "reactant_smiles = split_rxn[0]\n",
    "product_smiles = split_rxn[-1]\n",
    "\n",
    "# We are using the rdchiral function extract_from_reaction with\n",
    "# a speicifc dictionary input\n",
    "template1 = extract_from_reaction({\n",
    "    \"reactants\": reactant_smiles,\n",
    "    \"products\": product_smiles,\n",
    "    \"_id\": \"test1\"\n",
    "    })"
   ]
  },
  {
   "cell_type": "code",
   "execution_count": 24,
   "metadata": {},
   "outputs": [
    {
     "data": {
      "text/plain": [
       "{'products': '[#16;a:4]:[c:3]-[C;H0;D3;+0:1](=[O;D1;H0:2])-[NH;D2;+0:5]-[c:6]',\n",
       " 'reactants': 'O-[C;H0;D3;+0:1](=[O;D1;H0:2])-[c:3]:[#16;a:4].[NH2;D1;+0:5]-[c:6]',\n",
       " 'reaction_smarts': '[#16;a:4]:[c:3]-[C;H0;D3;+0:1](=[O;D1;H0:2])-[NH;D2;+0:5]-[c:6]>>O-[C;H0;D3;+0:1](=[O;D1;H0:2])-[c:3]:[#16;a:4].[NH2;D1;+0:5]-[c:6]',\n",
       " 'intra_only': False,\n",
       " 'dimer_only': False,\n",
       " 'reaction_id': 'test1',\n",
       " 'necessary_reagent': ''}"
      ]
     },
     "execution_count": 24,
     "metadata": {},
     "output_type": "execute_result"
    }
   ],
   "source": [
    "template1"
   ]
  },
  {
   "cell_type": "code",
   "execution_count": 25,
   "metadata": {},
   "outputs": [
    {
     "data": {
      "text/plain": [
       "'[#16;a:4]:[c:3]-[C;D3;H0;+0:1](-[N;H1;D2;+0:5]-[c:6])=[O;D1;H0:2]>>[#16;a:4]:[c:3]-[C;D3;H0;+0:1](-[O])=[O;D1;H0:2].[N;H2;D1;+0:5]-[c:6]'"
      ]
     },
     "execution_count": 25,
     "metadata": {},
     "output_type": "execute_result"
    }
   ],
   "source": [
    "# Canonicalize the template reaction_smarts with rdcanon\n",
    "canonical_template1 = canon_reaction_smarts(template1[\"reaction_smarts\"], mapping=True)\n",
    "canonical_template1"
   ]
  },
  {
   "cell_type": "code",
   "execution_count": 26,
   "metadata": {},
   "outputs": [
    {
     "data": {
      "image/png": "[encoded data removed]",
      "text/plain": [
       "<rdkit.Chem.rdChemReactions.ChemicalReaction at 0x7b99cedf5000>"
      ]
     },
     "execution_count": 26,
     "metadata": {},
     "output_type": "execute_result"
    }
   ],
   "source": [
    "# Let's take a look at the template now\n",
    "IPythonConsole.molSize = (800,300)\n",
    "rxn_template1 = rdChemReactions.ReactionFromSmarts(canonical_template1)\n",
    "rdChemReactions.SanitizeRxn(rxn_template1)\n",
    "rxn_template1"
   ]
  },
  {
   "cell_type": "code",
   "execution_count": 27,
   "metadata": {},
   "outputs": [
    {
     "data": {
      "text/plain": [
       "['Nc1ccc(OC(F)(F)F)cc1.O=C(O)c1sccc1NCc1ccnc2ccccc12']"
      ]
     },
     "execution_count": 27,
     "metadata": {},
     "output_type": "execute_result"
    }
   ],
   "source": [
    "# If we have an appropiate target mol, we can apply this template and predict a reaction\n",
    "# PubChem CID:  9868037\n",
    "# this is how to do that with RDChiral\n",
    "target = rdchiralReactants('C1=CC=C2C(=C1)C(=CC=N2)CNC3=C(SC=C3)C(=O)NC4=CC=C(C=C4)OC(F)(F)F')\n",
    "rxn_template1_rdc = rdchiralReaction(canonical_template1)\n",
    "prediction1 = rdchiralRun(rxn_template1_rdc, target, combine_enantiomers=False)\n",
    "prediction1"
   ]
  },
  {
   "cell_type": "code",
   "execution_count": 28,
   "metadata": {},
   "outputs": [
    {
     "data": {
      "image/png": "[encoded data removed]",
      "text/plain": [
       "<rdkit.Chem.rdchem.Mol at 0x7b9922133d10>"
      ]
     },
     "execution_count": 28,
     "metadata": {},
     "output_type": "execute_result"
    }
   ],
   "source": [
    "# View mols predicted\n",
    "Chem.MolFromSmiles(prediction1[0])"
   ]
  },
  {
   "cell_type": "code",
   "execution_count": 29,
   "metadata": {},
   "outputs": [
    {
     "data": {
      "text/plain": [
       "1"
      ]
     },
     "execution_count": 29,
     "metadata": {},
     "output_type": "execute_result"
    }
   ],
   "source": [
    "# We can also use the built in RDKit RunReactants instead of rdchiral\n",
    "target = Chem.MolFromSmiles('C1=CC=C2C(=C1)C(=CC=N2)CNC3=C(SC=C3)C(=O)NC4=CC=C(C=C4)OC(F)(F)F')\n",
    "prediction1 = rxn_template1.RunReactants((target,)) # need to input reactants as tuples (in this case, only 1)\n",
    "len(prediction1)"
   ]
  },
  {
   "cell_type": "code",
   "execution_count": 30,
   "metadata": {},
   "outputs": [
    {
     "data": {
      "image/png": "[encoded data removed]",
      "text/plain": [
       "<rdkit.Chem.rdchem.Mol at 0x7b9922131a10>"
      ]
     },
     "execution_count": 30,
     "metadata": {},
     "output_type": "execute_result"
    }
   ],
   "source": [
    "IPythonConsole.molSize = (300,300)\n",
    "prediction1[0][0]"
   ]
  },
  {
   "cell_type": "code",
   "execution_count": 31,
   "metadata": {},
   "outputs": [
    {
     "data": {
      "image/png": "[encoded data removed]",
      "text/plain": [
       "<rdkit.Chem.rdchem.Mol at 0x7b9922133f40>"
      ]
     },
     "execution_count": 31,
     "metadata": {},
     "output_type": "execute_result"
    }
   ],
   "source": [
    "prediction1[0][1]"
   ]
  },
  {
   "cell_type": "code",
   "execution_count": 32,
   "metadata": {},
   "outputs": [],
   "source": [
    "# Now put the steps for computing fingerprints and templates into a function\n",
    "\n",
    "def process_reaction(item):\n",
    "    \"\"\"\n",
    "    Steps:\n",
    "\n",
    "    1. Check if reaction is valid\n",
    "    2. Check if reactants are valid\n",
    "    3. Check if agents are valid\n",
    "    4. Check if products are valid\n",
    "    5. Compute fingerprints\n",
    "    6. Extract template\n",
    "    7. Canonicalize template\n",
    "    \n",
    "    Returns:\n",
    "    key: key of the reaction\n",
    "    value: None if reaction is invalid, else a dictionary with the following keys:\n",
    "    * rxn_class: reaction class\n",
    "    * patent_id: patent id\n",
    "    * rxn_smiles_mapping_name: reaction smiles\n",
    "    * standardized_rxn: standardized reaction smiles\n",
    "    * reactant_fingerprint: reactant fingerprint\n",
    "    * product_fingerprint: product fingerprint\n",
    "    * reactant_smiles: reactant smiles\n",
    "    * product_smiles: product smiles\n",
    "    * template_data: template data\n",
    "    * canonical_template: canonical template\n",
    "    \"\"\"\n",
    "    key, value = item\n",
    "    reaction =  validate_reaction(key, value[\"standardized_rxn\"])\n",
    "    if not reaction:\n",
    "        return key, None\n",
    "    if not validate_reactants(key, reaction):\n",
    "        return key, None\n",
    "    if not validate_agents(key, reaction):\n",
    "        return key, None\n",
    "    if not validate_products(key, reaction):\n",
    "        return key, None\n",
    "\n",
    "    # Get the reactants\n",
    "    reactants = reaction.GetReactants()\n",
    "    for reactant in reactants:\n",
    "        Chem.SanitizeMol(reactant)\n",
    "    \n",
    "    # combine the reactants in a single mol object\n",
    "    combined_reactants = reduce(Chem.CombineMols, reactants)\n",
    "    Chem.SanitizeMol(combined_reactants)\n",
    "\n",
    "    # Get the product (at this point there is only 1)\n",
    "    product = reaction.GetProducts()[0]\n",
    "    Chem.SanitizeMol(product)\n",
    "\n",
    "    # Compute fingerprints\n",
    "    reactant_fingerprint = AllChem.GetMorganFingerprint(combined_reactants, radius=2, useFeatures=True)\n",
    "    product_fingerprint = AllChem.GetMorganFingerprint(product, radius=2, useFeatures=True)\n",
    "\n",
    "    # While the template calculations are not needed for the testing data,\n",
    "    # we will run them through to remove improper reactions and guarantee a\n",
    "    # Valid 80/20 dataset split later on\n",
    "    split_rxn = value[\"standardized_rxn\"].split(\">>\")\n",
    "    reactant_smiles = split_rxn[0]\n",
    "    product_smiles = split_rxn[-1]\n",
    "\n",
    "    template = extract_from_reaction({\n",
    "        \"reactants\": reactant_smiles,\n",
    "        \"products\": product_smiles,\n",
    "        \"_id\": key\n",
    "    })\n",
    "\n",
    "    # if template extraction fails\n",
    "    if len(template.keys()) <= 1:\n",
    "        return key, None\n",
    "    \n",
    "    reaction_smarts = template[\"reaction_smarts\"]\n",
    "\n",
    "    try:\n",
    "       # try to canonicalize reaction smarts with rdcanon\n",
    "       canonical_template = canon_reaction_smarts(reaction_smarts, mapping=True)\n",
    "       template_reaction = rdChemReactions.ReactionFromSmarts(canonical_template)\n",
    "    except Exception as e:\n",
    "       print(f\"Canon reaction failed on: {reaction_smarts}\")\n",
    "       # go back to original reaction_smarts (not canonical)\n",
    "       canonical_template = reaction_smarts\n",
    "       template_reaction = rdChemReactions.ReactionFromSmarts(canonical_template)\n",
    "\n",
    "    # If template is generated with multiple reactants (so two target products in retrosynthesis)\n",
    "    if len(template_reaction.GetReactants()) != 1:\n",
    "        return key, None\n",
    "\n",
    "    return key, {\n",
    "        \"rxn_class\": value[\"rxn_class\"],\n",
    "        \"patent_id\": value[\"patent_id\"],\n",
    "        \"rxn_smiles_mapping_name\": value[\"rxn_smiles_mapping_name\"],\n",
    "        \"standardized_rxn\": value[\"standardized_rxn\"],\n",
    "        \"reactant_fingerprint\": reactant_fingerprint,\n",
    "        \"product_fingerprint\": product_fingerprint,\n",
    "        \"reactant_smiles\": reactant_smiles,\n",
    "        \"product_smiles\": product_smiles,\n",
    "        \"template_data\": template,\n",
    "        \"canonical_template\": canonical_template\n",
    "    }"
   ]
  },
  {
   "cell_type": "code",
   "execution_count": 33,
   "metadata": {},
   "outputs": [],
   "source": [
    "# Show one example\n",
    "# grab the keys and values\n",
    "items = list(standardized_reactions.items())"
   ]
  },
  {
   "cell_type": "code",
   "execution_count": 34,
   "metadata": {},
   "outputs": [
    {
     "data": {
      "text/plain": [
       "(2,\n",
       " {'rxn_class': '1',\n",
       "  'patent_id': 'US08003648B2',\n",
       "  'rxn_smiles_mapping_name': 'Cl.O=[CH:1][c:2]1[cH:3][cH:4][c:5](-[c:6]2[n:7][c:8]([CH3:9])[c:10]([CH2:11][O:12][c:13]3[cH:14][cH:15][c:16]([C@H:17]([CH2:18][C:19](=[O:20])[N:21]4[C:22](=[O:23])[O:24][CH2:25][C@@H:26]4[CH2:27][c:28]4[cH:29][cH:30][cH:31][cH:32][cH:33]4)[c:34]4[cH:35][cH:36][o:37][n:38]4)[cH:39][cH:40]3)[s:41]2)[cH:42][cH:43]1.[BH3-]C#N.[CH3:44][CH2:45][NH:46][CH2:47][CH3:48].[Na+]>>[CH2:1]([c:2]1[cH:3][cH:4][c:5](-[c:6]2[n:7][c:8]([CH3:9])[c:10]([CH2:11][O:12][c:13]3[cH:14][cH:15][c:16]([C@H:17]([CH2:18][C:19](=[O:20])[N:21]4[C:22](=[O:23])[O:24][CH2:25][C@@H:26]4[CH2:27][c:28]4[cH:29][cH:30][cH:31][cH:32][cH:33]4)[c:34]4[cH:35][cH:36][o:37][n:38]4)[cH:39][cH:40]3)[s:41]2)[cH:42][cH:43]1)[N:46]([CH2:45][CH3:44])[CH2:47][CH3:48]',\n",
       "  'standardized_rxn': 'O=[CH:1][c:2]1[cH:3][cH:4][c:5](-[c:6]2[n:7][c:8]([CH3:9])[c:10]([CH2:11][O:12][c:13]3[cH:14][cH:15][c:16]([C@H:17]([CH2:18][C:19](=[O:20])[N:21]4[C:22](=[O:23])[O:24][CH2:25][C@@H:26]4[CH2:27][c:28]4[cH:29][cH:30][cH:31][cH:32][cH:33]4)[c:34]4[cH:35][cH:36][o:37][n:38]4)[cH:39][cH:40]3)[s:41]2)[cH:42][cH:43]1.[CH3:44][CH2:45][NH:46][CH2:47][CH3:48]>>[CH2:1]([c:2]1[cH:3][cH:4][c:5](-[c:6]2[n:7][c:8]([CH3:9])[c:10]([CH2:11][O:12][c:13]3[cH:14][cH:15][c:16]([C@H:17]([CH2:18][C:19](=[O:20])[N:21]4[C:22](=[O:23])[O:24][CH2:25][C@@H:26]4[CH2:27][c:28]4[cH:29][cH:30][cH:31][cH:32][cH:33]4)[c:34]4[cH:35][cH:36][o:37][n:38]4)[cH:39][cH:40]3)[s:41]2)[cH:42][cH:43]1)[N:46]([CH2:45][CH3:44])[CH2:47][CH3:48]'})"
      ]
     },
     "execution_count": 34,
     "metadata": {},
     "output_type": "execute_result"
    }
   ],
   "source": [
    "items[1]"
   ]
  },
  {
   "cell_type": "code",
   "execution_count": 35,
   "metadata": {},
   "outputs": [
    {
     "data": {
      "text/plain": [
       "(2,\n",
       " {'rxn_class': '1',\n",
       "  'patent_id': 'US08003648B2',\n",
       "  'rxn_smiles_mapping_name': 'Cl.O=[CH:1][c:2]1[cH:3][cH:4][c:5](-[c:6]2[n:7][c:8]([CH3:9])[c:10]([CH2:11][O:12][c:13]3[cH:14][cH:15][c:16]([C@H:17]([CH2:18][C:19](=[O:20])[N:21]4[C:22](=[O:23])[O:24][CH2:25][C@@H:26]4[CH2:27][c:28]4[cH:29][cH:30][cH:31][cH:32][cH:33]4)[c:34]4[cH:35][cH:36][o:37][n:38]4)[cH:39][cH:40]3)[s:41]2)[cH:42][cH:43]1.[BH3-]C#N.[CH3:44][CH2:45][NH:46][CH2:47][CH3:48].[Na+]>>[CH2:1]([c:2]1[cH:3][cH:4][c:5](-[c:6]2[n:7][c:8]([CH3:9])[c:10]([CH2:11][O:12][c:13]3[cH:14][cH:15][c:16]([C@H:17]([CH2:18][C:19](=[O:20])[N:21]4[C:22](=[O:23])[O:24][CH2:25][C@@H:26]4[CH2:27][c:28]4[cH:29][cH:30][cH:31][cH:32][cH:33]4)[c:34]4[cH:35][cH:36][o:37][n:38]4)[cH:39][cH:40]3)[s:41]2)[cH:42][cH:43]1)[N:46]([CH2:45][CH3:44])[CH2:47][CH3:48]',\n",
       "  'standardized_rxn': 'O=[CH:1][c:2]1[cH:3][cH:4][c:5](-[c:6]2[n:7][c:8]([CH3:9])[c:10]([CH2:11][O:12][c:13]3[cH:14][cH:15][c:16]([C@H:17]([CH2:18][C:19](=[O:20])[N:21]4[C:22](=[O:23])[O:24][CH2:25][C@@H:26]4[CH2:27][c:28]4[cH:29][cH:30][cH:31][cH:32][cH:33]4)[c:34]4[cH:35][cH:36][o:37][n:38]4)[cH:39][cH:40]3)[s:41]2)[cH:42][cH:43]1.[CH3:44][CH2:45][NH:46][CH2:47][CH3:48]>>[CH2:1]([c:2]1[cH:3][cH:4][c:5](-[c:6]2[n:7][c:8]([CH3:9])[c:10]([CH2:11][O:12][c:13]3[cH:14][cH:15][c:16]([C@H:17]([CH2:18][C:19](=[O:20])[N:21]4[C:22](=[O:23])[O:24][CH2:25][C@@H:26]4[CH2:27][c:28]4[cH:29][cH:30][cH:31][cH:32][cH:33]4)[c:34]4[cH:35][cH:36][o:37][n:38]4)[cH:39][cH:40]3)[s:41]2)[cH:42][cH:43]1)[N:46]([CH2:45][CH3:44])[CH2:47][CH3:48]',\n",
       "  'reactant_fingerprint': <rdkit.DataStructs.cDataStructs.UIntSparseIntVect at 0x7b99221336f0>,\n",
       "  'product_fingerprint': <rdkit.DataStructs.cDataStructs.UIntSparseIntVect at 0x7b98dda00120>,\n",
       "  'reactant_smiles': 'O=[CH:1][c:2]1[cH:3][cH:4][c:5](-[c:6]2[n:7][c:8]([CH3:9])[c:10]([CH2:11][O:12][c:13]3[cH:14][cH:15][c:16]([C@H:17]([CH2:18][C:19](=[O:20])[N:21]4[C:22](=[O:23])[O:24][CH2:25][C@@H:26]4[CH2:27][c:28]4[cH:29][cH:30][cH:31][cH:32][cH:33]4)[c:34]4[cH:35][cH:36][o:37][n:38]4)[cH:39][cH:40]3)[s:41]2)[cH:42][cH:43]1.[CH3:44][CH2:45][NH:46][CH2:47][CH3:48]',\n",
       "  'product_smiles': '[CH2:1]([c:2]1[cH:3][cH:4][c:5](-[c:6]2[n:7][c:8]([CH3:9])[c:10]([CH2:11][O:12][c:13]3[cH:14][cH:15][c:16]([C@H:17]([CH2:18][C:19](=[O:20])[N:21]4[C:22](=[O:23])[O:24][CH2:25][C@@H:26]4[CH2:27][c:28]4[cH:29][cH:30][cH:31][cH:32][cH:33]4)[c:34]4[cH:35][cH:36][o:37][n:38]4)[cH:39][cH:40]3)[s:41]2)[cH:42][cH:43]1)[N:46]([CH2:45][CH3:44])[CH2:47][CH3:48]',\n",
       "  'template_data': {'products': '[C:3]-[N;H0;D3;+0:4](-[C:5])-[CH2;D2;+0:1]-[c:2]',\n",
       "   'reactants': 'O=[CH;D2;+0:1]-[c:2].[C:3]-[NH;D2;+0:4]-[C:5]',\n",
       "   'reaction_smarts': '[C:3]-[N;H0;D3;+0:4](-[C:5])-[CH2;D2;+0:1]-[c:2]>>O=[CH;D2;+0:1]-[c:2].[C:3]-[NH;D2;+0:4]-[C:5]',\n",
       "   'intra_only': False,\n",
       "   'dimer_only': False,\n",
       "   'reaction_id': 2,\n",
       "   'necessary_reagent': ''},\n",
       "  'canonical_template': '[N;D3;H0;+0:4](-[C:3])(-[C:5])-[C;H2;D2;+0:1]-[c:2]>>[N;H1;D2;+0:4](-[C:3])-[C:5].[O]=[C;H1;D2;+0:1]-[c:2]'})"
      ]
     },
     "execution_count": 35,
     "metadata": {},
     "output_type": "execute_result"
    }
   ],
   "source": [
    "# Process single reaction\n",
    "process_reaction(items[1])"
   ]
  },
  {
   "cell_type": "code",
   "execution_count": 36,
   "metadata": {},
   "outputs": [
    {
     "name": "stdout",
     "output_type": "stream",
     "text": [
      "Canon reaction failed on: [O;D1;H0:5]=[C:4]-[c:3]:[c;H0;D3;+0:1](-[c;H0;D3;+0:6](:[c:7]):[c:8]):[c:2]>>Br-[c;H0;D3;+0:1](:[c:2]):[c:3]-[C:4]=[O;D1;H0:5].C-C(-C)(-C)-[Si](-C)(-C)-O-c1:c:c:c(-B2-O-B(-[c;H0;D3;+0:6](:[c:7]):[c:8])-O-B(-c3:c:c:c(-O-[Si](-C)(-C)-C(-C)(-C)-C):c:c:3)-O-2):c:c:1\n"
     ]
    }
   ],
   "source": [
    "# Processes all reactions and removes invalid reactions\n",
    "# computes fingerprints and templates\n",
    "\n",
    "if __name__ == \"__main__\":\n",
    "    multiprocessing.set_start_method('fork', force=True)\n",
    "\n",
    "    reaction_computations = {}\n",
    "    items = list(standardized_reactions.items())\n",
    "\n",
    "    with concurrent.futures.ProcessPoolExecutor(max_workers=max_cpus) as executor:\n",
    "        results = list(executor.map(process_reaction, items))\n",
    "\n",
    "    # Collect results\n",
    "    for key, result in results:\n",
    "        if result is not None:\n",
    "           reaction_computations[key] = result"
   ]
  },
  {
   "cell_type": "code",
   "execution_count": 37,
   "metadata": {},
   "outputs": [
    {
     "data": {
      "text/plain": [
       "48249"
      ]
     },
     "execution_count": 37,
     "metadata": {},
     "output_type": "execute_result"
    }
   ],
   "source": [
    "len(reaction_computations)"
   ]
  },
  {
   "cell_type": "code",
   "execution_count": 38,
   "metadata": {},
   "outputs": [],
   "source": [
    "# Now we want to split the data into training and testing data\n",
    "# We will use a 80/20 split\n",
    "seed = 42\n",
    "\n",
    "# Shuffle the items in place\n",
    "items = list(reaction_computations.items())\n",
    "random.seed(seed)\n",
    "random.shuffle(items)\n",
    "\n",
    "# 80% training, 20% testing\n",
    "split_value = int(len(items) * 0.8)\n",
    "training_data_items = items[:split_value]\n",
    "testing_data_items = items[split_value:]\n",
    "\n",
    "# Convert lists back to dictionaries\n",
    "training_data = dict(training_data_items)\n",
    "testing_data = dict(testing_data_items)"
   ]
  },
  {
   "cell_type": "code",
   "execution_count": 39,
   "metadata": {},
   "outputs": [
    {
     "data": {
      "text/plain": [
       "(38599, 9650)"
      ]
     },
     "execution_count": 39,
     "metadata": {},
     "output_type": "execute_result"
    }
   ],
   "source": [
    "len(training_data), len(testing_data)"
   ]
  },
  {
   "cell_type": "code",
   "execution_count": 40,
   "metadata": {},
   "outputs": [],
   "source": [
    "# Remove unneccessary data from the testing dataset\n",
    "# to avoid confusion\n",
    "for key, value in testing_data.items():\n",
    "    del value[\"template_data\"]\n",
    "    del value[\"canonical_template\"]"
   ]
  },
  {
   "cell_type": "code",
   "execution_count": 41,
   "metadata": {},
   "outputs": [
    {
     "data": {
      "text/plain": [
       "(11746,\n",
       " {'rxn_class': '3',\n",
       "  'patent_id': 'US08546376B2',\n",
       "  'rxn_smiles_mapping_name': 'Br[c:1]1[cH:2][cH:3][c:4]([C:5]2([NH:6][C:7]([O:8][C:9]([CH3:10])([CH3:11])[CH3:12])=[O:13])[CH2:14][CH2:15][CH2:16]2)[cH:17][cH:18]1.C1COCCO1.CC(C)(C)P(C(C)(C)C)C(C)(C)C.CC(C)(C)P(C(C)(C)C)C(C)(C)C.CC(C)NC(C)C.I[Cu]I.[CH:19]#[C:20][c:21]1[cH:22][cH:23][cH:24][cH:25][cH:26]1.[Pd]>>[c:1]1([C:19]#[C:20][c:21]2[cH:22][cH:23][cH:24][cH:25][cH:26]2)[cH:2][cH:3][c:4]([C:5]2([NH:6][C:7]([O:8][C:9]([CH3:10])([CH3:11])[CH3:12])=[O:13])[CH2:14][CH2:15][CH2:16]2)[cH:17][cH:18]1',\n",
       "  'standardized_rxn': 'Br[c:1]1[cH:2][cH:3][c:4]([C:5]2([NH:6][C:7]([O:8][C:9]([CH3:10])([CH3:11])[CH3:12])=[O:13])[CH2:14][CH2:15][CH2:16]2)[cH:17][cH:18]1.[CH:19]#[C:20][c:21]1[cH:22][cH:23][cH:24][cH:25][cH:26]1>>[c:1]1([C:19]#[C:20][c:21]2[cH:22][cH:23][cH:24][cH:25][cH:26]2)[cH:2][cH:3][c:4]([C:5]2([NH:6][C:7]([O:8][C:9]([CH3:10])([CH3:11])[CH3:12])=[O:13])[CH2:14][CH2:15][CH2:16]2)[cH:17][cH:18]1',\n",
       "  'reactant_fingerprint': <rdkit.DataStructs.cDataStructs.UIntSparseIntVect at 0x7b99a39e47c0>,\n",
       "  'product_fingerprint': <rdkit.DataStructs.cDataStructs.UIntSparseIntVect at 0x7b99a39e4810>,\n",
       "  'reactant_smiles': 'Br[c:1]1[cH:2][cH:3][c:4]([C:5]2([NH:6][C:7]([O:8][C:9]([CH3:10])([CH3:11])[CH3:12])=[O:13])[CH2:14][CH2:15][CH2:16]2)[cH:17][cH:18]1.[CH:19]#[C:20][c:21]1[cH:22][cH:23][cH:24][cH:25][cH:26]1',\n",
       "  'product_smiles': '[c:1]1([C:19]#[C:20][c:21]2[cH:22][cH:23][cH:24][cH:25][cH:26]2)[cH:2][cH:3][c:4]([C:5]2([NH:6][C:7]([O:8][C:9]([CH3:10])([CH3:11])[CH3:12])=[O:13])[CH2:14][CH2:15][CH2:16]2)[cH:17][cH:18]1',\n",
       "  'template_data': {'products': '[C:4]#[C;H0;D2;+0:5]-[c;H0;D3;+0:1](:[c:2]):[c:3]',\n",
       "   'reactants': 'Br-[c;H0;D3;+0:1](:[c:2]):[c:3].[C:4]#[CH;D1;+0:5]',\n",
       "   'reaction_smarts': '[C:4]#[C;H0;D2;+0:5]-[c;H0;D3;+0:1](:[c:2]):[c:3]>>Br-[c;H0;D3;+0:1](:[c:2]):[c:3].[C:4]#[CH;D1;+0:5]',\n",
       "   'intra_only': False,\n",
       "   'dimer_only': False,\n",
       "   'reaction_id': 11746,\n",
       "   'necessary_reagent': ''},\n",
       "  'canonical_template': '[c:2]:[c;D3;H0;+0:1](:[c:3])-[C;H0;D2;+0:5]#[C:4]>>[Br]-[c;D3;H0;+0:1](:[c:2]):[c:3].[C:4]#[C;D1;H1;+0:5]'})"
      ]
     },
     "execution_count": 41,
     "metadata": {},
     "output_type": "execute_result"
    }
   ],
   "source": [
    "list(training_data.items())[0]"
   ]
  },
  {
   "cell_type": "code",
   "execution_count": 42,
   "metadata": {},
   "outputs": [
    {
     "data": {
      "text/plain": [
       "(35118,\n",
       " {'rxn_class': '1',\n",
       "  'patent_id': 'US07666866B2',\n",
       "  'rxn_smiles_mapping_name': 'CN(C)C=O.I[CH2:1][CH3:2].O=C([O-])[O-].[CH3:3][O:4][C:5](=[O:6])[c:7]1[cH:8][cH:9][c:10]([OH:11])[cH:12][c:13]1[OH:14].[K+].[K+]>>[CH2:1]([CH3:2])[O:11][c:10]1[cH:9][cH:8][c:7]([C:5]([O:4][CH3:3])=[O:6])[c:13]([OH:14])[cH:12]1',\n",
       "  'standardized_rxn': 'I[CH2:1][CH3:2].[CH3:3][O:4][C:5](=[O:6])[c:7]1[cH:8][cH:9][c:10]([OH:11])[cH:12][c:13]1[OH:14]>>[CH2:1]([CH3:2])[O:11][c:10]1[cH:9][cH:8][c:7]([C:5]([O:4][CH3:3])=[O:6])[c:13]([OH:14])[cH:12]1',\n",
       "  'reactant_fingerprint': <rdkit.DataStructs.cDataStructs.UIntSparseIntVect at 0x7b99a1c1c770>,\n",
       "  'product_fingerprint': <rdkit.DataStructs.cDataStructs.UIntSparseIntVect at 0x7b99a1c1c720>,\n",
       "  'reactant_smiles': 'I[CH2:1][CH3:2].[CH3:3][O:4][C:5](=[O:6])[c:7]1[cH:8][cH:9][c:10]([OH:11])[cH:12][c:13]1[OH:14]',\n",
       "  'product_smiles': '[CH2:1]([CH3:2])[O:11][c:10]1[cH:9][cH:8][c:7]([C:5]([O:4][CH3:3])=[O:6])[c:13]([OH:14])[cH:12]1'})"
      ]
     },
     "execution_count": 42,
     "metadata": {},
     "output_type": "execute_result"
    }
   ],
   "source": [
    "list(testing_data.items())[0]"
   ]
  },
  {
   "cell_type": "code",
   "execution_count": 43,
   "metadata": {},
   "outputs": [],
   "source": [
    "# Get the distribution of rxn classes (see above for definitions)\n",
    "def class_distribution(data):\n",
    "    \"\"\"\n",
    "    Class measurements\n",
    "    Loops through the data and prints out the class measurements via the rxn_class\n",
    "    \"\"\"\n",
    "    classes = [0]*10\n",
    "\n",
    "    for key, point in data.items():\n",
    "        classes[int(point[\"rxn_class\"])-1] += 1\n",
    "    \n",
    "    for class_, amount in enumerate(classes):\n",
    "        print(class_+1, amount, f\"{(amount/sum(classes)*100):.1f}%\")\n"
   ]
  },
  {
   "cell_type": "code",
   "execution_count": 44,
   "metadata": {},
   "outputs": [
    {
     "name": "stdout",
     "output_type": "stream",
     "text": [
      "1 11856 30.7%\n",
      "2 9428 24.4%\n",
      "3 4460 11.6%\n",
      "4 705 1.8%\n",
      "5 547 1.4%\n",
      "6 5729 14.8%\n",
      "7 3584 9.3%\n",
      "8 648 1.7%\n",
      "9 1453 3.8%\n",
      "10 189 0.5%\n"
     ]
    }
   ],
   "source": [
    "class_distribution(training_data)"
   ]
  },
  {
   "cell_type": "code",
   "execution_count": 45,
   "metadata": {},
   "outputs": [
    {
     "name": "stdout",
     "output_type": "stream",
     "text": [
      "1 2912 30.2%\n",
      "2 2274 23.6%\n",
      "3 1153 11.9%\n",
      "4 186 1.9%\n",
      "5 124 1.3%\n",
      "6 1539 15.9%\n",
      "7 905 9.4%\n",
      "8 168 1.7%\n",
      "9 347 3.6%\n",
      "10 42 0.4%\n"
     ]
    }
   ],
   "source": [
    "class_distribution(testing_data)"
   ]
  },
  {
   "cell_type": "markdown",
   "metadata": {},
   "source": [
    "## 4. Run Retrosynthesis Prediction Based on Similarity\n",
    "\n",
    "**Model Workflow**\n",
    "\n",
    "1. Get the target compound fingerprint (e.g., from the Test set)\n",
    "2. Now, iterate through the training set product fingerprints, and compute the tanimoto similiary score of the products (S_prod)\n",
    "3. Take the 100 most similar results (closer to 1.0)\n",
    "4. Next, iterate through the reaction templates of the 100 most similar results and apply this reaction template to the target compound\n",
    "        - some templates will produce candidate reactants, some will not produce any candidate reactants\n",
    "5. Now for each candidate reactant set generated, compute the fingerprint and compare tanimoto similairy to the 100 original reaction reactant fingerprints (S_reac)\n",
    "6. Compute an overall similarity of the predicted rxn, S_overall = S_prod x S_reac\n",
    "7. Now, order the predicted reactions based on overall similarity (highest number == rank 1)\n",
    "8. Remove any duplicate reaction predictions by comparing reactant canonical SMILES"
   ]
  },
  {
   "cell_type": "code",
   "execution_count": 46,
   "metadata": {},
   "outputs": [],
   "source": [
    "# RDchiral version\n",
    "\n",
    "# input is the test data (target)\n",
    "def reaction_prediction(item):\n",
    "\n",
    "    # 1. Get the target compound and fingerprint (from the test set)\n",
    "    key, value = item\n",
    "    target_product_fingerpint = value[\"product_fingerprint\"]\n",
    "    target_product = rdchiralReactants(value[\"product_smiles\"])\n",
    "\n",
    "    # 2. Iterate through the training set product fingerprints, and compute the tanimoto similarity score between target and products (S_prod)\n",
    "    # Calculate similarities from training data\n",
    "    training_data_similarities = {}\n",
    "    for key2, value2 in training_data.items():\n",
    "        training_product_fingerprint = value2[\"product_fingerprint\"]\n",
    "        similarity = AllChem.DataStructs.TanimotoSimilarity(target_product_fingerpint, training_product_fingerprint)\n",
    "        training_data_similarities[key2] = similarity\n",
    "    \n",
    "    # 3. Take the 100 most similar results (closer to 1.0)\n",
    "    # Sort by similarity\n",
    "    training_data_similarities = sorted(training_data_similarities.items(), key=lambda x: x[1], reverse=True)\n",
    "\n",
    "    # Grab top 100\n",
    "    top_training_data_similarities = training_data_similarities[:100]\n",
    "\n",
    "    # Grab associated training_data (e.g., reactions, templates, etc.) using the keys\n",
    "    training_data_similaritiy_data = {\n",
    "        key2: {\n",
    "            \"tanimoto_similarity\": similarity,\n",
    "            **training_data[key2], # could also index into reaction_computations instead\n",
    "        }\n",
    "        for key2, similarity in top_training_data_similarities\n",
    "    }\n",
    "\n",
    "\n",
    "    # 4. Next, iterate through the reaction templates of the 100 most similar results and apply this reaction template to the target compound\n",
    "    # some templates will produce candidate reactants, some will not produce any candidate reactants\n",
    "\n",
    "    prediction_lists = {}\n",
    "    failed_and_duplicates = {}\n",
    "\n",
    "    # Compare to templates\n",
    "    for key2, training_data_item in training_data_similaritiy_data.items():\n",
    "        rxn_template = rdchiralReaction(training_data_item[\"canonical_template\"])\n",
    "        precedent_reactant_fingerprint = training_data_item[\"reactant_fingerprint\"]\n",
    "\n",
    "        # 5. Now for each candidate reactant set generated/predicted, compute the fingerprint \n",
    "        # and compare tanimoto similarity to the 100 original reaction reactant fingerprints (S_reac)\n",
    "        # For each template applied, if it produces multiple candidate sets, we grab the most similar one\n",
    "        try:\n",
    "            candidates = rdchiralRun(rxn_template, target_product, combine_enantiomers=False)\n",
    "        except:\n",
    "            failed_and_duplicates[key2] = {\n",
    "                \"template_applied\": training_data_item[\"canonical_template\"], #added here, but can also index the key later\n",
    "                \"predicted_candidate_smiles\": \"failed candidate sanitization\",\n",
    "                \"reactant_smiles\": \"\",\n",
    "                \"product_smiles\": \"\",\n",
    "                \"predicted_reaction_smiles\": \"\",\n",
    "                \"overall_similarity\": 0.0,\n",
    "                \"candidate_similarity\": 0.0,\n",
    "                \"product_similarity\": 0.0,\n",
    "                \"rxn_class\": value[\"rxn_class\"],\n",
    "                \"failed_rxn\": True,\n",
    "                \"duplicate_rxn\": False\n",
    "            }\n",
    "            continue\n",
    "\n",
    "        best_candidate_similarity = 0.0\n",
    "        best_candidate_smiles = None\n",
    "        \n",
    "        for candidate in candidates:\n",
    "            candidate_mol = Chem.MolFromSmiles(candidate)\n",
    "            try:\n",
    "                Chem.SanitizeMol(candidate_mol)\n",
    "            except:\n",
    "                continue\n",
    "            candidate_fingerprint = AllChem.GetMorganFingerprint(candidate_mol, radius=2, useFeatures=True)\n",
    "            candidate_similarity = AllChem.DataStructs.TanimotoSimilarity(candidate_fingerprint, precedent_reactant_fingerprint)\n",
    "            if candidate_similarity > best_candidate_similarity:\n",
    "                best_candidate_similarity = candidate_similarity\n",
    "                best_candidate_smiles = candidate\n",
    "\n",
    "        if best_candidate_smiles is None:\n",
    "            failed_and_duplicates[key2] = {\n",
    "                \"template_applied\": training_data_item[\"canonical_template\"],\n",
    "                \"predicted_candidate_smiles\": \"failed candidate sanitization\",\n",
    "                \"reactant_smiles\": \"\",\n",
    "                \"product_smiles\": \"\",\n",
    "                \"predicted_reaction_smiles\": \"\",\n",
    "                \"overall_similarity\": 0.0,\n",
    "                \"candidate_similarity\": 0.0,\n",
    "                \"product_similarity\": 0.0,\n",
    "                \"rxn_class\": value[\"rxn_class\"],\n",
    "                \"failed_rxn\": True,\n",
    "                \"duplicate_rxn\": False\n",
    "            }\n",
    "            continue\n",
    "\n",
    "        # Reaction Smiles\n",
    "        predicted_reaction_smiles = best_candidate_smiles + \">>\" + remove_atom_mapping(value[\"product_smiles\"])\n",
    "    \n",
    "        # Canonicalize the predicted reaction\n",
    "        rxn = rdChemReactions.ReactionFromSmarts(predicted_reaction_smiles, useSmiles=True)\n",
    "        rdChemReactions.SanitizeRxn(rxn)\n",
    "        canonical_predicted_reaction_smiles = rdChemReactions.ReactionToSmiles(rxn)\n",
    "\n",
    "        # 6. Compute an overall similarity of the predicted rxn, S_overall = S_prod x S_reac\n",
    "        # Compare to original reactants\n",
    "\n",
    "        # best_candidate_similarity = S_reac, training_data_item[\"tanimoto_similarity\"] = S_prod\n",
    "        overall_similarity = best_candidate_similarity * training_data_item[\"tanimoto_similarity\"]\n",
    "    \n",
    "        prediction_lists[key2] = {\n",
    "            \"template_applied\": training_data_item[\"canonical_template\"],\n",
    "            \"predicted_candidate_smiles\": best_candidate_smiles,\n",
    "            \"ground_truth_reactant_smiles\": value[\"reactant_smiles\"],\n",
    "            \"ground_truth_product_smiles\": value[\"product_smiles\"],\n",
    "            \"predicted_reaction_smiles\": canonical_predicted_reaction_smiles,\n",
    "            \"overall_similarity\": overall_similarity,\n",
    "            \"candidate_similarity\": candidate_similarity,\n",
    "            \"product_similarity\": training_data_item[\"tanimoto_similarity\"],\n",
    "            \"rxn_class\": value[\"rxn_class\"],\n",
    "            \"failed_rxn\": False,\n",
    "            \"duplicate_rxn\": False\n",
    "        }\n",
    "    \n",
    "    # 7. Now, order the predicted reactions based on overall similarity (highest number == rank 1)\n",
    "    # sort by overall similarity\n",
    "    prediction_lists = dict(sorted(prediction_lists.items(), key=lambda x: x[1][\"overall_similarity\"], reverse=True))\n",
    "\n",
    "    # 8. Remove any duplicate reaction predictions by comparing reactant canonical SMILES\n",
    "    # If duplicate predicted_candidate_smiles, mark as duplicate reaction by moving to failed_and_duplicates\n",
    "    seen = set()\n",
    "    for sub_key, sub_value in prediction_lists.items():\n",
    "        if sub_value[\"predicted_candidate_smiles\"] in seen:\n",
    "            sub_value[\"duplicate_rxn\"] = True  # Set duplicate flag to True\n",
    "            failed_and_duplicates[sub_key] = sub_value\n",
    "            # remove from prediction list\n",
    "            prediction_lists[sub_key] = None\n",
    "        else:\n",
    "            seen.add(sub_value[\"predicted_candidate_smiles\"])\n",
    "\n",
    "    # Remove None values\n",
    "    prediction_lists = {k: v for k, v in prediction_lists.items() if v is not None}\n",
    "\n",
    "    if len(prediction_lists):\n",
    "        return key, prediction_lists, failed_and_duplicates\n",
    "    else:\n",
    "        return key, None, failed_and_duplicates"
   ]
  },
  {
   "cell_type": "code",
   "execution_count": 47,
   "metadata": {},
   "outputs": [
    {
     "data": {
      "text/plain": [
       "(35118,\n",
       " {'rxn_class': '1',\n",
       "  'patent_id': 'US07666866B2',\n",
       "  'rxn_smiles_mapping_name': 'CN(C)C=O.I[CH2:1][CH3:2].O=C([O-])[O-].[CH3:3][O:4][C:5](=[O:6])[c:7]1[cH:8][cH:9][c:10]([OH:11])[cH:12][c:13]1[OH:14].[K+].[K+]>>[CH2:1]([CH3:2])[O:11][c:10]1[cH:9][cH:8][c:7]([C:5]([O:4][CH3:3])=[O:6])[c:13]([OH:14])[cH:12]1',\n",
       "  'standardized_rxn': 'I[CH2:1][CH3:2].[CH3:3][O:4][C:5](=[O:6])[c:7]1[cH:8][cH:9][c:10]([OH:11])[cH:12][c:13]1[OH:14]>>[CH2:1]([CH3:2])[O:11][c:10]1[cH:9][cH:8][c:7]([C:5]([O:4][CH3:3])=[O:6])[c:13]([OH:14])[cH:12]1',\n",
       "  'reactant_fingerprint': <rdkit.DataStructs.cDataStructs.UIntSparseIntVect at 0x7b99a1c1c770>,\n",
       "  'product_fingerprint': <rdkit.DataStructs.cDataStructs.UIntSparseIntVect at 0x7b99a1c1c720>,\n",
       "  'reactant_smiles': 'I[CH2:1][CH3:2].[CH3:3][O:4][C:5](=[O:6])[c:7]1[cH:8][cH:9][c:10]([OH:11])[cH:12][c:13]1[OH:14]',\n",
       "  'product_smiles': '[CH2:1]([CH3:2])[O:11][c:10]1[cH:9][cH:8][c:7]([C:5]([O:4][CH3:3])=[O:6])[c:13]([OH:14])[cH:12]1'})"
      ]
     },
     "execution_count": 47,
     "metadata": {},
     "output_type": "execute_result"
    }
   ],
   "source": [
    "# Grab the first item\n",
    "item1 = list(testing_data.items())[0]\n",
    "item1"
   ]
  },
  {
   "cell_type": "code",
   "execution_count": 48,
   "metadata": {},
   "outputs": [],
   "source": [
    "# predict retrosynthesis from the product smiles in item1\n",
    "# There will be 100 templates applied\n",
    "predictions = reaction_prediction(item1)"
   ]
  },
  {
   "cell_type": "code",
   "execution_count": 49,
   "metadata": {},
   "outputs": [
    {
     "data": {
      "text/plain": [
       "{45480: {'template_applied': '[O;H0;D2;+0:3](-[c:4])-[C;H2;D2;+0:1]-[C:2]>>[O]-[C;H2;D2;+0:1]-[C:2].[O;D1;H1;+0:3]-[c:4]',\n",
       "  'predicted_candidate_smiles': 'CCO.COC(=O)c1ccc(O)cc1O',\n",
       "  'ground_truth_reactant_smiles': 'I[CH2:1][CH3:2].[CH3:3][O:4][C:5](=[O:6])[c:7]1[cH:8][cH:9][c:10]([OH:11])[cH:12][c:13]1[OH:14]',\n",
       "  'ground_truth_product_smiles': '[CH2:1]([CH3:2])[O:11][c:10]1[cH:9][cH:8][c:7]([C:5]([O:4][CH3:3])=[O:6])[c:13]([OH:14])[cH:12]1',\n",
       "  'predicted_reaction_smiles': 'CCO.COC(=O)c1ccc(O)cc1O>>CCOc1ccc(C(=O)OC)c(O)c1',\n",
       "  'overall_similarity': 0.5302457466918714,\n",
       "  'candidate_similarity': 0.7391304347826086,\n",
       "  'product_similarity': 0.717391304347826,\n",
       "  'rxn_class': '1',\n",
       "  'failed_rxn': False,\n",
       "  'duplicate_rxn': False},\n",
       " 22408: {'template_applied': '[O;D1;H1;+0:2]-[c:1]>>[O;H0;D2;+0:2](-[c:1])-[C]-[c]1(:[c]:[c]:[c]:[c]:[c]:1)',\n",
       "  'predicted_candidate_smiles': 'CCOc1ccc(C(=O)OC)c(OCc2ccccc2)c1',\n",
       "  'ground_truth_reactant_smiles': 'I[CH2:1][CH3:2].[CH3:3][O:4][C:5](=[O:6])[c:7]1[cH:8][cH:9][c:10]([OH:11])[cH:12][c:13]1[OH:14]',\n",
       "  'ground_truth_product_smiles': '[CH2:1]([CH3:2])[O:11][c:10]1[cH:9][cH:8][c:7]([C:5]([O:4][CH3:3])=[O:6])[c:13]([OH:14])[cH:12]1',\n",
       "  'predicted_reaction_smiles': 'CCOc1ccc(C(=O)OC)c(OCc2ccccc2)c1>>CCOc1ccc(C(=O)OC)c(O)c1',\n",
       "  'overall_similarity': 0.447887323943662,\n",
       "  'candidate_similarity': 0.7464788732394366,\n",
       "  'product_similarity': 0.6,\n",
       "  'rxn_class': '1',\n",
       "  'failed_rxn': False,\n",
       "  'duplicate_rxn': False},\n",
       " 41540: {'template_applied': '[O;H0;D2;+0:3](-[c:4])-[C;H2;D2;+0:1]-[C:2]>>[Br]-[C;H2;D2;+0:1]-[C:2].[O;D1;H1;+0:3]-[c:4]',\n",
       "  'predicted_candidate_smiles': 'CCBr.COC(=O)c1ccc(O)cc1O',\n",
       "  'ground_truth_reactant_smiles': 'I[CH2:1][CH3:2].[CH3:3][O:4][C:5](=[O:6])[c:7]1[cH:8][cH:9][c:10]([OH:11])[cH:12][c:13]1[OH:14]',\n",
       "  'ground_truth_product_smiles': '[CH2:1]([CH3:2])[O:11][c:10]1[cH:9][cH:8][c:7]([C:5]([O:4][CH3:3])=[O:6])[c:13]([OH:14])[cH:12]1',\n",
       "  'predicted_reaction_smiles': 'CCBr.COC(=O)c1ccc(O)cc1O>>CCOc1ccc(C(=O)OC)c(O)c1',\n",
       "  'overall_similarity': 0.4301572617946346,\n",
       "  'candidate_similarity': 0.6739130434782609,\n",
       "  'product_similarity': 0.6382978723404256,\n",
       "  'rxn_class': '1',\n",
       "  'failed_rxn': False,\n",
       "  'duplicate_rxn': False},\n",
       " 10964: {'template_applied': '[O;H0;D2;+0:3](-[c:4])-[C;H2;D2;+0:1]-[C;H3;D1:2]>>[I]-[C;H2;D2;+0:1]-[C;H3;D1:2].[O;D1;H1;+0:3]-[c:4]',\n",
       "  'predicted_candidate_smiles': 'CCI.COC(=O)c1ccc(O)cc1O',\n",
       "  'ground_truth_reactant_smiles': 'I[CH2:1][CH3:2].[CH3:3][O:4][C:5](=[O:6])[c:7]1[cH:8][cH:9][c:10]([OH:11])[cH:12][c:13]1[OH:14]',\n",
       "  'ground_truth_product_smiles': '[CH2:1]([CH3:2])[O:11][c:10]1[cH:9][cH:8][c:7]([C:5]([O:4][CH3:3])=[O:6])[c:13]([OH:14])[cH:12]1',\n",
       "  'predicted_reaction_smiles': 'CCI.COC(=O)c1ccc(O)cc1O>>CCOc1ccc(C(=O)OC)c(O)c1',\n",
       "  'overall_similarity': 0.4171006944444445,\n",
       "  'candidate_similarity': 0.6458333333333334,\n",
       "  'product_similarity': 0.6458333333333334,\n",
       "  'rxn_class': '1',\n",
       "  'failed_rxn': False,\n",
       "  'duplicate_rxn': False},\n",
       " 27648: {'template_applied': '[O;D1;H1;+0:1]-[c:2]>>[O]=[C](-[O;H0;D2;+0:1]-[c:2])-[C]',\n",
       "  'predicted_candidate_smiles': 'CCOc1ccc(C(=O)OC)c(OC(C)=O)c1',\n",
       "  'ground_truth_reactant_smiles': 'I[CH2:1][CH3:2].[CH3:3][O:4][C:5](=[O:6])[c:7]1[cH:8][cH:9][c:10]([OH:11])[cH:12][c:13]1[OH:14]',\n",
       "  'ground_truth_product_smiles': '[CH2:1]([CH3:2])[O:11][c:10]1[cH:9][cH:8][c:7]([C:5]([O:4][CH3:3])=[O:6])[c:13]([OH:14])[cH:12]1',\n",
       "  'predicted_reaction_smiles': 'CCOc1ccc(C(=O)OC)c(OC(C)=O)c1>>CCOc1ccc(C(=O)OC)c(O)c1',\n",
       "  'overall_similarity': 0.4104938271604939,\n",
       "  'candidate_similarity': 0.7037037037037037,\n",
       "  'product_similarity': 0.5833333333333334,\n",
       "  'rxn_class': '1',\n",
       "  'failed_rxn': False,\n",
       "  'duplicate_rxn': False},\n",
       " 29169: {'template_applied': '[O;D1;H0:2]=[C:3]-[O;H0;D2;+0:4]-[C;H3;D1;+0:1]>>[O]-[C;H3;D1;+0:1].[O;D1;H1;+0:4]-[C:3]=[O;D1;H0:2]',\n",
       "  'predicted_candidate_smiles': 'CCOc1ccc(C(=O)O)c(O)c1.CO',\n",
       "  'ground_truth_reactant_smiles': 'I[CH2:1][CH3:2].[CH3:3][O:4][C:5](=[O:6])[c:7]1[cH:8][cH:9][c:10]([OH:11])[cH:12][c:13]1[OH:14]',\n",
       "  'ground_truth_product_smiles': '[CH2:1]([CH3:2])[O:11][c:10]1[cH:9][cH:8][c:7]([C:5]([O:4][CH3:3])=[O:6])[c:13]([OH:14])[cH:12]1',\n",
       "  'predicted_reaction_smiles': 'CCOc1ccc(C(=O)O)c(O)c1.CO>>CCOc1ccc(C(=O)OC)c(O)c1',\n",
       "  'overall_similarity': 0.35491172476233585,\n",
       "  'candidate_similarity': 0.5957446808510638,\n",
       "  'product_similarity': 0.5957446808510638,\n",
       "  'rxn_class': '1',\n",
       "  'failed_rxn': False,\n",
       "  'duplicate_rxn': False},\n",
       " 27266: {'template_applied': '[O;H0;D2;+0:3](-[c:4])-[C;H2;D2;+0:1]-[C:2]>>[Cl]-[C;H2;D2;+0:1]-[C:2].[O;D1;H1;+0:3]-[c:4]',\n",
       "  'predicted_candidate_smiles': 'CCCl.COC(=O)c1ccc(O)cc1O',\n",
       "  'ground_truth_reactant_smiles': 'I[CH2:1][CH3:2].[CH3:3][O:4][C:5](=[O:6])[c:7]1[cH:8][cH:9][c:10]([OH:11])[cH:12][c:13]1[OH:14]',\n",
       "  'ground_truth_product_smiles': '[CH2:1]([CH3:2])[O:11][c:10]1[cH:9][cH:8][c:7]([C:5]([O:4][CH3:3])=[O:6])[c:13]([OH:14])[cH:12]1',\n",
       "  'predicted_reaction_smiles': 'CCCl.COC(=O)c1ccc(O)cc1O>>CCOc1ccc(C(=O)OC)c(O)c1',\n",
       "  'overall_similarity': 0.3439349112426035,\n",
       "  'candidate_similarity': 0.5961538461538461,\n",
       "  'product_similarity': 0.5769230769230769,\n",
       "  'rxn_class': '1',\n",
       "  'failed_rxn': False,\n",
       "  'duplicate_rxn': False},\n",
       " 5684: {'template_applied': '[O;D1;H1;+0:2]-[c:1]>>[O]1(-[C](-[O;H0;D2;+0:2]-[c:1])-[C]-[C]-[C]-[C]-1)',\n",
       "  'predicted_candidate_smiles': 'CCOc1ccc(C(=O)OC)c(OC2CCCCO2)c1',\n",
       "  'ground_truth_reactant_smiles': 'I[CH2:1][CH3:2].[CH3:3][O:4][C:5](=[O:6])[c:7]1[cH:8][cH:9][c:10]([OH:11])[cH:12][c:13]1[OH:14]',\n",
       "  'ground_truth_product_smiles': '[CH2:1]([CH3:2])[O:11][c:10]1[cH:9][cH:8][c:7]([C:5]([O:4][CH3:3])=[O:6])[c:13]([OH:14])[cH:12]1',\n",
       "  'predicted_reaction_smiles': 'CCOc1ccc(C(=O)OC)c(OC2CCCCO2)c1>>CCOc1ccc(C(=O)OC)c(O)c1',\n",
       "  'overall_similarity': 0.33239766081871347,\n",
       "  'candidate_similarity': 0.6533333333333333,\n",
       "  'product_similarity': 0.5087719298245614,\n",
       "  'rxn_class': '1',\n",
       "  'failed_rxn': False,\n",
       "  'duplicate_rxn': False},\n",
       " 8495: {'template_applied': '[O;D1;H1;+0:1]-[c:2]>>[O](-[C]-[O;H0;D2;+0:1]-[c:2])-[C]',\n",
       "  'predicted_candidate_smiles': 'CCOc1ccc(C(=O)OC)c(OCOC)c1',\n",
       "  'ground_truth_reactant_smiles': 'I[CH2:1][CH3:2].[CH3:3][O:4][C:5](=[O:6])[c:7]1[cH:8][cH:9][c:10]([OH:11])[cH:12][c:13]1[OH:14]',\n",
       "  'ground_truth_product_smiles': '[CH2:1]([CH3:2])[O:11][c:10]1[cH:9][cH:8][c:7]([C:5]([O:4][CH3:3])=[O:6])[c:13]([OH:14])[cH:12]1',\n",
       "  'predicted_reaction_smiles': 'CCOc1ccc(C(=O)OC)c(OCOC)c1>>CCOc1ccc(C(=O)OC)c(O)c1',\n",
       "  'overall_similarity': 0.2894736842105263,\n",
       "  'candidate_similarity': 0.5789473684210527,\n",
       "  'product_similarity': 0.5,\n",
       "  'rxn_class': '1',\n",
       "  'failed_rxn': False,\n",
       "  'duplicate_rxn': False},\n",
       " 32403: {'template_applied': '[O;D1;H1;+0:1]-[c:2]>>[O;H0;D2;+0:1](-[c:2])-[C]',\n",
       "  'predicted_candidate_smiles': 'CCOc1ccc(C(=O)OC)c(OC)c1',\n",
       "  'ground_truth_reactant_smiles': 'I[CH2:1][CH3:2].[CH3:3][O:4][C:5](=[O:6])[c:7]1[cH:8][cH:9][c:10]([OH:11])[cH:12][c:13]1[OH:14]',\n",
       "  'ground_truth_product_smiles': '[CH2:1]([CH3:2])[O:11][c:10]1[cH:9][cH:8][c:7]([C:5]([O:4][CH3:3])=[O:6])[c:13]([OH:14])[cH:12]1',\n",
       "  'predicted_reaction_smiles': 'CCOc1ccc(C(=O)OC)c(OC)c1>>CCOc1ccc(C(=O)OC)c(O)c1',\n",
       "  'overall_similarity': 0.28452830188679246,\n",
       "  'candidate_similarity': 0.5471698113207547,\n",
       "  'product_similarity': 0.52,\n",
       "  'rxn_class': '1',\n",
       "  'failed_rxn': False,\n",
       "  'duplicate_rxn': False},\n",
       " 27091: {'template_applied': '[O;D1;H0:6]=[C:4](-[#8:5])-[c:3]:[c;H1;D2;+0:1]:[c:2]>>[Br]-[c;D3;H0;+0:1](:[c:2]):[c:3]-[C:4](=[O;D1;H0:6])-[#8:5]',\n",
       "  'predicted_candidate_smiles': 'CCOc1cc(O)c(C(=O)OC)c(Br)c1',\n",
       "  'ground_truth_reactant_smiles': 'I[CH2:1][CH3:2].[CH3:3][O:4][C:5](=[O:6])[c:7]1[cH:8][cH:9][c:10]([OH:11])[cH:12][c:13]1[OH:14]',\n",
       "  'ground_truth_product_smiles': '[CH2:1]([CH3:2])[O:11][c:10]1[cH:9][cH:8][c:7]([C:5]([O:4][CH3:3])=[O:6])[c:13]([OH:14])[cH:12]1',\n",
       "  'predicted_reaction_smiles': 'CCOc1cc(O)c(C(=O)OC)c(Br)c1>>CCOc1ccc(C(=O)OC)c(O)c1',\n",
       "  'overall_similarity': 0.2686106346483705,\n",
       "  'candidate_similarity': 0.5272727272727272,\n",
       "  'product_similarity': 0.5094339622641509,\n",
       "  'rxn_class': '1',\n",
       "  'failed_rxn': False,\n",
       "  'duplicate_rxn': False}}"
      ]
     },
     "execution_count": 49,
     "metadata": {},
     "output_type": "execute_result"
    }
   ],
   "source": [
    "# The succesful and unique predictions are at the 1st position\n",
    "predictions[1]"
   ]
  },
  {
   "cell_type": "code",
   "execution_count": 50,
   "metadata": {},
   "outputs": [],
   "source": [
    "# failed and duplicate predictions are at position 2\n",
    "# predictions[2]"
   ]
  },
  {
   "cell_type": "code",
   "execution_count": 51,
   "metadata": {},
   "outputs": [
    {
     "name": "stdout",
     "output_type": "stream",
     "text": [
      "11\n",
      "89\n"
     ]
    }
   ],
   "source": [
    "print(len(predictions[1]))\n",
    "print(len(predictions[2]))"
   ]
  },
  {
   "cell_type": "code",
   "execution_count": 52,
   "metadata": {},
   "outputs": [
    {
     "name": "stdout",
     "output_type": "stream",
     "text": [
      "Sequence 0\n",
      "Similarity Scores: Overall: 0.5302457466918714,Candidate Reactants: 0.7391304347826086, Product: 0.717391304347826\n",
      "Reaction Class: 1\n",
      "Predicted Reaction: CCO.COC(=O)c1ccc(O)cc1O>>CCOc1ccc(C(=O)OC)c(O)c1\n",
      "Template Applied: [O;H0;D2;+0:3](-[c:4])-[C;H2;D2;+0:1]-[C:2]>>[O]-[C;H2;D2;+0:1]-[C:2].[O;D1;H1;+0:3]-[c:4]\n",
      "Patent ID: US20100041892A1\n",
      "\u001b[91mGround Truth Does Not Equal Prediction\u001b[0m\n"
     ]
    },
    {
     "data": {
      "image/svg+xml": [
       "<svg xmlns=\"http://www.w3.org/2000/svg\" xmlns:rdkit=\"http://www.rdkit.org/xml\" xmlns:xlink=\"http://www.w3.org/1999/xlink\" version=\"1.1\" baseProfile=\"full\" xml:space=\"preserve\" width=\"900px\" height=\"300px\" viewBox=\"0 0 900 300\">\n",
       "<!-- END OF HEADER -->\n",
       "<rect style=\"opacity:1.0;fill:#FFFFFF;stroke:none\" width=\"900.0\" height=\"300.0\" x=\"0.0\" y=\"0.0\"> </rect>\n",
       "<path class=\"bond-0 atom-0 atom-1\" d=\"M 114.2,156.5 L 146.2,138.0\" style=\"fill:none;fill-rule:evenodd;stroke:#000000;stroke-width:2.0px;stroke-linecap:butt;stroke-linejoin:miter;stroke-opacity:1\"/>\n",
       "<path class=\"bond-1 atom-1 atom-2\" d=\"M 146.2,138.0 L 159.2,145.5\" style=\"fill:none;fill-rule:evenodd;stroke:#000000;stroke-width:2.0px;stroke-linecap:butt;stroke-linejoin:miter;stroke-opacity:1\"/>\n",
       "<path class=\"bond-1 atom-1 atom-2\" d=\"M 159.2,145.5 L 172.1,153.0\" style=\"fill:none;fill-rule:evenodd;stroke:#FF0000;stroke-width:2.0px;stroke-linecap:butt;stroke-linejoin:miter;stroke-opacity:1\"/>\n",
       "<path d=\"M 144.6,139.0 L 146.2,138.0 L 146.8,138.4\" style=\"fill:none;stroke:#000000;stroke-width:2.0px;stroke-linecap:butt;stroke-linejoin:miter;stroke-opacity:1;\"/>\n",
       "<path class=\"atom-2\" d=\"M 173.4 156.5 Q 173.4 154.0, 174.6 152.6 Q 175.8 151.2, 178.2 151.2 Q 180.5 151.2, 181.7 152.6 Q 183.0 154.0, 183.0 156.5 Q 183.0 159.1, 181.7 160.5 Q 180.5 162.0, 178.2 162.0 Q 175.9 162.0, 174.6 160.5 Q 173.4 159.1, 173.4 156.5 M 178.2 160.8 Q 179.8 160.8, 180.6 159.7 Q 181.5 158.6, 181.5 156.5 Q 181.5 154.5, 180.6 153.4 Q 179.8 152.4, 178.2 152.4 Q 176.6 152.4, 175.7 153.4 Q 174.8 154.5, 174.8 156.5 Q 174.8 158.6, 175.7 159.7 Q 176.6 160.8, 178.2 160.8 \" fill=\"#FF0000\"/>\n",
       "<path class=\"atom-2\" d=\"M 184.6 151.3 L 186.0 151.3 L 186.0 155.8 L 191.3 155.8 L 191.3 151.3 L 192.8 151.3 L 192.8 161.8 L 191.3 161.8 L 191.3 157.0 L 186.0 157.0 L 186.0 161.8 L 184.6 161.8 L 184.6 151.3 \" fill=\"#FF0000\"/>\n",
       "<path d=\"M 207.5,141.0 L 207.5,159.0\" style=\"fill:none;fill-rule:evenodd;stroke:#000000;stroke-width:2.0px;stroke-linecap:butt;stroke-linejoin:miter;stroke-opacity:1\"/>\n",
       "<path d=\"M 198.5,150.0 L 216.5,150.0\" style=\"fill:none;fill-rule:evenodd;stroke:#000000;stroke-width:2.0px;stroke-linecap:butt;stroke-linejoin:miter;stroke-opacity:1\"/>\n",
       "<path class=\"bond-2 atom-3 atom-4\" d=\"M 442.8,142.0 L 427.4,140.1\" style=\"fill:none;fill-rule:evenodd;stroke:#000000;stroke-width:2.0px;stroke-linecap:butt;stroke-linejoin:miter;stroke-opacity:1\"/>\n",
       "<path class=\"bond-2 atom-3 atom-4\" d=\"M 427.4,140.1 L 412.1,138.2\" style=\"fill:none;fill-rule:evenodd;stroke:#FF0000;stroke-width:2.0px;stroke-linecap:butt;stroke-linejoin:miter;stroke-opacity:1\"/>\n",
       "<path class=\"bond-3 atom-4 atom-5\" d=\"M 401.1,144.1 L 392.5,155.5\" style=\"fill:none;fill-rule:evenodd;stroke:#FF0000;stroke-width:2.0px;stroke-linecap:butt;stroke-linejoin:miter;stroke-opacity:1\"/>\n",
       "<path class=\"bond-3 atom-4 atom-5\" d=\"M 392.5,155.5 L 383.9,166.9\" style=\"fill:none;fill-rule:evenodd;stroke:#000000;stroke-width:2.0px;stroke-linecap:butt;stroke-linejoin:miter;stroke-opacity:1\"/>\n",
       "<path class=\"bond-4 atom-5 atom-6\" d=\"M 380.7,166.5 L 386.8,181.0\" style=\"fill:none;fill-rule:evenodd;stroke:#000000;stroke-width:2.0px;stroke-linecap:butt;stroke-linejoin:miter;stroke-opacity:1\"/>\n",
       "<path class=\"bond-4 atom-5 atom-6\" d=\"M 386.8,181.0 L 393.0,195.5\" style=\"fill:none;fill-rule:evenodd;stroke:#FF0000;stroke-width:2.0px;stroke-linecap:butt;stroke-linejoin:miter;stroke-opacity:1\"/>\n",
       "<path class=\"bond-4 atom-5 atom-6\" d=\"M 385.8,164.4 L 391.9,178.8\" style=\"fill:none;fill-rule:evenodd;stroke:#000000;stroke-width:2.0px;stroke-linecap:butt;stroke-linejoin:miter;stroke-opacity:1\"/>\n",
       "<path class=\"bond-4 atom-5 atom-6\" d=\"M 391.9,178.8 L 398.1,193.3\" style=\"fill:none;fill-rule:evenodd;stroke:#FF0000;stroke-width:2.0px;stroke-linecap:butt;stroke-linejoin:miter;stroke-opacity:1\"/>\n",
       "<path class=\"bond-5 atom-5 atom-7\" d=\"M 383.9,166.9 L 347.3,162.4\" style=\"fill:none;fill-rule:evenodd;stroke:#000000;stroke-width:2.0px;stroke-linecap:butt;stroke-linejoin:miter;stroke-opacity:1\"/>\n",
       "<path class=\"bond-6 atom-7 atom-8\" d=\"M 347.3,162.4 L 325.0,191.8\" style=\"fill:none;fill-rule:evenodd;stroke:#000000;stroke-width:2.0px;stroke-linecap:butt;stroke-linejoin:miter;stroke-opacity:1\"/>\n",
       "<path class=\"bond-6 atom-7 atom-8\" d=\"M 340.9,161.6 L 322.5,186.0\" style=\"fill:none;fill-rule:evenodd;stroke:#000000;stroke-width:2.0px;stroke-linecap:butt;stroke-linejoin:miter;stroke-opacity:1\"/>\n",
       "<path class=\"bond-7 atom-8 atom-9\" d=\"M 325.0,191.8 L 288.4,187.3\" style=\"fill:none;fill-rule:evenodd;stroke:#000000;stroke-width:2.0px;stroke-linecap:butt;stroke-linejoin:miter;stroke-opacity:1\"/>\n",
       "<path class=\"bond-8 atom-9 atom-10\" d=\"M 288.4,187.3 L 274.0,153.3\" style=\"fill:none;fill-rule:evenodd;stroke:#000000;stroke-width:2.0px;stroke-linecap:butt;stroke-linejoin:miter;stroke-opacity:1\"/>\n",
       "<path class=\"bond-8 atom-9 atom-10\" d=\"M 292.2,182.2 L 280.3,154.1\" style=\"fill:none;fill-rule:evenodd;stroke:#000000;stroke-width:2.0px;stroke-linecap:butt;stroke-linejoin:miter;stroke-opacity:1\"/>\n",
       "<path class=\"bond-9 atom-10 atom-11\" d=\"M 274.0,153.3 L 258.7,151.4\" style=\"fill:none;fill-rule:evenodd;stroke:#000000;stroke-width:2.0px;stroke-linecap:butt;stroke-linejoin:miter;stroke-opacity:1\"/>\n",
       "<path class=\"bond-9 atom-10 atom-11\" d=\"M 258.7,151.4 L 243.4,149.5\" style=\"fill:none;fill-rule:evenodd;stroke:#FF0000;stroke-width:2.0px;stroke-linecap:butt;stroke-linejoin:miter;stroke-opacity:1\"/>\n",
       "<path class=\"bond-10 atom-10 atom-12\" d=\"M 274.0,153.3 L 296.2,123.9\" style=\"fill:none;fill-rule:evenodd;stroke:#000000;stroke-width:2.0px;stroke-linecap:butt;stroke-linejoin:miter;stroke-opacity:1\"/>\n",
       "<path class=\"bond-11 atom-12 atom-13\" d=\"M 296.2,123.9 L 332.9,128.4\" style=\"fill:none;fill-rule:evenodd;stroke:#000000;stroke-width:2.0px;stroke-linecap:butt;stroke-linejoin:miter;stroke-opacity:1\"/>\n",
       "<path class=\"bond-11 atom-12 atom-13\" d=\"M 298.7,129.7 L 329.0,133.5\" style=\"fill:none;fill-rule:evenodd;stroke:#000000;stroke-width:2.0px;stroke-linecap:butt;stroke-linejoin:miter;stroke-opacity:1\"/>\n",
       "<path class=\"bond-12 atom-13 atom-14\" d=\"M 332.9,128.4 L 341.5,117.0\" style=\"fill:none;fill-rule:evenodd;stroke:#000000;stroke-width:2.0px;stroke-linecap:butt;stroke-linejoin:miter;stroke-opacity:1\"/>\n",
       "<path class=\"bond-12 atom-13 atom-14\" d=\"M 341.5,117.0 L 350.1,105.6\" style=\"fill:none;fill-rule:evenodd;stroke:#FF0000;stroke-width:2.0px;stroke-linecap:butt;stroke-linejoin:miter;stroke-opacity:1\"/>\n",
       "<path class=\"bond-13 atom-13 atom-7\" d=\"M 332.9,128.4 L 347.3,162.4\" style=\"fill:none;fill-rule:evenodd;stroke:#000000;stroke-width:2.0px;stroke-linecap:butt;stroke-linejoin:miter;stroke-opacity:1\"/>\n",
       "<path d=\"M 384.3,166.3 L 383.9,166.9 L 382.1,166.7\" style=\"fill:none;stroke:#000000;stroke-width:2.0px;stroke-linecap:butt;stroke-linejoin:miter;stroke-opacity:1;\"/>\n",
       "<path d=\"M 290.2,187.5 L 288.4,187.3 L 287.7,185.6\" style=\"fill:none;stroke:#000000;stroke-width:2.0px;stroke-linecap:butt;stroke-linejoin:miter;stroke-opacity:1;\"/>\n",
       "<path class=\"atom-1\" d=\"M 401.3 137.5 Q 401.3 135.0, 402.6 133.6 Q 403.8 132.2, 406.1 132.2 Q 408.4 132.2, 409.7 133.6 Q 410.9 135.0, 410.9 137.5 Q 410.9 140.0, 409.7 141.5 Q 408.4 142.9, 406.1 142.9 Q 403.8 142.9, 402.6 141.5 Q 401.3 140.0, 401.3 137.5 M 406.1 141.7 Q 407.7 141.7, 408.6 140.7 Q 409.4 139.6, 409.4 137.5 Q 409.4 135.4, 408.6 134.4 Q 407.7 133.4, 406.1 133.4 Q 404.5 133.4, 403.7 134.4 Q 402.8 135.4, 402.8 137.5 Q 402.8 139.6, 403.7 140.7 Q 404.5 141.7, 406.1 141.7 \" fill=\"#FF0000\"/>\n",
       "<path class=\"atom-3\" d=\"M 393.5 200.9 Q 393.5 198.4, 394.7 197.0 Q 396.0 195.6, 398.3 195.6 Q 400.6 195.6, 401.8 197.0 Q 403.1 198.4, 403.1 200.9 Q 403.1 203.5, 401.8 204.9 Q 400.6 206.3, 398.3 206.3 Q 396.0 206.3, 394.7 204.9 Q 393.5 203.5, 393.5 200.9 M 398.3 205.2 Q 399.9 205.2, 400.7 204.1 Q 401.6 203.0, 401.6 200.9 Q 401.6 198.9, 400.7 197.8 Q 399.9 196.8, 398.3 196.8 Q 396.7 196.8, 395.8 197.8 Q 395.0 198.9, 395.0 200.9 Q 395.0 203.0, 395.8 204.1 Q 396.7 205.2, 398.3 205.2 \" fill=\"#FF0000\"/>\n",
       "<path class=\"atom-8\" d=\"M 222.2 143.6 L 223.7 143.6 L 223.7 148.1 L 229.0 148.1 L 229.0 143.6 L 230.4 143.6 L 230.4 154.1 L 229.0 154.1 L 229.0 149.2 L 223.7 149.2 L 223.7 154.1 L 222.2 154.1 L 222.2 143.6 \" fill=\"#FF0000\"/>\n",
       "<path class=\"atom-8\" d=\"M 232.6 148.8 Q 232.6 146.3, 233.8 144.9 Q 235.0 143.5, 237.4 143.5 Q 239.7 143.5, 240.9 144.9 Q 242.2 146.3, 242.2 148.8 Q 242.2 151.4, 240.9 152.8 Q 239.7 154.2, 237.4 154.2 Q 235.1 154.2, 233.8 152.8 Q 232.6 151.4, 232.6 148.8 M 237.4 153.1 Q 239.0 153.1, 239.8 152.0 Q 240.7 150.9, 240.7 148.8 Q 240.7 146.8, 239.8 145.7 Q 239.0 144.7, 237.4 144.7 Q 235.8 144.7, 234.9 145.7 Q 234.0 146.7, 234.0 148.8 Q 234.0 150.9, 234.9 152.0 Q 235.8 153.1, 237.4 153.1 \" fill=\"#FF0000\"/>\n",
       "<path class=\"atom-11\" d=\"M 350.3 99.0 Q 350.3 96.5, 351.5 95.1 Q 352.8 93.7, 355.1 93.7 Q 357.4 93.7, 358.7 95.1 Q 359.9 96.5, 359.9 99.0 Q 359.9 101.5, 358.6 103.0 Q 357.4 104.4, 355.1 104.4 Q 352.8 104.4, 351.5 103.0 Q 350.3 101.5, 350.3 99.0 M 355.1 103.2 Q 356.7 103.2, 357.6 102.1 Q 358.4 101.1, 358.4 99.0 Q 358.4 96.9, 357.6 95.9 Q 356.7 94.8, 355.1 94.8 Q 353.5 94.8, 352.6 95.9 Q 351.8 96.9, 351.8 99.0 Q 351.8 101.1, 352.6 102.1 Q 353.5 103.2, 355.1 103.2 \" fill=\"#FF0000\"/>\n",
       "<path class=\"atom-11\" d=\"M 361.5 93.8 L 362.9 93.8 L 362.9 98.2 L 368.3 98.2 L 368.3 93.8 L 369.7 93.8 L 369.7 104.2 L 368.3 104.2 L 368.3 99.4 L 362.9 99.4 L 362.9 104.2 L 361.5 104.2 L 361.5 93.8 \" fill=\"#FF0000\"/>\n",
       "<path class=\"bond-14 atom-15 atom-16\" d=\"M 529.4,119.8 L 566.1,116.4\" style=\"fill:none;fill-rule:evenodd;stroke:#000000;stroke-width:2.0px;stroke-linecap:butt;stroke-linejoin:miter;stroke-opacity:1\"/>\n",
       "<path class=\"bond-15 atom-16 atom-17\" d=\"M 566.1,116.4 L 574.5,128.3\" style=\"fill:none;fill-rule:evenodd;stroke:#000000;stroke-width:2.0px;stroke-linecap:butt;stroke-linejoin:miter;stroke-opacity:1\"/>\n",
       "<path class=\"bond-15 atom-16 atom-17\" d=\"M 574.5,128.3 L 582.8,140.1\" style=\"fill:none;fill-rule:evenodd;stroke:#FF0000;stroke-width:2.0px;stroke-linecap:butt;stroke-linejoin:miter;stroke-opacity:1\"/>\n",
       "<path class=\"bond-16 atom-17 atom-18\" d=\"M 593.4,146.0 L 608.8,144.6\" style=\"fill:none;fill-rule:evenodd;stroke:#FF0000;stroke-width:2.0px;stroke-linecap:butt;stroke-linejoin:miter;stroke-opacity:1\"/>\n",
       "<path class=\"bond-16 atom-17 atom-18\" d=\"M 608.8,144.6 L 624.2,143.2\" style=\"fill:none;fill-rule:evenodd;stroke:#000000;stroke-width:2.0px;stroke-linecap:butt;stroke-linejoin:miter;stroke-opacity:1\"/>\n",
       "<path class=\"bond-17 atom-18 atom-19\" d=\"M 624.2,143.2 L 639.6,109.7\" style=\"fill:none;fill-rule:evenodd;stroke:#000000;stroke-width:2.0px;stroke-linecap:butt;stroke-linejoin:miter;stroke-opacity:1\"/>\n",
       "<path class=\"bond-17 atom-18 atom-19\" d=\"M 630.5,142.7 L 643.3,114.9\" style=\"fill:none;fill-rule:evenodd;stroke:#000000;stroke-width:2.0px;stroke-linecap:butt;stroke-linejoin:miter;stroke-opacity:1\"/>\n",
       "<path class=\"bond-18 atom-19 atom-20\" d=\"M 639.6,109.7 L 676.4,106.4\" style=\"fill:none;fill-rule:evenodd;stroke:#000000;stroke-width:2.0px;stroke-linecap:butt;stroke-linejoin:miter;stroke-opacity:1\"/>\n",
       "<path class=\"bond-19 atom-20 atom-21\" d=\"M 676.4,106.4 L 697.7,136.5\" style=\"fill:none;fill-rule:evenodd;stroke:#000000;stroke-width:2.0px;stroke-linecap:butt;stroke-linejoin:miter;stroke-opacity:1\"/>\n",
       "<path class=\"bond-19 atom-20 atom-21\" d=\"M 673.7,112.2 L 691.3,137.1\" style=\"fill:none;fill-rule:evenodd;stroke:#000000;stroke-width:2.0px;stroke-linecap:butt;stroke-linejoin:miter;stroke-opacity:1\"/>\n",
       "<path class=\"bond-20 atom-21 atom-22\" d=\"M 697.7,136.5 L 734.4,133.2\" style=\"fill:none;fill-rule:evenodd;stroke:#000000;stroke-width:2.0px;stroke-linecap:butt;stroke-linejoin:miter;stroke-opacity:1\"/>\n",
       "<path class=\"bond-21 atom-22 atom-23\" d=\"M 731.2,133.5 L 740.0,145.9\" style=\"fill:none;fill-rule:evenodd;stroke:#000000;stroke-width:2.0px;stroke-linecap:butt;stroke-linejoin:miter;stroke-opacity:1\"/>\n",
       "<path class=\"bond-21 atom-22 atom-23\" d=\"M 740.0,145.9 L 748.8,158.4\" style=\"fill:none;fill-rule:evenodd;stroke:#FF0000;stroke-width:2.0px;stroke-linecap:butt;stroke-linejoin:miter;stroke-opacity:1\"/>\n",
       "<path class=\"bond-21 atom-22 atom-23\" d=\"M 735.8,130.3 L 744.6,142.7\" style=\"fill:none;fill-rule:evenodd;stroke:#000000;stroke-width:2.0px;stroke-linecap:butt;stroke-linejoin:miter;stroke-opacity:1\"/>\n",
       "<path class=\"bond-21 atom-22 atom-23\" d=\"M 744.6,142.7 L 753.4,155.2\" style=\"fill:none;fill-rule:evenodd;stroke:#FF0000;stroke-width:2.0px;stroke-linecap:butt;stroke-linejoin:miter;stroke-opacity:1\"/>\n",
       "<path class=\"bond-22 atom-22 atom-24\" d=\"M 734.4,133.2 L 740.6,119.7\" style=\"fill:none;fill-rule:evenodd;stroke:#000000;stroke-width:2.0px;stroke-linecap:butt;stroke-linejoin:miter;stroke-opacity:1\"/>\n",
       "<path class=\"bond-22 atom-22 atom-24\" d=\"M 740.6,119.7 L 746.8,106.3\" style=\"fill:none;fill-rule:evenodd;stroke:#FF0000;stroke-width:2.0px;stroke-linecap:butt;stroke-linejoin:miter;stroke-opacity:1\"/>\n",
       "<path class=\"bond-23 atom-24 atom-25\" d=\"M 755.9,99.1 L 771.3,97.7\" style=\"fill:none;fill-rule:evenodd;stroke:#FF0000;stroke-width:2.0px;stroke-linecap:butt;stroke-linejoin:miter;stroke-opacity:1\"/>\n",
       "<path class=\"bond-23 atom-24 atom-25\" d=\"M 771.3,97.7 L 786.6,96.3\" style=\"fill:none;fill-rule:evenodd;stroke:#000000;stroke-width:2.0px;stroke-linecap:butt;stroke-linejoin:miter;stroke-opacity:1\"/>\n",
       "<path class=\"bond-24 atom-21 atom-26\" d=\"M 697.7,136.5 L 682.2,170.0\" style=\"fill:none;fill-rule:evenodd;stroke:#000000;stroke-width:2.0px;stroke-linecap:butt;stroke-linejoin:miter;stroke-opacity:1\"/>\n",
       "<path class=\"bond-25 atom-26 atom-27\" d=\"M 682.2,170.0 L 690.5,181.9\" style=\"fill:none;fill-rule:evenodd;stroke:#000000;stroke-width:2.0px;stroke-linecap:butt;stroke-linejoin:miter;stroke-opacity:1\"/>\n",
       "<path class=\"bond-25 atom-26 atom-27\" d=\"M 690.5,181.9 L 698.9,193.7\" style=\"fill:none;fill-rule:evenodd;stroke:#FF0000;stroke-width:2.0px;stroke-linecap:butt;stroke-linejoin:miter;stroke-opacity:1\"/>\n",
       "<path class=\"bond-26 atom-26 atom-28\" d=\"M 682.2,170.0 L 645.4,173.4\" style=\"fill:none;fill-rule:evenodd;stroke:#000000;stroke-width:2.0px;stroke-linecap:butt;stroke-linejoin:miter;stroke-opacity:1\"/>\n",
       "<path class=\"bond-26 atom-26 atom-28\" d=\"M 678.5,164.8 L 648.1,167.6\" style=\"fill:none;fill-rule:evenodd;stroke:#000000;stroke-width:2.0px;stroke-linecap:butt;stroke-linejoin:miter;stroke-opacity:1\"/>\n",
       "<path class=\"bond-27 atom-28 atom-18\" d=\"M 645.4,173.4 L 624.2,143.2\" style=\"fill:none;fill-rule:evenodd;stroke:#000000;stroke-width:2.0px;stroke-linecap:butt;stroke-linejoin:miter;stroke-opacity:1\"/>\n",
       "<path class=\"atom-2\" d=\"M 582.6 146.6 Q 582.6 144.1, 583.8 142.7 Q 585.1 141.3, 587.4 141.3 Q 589.7 141.3, 591.0 142.7 Q 592.2 144.1, 592.2 146.6 Q 592.2 149.2, 590.9 150.6 Q 589.7 152.0, 587.4 152.0 Q 585.1 152.0, 583.8 150.6 Q 582.6 149.2, 582.6 146.6 M 587.4 150.9 Q 589.0 150.9, 589.8 149.8 Q 590.7 148.7, 590.7 146.6 Q 590.7 144.6, 589.8 143.5 Q 589.0 142.5, 587.4 142.5 Q 585.8 142.5, 584.9 143.5 Q 584.1 144.6, 584.1 146.6 Q 584.1 148.7, 584.9 149.8 Q 585.8 150.9, 587.4 150.9 \" fill=\"#FF0000\"/>\n",
       "<path class=\"atom-8\" d=\"M 750.9 163.3 Q 750.9 160.8, 752.1 159.4 Q 753.4 158.0, 755.7 158.0 Q 758.0 158.0, 759.3 159.4 Q 760.5 160.8, 760.5 163.3 Q 760.5 165.9, 759.2 167.3 Q 758.0 168.8, 755.7 168.8 Q 753.4 168.8, 752.1 167.3 Q 750.9 165.9, 750.9 163.3 M 755.7 167.6 Q 757.3 167.6, 758.2 166.5 Q 759.0 165.4, 759.0 163.3 Q 759.0 161.3, 758.2 160.3 Q 757.3 159.2, 755.7 159.2 Q 754.1 159.2, 753.2 160.2 Q 752.4 161.3, 752.4 163.3 Q 752.4 165.5, 753.2 166.5 Q 754.1 167.6, 755.7 167.6 \" fill=\"#FF0000\"/>\n",
       "<path class=\"atom-9\" d=\"M 745.1 99.7 Q 745.1 97.2, 746.3 95.8 Q 747.6 94.4, 749.9 94.4 Q 752.2 94.4, 753.4 95.8 Q 754.7 97.2, 754.7 99.7 Q 754.7 102.2, 753.4 103.7 Q 752.2 105.1, 749.9 105.1 Q 747.6 105.1, 746.3 103.7 Q 745.1 102.2, 745.1 99.7 M 749.9 103.9 Q 751.5 103.9, 752.3 102.9 Q 753.2 101.8, 753.2 99.7 Q 753.2 97.6, 752.3 96.6 Q 751.5 95.6, 749.9 95.6 Q 748.3 95.6, 747.4 96.6 Q 746.6 97.6, 746.6 99.7 Q 746.6 101.8, 747.4 102.9 Q 748.3 103.9, 749.9 103.9 \" fill=\"#FF0000\"/>\n",
       "<path class=\"atom-12\" d=\"M 698.7 200.2 Q 698.7 197.7, 699.9 196.3 Q 701.2 194.9, 703.5 194.9 Q 705.8 194.9, 707.0 196.3 Q 708.3 197.7, 708.3 200.2 Q 708.3 202.8, 707.0 204.2 Q 705.8 205.6, 703.5 205.6 Q 701.2 205.6, 699.9 204.2 Q 698.7 202.8, 698.7 200.2 M 703.5 204.4 Q 705.1 204.4, 705.9 203.4 Q 706.8 202.3, 706.8 200.2 Q 706.8 198.2, 705.9 197.1 Q 705.1 196.1, 703.5 196.1 Q 701.9 196.1, 701.0 197.1 Q 700.2 198.1, 700.2 200.2 Q 700.2 202.3, 701.0 203.4 Q 701.9 204.4, 703.5 204.4 \" fill=\"#FF0000\"/>\n",
       "<path class=\"atom-12\" d=\"M 709.9 195.0 L 711.3 195.0 L 711.3 199.5 L 716.7 199.5 L 716.7 195.0 L 718.1 195.0 L 718.1 205.5 L 716.7 205.5 L 716.7 200.6 L 711.3 200.6 L 711.3 205.5 L 709.9 205.5 L 709.9 195.0 \" fill=\"#FF0000\"/>\n",
       "<path d=\"M 457.0,150.0 L 515.0,150.0\" style=\"fill:none;fill-rule:evenodd;stroke:#000000;stroke-width:2.0px;stroke-linecap:butt;stroke-linejoin:miter;stroke-opacity:1\"/>\n",
       "<path d=\"M 515.0,150.0 L 510.0,152.9\" style=\"fill:none;fill-rule:evenodd;stroke:#000000;stroke-width:2.0px;stroke-linecap:butt;stroke-linejoin:miter;stroke-opacity:1\"/>\n",
       "<path d=\"M 515.0,150.0 L 510.0,147.1\" style=\"fill:none;fill-rule:evenodd;stroke:#000000;stroke-width:2.0px;stroke-linecap:butt;stroke-linejoin:miter;stroke-opacity:1\"/>\n",
       "</svg>"
      ],
      "text/plain": [
       "<IPython.core.display.SVG object>"
      ]
     },
     "metadata": {},
     "output_type": "display_data"
    },
    {
     "name": "stdout",
     "output_type": "stream",
     "text": [
      "--------------------------------------------\n",
      "\n",
      "\n",
      "\n",
      "Sequence 1\n",
      "Similarity Scores: Overall: 0.447887323943662,Candidate Reactants: 0.7464788732394366, Product: 0.6\n",
      "Reaction Class: 1\n",
      "Predicted Reaction: CCOc1ccc(C(=O)OC)c(OCc2ccccc2)c1>>CCOc1ccc(C(=O)OC)c(O)c1\n",
      "Template Applied: [O;D1;H1;+0:2]-[c:1]>>[O;H0;D2;+0:2](-[c:1])-[C]-[c]1(:[c]:[c]:[c]:[c]:[c]:1)\n",
      "Patent ID: US20110098290A1\n",
      "\u001b[91mGround Truth Does Not Equal Prediction\u001b[0m\n"
     ]
    },
    {
     "data": {
      "image/svg+xml": [
       "<svg xmlns=\"http://www.w3.org/2000/svg\" xmlns:rdkit=\"http://www.rdkit.org/xml\" xmlns:xlink=\"http://www.w3.org/1999/xlink\" version=\"1.1\" baseProfile=\"full\" xml:space=\"preserve\" width=\"900px\" height=\"300px\" viewBox=\"0 0 900 300\">\n",
       "<!-- END OF HEADER -->\n",
       "<rect style=\"opacity:1.0;fill:#FFFFFF;stroke:none\" width=\"900.0\" height=\"300.0\" x=\"0.0\" y=\"0.0\"> </rect>\n",
       "<path class=\"bond-0 atom-0 atom-1\" d=\"M 102.3,272.3 L 122.4,237.4\" style=\"fill:none;fill-rule:evenodd;stroke:#000000;stroke-width:2.0px;stroke-linecap:butt;stroke-linejoin:miter;stroke-opacity:1\"/>\n",
       "<path class=\"bond-1 atom-1 atom-2\" d=\"M 122.4,237.4 L 139.3,237.4\" style=\"fill:none;fill-rule:evenodd;stroke:#000000;stroke-width:2.0px;stroke-linecap:butt;stroke-linejoin:miter;stroke-opacity:1\"/>\n",
       "<path class=\"bond-1 atom-1 atom-2\" d=\"M 139.3,237.4 L 156.1,237.3\" style=\"fill:none;fill-rule:evenodd;stroke:#FF0000;stroke-width:2.0px;stroke-linecap:butt;stroke-linejoin:miter;stroke-opacity:1\"/>\n",
       "<path class=\"bond-2 atom-2 atom-3\" d=\"M 166.8,230.2 L 174.8,216.3\" style=\"fill:none;fill-rule:evenodd;stroke:#FF0000;stroke-width:2.0px;stroke-linecap:butt;stroke-linejoin:miter;stroke-opacity:1\"/>\n",
       "<path class=\"bond-2 atom-2 atom-3\" d=\"M 174.8,216.3 L 182.8,202.4\" style=\"fill:none;fill-rule:evenodd;stroke:#000000;stroke-width:2.0px;stroke-linecap:butt;stroke-linejoin:miter;stroke-opacity:1\"/>\n",
       "<path class=\"bond-3 atom-3 atom-4\" d=\"M 182.8,202.4 L 162.6,167.5\" style=\"fill:none;fill-rule:evenodd;stroke:#000000;stroke-width:2.0px;stroke-linecap:butt;stroke-linejoin:miter;stroke-opacity:1\"/>\n",
       "<path class=\"bond-3 atom-3 atom-4\" d=\"M 186.3,196.3 L 169.5,167.5\" style=\"fill:none;fill-rule:evenodd;stroke:#000000;stroke-width:2.0px;stroke-linecap:butt;stroke-linejoin:miter;stroke-opacity:1\"/>\n",
       "<path class=\"bond-4 atom-4 atom-5\" d=\"M 162.6,167.5 L 182.7,132.5\" style=\"fill:none;fill-rule:evenodd;stroke:#000000;stroke-width:2.0px;stroke-linecap:butt;stroke-linejoin:miter;stroke-opacity:1\"/>\n",
       "<path class=\"bond-5 atom-5 atom-6\" d=\"M 182.7,132.5 L 223.0,132.4\" style=\"fill:none;fill-rule:evenodd;stroke:#000000;stroke-width:2.0px;stroke-linecap:butt;stroke-linejoin:miter;stroke-opacity:1\"/>\n",
       "<path class=\"bond-5 atom-5 atom-6\" d=\"M 186.2,138.6 L 219.5,138.5\" style=\"fill:none;fill-rule:evenodd;stroke:#000000;stroke-width:2.0px;stroke-linecap:butt;stroke-linejoin:miter;stroke-opacity:1\"/>\n",
       "<path class=\"bond-6 atom-6 atom-7\" d=\"M 223.0,132.4 L 243.1,97.5\" style=\"fill:none;fill-rule:evenodd;stroke:#000000;stroke-width:2.0px;stroke-linecap:butt;stroke-linejoin:miter;stroke-opacity:1\"/>\n",
       "<path class=\"bond-7 atom-7 atom-8\" d=\"M 241.3,100.5 L 259.1,100.5\" style=\"fill:none;fill-rule:evenodd;stroke:#000000;stroke-width:2.0px;stroke-linecap:butt;stroke-linejoin:miter;stroke-opacity:1\"/>\n",
       "<path class=\"bond-7 atom-7 atom-8\" d=\"M 259.1,100.5 L 276.8,100.4\" style=\"fill:none;fill-rule:evenodd;stroke:#FF0000;stroke-width:2.0px;stroke-linecap:butt;stroke-linejoin:miter;stroke-opacity:1\"/>\n",
       "<path class=\"bond-7 atom-7 atom-8\" d=\"M 241.3,94.5 L 259.1,94.4\" style=\"fill:none;fill-rule:evenodd;stroke:#000000;stroke-width:2.0px;stroke-linecap:butt;stroke-linejoin:miter;stroke-opacity:1\"/>\n",
       "<path class=\"bond-7 atom-7 atom-8\" d=\"M 259.1,94.4 L 276.8,94.4\" style=\"fill:none;fill-rule:evenodd;stroke:#FF0000;stroke-width:2.0px;stroke-linecap:butt;stroke-linejoin:miter;stroke-opacity:1\"/>\n",
       "<path class=\"bond-8 atom-7 atom-9\" d=\"M 243.1,97.5 L 235.1,83.7\" style=\"fill:none;fill-rule:evenodd;stroke:#000000;stroke-width:2.0px;stroke-linecap:butt;stroke-linejoin:miter;stroke-opacity:1\"/>\n",
       "<path class=\"bond-8 atom-7 atom-9\" d=\"M 235.1,83.7 L 227.1,69.9\" style=\"fill:none;fill-rule:evenodd;stroke:#FF0000;stroke-width:2.0px;stroke-linecap:butt;stroke-linejoin:miter;stroke-opacity:1\"/>\n",
       "<path class=\"bond-9 atom-9 atom-10\" d=\"M 226.9,55.5 L 234.9,41.6\" style=\"fill:none;fill-rule:evenodd;stroke:#FF0000;stroke-width:2.0px;stroke-linecap:butt;stroke-linejoin:miter;stroke-opacity:1\"/>\n",
       "<path class=\"bond-9 atom-9 atom-10\" d=\"M 234.9,41.6 L 242.9,27.7\" style=\"fill:none;fill-rule:evenodd;stroke:#000000;stroke-width:2.0px;stroke-linecap:butt;stroke-linejoin:miter;stroke-opacity:1\"/>\n",
       "<path class=\"bond-10 atom-6 atom-11\" d=\"M 223.0,132.4 L 243.2,167.3\" style=\"fill:none;fill-rule:evenodd;stroke:#000000;stroke-width:2.0px;stroke-linecap:butt;stroke-linejoin:miter;stroke-opacity:1\"/>\n",
       "<path class=\"bond-11 atom-11 atom-12\" d=\"M 243.2,167.3 L 260.1,167.3\" style=\"fill:none;fill-rule:evenodd;stroke:#000000;stroke-width:2.0px;stroke-linecap:butt;stroke-linejoin:miter;stroke-opacity:1\"/>\n",
       "<path class=\"bond-11 atom-11 atom-12\" d=\"M 260.1,167.3 L 276.9,167.3\" style=\"fill:none;fill-rule:evenodd;stroke:#FF0000;stroke-width:2.0px;stroke-linecap:butt;stroke-linejoin:miter;stroke-opacity:1\"/>\n",
       "<path class=\"bond-12 atom-12 atom-13\" d=\"M 287.7,174.5 L 295.7,188.3\" style=\"fill:none;fill-rule:evenodd;stroke:#FF0000;stroke-width:2.0px;stroke-linecap:butt;stroke-linejoin:miter;stroke-opacity:1\"/>\n",
       "<path class=\"bond-12 atom-12 atom-13\" d=\"M 295.7,188.3 L 303.7,202.1\" style=\"fill:none;fill-rule:evenodd;stroke:#000000;stroke-width:2.0px;stroke-linecap:butt;stroke-linejoin:miter;stroke-opacity:1\"/>\n",
       "<path class=\"bond-13 atom-13 atom-14\" d=\"M 303.7,202.1 L 344.1,202.0\" style=\"fill:none;fill-rule:evenodd;stroke:#000000;stroke-width:2.0px;stroke-linecap:butt;stroke-linejoin:miter;stroke-opacity:1\"/>\n",
       "<path class=\"bond-14 atom-14 atom-15\" d=\"M 344.1,202.0 L 364.3,236.9\" style=\"fill:none;fill-rule:evenodd;stroke:#000000;stroke-width:2.0px;stroke-linecap:butt;stroke-linejoin:miter;stroke-opacity:1\"/>\n",
       "<path class=\"bond-14 atom-14 atom-15\" d=\"M 351.1,202.0 L 367.8,230.9\" style=\"fill:none;fill-rule:evenodd;stroke:#000000;stroke-width:2.0px;stroke-linecap:butt;stroke-linejoin:miter;stroke-opacity:1\"/>\n",
       "<path class=\"bond-15 atom-15 atom-16\" d=\"M 364.3,236.9 L 404.6,236.8\" style=\"fill:none;fill-rule:evenodd;stroke:#000000;stroke-width:2.0px;stroke-linecap:butt;stroke-linejoin:miter;stroke-opacity:1\"/>\n",
       "<path class=\"bond-16 atom-16 atom-17\" d=\"M 404.6,236.8 L 424.7,201.9\" style=\"fill:none;fill-rule:evenodd;stroke:#000000;stroke-width:2.0px;stroke-linecap:butt;stroke-linejoin:miter;stroke-opacity:1\"/>\n",
       "<path class=\"bond-16 atom-16 atom-17\" d=\"M 401.1,230.8 L 417.7,201.9\" style=\"fill:none;fill-rule:evenodd;stroke:#000000;stroke-width:2.0px;stroke-linecap:butt;stroke-linejoin:miter;stroke-opacity:1\"/>\n",
       "<path class=\"bond-17 atom-17 atom-18\" d=\"M 424.7,201.9 L 404.5,167.0\" style=\"fill:none;fill-rule:evenodd;stroke:#000000;stroke-width:2.0px;stroke-linecap:butt;stroke-linejoin:miter;stroke-opacity:1\"/>\n",
       "<path class=\"bond-18 atom-18 atom-19\" d=\"M 404.5,167.0 L 364.2,167.1\" style=\"fill:none;fill-rule:evenodd;stroke:#000000;stroke-width:2.0px;stroke-linecap:butt;stroke-linejoin:miter;stroke-opacity:1\"/>\n",
       "<path class=\"bond-18 atom-18 atom-19\" d=\"M 401.0,173.1 L 367.7,173.1\" style=\"fill:none;fill-rule:evenodd;stroke:#000000;stroke-width:2.0px;stroke-linecap:butt;stroke-linejoin:miter;stroke-opacity:1\"/>\n",
       "<path class=\"bond-19 atom-11 atom-20\" d=\"M 243.2,167.3 L 223.1,202.3\" style=\"fill:none;fill-rule:evenodd;stroke:#000000;stroke-width:2.0px;stroke-linecap:butt;stroke-linejoin:miter;stroke-opacity:1\"/>\n",
       "<path class=\"bond-19 atom-11 atom-20\" d=\"M 236.2,167.3 L 219.6,196.2\" style=\"fill:none;fill-rule:evenodd;stroke:#000000;stroke-width:2.0px;stroke-linecap:butt;stroke-linejoin:miter;stroke-opacity:1\"/>\n",
       "<path class=\"bond-20 atom-20 atom-3\" d=\"M 223.1,202.3 L 182.8,202.4\" style=\"fill:none;fill-rule:evenodd;stroke:#000000;stroke-width:2.0px;stroke-linecap:butt;stroke-linejoin:miter;stroke-opacity:1\"/>\n",
       "<path class=\"bond-21 atom-19 atom-14\" d=\"M 364.2,167.1 L 344.1,202.0\" style=\"fill:none;fill-rule:evenodd;stroke:#000000;stroke-width:2.0px;stroke-linecap:butt;stroke-linejoin:miter;stroke-opacity:1\"/>\n",
       "<path d=\"M 121.4,239.1 L 122.4,237.4 L 123.2,237.4\" style=\"fill:none;stroke:#000000;stroke-width:2.0px;stroke-linecap:butt;stroke-linejoin:miter;stroke-opacity:1;\"/>\n",
       "<path d=\"M 163.6,169.2 L 162.6,167.5 L 163.6,165.7\" style=\"fill:none;stroke:#000000;stroke-width:2.0px;stroke-linecap:butt;stroke-linejoin:miter;stroke-opacity:1;\"/>\n",
       "<path d=\"M 181.7,134.3 L 182.7,132.5 L 184.7,132.5\" style=\"fill:none;stroke:#000000;stroke-width:2.0px;stroke-linecap:butt;stroke-linejoin:miter;stroke-opacity:1;\"/>\n",
       "<path d=\"M 242.1,99.2 L 243.1,97.5 L 242.7,96.8\" style=\"fill:none;stroke:#000000;stroke-width:2.0px;stroke-linecap:butt;stroke-linejoin:miter;stroke-opacity:1;\"/>\n",
       "<path d=\"M 303.3,201.4 L 303.7,202.1 L 305.8,202.1\" style=\"fill:none;stroke:#000000;stroke-width:2.0px;stroke-linecap:butt;stroke-linejoin:miter;stroke-opacity:1;\"/>\n",
       "<path d=\"M 363.3,235.2 L 364.3,236.9 L 366.3,236.9\" style=\"fill:none;stroke:#000000;stroke-width:2.0px;stroke-linecap:butt;stroke-linejoin:miter;stroke-opacity:1;\"/>\n",
       "<path d=\"M 402.6,236.8 L 404.6,236.8 L 405.6,235.1\" style=\"fill:none;stroke:#000000;stroke-width:2.0px;stroke-linecap:butt;stroke-linejoin:miter;stroke-opacity:1;\"/>\n",
       "<path d=\"M 423.7,203.6 L 424.7,201.9 L 423.7,200.1\" style=\"fill:none;stroke:#000000;stroke-width:2.0px;stroke-linecap:butt;stroke-linejoin:miter;stroke-opacity:1;\"/>\n",
       "<path d=\"M 405.5,168.7 L 404.5,167.0 L 402.5,167.0\" style=\"fill:none;stroke:#000000;stroke-width:2.0px;stroke-linecap:butt;stroke-linejoin:miter;stroke-opacity:1;\"/>\n",
       "<path d=\"M 366.2,167.1 L 364.2,167.1 L 363.2,168.8\" style=\"fill:none;stroke:#000000;stroke-width:2.0px;stroke-linecap:butt;stroke-linejoin:miter;stroke-opacity:1;\"/>\n",
       "<path d=\"M 224.1,200.5 L 223.1,202.3 L 221.1,202.3\" style=\"fill:none;stroke:#000000;stroke-width:2.0px;stroke-linecap:butt;stroke-linejoin:miter;stroke-opacity:1;\"/>\n",
       "<path class=\"atom-2\" d=\"M 157.5 237.3 Q 157.5 234.6, 158.8 233.1 Q 160.2 231.5, 162.7 231.5 Q 165.2 231.5, 166.6 233.1 Q 167.9 234.6, 167.9 237.3 Q 167.9 240.1, 166.6 241.7 Q 165.2 243.3, 162.7 243.3 Q 160.2 243.3, 158.8 241.7 Q 157.5 240.1, 157.5 237.3 M 162.7 242.0 Q 164.4 242.0, 165.4 240.8 Q 166.3 239.6, 166.3 237.3 Q 166.3 235.1, 165.4 234.0 Q 164.4 232.8, 162.7 232.8 Q 161.0 232.8, 160.0 234.0 Q 159.1 235.1, 159.1 237.3 Q 159.1 239.6, 160.0 240.8 Q 161.0 242.0, 162.7 242.0 \" fill=\"#FF0000\"/>\n",
       "<path class=\"atom-8\" d=\"M 278.1 97.4 Q 278.1 94.7, 279.5 93.2 Q 280.9 91.6, 283.4 91.6 Q 285.9 91.6, 287.3 93.2 Q 288.6 94.7, 288.6 97.4 Q 288.6 100.2, 287.3 101.8 Q 285.9 103.4, 283.4 103.4 Q 280.9 103.4, 279.5 101.8 Q 278.1 100.2, 278.1 97.4 M 283.4 102.1 Q 285.1 102.1, 286.1 100.9 Q 287.0 99.7, 287.0 97.4 Q 287.0 95.2, 286.1 94.1 Q 285.1 92.9, 283.4 92.9 Q 281.6 92.9, 280.7 94.1 Q 279.8 95.2, 279.8 97.4 Q 279.8 99.7, 280.7 100.9 Q 281.6 102.1, 283.4 102.1 \" fill=\"#FF0000\"/>\n",
       "<path class=\"atom-9\" d=\"M 217.6 62.6 Q 217.6 59.9, 218.9 58.4 Q 220.3 56.8, 222.8 56.8 Q 225.4 56.8, 226.7 58.4 Q 228.1 59.9, 228.1 62.6 Q 228.1 65.4, 226.7 67.0 Q 225.3 68.6, 222.8 68.6 Q 220.3 68.6, 218.9 67.0 Q 217.6 65.4, 217.6 62.6 M 222.8 67.3 Q 224.6 67.3, 225.5 66.1 Q 226.5 64.9, 226.5 62.6 Q 226.5 60.4, 225.5 59.3 Q 224.6 58.1, 222.8 58.1 Q 221.1 58.1, 220.1 59.3 Q 219.2 60.4, 219.2 62.6 Q 219.2 64.9, 220.1 66.1 Q 221.1 67.3, 222.8 67.3 \" fill=\"#FF0000\"/>\n",
       "<path class=\"atom-12\" d=\"M 278.3 167.3 Q 278.3 164.5, 279.6 163.0 Q 281.0 161.5, 283.5 161.5 Q 286.1 161.5, 287.4 163.0 Q 288.8 164.5, 288.8 167.3 Q 288.8 170.0, 287.4 171.6 Q 286.0 173.2, 283.5 173.2 Q 281.0 173.2, 279.6 171.6 Q 278.3 170.1, 278.3 167.3 M 283.5 171.9 Q 285.3 171.9, 286.2 170.7 Q 287.1 169.6, 287.1 167.3 Q 287.1 165.0, 286.2 163.9 Q 285.3 162.8, 283.5 162.8 Q 281.8 162.8, 280.8 163.9 Q 279.9 165.0, 279.9 167.3 Q 279.9 169.6, 280.8 170.7 Q 281.8 171.9, 283.5 171.9 \" fill=\"#FF0000\"/>\n",
       "<path class=\"bond-22 atom-21 atom-22\" d=\"M 517.5,117.0 L 557.6,113.3\" style=\"fill:none;fill-rule:evenodd;stroke:#000000;stroke-width:2.0px;stroke-linecap:butt;stroke-linejoin:miter;stroke-opacity:1\"/>\n",
       "<path class=\"bond-23 atom-22 atom-23\" d=\"M 557.6,113.3 L 566.7,126.3\" style=\"fill:none;fill-rule:evenodd;stroke:#000000;stroke-width:2.0px;stroke-linecap:butt;stroke-linejoin:miter;stroke-opacity:1\"/>\n",
       "<path class=\"bond-23 atom-22 atom-23\" d=\"M 566.7,126.3 L 575.9,139.2\" style=\"fill:none;fill-rule:evenodd;stroke:#FF0000;stroke-width:2.0px;stroke-linecap:butt;stroke-linejoin:miter;stroke-opacity:1\"/>\n",
       "<path class=\"bond-24 atom-23 atom-24\" d=\"M 587.4,145.7 L 604.2,144.1\" style=\"fill:none;fill-rule:evenodd;stroke:#FF0000;stroke-width:2.0px;stroke-linecap:butt;stroke-linejoin:miter;stroke-opacity:1\"/>\n",
       "<path class=\"bond-24 atom-23 atom-24\" d=\"M 604.2,144.1 L 621.0,142.6\" style=\"fill:none;fill-rule:evenodd;stroke:#000000;stroke-width:2.0px;stroke-linecap:butt;stroke-linejoin:miter;stroke-opacity:1\"/>\n",
       "<path class=\"bond-25 atom-24 atom-25\" d=\"M 621.0,142.6 L 637.9,106.0\" style=\"fill:none;fill-rule:evenodd;stroke:#000000;stroke-width:2.0px;stroke-linecap:butt;stroke-linejoin:miter;stroke-opacity:1\"/>\n",
       "<path class=\"bond-25 atom-24 atom-25\" d=\"M 628.0,142.0 L 642.0,111.7\" style=\"fill:none;fill-rule:evenodd;stroke:#000000;stroke-width:2.0px;stroke-linecap:butt;stroke-linejoin:miter;stroke-opacity:1\"/>\n",
       "<path class=\"bond-26 atom-25 atom-26\" d=\"M 637.9,106.0 L 678.1,102.3\" style=\"fill:none;fill-rule:evenodd;stroke:#000000;stroke-width:2.0px;stroke-linecap:butt;stroke-linejoin:miter;stroke-opacity:1\"/>\n",
       "<path class=\"bond-27 atom-26 atom-27\" d=\"M 678.1,102.3 L 701.3,135.3\" style=\"fill:none;fill-rule:evenodd;stroke:#000000;stroke-width:2.0px;stroke-linecap:butt;stroke-linejoin:miter;stroke-opacity:1\"/>\n",
       "<path class=\"bond-27 atom-26 atom-27\" d=\"M 675.1,108.7 L 694.4,135.9\" style=\"fill:none;fill-rule:evenodd;stroke:#000000;stroke-width:2.0px;stroke-linecap:butt;stroke-linejoin:miter;stroke-opacity:1\"/>\n",
       "<path class=\"bond-28 atom-27 atom-28\" d=\"M 701.3,135.3 L 741.5,131.6\" style=\"fill:none;fill-rule:evenodd;stroke:#000000;stroke-width:2.0px;stroke-linecap:butt;stroke-linejoin:miter;stroke-opacity:1\"/>\n",
       "<path class=\"bond-29 atom-28 atom-29\" d=\"M 738.0,131.9 L 747.6,145.6\" style=\"fill:none;fill-rule:evenodd;stroke:#000000;stroke-width:2.0px;stroke-linecap:butt;stroke-linejoin:miter;stroke-opacity:1\"/>\n",
       "<path class=\"bond-29 atom-28 atom-29\" d=\"M 747.6,145.6 L 757.2,159.2\" style=\"fill:none;fill-rule:evenodd;stroke:#FF0000;stroke-width:2.0px;stroke-linecap:butt;stroke-linejoin:miter;stroke-opacity:1\"/>\n",
       "<path class=\"bond-29 atom-28 atom-29\" d=\"M 742.9,128.4 L 752.6,142.1\" style=\"fill:none;fill-rule:evenodd;stroke:#000000;stroke-width:2.0px;stroke-linecap:butt;stroke-linejoin:miter;stroke-opacity:1\"/>\n",
       "<path class=\"bond-29 atom-28 atom-29\" d=\"M 752.6,142.1 L 762.2,155.7\" style=\"fill:none;fill-rule:evenodd;stroke:#FF0000;stroke-width:2.0px;stroke-linecap:butt;stroke-linejoin:miter;stroke-opacity:1\"/>\n",
       "<path class=\"bond-30 atom-28 atom-30\" d=\"M 741.5,131.6 L 748.2,116.9\" style=\"fill:none;fill-rule:evenodd;stroke:#000000;stroke-width:2.0px;stroke-linecap:butt;stroke-linejoin:miter;stroke-opacity:1\"/>\n",
       "<path class=\"bond-30 atom-28 atom-30\" d=\"M 748.2,116.9 L 755.0,102.3\" style=\"fill:none;fill-rule:evenodd;stroke:#FF0000;stroke-width:2.0px;stroke-linecap:butt;stroke-linejoin:miter;stroke-opacity:1\"/>\n",
       "<path class=\"bond-31 atom-30 atom-31\" d=\"M 764.9,94.4 L 781.7,92.9\" style=\"fill:none;fill-rule:evenodd;stroke:#FF0000;stroke-width:2.0px;stroke-linecap:butt;stroke-linejoin:miter;stroke-opacity:1\"/>\n",
       "<path class=\"bond-31 atom-30 atom-31\" d=\"M 781.7,92.9 L 798.5,91.3\" style=\"fill:none;fill-rule:evenodd;stroke:#000000;stroke-width:2.0px;stroke-linecap:butt;stroke-linejoin:miter;stroke-opacity:1\"/>\n",
       "<path class=\"bond-32 atom-27 atom-32\" d=\"M 701.3,135.3 L 684.4,171.9\" style=\"fill:none;fill-rule:evenodd;stroke:#000000;stroke-width:2.0px;stroke-linecap:butt;stroke-linejoin:miter;stroke-opacity:1\"/>\n",
       "<path class=\"bond-33 atom-32 atom-33\" d=\"M 684.4,171.9 L 693.5,184.8\" style=\"fill:none;fill-rule:evenodd;stroke:#000000;stroke-width:2.0px;stroke-linecap:butt;stroke-linejoin:miter;stroke-opacity:1\"/>\n",
       "<path class=\"bond-33 atom-32 atom-33\" d=\"M 693.5,184.8 L 702.7,197.7\" style=\"fill:none;fill-rule:evenodd;stroke:#FF0000;stroke-width:2.0px;stroke-linecap:butt;stroke-linejoin:miter;stroke-opacity:1\"/>\n",
       "<path class=\"bond-34 atom-32 atom-34\" d=\"M 684.4,171.9 L 644.3,175.5\" style=\"fill:none;fill-rule:evenodd;stroke:#000000;stroke-width:2.0px;stroke-linecap:butt;stroke-linejoin:miter;stroke-opacity:1\"/>\n",
       "<path class=\"bond-34 atom-32 atom-34\" d=\"M 680.4,166.2 L 647.2,169.2\" style=\"fill:none;fill-rule:evenodd;stroke:#000000;stroke-width:2.0px;stroke-linecap:butt;stroke-linejoin:miter;stroke-opacity:1\"/>\n",
       "<path class=\"bond-35 atom-34 atom-24\" d=\"M 644.3,175.5 L 621.0,142.6\" style=\"fill:none;fill-rule:evenodd;stroke:#000000;stroke-width:2.0px;stroke-linecap:butt;stroke-linejoin:miter;stroke-opacity:1\"/>\n",
       "<path class=\"atom-2\" d=\"M 575.6 146.3 Q 575.6 143.6, 577.0 142.0 Q 578.3 140.5, 580.9 140.5 Q 583.4 140.5, 584.8 142.0 Q 586.1 143.6, 586.1 146.3 Q 586.1 149.1, 584.7 150.7 Q 583.4 152.2, 580.9 152.2 Q 578.4 152.2, 577.0 150.7 Q 575.6 149.1, 575.6 146.3 M 580.9 150.9 Q 582.6 150.9, 583.5 149.8 Q 584.5 148.6, 584.5 146.3 Q 584.5 144.1, 583.5 142.9 Q 582.6 141.8, 580.9 141.8 Q 579.1 141.8, 578.2 142.9 Q 577.2 144.0, 577.2 146.3 Q 577.2 148.6, 578.2 149.8 Q 579.1 150.9, 580.9 150.9 \" fill=\"#FF0000\"/>\n",
       "<path class=\"atom-8\" d=\"M 759.5 164.6 Q 759.5 161.8, 760.8 160.3 Q 762.2 158.8, 764.7 158.8 Q 767.3 158.8, 768.6 160.3 Q 770.0 161.8, 770.0 164.6 Q 770.0 167.4, 768.6 168.9 Q 767.2 170.5, 764.7 170.5 Q 762.2 170.5, 760.8 168.9 Q 759.5 167.4, 759.5 164.6 M 764.7 169.2 Q 766.5 169.2, 767.4 168.0 Q 768.4 166.9, 768.4 164.6 Q 768.4 162.3, 767.4 161.2 Q 766.5 160.1, 764.7 160.1 Q 763.0 160.1, 762.0 161.2 Q 761.1 162.3, 761.1 164.6 Q 761.1 166.9, 762.0 168.0 Q 763.0 169.2, 764.7 169.2 \" fill=\"#FF0000\"/>\n",
       "<path class=\"atom-9\" d=\"M 753.1 95.0 Q 753.1 92.3, 754.5 90.8 Q 755.8 89.2, 758.4 89.2 Q 760.9 89.2, 762.3 90.8 Q 763.6 92.3, 763.6 95.0 Q 763.6 97.8, 762.2 99.4 Q 760.9 101.0, 758.4 101.0 Q 755.9 101.0, 754.5 99.4 Q 753.1 97.8, 753.1 95.0 M 758.4 99.7 Q 760.1 99.7, 761.1 98.5 Q 762.0 97.3, 762.0 95.0 Q 762.0 92.8, 761.1 91.7 Q 760.1 90.5, 758.4 90.5 Q 756.6 90.5, 755.7 91.6 Q 754.7 92.8, 754.7 95.0 Q 754.7 97.3, 755.7 98.5 Q 756.6 99.7, 758.4 99.7 \" fill=\"#FF0000\"/>\n",
       "<path class=\"atom-12\" d=\"M 702.4 204.9 Q 702.4 202.1, 703.8 200.6 Q 705.1 199.0, 707.7 199.0 Q 710.2 199.0, 711.6 200.6 Q 712.9 202.1, 712.9 204.9 Q 712.9 207.6, 711.5 209.2 Q 710.2 210.8, 707.7 210.8 Q 705.2 210.8, 703.8 209.2 Q 702.4 207.6, 702.4 204.9 M 707.7 209.5 Q 709.4 209.5, 710.4 208.3 Q 711.3 207.1, 711.3 204.9 Q 711.3 202.6, 710.4 201.5 Q 709.4 200.3, 707.7 200.3 Q 705.9 200.3, 705.0 201.5 Q 704.0 202.6, 704.0 204.9 Q 704.0 207.2, 705.0 208.3 Q 705.9 209.5, 707.7 209.5 \" fill=\"#FF0000\"/>\n",
       "<path class=\"atom-12\" d=\"M 714.7 199.2 L 716.2 199.2 L 716.2 204.0 L 722.1 204.0 L 722.1 199.2 L 723.6 199.2 L 723.6 210.6 L 722.1 210.6 L 722.1 205.3 L 716.2 205.3 L 716.2 210.6 L 714.7 210.6 L 714.7 199.2 \" fill=\"#FF0000\"/>\n",
       "<path d=\"M 440.0,150.0 L 502.0,150.0\" style=\"fill:none;fill-rule:evenodd;stroke:#000000;stroke-width:2.0px;stroke-linecap:butt;stroke-linejoin:miter;stroke-opacity:1\"/>\n",
       "<path d=\"M 502.0,150.0 L 497.0,152.9\" style=\"fill:none;fill-rule:evenodd;stroke:#000000;stroke-width:2.0px;stroke-linecap:butt;stroke-linejoin:miter;stroke-opacity:1\"/>\n",
       "<path d=\"M 502.0,150.0 L 497.0,147.1\" style=\"fill:none;fill-rule:evenodd;stroke:#000000;stroke-width:2.0px;stroke-linecap:butt;stroke-linejoin:miter;stroke-opacity:1\"/>\n",
       "</svg>"
      ],
      "text/plain": [
       "<IPython.core.display.SVG object>"
      ]
     },
     "metadata": {},
     "output_type": "display_data"
    },
    {
     "name": "stdout",
     "output_type": "stream",
     "text": [
      "--------------------------------------------\n",
      "\n",
      "\n",
      "\n",
      "Sequence 2\n",
      "Similarity Scores: Overall: 0.4301572617946346,Candidate Reactants: 0.6739130434782609, Product: 0.6382978723404256\n",
      "Reaction Class: 1\n",
      "Predicted Reaction: CCBr.COC(=O)c1ccc(O)cc1O>>CCOc1ccc(C(=O)OC)c(O)c1\n",
      "Template Applied: [O;H0;D2;+0:3](-[c:4])-[C;H2;D2;+0:1]-[C:2]>>[Br]-[C;H2;D2;+0:1]-[C:2].[O;D1;H1;+0:3]-[c:4]\n",
      "Patent ID: US20150202332A1\n",
      "\u001b[91mGround Truth Does Not Equal Prediction\u001b[0m\n"
     ]
    },
    {
     "data": {
      "image/svg+xml": [
       "<svg xmlns=\"http://www.w3.org/2000/svg\" xmlns:rdkit=\"http://www.rdkit.org/xml\" xmlns:xlink=\"http://www.w3.org/1999/xlink\" version=\"1.1\" baseProfile=\"full\" xml:space=\"preserve\" width=\"900px\" height=\"300px\" viewBox=\"0 0 900 300\">\n",
       "<!-- END OF HEADER -->\n",
       "<rect style=\"opacity:1.0;fill:#FFFFFF;stroke:none\" width=\"900.0\" height=\"300.0\" x=\"0.0\" y=\"0.0\"> </rect>\n",
       "<path class=\"bond-0 atom-0 atom-1\" d=\"M 114.1,156.7 L 146.4,138.0\" style=\"fill:none;fill-rule:evenodd;stroke:#000000;stroke-width:2.0px;stroke-linecap:butt;stroke-linejoin:miter;stroke-opacity:1\"/>\n",
       "<path class=\"bond-1 atom-1 atom-2\" d=\"M 146.4,138.0 L 160.1,146.0\" style=\"fill:none;fill-rule:evenodd;stroke:#000000;stroke-width:2.0px;stroke-linecap:butt;stroke-linejoin:miter;stroke-opacity:1\"/>\n",
       "<path class=\"bond-1 atom-1 atom-2\" d=\"M 160.1,146.0 L 173.9,153.9\" style=\"fill:none;fill-rule:evenodd;stroke:#7F4C19;stroke-width:2.0px;stroke-linecap:butt;stroke-linejoin:miter;stroke-opacity:1\"/>\n",
       "<path d=\"M 144.8,139.0 L 146.4,138.0 L 147.1,138.4\" style=\"fill:none;stroke:#000000;stroke-width:2.0px;stroke-linecap:butt;stroke-linejoin:miter;stroke-opacity:1;\"/>\n",
       "<path class=\"atom-2\" d=\"M 180.2 156.4 Q 181.2 156.7, 181.7 157.3 Q 182.3 157.9, 182.3 158.8 Q 182.3 160.3, 181.3 161.1 Q 180.4 162.0, 178.6 162.0 L 175.1 162.0 L 175.1 151.4 L 178.2 151.4 Q 180.0 151.4, 180.9 152.1 Q 181.8 152.9, 181.8 154.2 Q 181.8 155.8, 180.2 156.4 M 176.5 152.6 L 176.5 155.9 L 178.2 155.9 Q 179.2 155.9, 179.8 155.5 Q 180.3 155.1, 180.3 154.2 Q 180.3 152.6, 178.2 152.6 L 176.5 152.6 M 178.6 160.8 Q 179.7 160.8, 180.2 160.3 Q 180.8 159.8, 180.8 158.8 Q 180.8 158.0, 180.2 157.5 Q 179.6 157.1, 178.4 157.1 L 176.5 157.1 L 176.5 160.8 L 178.6 160.8 \" fill=\"#7F4C19\"/>\n",
       "<path class=\"atom-2\" d=\"M 184.7 154.3 L 184.8 155.4 Q 185.6 154.2, 186.9 154.2 Q 187.4 154.2, 187.9 154.3 L 187.7 155.6 Q 187.1 155.4, 186.7 155.4 Q 186.1 155.4, 185.7 155.7 Q 185.3 155.9, 184.9 156.5 L 184.9 162.0 L 183.5 162.0 L 183.5 154.3 L 184.7 154.3 \" fill=\"#7F4C19\"/>\n",
       "<path d=\"M 202.5,141.0 L 202.5,159.0\" style=\"fill:none;fill-rule:evenodd;stroke:#000000;stroke-width:2.0px;stroke-linecap:butt;stroke-linejoin:miter;stroke-opacity:1\"/>\n",
       "<path d=\"M 193.5,150.0 L 211.5,150.0\" style=\"fill:none;fill-rule:evenodd;stroke:#000000;stroke-width:2.0px;stroke-linecap:butt;stroke-linejoin:miter;stroke-opacity:1\"/>\n",
       "<path class=\"bond-2 atom-3 atom-4\" d=\"M 439.9,141.9 L 424.5,140.0\" style=\"fill:none;fill-rule:evenodd;stroke:#000000;stroke-width:2.0px;stroke-linecap:butt;stroke-linejoin:miter;stroke-opacity:1\"/>\n",
       "<path class=\"bond-2 atom-3 atom-4\" d=\"M 424.5,140.0 L 409.0,138.1\" style=\"fill:none;fill-rule:evenodd;stroke:#FF0000;stroke-width:2.0px;stroke-linecap:butt;stroke-linejoin:miter;stroke-opacity:1\"/>\n",
       "<path class=\"bond-3 atom-4 atom-5\" d=\"M 397.8,144.1 L 389.1,155.6\" style=\"fill:none;fill-rule:evenodd;stroke:#FF0000;stroke-width:2.0px;stroke-linecap:butt;stroke-linejoin:miter;stroke-opacity:1\"/>\n",
       "<path class=\"bond-3 atom-4 atom-5\" d=\"M 389.1,155.6 L 380.4,167.1\" style=\"fill:none;fill-rule:evenodd;stroke:#000000;stroke-width:2.0px;stroke-linecap:butt;stroke-linejoin:miter;stroke-opacity:1\"/>\n",
       "<path class=\"bond-4 atom-5 atom-6\" d=\"M 377.2,166.7 L 383.4,181.3\" style=\"fill:none;fill-rule:evenodd;stroke:#000000;stroke-width:2.0px;stroke-linecap:butt;stroke-linejoin:miter;stroke-opacity:1\"/>\n",
       "<path class=\"bond-4 atom-5 atom-6\" d=\"M 383.4,181.3 L 389.6,196.0\" style=\"fill:none;fill-rule:evenodd;stroke:#FF0000;stroke-width:2.0px;stroke-linecap:butt;stroke-linejoin:miter;stroke-opacity:1\"/>\n",
       "<path class=\"bond-4 atom-5 atom-6\" d=\"M 382.4,164.5 L 388.6,179.1\" style=\"fill:none;fill-rule:evenodd;stroke:#000000;stroke-width:2.0px;stroke-linecap:butt;stroke-linejoin:miter;stroke-opacity:1\"/>\n",
       "<path class=\"bond-4 atom-5 atom-6\" d=\"M 388.6,179.1 L 394.8,193.8\" style=\"fill:none;fill-rule:evenodd;stroke:#FF0000;stroke-width:2.0px;stroke-linecap:butt;stroke-linejoin:miter;stroke-opacity:1\"/>\n",
       "<path class=\"bond-5 atom-5 atom-7\" d=\"M 380.4,167.1 L 343.4,162.5\" style=\"fill:none;fill-rule:evenodd;stroke:#000000;stroke-width:2.0px;stroke-linecap:butt;stroke-linejoin:miter;stroke-opacity:1\"/>\n",
       "<path class=\"bond-6 atom-7 atom-8\" d=\"M 343.4,162.5 L 320.9,192.3\" style=\"fill:none;fill-rule:evenodd;stroke:#000000;stroke-width:2.0px;stroke-linecap:butt;stroke-linejoin:miter;stroke-opacity:1\"/>\n",
       "<path class=\"bond-6 atom-7 atom-8\" d=\"M 337.0,161.7 L 318.4,186.3\" style=\"fill:none;fill-rule:evenodd;stroke:#000000;stroke-width:2.0px;stroke-linecap:butt;stroke-linejoin:miter;stroke-opacity:1\"/>\n",
       "<path class=\"bond-7 atom-8 atom-9\" d=\"M 320.9,192.3 L 283.9,187.7\" style=\"fill:none;fill-rule:evenodd;stroke:#000000;stroke-width:2.0px;stroke-linecap:butt;stroke-linejoin:miter;stroke-opacity:1\"/>\n",
       "<path class=\"bond-8 atom-9 atom-10\" d=\"M 283.9,187.7 L 269.4,153.4\" style=\"fill:none;fill-rule:evenodd;stroke:#000000;stroke-width:2.0px;stroke-linecap:butt;stroke-linejoin:miter;stroke-opacity:1\"/>\n",
       "<path class=\"bond-8 atom-9 atom-10\" d=\"M 287.8,182.5 L 275.8,154.1\" style=\"fill:none;fill-rule:evenodd;stroke:#000000;stroke-width:2.0px;stroke-linecap:butt;stroke-linejoin:miter;stroke-opacity:1\"/>\n",
       "<path class=\"bond-9 atom-10 atom-11\" d=\"M 269.4,153.4 L 253.9,151.4\" style=\"fill:none;fill-rule:evenodd;stroke:#000000;stroke-width:2.0px;stroke-linecap:butt;stroke-linejoin:miter;stroke-opacity:1\"/>\n",
       "<path class=\"bond-9 atom-10 atom-11\" d=\"M 253.9,151.4 L 238.4,149.5\" style=\"fill:none;fill-rule:evenodd;stroke:#FF0000;stroke-width:2.0px;stroke-linecap:butt;stroke-linejoin:miter;stroke-opacity:1\"/>\n",
       "<path class=\"bond-10 atom-10 atom-12\" d=\"M 269.4,153.4 L 291.9,123.6\" style=\"fill:none;fill-rule:evenodd;stroke:#000000;stroke-width:2.0px;stroke-linecap:butt;stroke-linejoin:miter;stroke-opacity:1\"/>\n",
       "<path class=\"bond-11 atom-12 atom-13\" d=\"M 291.9,123.6 L 328.9,128.2\" style=\"fill:none;fill-rule:evenodd;stroke:#000000;stroke-width:2.0px;stroke-linecap:butt;stroke-linejoin:miter;stroke-opacity:1\"/>\n",
       "<path class=\"bond-11 atom-12 atom-13\" d=\"M 294.4,129.5 L 325.0,133.3\" style=\"fill:none;fill-rule:evenodd;stroke:#000000;stroke-width:2.0px;stroke-linecap:butt;stroke-linejoin:miter;stroke-opacity:1\"/>\n",
       "<path class=\"bond-12 atom-13 atom-14\" d=\"M 328.9,128.2 L 337.6,116.6\" style=\"fill:none;fill-rule:evenodd;stroke:#000000;stroke-width:2.0px;stroke-linecap:butt;stroke-linejoin:miter;stroke-opacity:1\"/>\n",
       "<path class=\"bond-12 atom-13 atom-14\" d=\"M 337.6,116.6 L 346.3,105.1\" style=\"fill:none;fill-rule:evenodd;stroke:#FF0000;stroke-width:2.0px;stroke-linecap:butt;stroke-linejoin:miter;stroke-opacity:1\"/>\n",
       "<path class=\"bond-13 atom-13 atom-7\" d=\"M 328.9,128.2 L 343.4,162.5\" style=\"fill:none;fill-rule:evenodd;stroke:#000000;stroke-width:2.0px;stroke-linecap:butt;stroke-linejoin:miter;stroke-opacity:1\"/>\n",
       "<path d=\"M 380.9,166.5 L 380.4,167.1 L 378.6,166.9\" style=\"fill:none;stroke:#000000;stroke-width:2.0px;stroke-linecap:butt;stroke-linejoin:miter;stroke-opacity:1;\"/>\n",
       "<path d=\"M 285.8,187.9 L 283.9,187.7 L 283.2,186.0\" style=\"fill:none;stroke:#000000;stroke-width:2.0px;stroke-linecap:butt;stroke-linejoin:miter;stroke-opacity:1;\"/>\n",
       "<path class=\"atom-1\" d=\"M 398.1 137.4 Q 398.1 134.8, 399.3 133.4 Q 400.6 132.0, 402.9 132.0 Q 405.2 132.0, 406.5 133.4 Q 407.8 134.8, 407.8 137.4 Q 407.8 139.9, 406.5 141.4 Q 405.2 142.8, 402.9 142.8 Q 400.6 142.8, 399.3 141.4 Q 398.1 139.9, 398.1 137.4 M 402.9 141.6 Q 404.5 141.6, 405.4 140.6 Q 406.3 139.5, 406.3 137.4 Q 406.3 135.3, 405.4 134.2 Q 404.5 133.2, 402.9 133.2 Q 401.3 133.2, 400.4 134.2 Q 399.5 135.3, 399.5 137.4 Q 399.5 139.5, 400.4 140.6 Q 401.3 141.6, 402.9 141.6 \" fill=\"#FF0000\"/>\n",
       "<path class=\"atom-3\" d=\"M 390.1 201.5 Q 390.1 198.9, 391.4 197.5 Q 392.6 196.1, 395.0 196.1 Q 397.3 196.1, 398.6 197.5 Q 399.8 198.9, 399.8 201.5 Q 399.8 204.0, 398.6 205.5 Q 397.3 206.9, 395.0 206.9 Q 392.6 206.9, 391.4 205.5 Q 390.1 204.0, 390.1 201.5 M 395.0 205.8 Q 396.6 205.8, 397.4 204.7 Q 398.3 203.6, 398.3 201.5 Q 398.3 199.4, 397.4 198.4 Q 396.6 197.3, 395.0 197.3 Q 393.4 197.3, 392.5 198.3 Q 391.6 199.4, 391.6 201.5 Q 391.6 203.6, 392.5 204.7 Q 393.4 205.8, 395.0 205.8 \" fill=\"#FF0000\"/>\n",
       "<path class=\"atom-8\" d=\"M 217.1 143.6 L 218.5 143.6 L 218.5 148.0 L 223.9 148.0 L 223.9 143.6 L 225.3 143.6 L 225.3 154.1 L 223.9 154.1 L 223.9 149.2 L 218.5 149.2 L 218.5 154.1 L 217.1 154.1 L 217.1 143.6 \" fill=\"#FF0000\"/>\n",
       "<path class=\"atom-8\" d=\"M 227.5 148.8 Q 227.5 146.3, 228.8 144.9 Q 230.0 143.4, 232.4 143.4 Q 234.7 143.4, 236.0 144.9 Q 237.2 146.3, 237.2 148.8 Q 237.2 151.4, 235.9 152.8 Q 234.7 154.3, 232.4 154.3 Q 230.0 154.3, 228.8 152.8 Q 227.5 151.4, 227.5 148.8 M 232.4 153.1 Q 234.0 153.1, 234.8 152.0 Q 235.7 150.9, 235.7 148.8 Q 235.7 146.7, 234.8 145.7 Q 234.0 144.6, 232.4 144.6 Q 230.8 144.6, 229.9 145.7 Q 229.0 146.7, 229.0 148.8 Q 229.0 150.9, 229.9 152.0 Q 230.8 153.1, 232.4 153.1 \" fill=\"#FF0000\"/>\n",
       "<path class=\"atom-11\" d=\"M 346.5 98.4 Q 346.5 95.9, 347.7 94.5 Q 349.0 93.1, 351.3 93.1 Q 353.7 93.1, 354.9 94.5 Q 356.2 95.9, 356.2 98.4 Q 356.2 101.0, 354.9 102.5 Q 353.7 103.9, 351.3 103.9 Q 349.0 103.9, 347.7 102.5 Q 346.5 101.0, 346.5 98.4 M 351.3 102.7 Q 353.0 102.7, 353.8 101.6 Q 354.7 100.5, 354.7 98.4 Q 354.7 96.4, 353.8 95.3 Q 353.0 94.2, 351.3 94.2 Q 349.7 94.2, 348.9 95.3 Q 348.0 96.3, 348.0 98.4 Q 348.0 100.6, 348.9 101.6 Q 349.7 102.7, 351.3 102.7 \" fill=\"#FF0000\"/>\n",
       "<path class=\"atom-11\" d=\"M 357.8 93.2 L 359.3 93.2 L 359.3 97.7 L 364.7 97.7 L 364.7 93.2 L 366.1 93.2 L 366.1 103.7 L 364.7 103.7 L 364.7 98.9 L 359.3 98.9 L 359.3 103.7 L 357.8 103.7 L 357.8 93.2 \" fill=\"#FF0000\"/>\n",
       "<path class=\"bond-14 atom-15 atom-16\" d=\"M 526.5,119.5 L 563.6,116.1\" style=\"fill:none;fill-rule:evenodd;stroke:#000000;stroke-width:2.0px;stroke-linecap:butt;stroke-linejoin:miter;stroke-opacity:1\"/>\n",
       "<path class=\"bond-15 atom-16 atom-17\" d=\"M 563.6,116.1 L 572.1,128.0\" style=\"fill:none;fill-rule:evenodd;stroke:#000000;stroke-width:2.0px;stroke-linecap:butt;stroke-linejoin:miter;stroke-opacity:1\"/>\n",
       "<path class=\"bond-15 atom-16 atom-17\" d=\"M 572.1,128.0 L 580.5,140.0\" style=\"fill:none;fill-rule:evenodd;stroke:#FF0000;stroke-width:2.0px;stroke-linecap:butt;stroke-linejoin:miter;stroke-opacity:1\"/>\n",
       "<path class=\"bond-16 atom-17 atom-18\" d=\"M 591.2,146.0 L 606.8,144.6\" style=\"fill:none;fill-rule:evenodd;stroke:#FF0000;stroke-width:2.0px;stroke-linecap:butt;stroke-linejoin:miter;stroke-opacity:1\"/>\n",
       "<path class=\"bond-16 atom-17 atom-18\" d=\"M 606.8,144.6 L 622.3,143.2\" style=\"fill:none;fill-rule:evenodd;stroke:#000000;stroke-width:2.0px;stroke-linecap:butt;stroke-linejoin:miter;stroke-opacity:1\"/>\n",
       "<path class=\"bond-17 atom-18 atom-19\" d=\"M 622.3,143.2 L 637.9,109.3\" style=\"fill:none;fill-rule:evenodd;stroke:#000000;stroke-width:2.0px;stroke-linecap:butt;stroke-linejoin:miter;stroke-opacity:1\"/>\n",
       "<path class=\"bond-17 atom-18 atom-19\" d=\"M 628.7,142.6 L 641.7,114.6\" style=\"fill:none;fill-rule:evenodd;stroke:#000000;stroke-width:2.0px;stroke-linecap:butt;stroke-linejoin:miter;stroke-opacity:1\"/>\n",
       "<path class=\"bond-18 atom-19 atom-20\" d=\"M 637.9,109.3 L 675.1,105.9\" style=\"fill:none;fill-rule:evenodd;stroke:#000000;stroke-width:2.0px;stroke-linecap:butt;stroke-linejoin:miter;stroke-opacity:1\"/>\n",
       "<path class=\"bond-19 atom-20 atom-21\" d=\"M 675.1,105.9 L 696.6,136.4\" style=\"fill:none;fill-rule:evenodd;stroke:#000000;stroke-width:2.0px;stroke-linecap:butt;stroke-linejoin:miter;stroke-opacity:1\"/>\n",
       "<path class=\"bond-19 atom-20 atom-21\" d=\"M 672.4,111.8 L 690.1,137.0\" style=\"fill:none;fill-rule:evenodd;stroke:#000000;stroke-width:2.0px;stroke-linecap:butt;stroke-linejoin:miter;stroke-opacity:1\"/>\n",
       "<path class=\"bond-20 atom-21 atom-22\" d=\"M 696.6,136.4 L 733.7,133.0\" style=\"fill:none;fill-rule:evenodd;stroke:#000000;stroke-width:2.0px;stroke-linecap:butt;stroke-linejoin:miter;stroke-opacity:1\"/>\n",
       "<path class=\"bond-21 atom-22 atom-23\" d=\"M 730.5,133.3 L 739.4,145.9\" style=\"fill:none;fill-rule:evenodd;stroke:#000000;stroke-width:2.0px;stroke-linecap:butt;stroke-linejoin:miter;stroke-opacity:1\"/>\n",
       "<path class=\"bond-21 atom-22 atom-23\" d=\"M 739.4,145.9 L 748.3,158.5\" style=\"fill:none;fill-rule:evenodd;stroke:#FF0000;stroke-width:2.0px;stroke-linecap:butt;stroke-linejoin:miter;stroke-opacity:1\"/>\n",
       "<path class=\"bond-21 atom-22 atom-23\" d=\"M 735.1,130.1 L 744.0,142.7\" style=\"fill:none;fill-rule:evenodd;stroke:#000000;stroke-width:2.0px;stroke-linecap:butt;stroke-linejoin:miter;stroke-opacity:1\"/>\n",
       "<path class=\"bond-21 atom-22 atom-23\" d=\"M 744.0,142.7 L 752.9,155.3\" style=\"fill:none;fill-rule:evenodd;stroke:#FF0000;stroke-width:2.0px;stroke-linecap:butt;stroke-linejoin:miter;stroke-opacity:1\"/>\n",
       "<path class=\"bond-22 atom-22 atom-24\" d=\"M 733.7,133.0 L 740.0,119.4\" style=\"fill:none;fill-rule:evenodd;stroke:#000000;stroke-width:2.0px;stroke-linecap:butt;stroke-linejoin:miter;stroke-opacity:1\"/>\n",
       "<path class=\"bond-22 atom-22 atom-24\" d=\"M 740.0,119.4 L 746.3,105.9\" style=\"fill:none;fill-rule:evenodd;stroke:#FF0000;stroke-width:2.0px;stroke-linecap:butt;stroke-linejoin:miter;stroke-opacity:1\"/>\n",
       "<path class=\"bond-23 atom-24 atom-25\" d=\"M 755.4,98.6 L 771.0,97.1\" style=\"fill:none;fill-rule:evenodd;stroke:#FF0000;stroke-width:2.0px;stroke-linecap:butt;stroke-linejoin:miter;stroke-opacity:1\"/>\n",
       "<path class=\"bond-23 atom-24 atom-25\" d=\"M 771.0,97.1 L 786.5,95.7\" style=\"fill:none;fill-rule:evenodd;stroke:#000000;stroke-width:2.0px;stroke-linecap:butt;stroke-linejoin:miter;stroke-opacity:1\"/>\n",
       "<path class=\"bond-24 atom-21 atom-26\" d=\"M 696.6,136.4 L 680.9,170.2\" style=\"fill:none;fill-rule:evenodd;stroke:#000000;stroke-width:2.0px;stroke-linecap:butt;stroke-linejoin:miter;stroke-opacity:1\"/>\n",
       "<path class=\"bond-25 atom-26 atom-27\" d=\"M 680.9,170.2 L 689.4,182.2\" style=\"fill:none;fill-rule:evenodd;stroke:#000000;stroke-width:2.0px;stroke-linecap:butt;stroke-linejoin:miter;stroke-opacity:1\"/>\n",
       "<path class=\"bond-25 atom-26 atom-27\" d=\"M 689.4,182.2 L 697.8,194.1\" style=\"fill:none;fill-rule:evenodd;stroke:#FF0000;stroke-width:2.0px;stroke-linecap:butt;stroke-linejoin:miter;stroke-opacity:1\"/>\n",
       "<path class=\"bond-26 atom-26 atom-28\" d=\"M 680.9,170.2 L 643.8,173.6\" style=\"fill:none;fill-rule:evenodd;stroke:#000000;stroke-width:2.0px;stroke-linecap:butt;stroke-linejoin:miter;stroke-opacity:1\"/>\n",
       "<path class=\"bond-26 atom-26 atom-28\" d=\"M 677.2,165.0 L 646.5,167.8\" style=\"fill:none;fill-rule:evenodd;stroke:#000000;stroke-width:2.0px;stroke-linecap:butt;stroke-linejoin:miter;stroke-opacity:1\"/>\n",
       "<path class=\"bond-27 atom-28 atom-18\" d=\"M 643.8,173.6 L 622.3,143.2\" style=\"fill:none;fill-rule:evenodd;stroke:#000000;stroke-width:2.0px;stroke-linecap:butt;stroke-linejoin:miter;stroke-opacity:1\"/>\n",
       "<path class=\"atom-2\" d=\"M 580.3 146.6 Q 580.3 144.0, 581.6 142.6 Q 582.8 141.2, 585.1 141.2 Q 587.5 141.2, 588.7 142.6 Q 590.0 144.0, 590.0 146.6 Q 590.0 149.1, 588.7 150.6 Q 587.5 152.1, 585.1 152.1 Q 582.8 152.1, 581.6 150.6 Q 580.3 149.2, 580.3 146.6 M 585.1 150.9 Q 586.8 150.9, 587.6 149.8 Q 588.5 148.7, 588.5 146.6 Q 588.5 144.5, 587.6 143.5 Q 586.8 142.4, 585.1 142.4 Q 583.5 142.4, 582.7 143.4 Q 581.8 144.5, 581.8 146.6 Q 581.8 148.7, 582.7 149.8 Q 583.5 150.9, 585.1 150.9 \" fill=\"#FF0000\"/>\n",
       "<path class=\"atom-8\" d=\"M 750.4 163.5 Q 750.4 161.0, 751.6 159.5 Q 752.9 158.1, 755.2 158.1 Q 757.6 158.1, 758.8 159.5 Q 760.1 161.0, 760.1 163.5 Q 760.1 166.1, 758.8 167.5 Q 757.5 169.0, 755.2 169.0 Q 752.9 169.0, 751.6 167.5 Q 750.4 166.1, 750.4 163.5 M 755.2 167.8 Q 756.8 167.8, 757.7 166.7 Q 758.6 165.6, 758.6 163.5 Q 758.6 161.4, 757.7 160.4 Q 756.8 159.3, 755.2 159.3 Q 753.6 159.3, 752.7 160.4 Q 751.9 161.4, 751.9 163.5 Q 751.9 165.6, 752.7 166.7 Q 753.6 167.8, 755.2 167.8 \" fill=\"#FF0000\"/>\n",
       "<path class=\"atom-9\" d=\"M 744.5 99.2 Q 744.5 96.6, 745.8 95.2 Q 747.0 93.8, 749.4 93.8 Q 751.7 93.8, 753.0 95.2 Q 754.2 96.6, 754.2 99.2 Q 754.2 101.7, 752.9 103.2 Q 751.7 104.6, 749.4 104.6 Q 747.0 104.6, 745.8 103.2 Q 744.5 101.7, 744.5 99.2 M 749.4 103.4 Q 751.0 103.4, 751.8 102.4 Q 752.7 101.3, 752.7 99.2 Q 752.7 97.1, 751.8 96.0 Q 751.0 95.0, 749.4 95.0 Q 747.7 95.0, 746.9 96.0 Q 746.0 97.1, 746.0 99.2 Q 746.0 101.3, 746.9 102.4 Q 747.7 103.4, 749.4 103.4 \" fill=\"#FF0000\"/>\n",
       "<path class=\"atom-12\" d=\"M 697.6 200.7 Q 697.6 198.2, 698.9 196.8 Q 700.1 195.4, 702.5 195.4 Q 704.8 195.4, 706.1 196.8 Q 707.3 198.2, 707.3 200.7 Q 707.3 203.3, 706.0 204.8 Q 704.8 206.2, 702.5 206.2 Q 700.1 206.2, 698.9 204.8 Q 697.6 203.3, 697.6 200.7 M 702.5 205.0 Q 704.1 205.0, 704.9 204.0 Q 705.8 202.9, 705.8 200.7 Q 705.8 198.7, 704.9 197.6 Q 704.1 196.6, 702.5 196.6 Q 700.8 196.6, 700.0 197.6 Q 699.1 198.7, 699.1 200.7 Q 699.1 202.9, 700.0 204.0 Q 700.8 205.0, 702.5 205.0 \" fill=\"#FF0000\"/>\n",
       "<path class=\"atom-12\" d=\"M 708.9 195.5 L 710.4 195.5 L 710.4 200.0 L 715.8 200.0 L 715.8 195.5 L 717.2 195.5 L 717.2 206.1 L 715.8 206.1 L 715.8 201.2 L 710.4 201.2 L 710.4 206.1 L 708.9 206.1 L 708.9 195.5 \" fill=\"#FF0000\"/>\n",
       "<path d=\"M 454.0,150.0 L 512.0,150.0\" style=\"fill:none;fill-rule:evenodd;stroke:#000000;stroke-width:2.0px;stroke-linecap:butt;stroke-linejoin:miter;stroke-opacity:1\"/>\n",
       "<path d=\"M 512.0,150.0 L 507.0,152.9\" style=\"fill:none;fill-rule:evenodd;stroke:#000000;stroke-width:2.0px;stroke-linecap:butt;stroke-linejoin:miter;stroke-opacity:1\"/>\n",
       "<path d=\"M 512.0,150.0 L 507.0,147.1\" style=\"fill:none;fill-rule:evenodd;stroke:#000000;stroke-width:2.0px;stroke-linecap:butt;stroke-linejoin:miter;stroke-opacity:1\"/>\n",
       "</svg>"
      ],
      "text/plain": [
       "<IPython.core.display.SVG object>"
      ]
     },
     "metadata": {},
     "output_type": "display_data"
    },
    {
     "name": "stdout",
     "output_type": "stream",
     "text": [
      "--------------------------------------------\n",
      "\n",
      "\n",
      "\n",
      "Sequence 3\n",
      "Similarity Scores: Overall: 0.4171006944444445,Candidate Reactants: 0.6458333333333334, Product: 0.6458333333333334\n",
      "Reaction Class: 1\n",
      "Predicted Reaction: CCI.COC(=O)c1ccc(O)cc1O>>CCOc1ccc(C(=O)OC)c(O)c1\n",
      "Template Applied: [O;H0;D2;+0:3](-[c:4])-[C;H2;D2;+0:1]-[C;H3;D1:2]>>[I]-[C;H2;D2;+0:1]-[C;H3;D1:2].[O;D1;H1;+0:3]-[c:4]\n",
      "Patent ID: US20080249137A1\n",
      "\u001b[92mGround Truth Equals Prediction\u001b[0m\n"
     ]
    },
    {
     "data": {
      "image/svg+xml": [
       "<svg xmlns=\"http://www.w3.org/2000/svg\" xmlns:rdkit=\"http://www.rdkit.org/xml\" xmlns:xlink=\"http://www.w3.org/1999/xlink\" version=\"1.1\" baseProfile=\"full\" xml:space=\"preserve\" width=\"900px\" height=\"300px\" viewBox=\"0 0 900 300\">\n",
       "<!-- END OF HEADER -->\n",
       "<rect style=\"opacity:1.0;fill:#FFFFFF;stroke:none\" width=\"900.0\" height=\"300.0\" x=\"0.0\" y=\"0.0\"> </rect>\n",
       "<path class=\"bond-0 atom-0 atom-1\" d=\"M 111.4,156.8 L 144.1,137.8\" style=\"fill:none;fill-rule:evenodd;stroke:#000000;stroke-width:2.0px;stroke-linecap:butt;stroke-linejoin:miter;stroke-opacity:1\"/>\n",
       "<path class=\"bond-1 atom-1 atom-2\" d=\"M 144.1,137.8 L 159.5,146.7\" style=\"fill:none;fill-rule:evenodd;stroke:#000000;stroke-width:2.0px;stroke-linecap:butt;stroke-linejoin:miter;stroke-opacity:1\"/>\n",
       "<path class=\"bond-1 atom-1 atom-2\" d=\"M 159.5,146.7 L 175.0,155.6\" style=\"fill:none;fill-rule:evenodd;stroke:#A01EEF;stroke-width:2.0px;stroke-linecap:butt;stroke-linejoin:miter;stroke-opacity:1\"/>\n",
       "<path d=\"M 142.5,138.8 L 144.1,137.8 L 144.9,138.3\" style=\"fill:none;stroke:#000000;stroke-width:2.0px;stroke-linecap:butt;stroke-linejoin:miter;stroke-opacity:1;\"/>\n",
       "<path class=\"atom-2\" d=\"M 176.2 151.4 L 177.6 151.4 L 177.6 162.2 L 176.2 162.2 L 176.2 151.4 \" fill=\"#A01EEF\"/>\n",
       "<path d=\"M 193.0,140.0 L 193.0,160.0\" style=\"fill:none;fill-rule:evenodd;stroke:#000000;stroke-width:2.0px;stroke-linecap:butt;stroke-linejoin:miter;stroke-opacity:1\"/>\n",
       "<path d=\"M 183.0,150.0 L 203.0,150.0\" style=\"fill:none;fill-rule:evenodd;stroke:#000000;stroke-width:2.0px;stroke-linecap:butt;stroke-linejoin:miter;stroke-opacity:1\"/>\n",
       "<path class=\"bond-2 atom-3 atom-4\" d=\"M 434.6,141.8 L 418.9,139.8\" style=\"fill:none;fill-rule:evenodd;stroke:#000000;stroke-width:2.0px;stroke-linecap:butt;stroke-linejoin:miter;stroke-opacity:1\"/>\n",
       "<path class=\"bond-2 atom-3 atom-4\" d=\"M 418.9,139.8 L 403.2,137.9\" style=\"fill:none;fill-rule:evenodd;stroke:#FF0000;stroke-width:2.0px;stroke-linecap:butt;stroke-linejoin:miter;stroke-opacity:1\"/>\n",
       "<path class=\"bond-3 atom-4 atom-5\" d=\"M 391.8,144.0 L 383.0,155.7\" style=\"fill:none;fill-rule:evenodd;stroke:#FF0000;stroke-width:2.0px;stroke-linecap:butt;stroke-linejoin:miter;stroke-opacity:1\"/>\n",
       "<path class=\"bond-3 atom-4 atom-5\" d=\"M 383.0,155.7 L 374.2,167.3\" style=\"fill:none;fill-rule:evenodd;stroke:#000000;stroke-width:2.0px;stroke-linecap:butt;stroke-linejoin:miter;stroke-opacity:1\"/>\n",
       "<path class=\"bond-4 atom-5 atom-6\" d=\"M 370.9,166.9 L 377.2,181.8\" style=\"fill:none;fill-rule:evenodd;stroke:#000000;stroke-width:2.0px;stroke-linecap:butt;stroke-linejoin:miter;stroke-opacity:1\"/>\n",
       "<path class=\"bond-4 atom-5 atom-6\" d=\"M 377.2,181.8 L 383.5,196.6\" style=\"fill:none;fill-rule:evenodd;stroke:#FF0000;stroke-width:2.0px;stroke-linecap:butt;stroke-linejoin:miter;stroke-opacity:1\"/>\n",
       "<path class=\"bond-4 atom-5 atom-6\" d=\"M 376.2,164.7 L 382.5,179.6\" style=\"fill:none;fill-rule:evenodd;stroke:#000000;stroke-width:2.0px;stroke-linecap:butt;stroke-linejoin:miter;stroke-opacity:1\"/>\n",
       "<path class=\"bond-4 atom-5 atom-6\" d=\"M 382.5,179.6 L 388.7,194.4\" style=\"fill:none;fill-rule:evenodd;stroke:#FF0000;stroke-width:2.0px;stroke-linecap:butt;stroke-linejoin:miter;stroke-opacity:1\"/>\n",
       "<path class=\"bond-5 atom-5 atom-7\" d=\"M 374.2,167.3 L 336.6,162.7\" style=\"fill:none;fill-rule:evenodd;stroke:#000000;stroke-width:2.0px;stroke-linecap:butt;stroke-linejoin:miter;stroke-opacity:1\"/>\n",
       "<path class=\"bond-6 atom-7 atom-8\" d=\"M 336.6,162.7 L 313.8,192.9\" style=\"fill:none;fill-rule:evenodd;stroke:#000000;stroke-width:2.0px;stroke-linecap:butt;stroke-linejoin:miter;stroke-opacity:1\"/>\n",
       "<path class=\"bond-6 atom-7 atom-8\" d=\"M 330.1,161.9 L 311.3,186.9\" style=\"fill:none;fill-rule:evenodd;stroke:#000000;stroke-width:2.0px;stroke-linecap:butt;stroke-linejoin:miter;stroke-opacity:1\"/>\n",
       "<path class=\"bond-7 atom-8 atom-9\" d=\"M 313.8,192.9 L 276.3,188.3\" style=\"fill:none;fill-rule:evenodd;stroke:#000000;stroke-width:2.0px;stroke-linecap:butt;stroke-linejoin:miter;stroke-opacity:1\"/>\n",
       "<path class=\"bond-8 atom-9 atom-10\" d=\"M 276.3,188.3 L 261.5,153.4\" style=\"fill:none;fill-rule:evenodd;stroke:#000000;stroke-width:2.0px;stroke-linecap:butt;stroke-linejoin:miter;stroke-opacity:1\"/>\n",
       "<path class=\"bond-8 atom-9 atom-10\" d=\"M 280.2,183.0 L 268.0,154.2\" style=\"fill:none;fill-rule:evenodd;stroke:#000000;stroke-width:2.0px;stroke-linecap:butt;stroke-linejoin:miter;stroke-opacity:1\"/>\n",
       "<path class=\"bond-9 atom-10 atom-11\" d=\"M 261.5,153.4 L 245.8,151.5\" style=\"fill:none;fill-rule:evenodd;stroke:#000000;stroke-width:2.0px;stroke-linecap:butt;stroke-linejoin:miter;stroke-opacity:1\"/>\n",
       "<path class=\"bond-9 atom-10 atom-11\" d=\"M 245.8,151.5 L 230.1,149.5\" style=\"fill:none;fill-rule:evenodd;stroke:#FF0000;stroke-width:2.0px;stroke-linecap:butt;stroke-linejoin:miter;stroke-opacity:1\"/>\n",
       "<path class=\"bond-10 atom-10 atom-12\" d=\"M 261.5,153.4 L 284.3,123.2\" style=\"fill:none;fill-rule:evenodd;stroke:#000000;stroke-width:2.0px;stroke-linecap:butt;stroke-linejoin:miter;stroke-opacity:1\"/>\n",
       "<path class=\"bond-11 atom-12 atom-13\" d=\"M 284.3,123.2 L 321.9,127.8\" style=\"fill:none;fill-rule:evenodd;stroke:#000000;stroke-width:2.0px;stroke-linecap:butt;stroke-linejoin:miter;stroke-opacity:1\"/>\n",
       "<path class=\"bond-11 atom-12 atom-13\" d=\"M 286.9,129.2 L 317.9,133.1\" style=\"fill:none;fill-rule:evenodd;stroke:#000000;stroke-width:2.0px;stroke-linecap:butt;stroke-linejoin:miter;stroke-opacity:1\"/>\n",
       "<path class=\"bond-12 atom-13 atom-14\" d=\"M 321.9,127.8 L 330.7,116.2\" style=\"fill:none;fill-rule:evenodd;stroke:#000000;stroke-width:2.0px;stroke-linecap:butt;stroke-linejoin:miter;stroke-opacity:1\"/>\n",
       "<path class=\"bond-12 atom-13 atom-14\" d=\"M 330.7,116.2 L 339.5,104.5\" style=\"fill:none;fill-rule:evenodd;stroke:#FF0000;stroke-width:2.0px;stroke-linecap:butt;stroke-linejoin:miter;stroke-opacity:1\"/>\n",
       "<path class=\"bond-13 atom-13 atom-7\" d=\"M 321.9,127.8 L 336.6,162.7\" style=\"fill:none;fill-rule:evenodd;stroke:#000000;stroke-width:2.0px;stroke-linecap:butt;stroke-linejoin:miter;stroke-opacity:1\"/>\n",
       "<path d=\"M 374.6,166.8 L 374.2,167.3 L 372.3,167.1\" style=\"fill:none;stroke:#000000;stroke-width:2.0px;stroke-linecap:butt;stroke-linejoin:miter;stroke-opacity:1;\"/>\n",
       "<path d=\"M 278.1,188.5 L 276.3,188.3 L 275.5,186.5\" style=\"fill:none;stroke:#000000;stroke-width:2.0px;stroke-linecap:butt;stroke-linejoin:miter;stroke-opacity:1;\"/>\n",
       "<path class=\"atom-1\" d=\"M 392.1 137.2 Q 392.1 134.6, 393.4 133.2 Q 394.6 131.7, 397.0 131.7 Q 399.4 131.7, 400.7 133.2 Q 401.9 134.6, 401.9 137.2 Q 401.9 139.8, 400.6 141.3 Q 399.4 142.7, 397.0 142.7 Q 394.6 142.7, 393.4 141.3 Q 392.1 139.8, 392.1 137.2 M 397.0 141.5 Q 398.6 141.5, 399.5 140.4 Q 400.4 139.3, 400.4 137.2 Q 400.4 135.1, 399.5 134.0 Q 398.6 132.9, 397.0 132.9 Q 395.4 132.9, 394.5 134.0 Q 393.6 135.0, 393.6 137.2 Q 393.6 139.3, 394.5 140.4 Q 395.4 141.5, 397.0 141.5 \" fill=\"#FF0000\"/>\n",
       "<path class=\"atom-3\" d=\"M 384.0 202.2 Q 384.0 199.7, 385.3 198.2 Q 386.6 196.8, 389.0 196.8 Q 391.3 196.8, 392.6 198.2 Q 393.9 199.7, 393.9 202.2 Q 393.9 204.8, 392.6 206.3 Q 391.3 207.8, 389.0 207.8 Q 386.6 207.8, 385.3 206.3 Q 384.0 204.9, 384.0 202.2 M 389.0 206.6 Q 390.6 206.6, 391.5 205.5 Q 392.4 204.4, 392.4 202.2 Q 392.4 200.1, 391.5 199.1 Q 390.6 198.0, 389.0 198.0 Q 387.3 198.0, 386.4 199.1 Q 385.5 200.1, 385.5 202.2 Q 385.5 204.4, 386.4 205.5 Q 387.3 206.6, 389.0 206.6 \" fill=\"#FF0000\"/>\n",
       "<path class=\"atom-8\" d=\"M 208.4 143.5 L 209.9 143.5 L 209.9 148.0 L 215.4 148.0 L 215.4 143.5 L 216.8 143.5 L 216.8 154.2 L 215.4 154.2 L 215.4 149.2 L 209.9 149.2 L 209.9 154.2 L 208.4 154.2 L 208.4 143.5 \" fill=\"#FF0000\"/>\n",
       "<path class=\"atom-8\" d=\"M 219.0 148.8 Q 219.0 146.2, 220.3 144.8 Q 221.6 143.3, 223.9 143.3 Q 226.3 143.3, 227.6 144.8 Q 228.9 146.2, 228.9 148.8 Q 228.9 151.4, 227.6 152.9 Q 226.3 154.3, 223.9 154.3 Q 221.6 154.3, 220.3 152.9 Q 219.0 151.4, 219.0 148.8 M 223.9 153.1 Q 225.6 153.1, 226.5 152.0 Q 227.3 150.9, 227.3 148.8 Q 227.3 146.7, 226.5 145.6 Q 225.6 144.5, 223.9 144.5 Q 222.3 144.5, 221.4 145.6 Q 220.5 146.7, 220.5 148.8 Q 220.5 151.0, 221.4 152.0 Q 222.3 153.1, 223.9 153.1 \" fill=\"#FF0000\"/>\n",
       "<path class=\"atom-11\" d=\"M 339.8 97.7 Q 339.8 95.1, 341.0 93.7 Q 342.3 92.2, 344.7 92.2 Q 347.1 92.2, 348.3 93.7 Q 349.6 95.1, 349.6 97.7 Q 349.6 100.3, 348.3 101.8 Q 347.0 103.2, 344.7 103.2 Q 342.3 103.2, 341.0 101.8 Q 339.8 100.3, 339.8 97.7 M 344.7 102.0 Q 346.3 102.0, 347.2 100.9 Q 348.1 99.8, 348.1 97.7 Q 348.1 95.6, 347.2 94.5 Q 346.3 93.4, 344.7 93.4 Q 343.0 93.4, 342.2 94.5 Q 341.3 95.5, 341.3 97.7 Q 341.3 99.8, 342.2 100.9 Q 343.0 102.0, 344.7 102.0 \" fill=\"#FF0000\"/>\n",
       "<path class=\"atom-11\" d=\"M 351.3 92.3 L 352.7 92.3 L 352.7 96.9 L 358.2 96.9 L 358.2 92.3 L 359.7 92.3 L 359.7 103.1 L 358.2 103.1 L 358.2 98.1 L 352.7 98.1 L 352.7 103.1 L 351.3 103.1 L 351.3 92.3 \" fill=\"#FF0000\"/>\n",
       "<path class=\"bond-14 atom-15 atom-16\" d=\"M 525.1,119.0 L 562.8,115.6\" style=\"fill:none;fill-rule:evenodd;stroke:#000000;stroke-width:2.0px;stroke-linecap:butt;stroke-linejoin:miter;stroke-opacity:1\"/>\n",
       "<path class=\"bond-15 atom-16 atom-17\" d=\"M 562.8,115.6 L 571.3,127.7\" style=\"fill:none;fill-rule:evenodd;stroke:#000000;stroke-width:2.0px;stroke-linecap:butt;stroke-linejoin:miter;stroke-opacity:1\"/>\n",
       "<path class=\"bond-15 atom-16 atom-17\" d=\"M 571.3,127.7 L 579.9,139.8\" style=\"fill:none;fill-rule:evenodd;stroke:#FF0000;stroke-width:2.0px;stroke-linecap:butt;stroke-linejoin:miter;stroke-opacity:1\"/>\n",
       "<path class=\"bond-16 atom-17 atom-18\" d=\"M 590.8,145.9 L 606.5,144.5\" style=\"fill:none;fill-rule:evenodd;stroke:#FF0000;stroke-width:2.0px;stroke-linecap:butt;stroke-linejoin:miter;stroke-opacity:1\"/>\n",
       "<path class=\"bond-16 atom-17 atom-18\" d=\"M 606.5,144.5 L 622.3,143.1\" style=\"fill:none;fill-rule:evenodd;stroke:#000000;stroke-width:2.0px;stroke-linecap:butt;stroke-linejoin:miter;stroke-opacity:1\"/>\n",
       "<path class=\"bond-17 atom-18 atom-19\" d=\"M 622.3,143.1 L 638.2,108.7\" style=\"fill:none;fill-rule:evenodd;stroke:#000000;stroke-width:2.0px;stroke-linecap:butt;stroke-linejoin:miter;stroke-opacity:1\"/>\n",
       "<path class=\"bond-17 atom-18 atom-19\" d=\"M 628.8,142.5 L 641.9,114.0\" style=\"fill:none;fill-rule:evenodd;stroke:#000000;stroke-width:2.0px;stroke-linecap:butt;stroke-linejoin:miter;stroke-opacity:1\"/>\n",
       "<path class=\"bond-18 atom-19 atom-20\" d=\"M 638.2,108.7 L 675.8,105.3\" style=\"fill:none;fill-rule:evenodd;stroke:#000000;stroke-width:2.0px;stroke-linecap:butt;stroke-linejoin:miter;stroke-opacity:1\"/>\n",
       "<path class=\"bond-19 atom-20 atom-21\" d=\"M 675.8,105.3 L 697.7,136.2\" style=\"fill:none;fill-rule:evenodd;stroke:#000000;stroke-width:2.0px;stroke-linecap:butt;stroke-linejoin:miter;stroke-opacity:1\"/>\n",
       "<path class=\"bond-19 atom-20 atom-21\" d=\"M 673.1,111.2 L 691.1,136.8\" style=\"fill:none;fill-rule:evenodd;stroke:#000000;stroke-width:2.0px;stroke-linecap:butt;stroke-linejoin:miter;stroke-opacity:1\"/>\n",
       "<path class=\"bond-20 atom-21 atom-22\" d=\"M 697.7,136.2 L 735.4,132.7\" style=\"fill:none;fill-rule:evenodd;stroke:#000000;stroke-width:2.0px;stroke-linecap:butt;stroke-linejoin:miter;stroke-opacity:1\"/>\n",
       "<path class=\"bond-21 atom-22 atom-23\" d=\"M 732.1,133.0 L 741.1,145.8\" style=\"fill:none;fill-rule:evenodd;stroke:#000000;stroke-width:2.0px;stroke-linecap:butt;stroke-linejoin:miter;stroke-opacity:1\"/>\n",
       "<path class=\"bond-21 atom-22 atom-23\" d=\"M 741.1,145.8 L 750.2,158.6\" style=\"fill:none;fill-rule:evenodd;stroke:#FF0000;stroke-width:2.0px;stroke-linecap:butt;stroke-linejoin:miter;stroke-opacity:1\"/>\n",
       "<path class=\"bond-21 atom-22 atom-23\" d=\"M 736.7,129.8 L 745.8,142.6\" style=\"fill:none;fill-rule:evenodd;stroke:#000000;stroke-width:2.0px;stroke-linecap:butt;stroke-linejoin:miter;stroke-opacity:1\"/>\n",
       "<path class=\"bond-21 atom-22 atom-23\" d=\"M 745.8,142.6 L 754.8,155.4\" style=\"fill:none;fill-rule:evenodd;stroke:#FF0000;stroke-width:2.0px;stroke-linecap:butt;stroke-linejoin:miter;stroke-opacity:1\"/>\n",
       "<path class=\"bond-22 atom-22 atom-24\" d=\"M 735.4,132.7 L 741.7,119.0\" style=\"fill:none;fill-rule:evenodd;stroke:#000000;stroke-width:2.0px;stroke-linecap:butt;stroke-linejoin:miter;stroke-opacity:1\"/>\n",
       "<path class=\"bond-22 atom-22 atom-24\" d=\"M 741.7,119.0 L 748.1,105.2\" style=\"fill:none;fill-rule:evenodd;stroke:#FF0000;stroke-width:2.0px;stroke-linecap:butt;stroke-linejoin:miter;stroke-opacity:1\"/>\n",
       "<path class=\"bond-23 atom-24 atom-25\" d=\"M 757.4,97.8 L 773.2,96.4\" style=\"fill:none;fill-rule:evenodd;stroke:#FF0000;stroke-width:2.0px;stroke-linecap:butt;stroke-linejoin:miter;stroke-opacity:1\"/>\n",
       "<path class=\"bond-23 atom-24 atom-25\" d=\"M 773.2,96.4 L 788.9,94.9\" style=\"fill:none;fill-rule:evenodd;stroke:#000000;stroke-width:2.0px;stroke-linecap:butt;stroke-linejoin:miter;stroke-opacity:1\"/>\n",
       "<path class=\"bond-24 atom-21 atom-26\" d=\"M 697.7,136.2 L 681.8,170.5\" style=\"fill:none;fill-rule:evenodd;stroke:#000000;stroke-width:2.0px;stroke-linecap:butt;stroke-linejoin:miter;stroke-opacity:1\"/>\n",
       "<path class=\"bond-25 atom-26 atom-27\" d=\"M 681.8,170.5 L 690.4,182.7\" style=\"fill:none;fill-rule:evenodd;stroke:#000000;stroke-width:2.0px;stroke-linecap:butt;stroke-linejoin:miter;stroke-opacity:1\"/>\n",
       "<path class=\"bond-25 atom-26 atom-27\" d=\"M 690.4,182.7 L 698.9,194.8\" style=\"fill:none;fill-rule:evenodd;stroke:#FF0000;stroke-width:2.0px;stroke-linecap:butt;stroke-linejoin:miter;stroke-opacity:1\"/>\n",
       "<path class=\"bond-26 atom-26 atom-28\" d=\"M 681.8,170.5 L 644.1,174.0\" style=\"fill:none;fill-rule:evenodd;stroke:#000000;stroke-width:2.0px;stroke-linecap:butt;stroke-linejoin:miter;stroke-opacity:1\"/>\n",
       "<path class=\"bond-26 atom-26 atom-28\" d=\"M 678.0,165.2 L 646.9,168.0\" style=\"fill:none;fill-rule:evenodd;stroke:#000000;stroke-width:2.0px;stroke-linecap:butt;stroke-linejoin:miter;stroke-opacity:1\"/>\n",
       "<path class=\"bond-27 atom-28 atom-18\" d=\"M 644.1,174.0 L 622.3,143.1\" style=\"fill:none;fill-rule:evenodd;stroke:#000000;stroke-width:2.0px;stroke-linecap:butt;stroke-linejoin:miter;stroke-opacity:1\"/>\n",
       "<path class=\"atom-2\" d=\"M 579.7 146.5 Q 579.7 144.0, 580.9 142.5 Q 582.2 141.1, 584.6 141.1 Q 587.0 141.1, 588.2 142.5 Q 589.5 144.0, 589.5 146.5 Q 589.5 149.1, 588.2 150.6 Q 586.9 152.1, 584.6 152.1 Q 582.2 152.1, 580.9 150.6 Q 579.7 149.2, 579.7 146.5 M 584.6 150.9 Q 586.2 150.9, 587.1 149.8 Q 588.0 148.7, 588.0 146.5 Q 588.0 144.4, 587.1 143.4 Q 586.2 142.3, 584.6 142.3 Q 583.0 142.3, 582.1 143.4 Q 581.2 144.4, 581.2 146.5 Q 581.2 148.7, 582.1 149.8 Q 583.0 150.9, 584.6 150.9 \" fill=\"#FF0000\"/>\n",
       "<path class=\"atom-8\" d=\"M 752.3 163.7 Q 752.3 161.1, 753.5 159.7 Q 754.8 158.2, 757.2 158.2 Q 759.6 158.2, 760.8 159.7 Q 762.1 161.1, 762.1 163.7 Q 762.1 166.3, 760.8 167.8 Q 759.5 169.2, 757.2 169.2 Q 754.8 169.2, 753.5 167.8 Q 752.3 166.3, 752.3 163.7 M 757.2 168.0 Q 758.8 168.0, 759.7 166.9 Q 760.6 165.8, 760.6 163.7 Q 760.6 161.6, 759.7 160.5 Q 758.8 159.4, 757.2 159.4 Q 755.6 159.4, 754.7 160.5 Q 753.8 161.6, 753.8 163.7 Q 753.8 165.9, 754.7 166.9 Q 755.6 168.0, 757.2 168.0 \" fill=\"#FF0000\"/>\n",
       "<path class=\"atom-9\" d=\"M 746.3 98.4 Q 746.3 95.8, 747.6 94.4 Q 748.9 92.9, 751.2 92.9 Q 753.6 92.9, 754.9 94.4 Q 756.2 95.8, 756.2 98.4 Q 756.2 101.0, 754.9 102.5 Q 753.6 104.0, 751.2 104.0 Q 748.9 104.0, 747.6 102.5 Q 746.3 101.0, 746.3 98.4 M 751.2 102.7 Q 752.9 102.7, 753.7 101.7 Q 754.6 100.5, 754.6 98.4 Q 754.6 96.3, 753.7 95.2 Q 752.9 94.2, 751.2 94.2 Q 749.6 94.2, 748.7 95.2 Q 747.8 96.3, 747.8 98.4 Q 747.8 100.6, 748.7 101.7 Q 749.6 102.7, 751.2 102.7 \" fill=\"#FF0000\"/>\n",
       "<path class=\"atom-12\" d=\"M 698.7 201.5 Q 698.7 198.9, 700.0 197.5 Q 701.3 196.0, 703.6 196.0 Q 706.0 196.0, 707.3 197.5 Q 708.6 198.9, 708.6 201.5 Q 708.6 204.1, 707.3 205.6 Q 706.0 207.1, 703.6 207.1 Q 701.3 207.1, 700.0 205.6 Q 698.7 204.1, 698.7 201.5 M 703.6 205.8 Q 705.3 205.8, 706.1 204.8 Q 707.0 203.6, 707.0 201.5 Q 707.0 199.4, 706.1 198.3 Q 705.3 197.3, 703.6 197.3 Q 702.0 197.3, 701.1 198.3 Q 700.2 199.4, 700.2 201.5 Q 700.2 203.7, 701.1 204.8 Q 702.0 205.8, 703.6 205.8 \" fill=\"#FF0000\"/>\n",
       "<path class=\"atom-12\" d=\"M 710.2 196.2 L 711.7 196.2 L 711.7 200.7 L 717.2 200.7 L 717.2 196.2 L 718.6 196.2 L 718.6 206.9 L 717.2 206.9 L 717.2 201.9 L 711.7 201.9 L 711.7 206.9 L 710.2 206.9 L 710.2 196.2 \" fill=\"#FF0000\"/>\n",
       "<path d=\"M 450.0,150.0 L 510.0,150.0\" style=\"fill:none;fill-rule:evenodd;stroke:#000000;stroke-width:2.0px;stroke-linecap:butt;stroke-linejoin:miter;stroke-opacity:1\"/>\n",
       "<path d=\"M 510.0,150.0 L 505.0,152.9\" style=\"fill:none;fill-rule:evenodd;stroke:#000000;stroke-width:2.0px;stroke-linecap:butt;stroke-linejoin:miter;stroke-opacity:1\"/>\n",
       "<path d=\"M 510.0,150.0 L 505.0,147.1\" style=\"fill:none;fill-rule:evenodd;stroke:#000000;stroke-width:2.0px;stroke-linecap:butt;stroke-linejoin:miter;stroke-opacity:1\"/>\n",
       "</svg>"
      ],
      "text/plain": [
       "<IPython.core.display.SVG object>"
      ]
     },
     "metadata": {},
     "output_type": "display_data"
    },
    {
     "name": "stdout",
     "output_type": "stream",
     "text": [
      "--------------------------------------------\n",
      "\n",
      "\n",
      "\n",
      "Sequence 4\n",
      "Similarity Scores: Overall: 0.4104938271604939,Candidate Reactants: 0.7037037037037037, Product: 0.5833333333333334\n",
      "Reaction Class: 1\n",
      "Predicted Reaction: CCOc1ccc(C(=O)OC)c(OC(C)=O)c1>>CCOc1ccc(C(=O)OC)c(O)c1\n",
      "Template Applied: [O;D1;H1;+0:1]-[c:2]>>[O]=[C](-[O;H0;D2;+0:1]-[c:2])-[C]\n",
      "Patent ID: US20100197950A1\n",
      "\u001b[91mGround Truth Does Not Equal Prediction\u001b[0m\n"
     ]
    },
    {
     "data": {
      "image/svg+xml": [
       "<svg xmlns=\"http://www.w3.org/2000/svg\" xmlns:rdkit=\"http://www.rdkit.org/xml\" xmlns:xlink=\"http://www.w3.org/1999/xlink\" version=\"1.1\" baseProfile=\"full\" xml:space=\"preserve\" width=\"900px\" height=\"300px\" viewBox=\"0 0 900 300\">\n",
       "<!-- END OF HEADER -->\n",
       "<rect style=\"opacity:1.0;fill:#FFFFFF;stroke:none\" width=\"900.0\" height=\"300.0\" x=\"0.0\" y=\"0.0\"> </rect>\n",
       "<path class=\"bond-0 atom-0 atom-1\" d=\"M 97.1,109.6 L 139.8,100.5\" style=\"fill:none;fill-rule:evenodd;stroke:#000000;stroke-width:2.0px;stroke-linecap:butt;stroke-linejoin:miter;stroke-opacity:1\"/>\n",
       "<path class=\"bond-1 atom-1 atom-2\" d=\"M 139.8,100.5 L 150.9,112.9\" style=\"fill:none;fill-rule:evenodd;stroke:#000000;stroke-width:2.0px;stroke-linecap:butt;stroke-linejoin:miter;stroke-opacity:1\"/>\n",
       "<path class=\"bond-1 atom-1 atom-2\" d=\"M 150.9,112.9 L 162.0,125.3\" style=\"fill:none;fill-rule:evenodd;stroke:#FF0000;stroke-width:2.0px;stroke-linecap:butt;stroke-linejoin:miter;stroke-opacity:1\"/>\n",
       "<path class=\"bond-2 atom-2 atom-3\" d=\"M 176.1,131.5 L 193.9,127.7\" style=\"fill:none;fill-rule:evenodd;stroke:#FF0000;stroke-width:2.0px;stroke-linecap:butt;stroke-linejoin:miter;stroke-opacity:1\"/>\n",
       "<path class=\"bond-2 atom-2 atom-3\" d=\"M 193.9,127.7 L 211.6,123.9\" style=\"fill:none;fill-rule:evenodd;stroke:#000000;stroke-width:2.0px;stroke-linecap:butt;stroke-linejoin:miter;stroke-opacity:1\"/>\n",
       "<path class=\"bond-3 atom-3 atom-4\" d=\"M 211.6,123.9 L 225.2,82.4\" style=\"fill:none;fill-rule:evenodd;stroke:#000000;stroke-width:2.0px;stroke-linecap:butt;stroke-linejoin:miter;stroke-opacity:1\"/>\n",
       "<path class=\"bond-3 atom-3 atom-4\" d=\"M 219.0,122.4 L 230.2,88.1\" style=\"fill:none;fill-rule:evenodd;stroke:#000000;stroke-width:2.0px;stroke-linecap:butt;stroke-linejoin:miter;stroke-opacity:1\"/>\n",
       "<path class=\"bond-4 atom-4 atom-5\" d=\"M 225.2,82.4 L 267.8,73.4\" style=\"fill:none;fill-rule:evenodd;stroke:#000000;stroke-width:2.0px;stroke-linecap:butt;stroke-linejoin:miter;stroke-opacity:1\"/>\n",
       "<path class=\"bond-5 atom-5 atom-6\" d=\"M 267.8,73.4 L 297.0,105.9\" style=\"fill:none;fill-rule:evenodd;stroke:#000000;stroke-width:2.0px;stroke-linecap:butt;stroke-linejoin:miter;stroke-opacity:1\"/>\n",
       "<path class=\"bond-5 atom-5 atom-6\" d=\"M 265.5,80.6 L 289.6,107.4\" style=\"fill:none;fill-rule:evenodd;stroke:#000000;stroke-width:2.0px;stroke-linecap:butt;stroke-linejoin:miter;stroke-opacity:1\"/>\n",
       "<path class=\"bond-6 atom-6 atom-7\" d=\"M 297.0,105.9 L 339.7,96.8\" style=\"fill:none;fill-rule:evenodd;stroke:#000000;stroke-width:2.0px;stroke-linecap:butt;stroke-linejoin:miter;stroke-opacity:1\"/>\n",
       "<path class=\"bond-7 atom-7 atom-8\" d=\"M 336.0,97.6 L 347.8,110.7\" style=\"fill:none;fill-rule:evenodd;stroke:#000000;stroke-width:2.0px;stroke-linecap:butt;stroke-linejoin:miter;stroke-opacity:1\"/>\n",
       "<path class=\"bond-7 atom-7 atom-8\" d=\"M 347.8,110.7 L 359.5,123.8\" style=\"fill:none;fill-rule:evenodd;stroke:#FF0000;stroke-width:2.0px;stroke-linecap:butt;stroke-linejoin:miter;stroke-opacity:1\"/>\n",
       "<path class=\"bond-7 atom-7 atom-8\" d=\"M 340.9,93.2 L 352.6,106.3\" style=\"fill:none;fill-rule:evenodd;stroke:#000000;stroke-width:2.0px;stroke-linecap:butt;stroke-linejoin:miter;stroke-opacity:1\"/>\n",
       "<path class=\"bond-7 atom-7 atom-8\" d=\"M 352.6,106.3 L 364.4,119.4\" style=\"fill:none;fill-rule:evenodd;stroke:#FF0000;stroke-width:2.0px;stroke-linecap:butt;stroke-linejoin:miter;stroke-opacity:1\"/>\n",
       "<path class=\"bond-8 atom-7 atom-9\" d=\"M 339.7,96.8 L 345.2,80.0\" style=\"fill:none;fill-rule:evenodd;stroke:#000000;stroke-width:2.0px;stroke-linecap:butt;stroke-linejoin:miter;stroke-opacity:1\"/>\n",
       "<path class=\"bond-8 atom-7 atom-9\" d=\"M 345.2,80.0 L 350.7,63.2\" style=\"fill:none;fill-rule:evenodd;stroke:#FF0000;stroke-width:2.0px;stroke-linecap:butt;stroke-linejoin:miter;stroke-opacity:1\"/>\n",
       "<path class=\"bond-9 atom-9 atom-10\" d=\"M 360.3,53.8 L 378.1,50.0\" style=\"fill:none;fill-rule:evenodd;stroke:#FF0000;stroke-width:2.0px;stroke-linecap:butt;stroke-linejoin:miter;stroke-opacity:1\"/>\n",
       "<path class=\"bond-9 atom-9 atom-10\" d=\"M 378.1,50.0 L 395.9,46.3\" style=\"fill:none;fill-rule:evenodd;stroke:#000000;stroke-width:2.0px;stroke-linecap:butt;stroke-linejoin:miter;stroke-opacity:1\"/>\n",
       "<path class=\"bond-10 atom-6 atom-11\" d=\"M 297.0,105.9 L 283.5,147.3\" style=\"fill:none;fill-rule:evenodd;stroke:#000000;stroke-width:2.0px;stroke-linecap:butt;stroke-linejoin:miter;stroke-opacity:1\"/>\n",
       "<path class=\"bond-11 atom-11 atom-12\" d=\"M 283.5,147.3 L 294.6,159.7\" style=\"fill:none;fill-rule:evenodd;stroke:#000000;stroke-width:2.0px;stroke-linecap:butt;stroke-linejoin:miter;stroke-opacity:1\"/>\n",
       "<path class=\"bond-11 atom-11 atom-12\" d=\"M 294.6,159.7 L 305.8,172.1\" style=\"fill:none;fill-rule:evenodd;stroke:#FF0000;stroke-width:2.0px;stroke-linecap:butt;stroke-linejoin:miter;stroke-opacity:1\"/>\n",
       "<path class=\"bond-12 atom-12 atom-13\" d=\"M 310.1,187.7 L 304.7,204.5\" style=\"fill:none;fill-rule:evenodd;stroke:#FF0000;stroke-width:2.0px;stroke-linecap:butt;stroke-linejoin:miter;stroke-opacity:1\"/>\n",
       "<path class=\"bond-12 atom-12 atom-13\" d=\"M 304.7,204.5 L 299.2,221.3\" style=\"fill:none;fill-rule:evenodd;stroke:#000000;stroke-width:2.0px;stroke-linecap:butt;stroke-linejoin:miter;stroke-opacity:1\"/>\n",
       "<path class=\"bond-13 atom-13 atom-14\" d=\"M 299.2,221.3 L 328.4,253.7\" style=\"fill:none;fill-rule:evenodd;stroke:#000000;stroke-width:2.0px;stroke-linecap:butt;stroke-linejoin:miter;stroke-opacity:1\"/>\n",
       "<path class=\"bond-14 atom-13 atom-15\" d=\"M 300.3,217.7 L 281.6,221.7\" style=\"fill:none;fill-rule:evenodd;stroke:#000000;stroke-width:2.0px;stroke-linecap:butt;stroke-linejoin:miter;stroke-opacity:1\"/>\n",
       "<path class=\"bond-14 atom-13 atom-15\" d=\"M 281.6,221.7 L 262.9,225.6\" style=\"fill:none;fill-rule:evenodd;stroke:#FF0000;stroke-width:2.0px;stroke-linecap:butt;stroke-linejoin:miter;stroke-opacity:1\"/>\n",
       "<path class=\"bond-14 atom-13 atom-15\" d=\"M 301.7,224.1 L 283.0,228.1\" style=\"fill:none;fill-rule:evenodd;stroke:#000000;stroke-width:2.0px;stroke-linecap:butt;stroke-linejoin:miter;stroke-opacity:1\"/>\n",
       "<path class=\"bond-14 atom-13 atom-15\" d=\"M 283.0,228.1 L 264.3,232.0\" style=\"fill:none;fill-rule:evenodd;stroke:#FF0000;stroke-width:2.0px;stroke-linecap:butt;stroke-linejoin:miter;stroke-opacity:1\"/>\n",
       "<path class=\"bond-15 atom-11 atom-16\" d=\"M 283.5,147.3 L 240.8,156.4\" style=\"fill:none;fill-rule:evenodd;stroke:#000000;stroke-width:2.0px;stroke-linecap:butt;stroke-linejoin:miter;stroke-opacity:1\"/>\n",
       "<path class=\"bond-15 atom-11 atom-16\" d=\"M 278.5,141.7 L 243.2,149.2\" style=\"fill:none;fill-rule:evenodd;stroke:#000000;stroke-width:2.0px;stroke-linecap:butt;stroke-linejoin:miter;stroke-opacity:1\"/>\n",
       "<path class=\"bond-16 atom-16 atom-3\" d=\"M 240.8,156.4 L 211.6,123.9\" style=\"fill:none;fill-rule:evenodd;stroke:#000000;stroke-width:2.0px;stroke-linecap:butt;stroke-linejoin:miter;stroke-opacity:1\"/>\n",
       "<path d=\"M 137.6,101.0 L 139.8,100.5 L 140.3,101.2\" style=\"fill:none;stroke:#000000;stroke-width:2.0px;stroke-linecap:butt;stroke-linejoin:miter;stroke-opacity:1;\"/>\n",
       "<path d=\"M 224.5,84.5 L 225.2,82.4 L 227.3,82.0\" style=\"fill:none;stroke:#000000;stroke-width:2.0px;stroke-linecap:butt;stroke-linejoin:miter;stroke-opacity:1;\"/>\n",
       "<path d=\"M 265.7,73.9 L 267.8,73.4 L 269.3,75.0\" style=\"fill:none;stroke:#000000;stroke-width:2.0px;stroke-linecap:butt;stroke-linejoin:miter;stroke-opacity:1;\"/>\n",
       "<path d=\"M 337.6,97.3 L 339.7,96.8 L 340.0,96.0\" style=\"fill:none;stroke:#000000;stroke-width:2.0px;stroke-linecap:butt;stroke-linejoin:miter;stroke-opacity:1;\"/>\n",
       "<path d=\"M 299.5,220.4 L 299.2,221.3 L 300.6,222.9\" style=\"fill:none;stroke:#000000;stroke-width:2.0px;stroke-linecap:butt;stroke-linejoin:miter;stroke-opacity:1;\"/>\n",
       "<path d=\"M 243.0,155.9 L 240.8,156.4 L 239.4,154.8\" style=\"fill:none;stroke:#000000;stroke-width:2.0px;stroke-linecap:butt;stroke-linejoin:miter;stroke-opacity:1;\"/>\n",
       "<path class=\"atom-2\" d=\"M 163.3 133.0 Q 163.3 130.1, 164.7 128.4 Q 166.2 126.7, 169.0 126.7 Q 171.7 126.7, 173.2 128.4 Q 174.6 130.1, 174.6 133.0 Q 174.6 136.0, 173.1 137.7 Q 171.7 139.4, 169.0 139.4 Q 166.2 139.4, 164.7 137.7 Q 163.3 136.0, 163.3 133.0 M 169.0 138.0 Q 170.8 138.0, 171.9 136.8 Q 172.9 135.5, 172.9 133.0 Q 172.9 130.6, 171.9 129.4 Q 170.8 128.1, 169.0 128.1 Q 167.1 128.1, 166.0 129.4 Q 165.0 130.6, 165.0 133.0 Q 165.0 135.5, 166.0 136.8 Q 167.1 138.0, 169.0 138.0 \" fill=\"#FF0000\"/>\n",
       "<path class=\"atom-8\" d=\"M 363.2 129.3 Q 363.2 126.3, 364.7 124.7 Q 366.2 123.0, 368.9 123.0 Q 371.6 123.0, 373.1 124.7 Q 374.6 126.3, 374.6 129.3 Q 374.6 132.3, 373.1 134.0 Q 371.6 135.7, 368.9 135.7 Q 366.2 135.7, 364.7 134.0 Q 363.2 132.3, 363.2 129.3 M 368.9 134.3 Q 370.8 134.3, 371.8 133.0 Q 372.8 131.8, 372.8 129.3 Q 372.8 126.9, 371.8 125.6 Q 370.8 124.4, 368.9 124.4 Q 367.0 124.4, 366.0 125.6 Q 365.0 126.8, 365.0 129.3 Q 365.0 131.8, 366.0 133.0 Q 367.0 134.3, 368.9 134.3 \" fill=\"#FF0000\"/>\n",
       "<path class=\"atom-9\" d=\"M 347.6 55.3 Q 347.6 52.4, 349.0 50.7 Q 350.5 49.1, 353.2 49.1 Q 356.0 49.1, 357.4 50.7 Q 358.9 52.4, 358.9 55.3 Q 358.9 58.3, 357.4 60.1 Q 355.9 61.8, 353.2 61.8 Q 350.5 61.8, 349.0 60.1 Q 347.6 58.4, 347.6 55.3 M 353.2 60.4 Q 355.1 60.4, 356.1 59.1 Q 357.2 57.8, 357.2 55.3 Q 357.2 52.9, 356.1 51.7 Q 355.1 50.5, 353.2 50.5 Q 351.3 50.5, 350.3 51.7 Q 349.3 52.9, 349.3 55.3 Q 349.3 57.8, 350.3 59.1 Q 351.3 60.4, 353.2 60.4 \" fill=\"#FF0000\"/>\n",
       "<path class=\"atom-12\" d=\"M 307.0 179.8 Q 307.0 176.9, 308.5 175.2 Q 310.0 173.5, 312.7 173.5 Q 315.4 173.5, 316.9 175.2 Q 318.4 176.9, 318.4 179.8 Q 318.4 182.8, 316.9 184.5 Q 315.4 186.2, 312.7 186.2 Q 310.0 186.2, 308.5 184.5 Q 307.0 182.8, 307.0 179.8 M 312.7 184.8 Q 314.6 184.8, 315.6 183.6 Q 316.6 182.3, 316.6 179.8 Q 316.6 177.4, 315.6 176.2 Q 314.6 174.9, 312.7 174.9 Q 310.8 174.9, 309.8 176.2 Q 308.8 177.4, 308.8 179.8 Q 308.8 182.3, 309.8 183.6 Q 310.8 184.8, 312.7 184.8 \" fill=\"#FF0000\"/>\n",
       "<path class=\"atom-15\" d=\"M 250.8 230.4 Q 250.8 227.4, 252.3 225.7 Q 253.7 224.1, 256.5 224.1 Q 259.2 224.1, 260.7 225.7 Q 262.2 227.4, 262.2 230.4 Q 262.2 233.4, 260.7 235.1 Q 259.2 236.8, 256.5 236.8 Q 253.8 236.8, 252.3 235.1 Q 250.8 233.4, 250.8 230.4 M 256.5 235.4 Q 258.4 235.4, 259.4 234.1 Q 260.4 232.8, 260.4 230.4 Q 260.4 227.9, 259.4 226.7 Q 258.4 225.5, 256.5 225.5 Q 254.6 225.5, 253.6 226.7 Q 252.6 227.9, 252.6 230.4 Q 252.6 232.9, 253.6 234.1 Q 254.6 235.4, 256.5 235.4 \" fill=\"#FF0000\"/>\n",
       "<path class=\"bond-17 atom-17 atom-18\" d=\"M 498.4,114.3 L 541.9,110.3\" style=\"fill:none;fill-rule:evenodd;stroke:#000000;stroke-width:2.0px;stroke-linecap:butt;stroke-linejoin:miter;stroke-opacity:1\"/>\n",
       "<path class=\"bond-18 atom-18 atom-19\" d=\"M 541.9,110.3 L 551.7,124.3\" style=\"fill:none;fill-rule:evenodd;stroke:#000000;stroke-width:2.0px;stroke-linecap:butt;stroke-linejoin:miter;stroke-opacity:1\"/>\n",
       "<path class=\"bond-18 atom-18 atom-19\" d=\"M 551.7,124.3 L 561.6,138.3\" style=\"fill:none;fill-rule:evenodd;stroke:#FF0000;stroke-width:2.0px;stroke-linecap:butt;stroke-linejoin:miter;stroke-opacity:1\"/>\n",
       "<path class=\"bond-19 atom-19 atom-20\" d=\"M 574.1,145.3 L 592.3,143.7\" style=\"fill:none;fill-rule:evenodd;stroke:#FF0000;stroke-width:2.0px;stroke-linecap:butt;stroke-linejoin:miter;stroke-opacity:1\"/>\n",
       "<path class=\"bond-19 atom-19 atom-20\" d=\"M 592.3,143.7 L 610.5,142.0\" style=\"fill:none;fill-rule:evenodd;stroke:#000000;stroke-width:2.0px;stroke-linecap:butt;stroke-linejoin:miter;stroke-opacity:1\"/>\n",
       "<path class=\"bond-20 atom-20 atom-21\" d=\"M 610.5,142.0 L 628.8,102.4\" style=\"fill:none;fill-rule:evenodd;stroke:#000000;stroke-width:2.0px;stroke-linecap:butt;stroke-linejoin:miter;stroke-opacity:1\"/>\n",
       "<path class=\"bond-20 atom-20 atom-21\" d=\"M 618.0,141.3 L 633.1,108.6\" style=\"fill:none;fill-rule:evenodd;stroke:#000000;stroke-width:2.0px;stroke-linecap:butt;stroke-linejoin:miter;stroke-opacity:1\"/>\n",
       "<path class=\"bond-21 atom-21 atom-22\" d=\"M 628.8,102.4 L 672.2,98.4\" style=\"fill:none;fill-rule:evenodd;stroke:#000000;stroke-width:2.0px;stroke-linecap:butt;stroke-linejoin:miter;stroke-opacity:1\"/>\n",
       "<path class=\"bond-22 atom-22 atom-23\" d=\"M 672.2,98.4 L 697.4,134.1\" style=\"fill:none;fill-rule:evenodd;stroke:#000000;stroke-width:2.0px;stroke-linecap:butt;stroke-linejoin:miter;stroke-opacity:1\"/>\n",
       "<path class=\"bond-22 atom-22 atom-23\" d=\"M 669.1,105.3 L 689.9,134.7\" style=\"fill:none;fill-rule:evenodd;stroke:#000000;stroke-width:2.0px;stroke-linecap:butt;stroke-linejoin:miter;stroke-opacity:1\"/>\n",
       "<path class=\"bond-23 atom-23 atom-24\" d=\"M 697.4,134.1 L 740.9,130.1\" style=\"fill:none;fill-rule:evenodd;stroke:#000000;stroke-width:2.0px;stroke-linecap:butt;stroke-linejoin:miter;stroke-opacity:1\"/>\n",
       "<path class=\"bond-24 atom-24 atom-25\" d=\"M 737.1,130.4 L 747.5,145.2\" style=\"fill:none;fill-rule:evenodd;stroke:#000000;stroke-width:2.0px;stroke-linecap:butt;stroke-linejoin:miter;stroke-opacity:1\"/>\n",
       "<path class=\"bond-24 atom-24 atom-25\" d=\"M 747.5,145.2 L 757.9,159.9\" style=\"fill:none;fill-rule:evenodd;stroke:#FF0000;stroke-width:2.0px;stroke-linecap:butt;stroke-linejoin:miter;stroke-opacity:1\"/>\n",
       "<path class=\"bond-24 atom-24 atom-25\" d=\"M 742.4,126.7 L 752.8,141.4\" style=\"fill:none;fill-rule:evenodd;stroke:#000000;stroke-width:2.0px;stroke-linecap:butt;stroke-linejoin:miter;stroke-opacity:1\"/>\n",
       "<path class=\"bond-24 atom-24 atom-25\" d=\"M 752.8,141.4 L 763.3,156.2\" style=\"fill:none;fill-rule:evenodd;stroke:#FF0000;stroke-width:2.0px;stroke-linecap:butt;stroke-linejoin:miter;stroke-opacity:1\"/>\n",
       "<path class=\"bond-25 atom-24 atom-26\" d=\"M 740.9,130.1 L 748.2,114.2\" style=\"fill:none;fill-rule:evenodd;stroke:#000000;stroke-width:2.0px;stroke-linecap:butt;stroke-linejoin:miter;stroke-opacity:1\"/>\n",
       "<path class=\"bond-25 atom-24 atom-26\" d=\"M 748.2,114.2 L 755.5,98.4\" style=\"fill:none;fill-rule:evenodd;stroke:#FF0000;stroke-width:2.0px;stroke-linecap:butt;stroke-linejoin:miter;stroke-opacity:1\"/>\n",
       "<path class=\"bond-26 atom-26 atom-27\" d=\"M 766.3,89.8 L 784.4,88.2\" style=\"fill:none;fill-rule:evenodd;stroke:#FF0000;stroke-width:2.0px;stroke-linecap:butt;stroke-linejoin:miter;stroke-opacity:1\"/>\n",
       "<path class=\"bond-26 atom-26 atom-27\" d=\"M 784.4,88.2 L 802.6,86.5\" style=\"fill:none;fill-rule:evenodd;stroke:#000000;stroke-width:2.0px;stroke-linecap:butt;stroke-linejoin:miter;stroke-opacity:1\"/>\n",
       "<path class=\"bond-27 atom-23 atom-28\" d=\"M 697.4,134.1 L 679.1,173.7\" style=\"fill:none;fill-rule:evenodd;stroke:#000000;stroke-width:2.0px;stroke-linecap:butt;stroke-linejoin:miter;stroke-opacity:1\"/>\n",
       "<path class=\"bond-28 atom-28 atom-29\" d=\"M 679.1,173.7 L 689.0,187.7\" style=\"fill:none;fill-rule:evenodd;stroke:#000000;stroke-width:2.0px;stroke-linecap:butt;stroke-linejoin:miter;stroke-opacity:1\"/>\n",
       "<path class=\"bond-28 atom-28 atom-29\" d=\"M 689.0,187.7 L 698.8,201.6\" style=\"fill:none;fill-rule:evenodd;stroke:#FF0000;stroke-width:2.0px;stroke-linecap:butt;stroke-linejoin:miter;stroke-opacity:1\"/>\n",
       "<path class=\"bond-29 atom-28 atom-30\" d=\"M 679.1,173.7 L 635.6,177.6\" style=\"fill:none;fill-rule:evenodd;stroke:#000000;stroke-width:2.0px;stroke-linecap:butt;stroke-linejoin:miter;stroke-opacity:1\"/>\n",
       "<path class=\"bond-29 atom-28 atom-30\" d=\"M 674.7,167.5 L 638.8,170.8\" style=\"fill:none;fill-rule:evenodd;stroke:#000000;stroke-width:2.0px;stroke-linecap:butt;stroke-linejoin:miter;stroke-opacity:1\"/>\n",
       "<path class=\"bond-30 atom-30 atom-20\" d=\"M 635.6,177.6 L 610.5,142.0\" style=\"fill:none;fill-rule:evenodd;stroke:#000000;stroke-width:2.0px;stroke-linecap:butt;stroke-linejoin:miter;stroke-opacity:1\"/>\n",
       "<path class=\"atom-2\" d=\"M 561.3 146.0 Q 561.3 143.0, 562.8 141.4 Q 564.3 139.7, 567.0 139.7 Q 569.8 139.7, 571.2 141.4 Q 572.7 143.0, 572.7 146.0 Q 572.7 149.0, 571.2 150.7 Q 569.7 152.4, 567.0 152.4 Q 564.3 152.4, 562.8 150.7 Q 561.3 149.0, 561.3 146.0 M 567.0 151.0 Q 568.9 151.0, 569.9 149.8 Q 570.9 148.5, 570.9 146.0 Q 570.9 143.6, 569.9 142.4 Q 568.9 141.1, 567.0 141.1 Q 565.1 141.1, 564.1 142.3 Q 563.1 143.6, 563.1 146.0 Q 563.1 148.5, 564.1 149.8 Q 565.1 151.0, 567.0 151.0 \" fill=\"#FF0000\"/>\n",
       "<path class=\"atom-8\" d=\"M 760.3 165.8 Q 760.3 162.8, 761.8 161.2 Q 763.3 159.5, 766.0 159.5 Q 768.8 159.5, 770.2 161.2 Q 771.7 162.8, 771.7 165.8 Q 771.7 168.8, 770.2 170.5 Q 768.7 172.2, 766.0 172.2 Q 763.3 172.2, 761.8 170.5 Q 760.3 168.8, 760.3 165.8 M 766.0 170.8 Q 767.9 170.8, 768.9 169.5 Q 769.9 168.3, 769.9 165.8 Q 769.9 163.4, 768.9 162.1 Q 767.9 160.9, 766.0 160.9 Q 764.1 160.9, 763.1 162.1 Q 762.1 163.3, 762.1 165.8 Q 762.1 168.3, 763.1 169.5 Q 764.1 170.8, 766.0 170.8 \" fill=\"#FF0000\"/>\n",
       "<path class=\"atom-9\" d=\"M 753.5 90.5 Q 753.5 87.5, 754.9 85.9 Q 756.4 84.2, 759.1 84.2 Q 761.9 84.2, 763.4 85.9 Q 764.8 87.5, 764.8 90.5 Q 764.8 93.5, 763.3 95.2 Q 761.8 96.9, 759.1 96.9 Q 756.4 96.9, 754.9 95.2 Q 753.5 93.5, 753.5 90.5 M 759.1 95.5 Q 761.0 95.5, 762.0 94.3 Q 763.1 93.0, 763.1 90.5 Q 763.1 88.1, 762.0 86.9 Q 761.0 85.6, 759.1 85.6 Q 757.3 85.6, 756.2 86.8 Q 755.2 88.1, 755.2 90.5 Q 755.2 93.0, 756.2 94.3 Q 757.3 95.5, 759.1 95.5 \" fill=\"#FF0000\"/>\n",
       "<path class=\"atom-12\" d=\"M 698.6 209.4 Q 698.6 206.4, 700.1 204.7 Q 701.5 203.1, 704.3 203.1 Q 707.0 203.1, 708.5 204.7 Q 709.9 206.4, 709.9 209.4 Q 709.9 212.4, 708.5 214.1 Q 707.0 215.8, 704.3 215.8 Q 701.5 215.8, 700.1 214.1 Q 698.6 212.4, 698.6 209.4 M 704.3 214.4 Q 706.2 214.4, 707.2 213.1 Q 708.2 211.8, 708.2 209.4 Q 708.2 206.9, 707.2 205.7 Q 706.2 204.5, 704.3 204.5 Q 702.4 204.5, 701.4 205.7 Q 700.3 206.9, 700.3 209.4 Q 700.3 211.9, 701.4 213.1 Q 702.4 214.4, 704.3 214.4 \" fill=\"#FF0000\"/>\n",
       "<path class=\"atom-12\" d=\"M 711.9 203.2 L 713.5 203.2 L 713.5 208.5 L 719.9 208.5 L 719.9 203.2 L 721.5 203.2 L 721.5 215.6 L 719.9 215.6 L 719.9 209.9 L 713.5 209.9 L 713.5 215.6 L 711.9 215.6 L 711.9 203.2 \" fill=\"#FF0000\"/>\n",
       "<path d=\"M 413.0,150.0 L 481.0,150.0\" style=\"fill:none;fill-rule:evenodd;stroke:#000000;stroke-width:2.0px;stroke-linecap:butt;stroke-linejoin:miter;stroke-opacity:1\"/>\n",
       "<path d=\"M 481.0,150.0 L 476.0,152.9\" style=\"fill:none;fill-rule:evenodd;stroke:#000000;stroke-width:2.0px;stroke-linecap:butt;stroke-linejoin:miter;stroke-opacity:1\"/>\n",
       "<path d=\"M 481.0,150.0 L 476.0,147.1\" style=\"fill:none;fill-rule:evenodd;stroke:#000000;stroke-width:2.0px;stroke-linecap:butt;stroke-linejoin:miter;stroke-opacity:1\"/>\n",
       "</svg>"
      ],
      "text/plain": [
       "<IPython.core.display.SVG object>"
      ]
     },
     "metadata": {},
     "output_type": "display_data"
    },
    {
     "name": "stdout",
     "output_type": "stream",
     "text": [
      "--------------------------------------------\n",
      "\n",
      "\n",
      "\n",
      "Sequence 5\n",
      "Similarity Scores: Overall: 0.35491172476233585,Candidate Reactants: 0.5957446808510638, Product: 0.5957446808510638\n",
      "Reaction Class: 1\n",
      "Predicted Reaction: CCOc1ccc(C(=O)O)c(O)c1.CO>>CCOc1ccc(C(=O)OC)c(O)c1\n",
      "Template Applied: [O;D1;H0:2]=[C:3]-[O;H0;D2;+0:4]-[C;H3;D1;+0:1]>>[O]-[C;H3;D1;+0:1].[O;D1;H1;+0:4]-[C:3]=[O;D1;H0:2]\n",
      "Patent ID: US20060287291A1\n",
      "\u001b[91mGround Truth Does Not Equal Prediction\u001b[0m\n"
     ]
    },
    {
     "data": {
      "image/svg+xml": [
       "<svg xmlns=\"http://www.w3.org/2000/svg\" xmlns:rdkit=\"http://www.rdkit.org/xml\" xmlns:xlink=\"http://www.w3.org/1999/xlink\" version=\"1.1\" baseProfile=\"full\" xml:space=\"preserve\" width=\"900px\" height=\"300px\" viewBox=\"0 0 900 300\">\n",
       "<!-- END OF HEADER -->\n",
       "<rect style=\"opacity:1.0;fill:#FFFFFF;stroke:none\" width=\"900.0\" height=\"300.0\" x=\"0.0\" y=\"0.0\"> </rect>\n",
       "<path class=\"bond-0 atom-0 atom-1\" d=\"M 111.4,139.9 L 148.5,132.6\" style=\"fill:none;fill-rule:evenodd;stroke:#000000;stroke-width:2.0px;stroke-linecap:butt;stroke-linejoin:miter;stroke-opacity:1\"/>\n",
       "<path class=\"bond-1 atom-1 atom-2\" d=\"M 148.5,132.6 L 158.1,143.5\" style=\"fill:none;fill-rule:evenodd;stroke:#000000;stroke-width:2.0px;stroke-linecap:butt;stroke-linejoin:miter;stroke-opacity:1\"/>\n",
       "<path class=\"bond-1 atom-1 atom-2\" d=\"M 158.1,143.5 L 167.6,154.5\" style=\"fill:none;fill-rule:evenodd;stroke:#FF0000;stroke-width:2.0px;stroke-linecap:butt;stroke-linejoin:miter;stroke-opacity:1\"/>\n",
       "<path class=\"bond-2 atom-2 atom-3\" d=\"M 179.6,159.9 L 195.0,156.9\" style=\"fill:none;fill-rule:evenodd;stroke:#FF0000;stroke-width:2.0px;stroke-linecap:butt;stroke-linejoin:miter;stroke-opacity:1\"/>\n",
       "<path class=\"bond-2 atom-2 atom-3\" d=\"M 195.0,156.9 L 210.5,153.8\" style=\"fill:none;fill-rule:evenodd;stroke:#000000;stroke-width:2.0px;stroke-linecap:butt;stroke-linejoin:miter;stroke-opacity:1\"/>\n",
       "<path class=\"bond-3 atom-3 atom-4\" d=\"M 210.5,153.8 L 222.7,118.1\" style=\"fill:none;fill-rule:evenodd;stroke:#000000;stroke-width:2.0px;stroke-linecap:butt;stroke-linejoin:miter;stroke-opacity:1\"/>\n",
       "<path class=\"bond-3 atom-3 atom-4\" d=\"M 216.9,152.6 L 227.1,123.0\" style=\"fill:none;fill-rule:evenodd;stroke:#000000;stroke-width:2.0px;stroke-linecap:butt;stroke-linejoin:miter;stroke-opacity:1\"/>\n",
       "<path class=\"bond-4 atom-4 atom-5\" d=\"M 222.7,118.1 L 259.8,110.8\" style=\"fill:none;fill-rule:evenodd;stroke:#000000;stroke-width:2.0px;stroke-linecap:butt;stroke-linejoin:miter;stroke-opacity:1\"/>\n",
       "<path class=\"bond-5 atom-5 atom-6\" d=\"M 259.8,110.8 L 284.7,139.3\" style=\"fill:none;fill-rule:evenodd;stroke:#000000;stroke-width:2.0px;stroke-linecap:butt;stroke-linejoin:miter;stroke-opacity:1\"/>\n",
       "<path class=\"bond-5 atom-5 atom-6\" d=\"M 257.7,117.0 L 278.3,140.6\" style=\"fill:none;fill-rule:evenodd;stroke:#000000;stroke-width:2.0px;stroke-linecap:butt;stroke-linejoin:miter;stroke-opacity:1\"/>\n",
       "<path class=\"bond-6 atom-6 atom-7\" d=\"M 284.7,139.3 L 321.8,132.0\" style=\"fill:none;fill-rule:evenodd;stroke:#000000;stroke-width:2.0px;stroke-linecap:butt;stroke-linejoin:miter;stroke-opacity:1\"/>\n",
       "<path class=\"bond-7 atom-7 atom-8\" d=\"M 318.6,132.7 L 328.6,144.2\" style=\"fill:none;fill-rule:evenodd;stroke:#000000;stroke-width:2.0px;stroke-linecap:butt;stroke-linejoin:miter;stroke-opacity:1\"/>\n",
       "<path class=\"bond-7 atom-7 atom-8\" d=\"M 328.6,144.2 L 338.7,155.7\" style=\"fill:none;fill-rule:evenodd;stroke:#FF0000;stroke-width:2.0px;stroke-linecap:butt;stroke-linejoin:miter;stroke-opacity:1\"/>\n",
       "<path class=\"bond-7 atom-7 atom-8\" d=\"M 322.9,128.9 L 332.9,140.5\" style=\"fill:none;fill-rule:evenodd;stroke:#000000;stroke-width:2.0px;stroke-linecap:butt;stroke-linejoin:miter;stroke-opacity:1\"/>\n",
       "<path class=\"bond-7 atom-7 atom-8\" d=\"M 332.9,140.5 L 343.0,152.0\" style=\"fill:none;fill-rule:evenodd;stroke:#FF0000;stroke-width:2.0px;stroke-linecap:butt;stroke-linejoin:miter;stroke-opacity:1\"/>\n",
       "<path class=\"bond-8 atom-7 atom-9\" d=\"M 321.8,132.0 L 326.8,117.6\" style=\"fill:none;fill-rule:evenodd;stroke:#000000;stroke-width:2.0px;stroke-linecap:butt;stroke-linejoin:miter;stroke-opacity:1\"/>\n",
       "<path class=\"bond-8 atom-7 atom-9\" d=\"M 326.8,117.6 L 331.7,103.1\" style=\"fill:none;fill-rule:evenodd;stroke:#FF0000;stroke-width:2.0px;stroke-linecap:butt;stroke-linejoin:miter;stroke-opacity:1\"/>\n",
       "<path class=\"bond-9 atom-6 atom-10\" d=\"M 284.7,139.3 L 272.4,175.1\" style=\"fill:none;fill-rule:evenodd;stroke:#000000;stroke-width:2.0px;stroke-linecap:butt;stroke-linejoin:miter;stroke-opacity:1\"/>\n",
       "<path class=\"bond-10 atom-10 atom-11\" d=\"M 272.4,175.1 L 282.0,186.0\" style=\"fill:none;fill-rule:evenodd;stroke:#000000;stroke-width:2.0px;stroke-linecap:butt;stroke-linejoin:miter;stroke-opacity:1\"/>\n",
       "<path class=\"bond-10 atom-10 atom-11\" d=\"M 282.0,186.0 L 291.5,196.9\" style=\"fill:none;fill-rule:evenodd;stroke:#FF0000;stroke-width:2.0px;stroke-linecap:butt;stroke-linejoin:miter;stroke-opacity:1\"/>\n",
       "<path class=\"bond-11 atom-10 atom-12\" d=\"M 272.4,175.1 L 235.3,182.3\" style=\"fill:none;fill-rule:evenodd;stroke:#000000;stroke-width:2.0px;stroke-linecap:butt;stroke-linejoin:miter;stroke-opacity:1\"/>\n",
       "<path class=\"bond-11 atom-10 atom-12\" d=\"M 268.1,170.1 L 237.5,176.1\" style=\"fill:none;fill-rule:evenodd;stroke:#000000;stroke-width:2.0px;stroke-linecap:butt;stroke-linejoin:miter;stroke-opacity:1\"/>\n",
       "<path class=\"bond-12 atom-12 atom-3\" d=\"M 235.3,182.3 L 210.5,153.8\" style=\"fill:none;fill-rule:evenodd;stroke:#000000;stroke-width:2.0px;stroke-linecap:butt;stroke-linejoin:miter;stroke-opacity:1\"/>\n",
       "<path d=\"M 146.7,133.0 L 148.5,132.6 L 149.0,133.2\" style=\"fill:none;stroke:#000000;stroke-width:2.0px;stroke-linecap:butt;stroke-linejoin:miter;stroke-opacity:1;\"/>\n",
       "<path d=\"M 222.1,119.9 L 222.7,118.1 L 224.6,117.7\" style=\"fill:none;stroke:#000000;stroke-width:2.0px;stroke-linecap:butt;stroke-linejoin:miter;stroke-opacity:1;\"/>\n",
       "<path d=\"M 258.0,111.2 L 259.8,110.8 L 261.1,112.2\" style=\"fill:none;stroke:#000000;stroke-width:2.0px;stroke-linecap:butt;stroke-linejoin:miter;stroke-opacity:1;\"/>\n",
       "<path d=\"M 319.9,132.4 L 321.8,132.0 L 322.0,131.3\" style=\"fill:none;stroke:#000000;stroke-width:2.0px;stroke-linecap:butt;stroke-linejoin:miter;stroke-opacity:1;\"/>\n",
       "<path d=\"M 237.2,182.0 L 235.3,182.3 L 234.1,180.9\" style=\"fill:none;stroke:#000000;stroke-width:2.0px;stroke-linecap:butt;stroke-linejoin:miter;stroke-opacity:1;\"/>\n",
       "<path class=\"atom-2\" d=\"M 168.5 161.1 Q 168.5 158.6, 169.7 157.1 Q 171.0 155.7, 173.4 155.7 Q 175.8 155.7, 177.0 157.1 Q 178.3 158.6, 178.3 161.1 Q 178.3 163.7, 177.0 165.2 Q 175.7 166.7, 173.4 166.7 Q 171.0 166.7, 169.7 165.2 Q 168.5 163.8, 168.5 161.1 M 173.4 165.5 Q 175.0 165.5, 175.9 164.4 Q 176.8 163.3, 176.8 161.1 Q 176.8 159.0, 175.9 158.0 Q 175.0 156.9, 173.4 156.9 Q 171.8 156.9, 170.9 158.0 Q 170.0 159.0, 170.0 161.1 Q 170.0 163.3, 170.9 164.4 Q 171.8 165.5, 173.4 165.5 \" fill=\"#FF0000\"/>\n",
       "<path class=\"atom-8\" d=\"M 341.7 160.6 Q 341.7 158.0, 343.0 156.6 Q 344.3 155.1, 346.6 155.1 Q 349.0 155.1, 350.3 156.6 Q 351.6 158.0, 351.6 160.6 Q 351.6 163.2, 350.3 164.6 Q 349.0 166.1, 346.6 166.1 Q 344.3 166.1, 343.0 164.6 Q 341.7 163.2, 341.7 160.6 M 346.6 164.9 Q 348.3 164.9, 349.2 163.8 Q 350.0 162.7, 350.0 160.6 Q 350.0 158.5, 349.2 157.4 Q 348.3 156.3, 346.6 156.3 Q 345.0 156.3, 344.1 157.4 Q 343.2 158.4, 343.2 160.6 Q 343.2 162.7, 344.1 163.8 Q 345.0 164.9, 346.6 164.9 \" fill=\"#FF0000\"/>\n",
       "<path class=\"atom-9\" d=\"M 329.1 96.3 Q 329.1 93.7, 330.4 92.3 Q 331.7 90.9, 334.1 90.9 Q 336.4 90.9, 337.7 92.3 Q 339.0 93.7, 339.0 96.3 Q 339.0 98.9, 337.7 100.4 Q 336.4 101.8, 334.1 101.8 Q 331.7 101.8, 330.4 100.4 Q 329.1 98.9, 329.1 96.3 M 334.1 100.6 Q 335.7 100.6, 336.6 99.5 Q 337.5 98.4, 337.5 96.3 Q 337.5 94.2, 336.6 93.1 Q 335.7 92.1, 334.1 92.1 Q 332.4 92.1, 331.5 93.1 Q 330.6 94.2, 330.6 96.3 Q 330.6 98.5, 331.5 99.5 Q 332.4 100.6, 334.1 100.6 \" fill=\"#FF0000\"/>\n",
       "<path class=\"atom-9\" d=\"M 340.6 91.0 L 342.1 91.0 L 342.1 95.5 L 347.6 95.5 L 347.6 91.0 L 349.0 91.0 L 349.0 101.7 L 347.6 101.7 L 347.6 96.7 L 342.1 96.7 L 342.1 101.7 L 340.6 101.7 L 340.6 91.0 \" fill=\"#FF0000\"/>\n",
       "<path class=\"atom-11\" d=\"M 292.4 203.6 Q 292.4 201.0, 293.6 199.6 Q 294.9 198.2, 297.3 198.2 Q 299.7 198.2, 300.9 199.6 Q 302.2 201.0, 302.2 203.6 Q 302.2 206.2, 300.9 207.7 Q 299.6 209.1, 297.3 209.1 Q 294.9 209.1, 293.6 207.7 Q 292.4 206.2, 292.4 203.6 M 297.3 207.9 Q 298.9 207.9, 299.8 206.8 Q 300.7 205.7, 300.7 203.6 Q 300.7 201.5, 299.8 200.4 Q 298.9 199.4, 297.3 199.4 Q 295.7 199.4, 294.8 200.4 Q 293.9 201.5, 293.9 203.6 Q 293.9 205.8, 294.8 206.8 Q 295.7 207.9, 297.3 207.9 \" fill=\"#FF0000\"/>\n",
       "<path class=\"atom-11\" d=\"M 303.9 198.3 L 305.3 198.3 L 305.3 202.8 L 310.8 202.8 L 310.8 198.3 L 312.2 198.3 L 312.2 209.0 L 310.8 209.0 L 310.8 204.0 L 305.3 204.0 L 305.3 209.0 L 303.9 209.0 L 303.9 198.3 \" fill=\"#FF0000\"/>\n",
       "<path d=\"M 367.0,140.0 L 367.0,160.0\" style=\"fill:none;fill-rule:evenodd;stroke:#000000;stroke-width:2.0px;stroke-linecap:butt;stroke-linejoin:miter;stroke-opacity:1\"/>\n",
       "<path d=\"M 357.0,150.0 L 377.0,150.0\" style=\"fill:none;fill-rule:evenodd;stroke:#000000;stroke-width:2.0px;stroke-linecap:butt;stroke-linejoin:miter;stroke-opacity:1\"/>\n",
       "<path class=\"bond-13 atom-13 atom-14\" d=\"M 382.1,149.9 L 397.9,149.9\" style=\"fill:none;fill-rule:evenodd;stroke:#000000;stroke-width:2.0px;stroke-linecap:butt;stroke-linejoin:miter;stroke-opacity:1\"/>\n",
       "<path class=\"bond-13 atom-13 atom-14\" d=\"M 397.9,149.9 L 413.8,149.9\" style=\"fill:none;fill-rule:evenodd;stroke:#FF0000;stroke-width:2.0px;stroke-linecap:butt;stroke-linejoin:miter;stroke-opacity:1\"/>\n",
       "<path class=\"atom-1\" d=\"M 415.0 149.9 Q 415.0 147.4, 416.3 145.9 Q 417.5 144.5, 419.9 144.5 Q 422.3 144.5, 423.6 145.9 Q 424.8 147.4, 424.8 149.9 Q 424.8 152.5, 423.6 154.0 Q 422.3 155.5, 419.9 155.5 Q 417.6 155.5, 416.3 154.0 Q 415.0 152.6, 415.0 149.9 M 419.9 154.3 Q 421.6 154.3, 422.4 153.2 Q 423.3 152.1, 423.3 149.9 Q 423.3 147.8, 422.4 146.8 Q 421.6 145.7, 419.9 145.7 Q 418.3 145.7, 417.4 146.8 Q 416.5 147.8, 416.5 149.9 Q 416.5 152.1, 417.4 153.2 Q 418.3 154.3, 419.9 154.3 \" fill=\"#FF0000\"/>\n",
       "<path class=\"atom-1\" d=\"M 426.5 144.6 L 428.0 144.6 L 428.0 149.2 L 433.4 149.2 L 433.4 144.6 L 434.9 144.6 L 434.9 155.3 L 433.4 155.3 L 433.4 150.4 L 428.0 150.4 L 428.0 155.3 L 426.5 155.3 L 426.5 144.6 \" fill=\"#FF0000\"/>\n",
       "<path class=\"bond-14 atom-15 atom-16\" d=\"M 525.2,119.1 L 562.9,115.6\" style=\"fill:none;fill-rule:evenodd;stroke:#000000;stroke-width:2.0px;stroke-linecap:butt;stroke-linejoin:miter;stroke-opacity:1\"/>\n",
       "<path class=\"bond-15 atom-16 atom-17\" d=\"M 562.9,115.6 L 571.4,127.7\" style=\"fill:none;fill-rule:evenodd;stroke:#000000;stroke-width:2.0px;stroke-linecap:butt;stroke-linejoin:miter;stroke-opacity:1\"/>\n",
       "<path class=\"bond-15 atom-16 atom-17\" d=\"M 571.4,127.7 L 580.0,139.8\" style=\"fill:none;fill-rule:evenodd;stroke:#FF0000;stroke-width:2.0px;stroke-linecap:butt;stroke-linejoin:miter;stroke-opacity:1\"/>\n",
       "<path class=\"bond-16 atom-17 atom-18\" d=\"M 590.8,145.9 L 606.6,144.5\" style=\"fill:none;fill-rule:evenodd;stroke:#FF0000;stroke-width:2.0px;stroke-linecap:butt;stroke-linejoin:miter;stroke-opacity:1\"/>\n",
       "<path class=\"bond-16 atom-17 atom-18\" d=\"M 606.6,144.5 L 622.3,143.1\" style=\"fill:none;fill-rule:evenodd;stroke:#000000;stroke-width:2.0px;stroke-linecap:butt;stroke-linejoin:miter;stroke-opacity:1\"/>\n",
       "<path class=\"bond-17 atom-18 atom-19\" d=\"M 622.3,143.1 L 638.2,108.7\" style=\"fill:none;fill-rule:evenodd;stroke:#000000;stroke-width:2.0px;stroke-linecap:butt;stroke-linejoin:miter;stroke-opacity:1\"/>\n",
       "<path class=\"bond-17 atom-18 atom-19\" d=\"M 628.8,142.5 L 642.0,114.1\" style=\"fill:none;fill-rule:evenodd;stroke:#000000;stroke-width:2.0px;stroke-linecap:butt;stroke-linejoin:miter;stroke-opacity:1\"/>\n",
       "<path class=\"bond-18 atom-19 atom-20\" d=\"M 638.2,108.7 L 675.8,105.3\" style=\"fill:none;fill-rule:evenodd;stroke:#000000;stroke-width:2.0px;stroke-linecap:butt;stroke-linejoin:miter;stroke-opacity:1\"/>\n",
       "<path class=\"bond-19 atom-20 atom-21\" d=\"M 675.8,105.3 L 697.6,136.2\" style=\"fill:none;fill-rule:evenodd;stroke:#000000;stroke-width:2.0px;stroke-linecap:butt;stroke-linejoin:miter;stroke-opacity:1\"/>\n",
       "<path class=\"bond-19 atom-20 atom-21\" d=\"M 673.1,111.2 L 691.1,136.8\" style=\"fill:none;fill-rule:evenodd;stroke:#000000;stroke-width:2.0px;stroke-linecap:butt;stroke-linejoin:miter;stroke-opacity:1\"/>\n",
       "<path class=\"bond-20 atom-21 atom-22\" d=\"M 697.6,136.2 L 735.3,132.8\" style=\"fill:none;fill-rule:evenodd;stroke:#000000;stroke-width:2.0px;stroke-linecap:butt;stroke-linejoin:miter;stroke-opacity:1\"/>\n",
       "<path class=\"bond-21 atom-22 atom-23\" d=\"M 732.0,133.1 L 741.0,145.8\" style=\"fill:none;fill-rule:evenodd;stroke:#000000;stroke-width:2.0px;stroke-linecap:butt;stroke-linejoin:miter;stroke-opacity:1\"/>\n",
       "<path class=\"bond-21 atom-22 atom-23\" d=\"M 741.0,145.8 L 750.1,158.6\" style=\"fill:none;fill-rule:evenodd;stroke:#FF0000;stroke-width:2.0px;stroke-linecap:butt;stroke-linejoin:miter;stroke-opacity:1\"/>\n",
       "<path class=\"bond-21 atom-22 atom-23\" d=\"M 736.7,129.8 L 745.7,142.6\" style=\"fill:none;fill-rule:evenodd;stroke:#000000;stroke-width:2.0px;stroke-linecap:butt;stroke-linejoin:miter;stroke-opacity:1\"/>\n",
       "<path class=\"bond-21 atom-22 atom-23\" d=\"M 745.7,142.6 L 754.7,155.3\" style=\"fill:none;fill-rule:evenodd;stroke:#FF0000;stroke-width:2.0px;stroke-linecap:butt;stroke-linejoin:miter;stroke-opacity:1\"/>\n",
       "<path class=\"bond-22 atom-22 atom-24\" d=\"M 735.3,132.8 L 741.6,119.0\" style=\"fill:none;fill-rule:evenodd;stroke:#000000;stroke-width:2.0px;stroke-linecap:butt;stroke-linejoin:miter;stroke-opacity:1\"/>\n",
       "<path class=\"bond-22 atom-22 atom-24\" d=\"M 741.6,119.0 L 748.0,105.3\" style=\"fill:none;fill-rule:evenodd;stroke:#FF0000;stroke-width:2.0px;stroke-linecap:butt;stroke-linejoin:miter;stroke-opacity:1\"/>\n",
       "<path class=\"bond-23 atom-24 atom-25\" d=\"M 757.3,97.9 L 773.0,96.4\" style=\"fill:none;fill-rule:evenodd;stroke:#FF0000;stroke-width:2.0px;stroke-linecap:butt;stroke-linejoin:miter;stroke-opacity:1\"/>\n",
       "<path class=\"bond-23 atom-24 atom-25\" d=\"M 773.0,96.4 L 788.8,95.0\" style=\"fill:none;fill-rule:evenodd;stroke:#000000;stroke-width:2.0px;stroke-linecap:butt;stroke-linejoin:miter;stroke-opacity:1\"/>\n",
       "<path class=\"bond-24 atom-21 atom-26\" d=\"M 697.6,136.2 L 681.8,170.5\" style=\"fill:none;fill-rule:evenodd;stroke:#000000;stroke-width:2.0px;stroke-linecap:butt;stroke-linejoin:miter;stroke-opacity:1\"/>\n",
       "<path class=\"bond-25 atom-26 atom-27\" d=\"M 681.8,170.5 L 690.3,182.6\" style=\"fill:none;fill-rule:evenodd;stroke:#000000;stroke-width:2.0px;stroke-linecap:butt;stroke-linejoin:miter;stroke-opacity:1\"/>\n",
       "<path class=\"bond-25 atom-26 atom-27\" d=\"M 690.3,182.6 L 698.9,194.7\" style=\"fill:none;fill-rule:evenodd;stroke:#FF0000;stroke-width:2.0px;stroke-linecap:butt;stroke-linejoin:miter;stroke-opacity:1\"/>\n",
       "<path class=\"bond-26 atom-26 atom-28\" d=\"M 681.8,170.5 L 644.1,174.0\" style=\"fill:none;fill-rule:evenodd;stroke:#000000;stroke-width:2.0px;stroke-linecap:butt;stroke-linejoin:miter;stroke-opacity:1\"/>\n",
       "<path class=\"bond-26 atom-26 atom-28\" d=\"M 678.0,165.2 L 646.9,168.0\" style=\"fill:none;fill-rule:evenodd;stroke:#000000;stroke-width:2.0px;stroke-linecap:butt;stroke-linejoin:miter;stroke-opacity:1\"/>\n",
       "<path class=\"bond-27 atom-28 atom-18\" d=\"M 644.1,174.0 L 622.3,143.1\" style=\"fill:none;fill-rule:evenodd;stroke:#000000;stroke-width:2.0px;stroke-linecap:butt;stroke-linejoin:miter;stroke-opacity:1\"/>\n",
       "<path class=\"atom-2\" d=\"M 579.8 146.5 Q 579.8 144.0, 581.0 142.5 Q 582.3 141.1, 584.7 141.1 Q 587.1 141.1, 588.3 142.5 Q 589.6 144.0, 589.6 146.5 Q 589.6 149.1, 588.3 150.6 Q 587.0 152.1, 584.7 152.1 Q 582.3 152.1, 581.0 150.6 Q 579.8 149.2, 579.8 146.5 M 584.7 150.9 Q 586.3 150.9, 587.2 149.8 Q 588.1 148.7, 588.1 146.5 Q 588.1 144.4, 587.2 143.4 Q 586.3 142.3, 584.7 142.3 Q 583.0 142.3, 582.2 143.4 Q 581.3 144.4, 581.3 146.5 Q 581.3 148.7, 582.2 149.8 Q 583.0 150.9, 584.7 150.9 \" fill=\"#FF0000\"/>\n",
       "<path class=\"atom-8\" d=\"M 752.2 163.7 Q 752.2 161.1, 753.4 159.7 Q 754.7 158.2, 757.1 158.2 Q 759.5 158.2, 760.7 159.7 Q 762.0 161.1, 762.0 163.7 Q 762.0 166.3, 760.7 167.8 Q 759.4 169.2, 757.1 169.2 Q 754.7 169.2, 753.4 167.8 Q 752.2 166.3, 752.2 163.7 M 757.1 168.0 Q 758.7 168.0, 759.6 166.9 Q 760.5 165.8, 760.5 163.7 Q 760.5 161.6, 759.6 160.5 Q 758.7 159.4, 757.1 159.4 Q 755.4 159.4, 754.6 160.5 Q 753.7 161.6, 753.7 163.7 Q 753.7 165.8, 754.6 166.9 Q 755.4 168.0, 757.1 168.0 \" fill=\"#FF0000\"/>\n",
       "<path class=\"atom-9\" d=\"M 746.2 98.5 Q 746.2 95.9, 747.5 94.5 Q 748.8 93.0, 751.1 93.0 Q 753.5 93.0, 754.8 94.5 Q 756.0 95.9, 756.0 98.5 Q 756.0 101.1, 754.8 102.5 Q 753.5 104.0, 751.1 104.0 Q 748.8 104.0, 747.5 102.5 Q 746.2 101.1, 746.2 98.5 M 751.1 102.8 Q 752.8 102.8, 753.6 101.7 Q 754.5 100.6, 754.5 98.5 Q 754.5 96.4, 753.6 95.3 Q 752.8 94.2, 751.1 94.2 Q 749.5 94.2, 748.6 95.3 Q 747.7 96.3, 747.7 98.5 Q 747.7 100.6, 748.6 101.7 Q 749.5 102.8, 751.1 102.8 \" fill=\"#FF0000\"/>\n",
       "<path class=\"atom-12\" d=\"M 698.7 201.4 Q 698.7 198.9, 699.9 197.4 Q 701.2 196.0, 703.6 196.0 Q 706.0 196.0, 707.2 197.4 Q 708.5 198.9, 708.5 201.4 Q 708.5 204.0, 707.2 205.5 Q 705.9 207.0, 703.6 207.0 Q 701.2 207.0, 699.9 205.5 Q 698.7 204.1, 698.7 201.4 M 703.6 205.8 Q 705.2 205.8, 706.1 204.7 Q 707.0 203.6, 707.0 201.4 Q 707.0 199.3, 706.1 198.3 Q 705.2 197.2, 703.6 197.2 Q 701.9 197.2, 701.1 198.3 Q 700.2 199.3, 700.2 201.4 Q 700.2 203.6, 701.1 204.7 Q 701.9 205.8, 703.6 205.8 \" fill=\"#FF0000\"/>\n",
       "<path class=\"atom-12\" d=\"M 710.2 196.1 L 711.6 196.1 L 711.6 200.7 L 717.1 200.7 L 717.1 196.1 L 718.5 196.1 L 718.5 206.8 L 717.1 206.8 L 717.1 201.9 L 711.6 201.9 L 711.6 206.8 L 710.2 206.8 L 710.2 196.1 \" fill=\"#FF0000\"/>\n",
       "<path d=\"M 450.0,150.0 L 510.0,150.0\" style=\"fill:none;fill-rule:evenodd;stroke:#000000;stroke-width:2.0px;stroke-linecap:butt;stroke-linejoin:miter;stroke-opacity:1\"/>\n",
       "<path d=\"M 510.0,150.0 L 505.0,152.9\" style=\"fill:none;fill-rule:evenodd;stroke:#000000;stroke-width:2.0px;stroke-linecap:butt;stroke-linejoin:miter;stroke-opacity:1\"/>\n",
       "<path d=\"M 510.0,150.0 L 505.0,147.1\" style=\"fill:none;fill-rule:evenodd;stroke:#000000;stroke-width:2.0px;stroke-linecap:butt;stroke-linejoin:miter;stroke-opacity:1\"/>\n",
       "</svg>"
      ],
      "text/plain": [
       "<IPython.core.display.SVG object>"
      ]
     },
     "metadata": {},
     "output_type": "display_data"
    },
    {
     "name": "stdout",
     "output_type": "stream",
     "text": [
      "--------------------------------------------\n",
      "\n",
      "\n",
      "\n",
      "Sequence 6\n",
      "Similarity Scores: Overall: 0.3439349112426035,Candidate Reactants: 0.5961538461538461, Product: 0.5769230769230769\n",
      "Reaction Class: 1\n",
      "Predicted Reaction: CCCl.COC(=O)c1ccc(O)cc1O>>CCOc1ccc(C(=O)OC)c(O)c1\n",
      "Template Applied: [O;H0;D2;+0:3](-[c:4])-[C;H2;D2;+0:1]-[C:2]>>[Cl]-[C;H2;D2;+0:1]-[C:2].[O;D1;H1;+0:3]-[c:4]\n",
      "Patent ID: US06069149\n",
      "\u001b[91mGround Truth Does Not Equal Prediction\u001b[0m\n"
     ]
    },
    {
     "data": {
      "image/svg+xml": [
       "<svg xmlns=\"http://www.w3.org/2000/svg\" xmlns:rdkit=\"http://www.rdkit.org/xml\" xmlns:xlink=\"http://www.w3.org/1999/xlink\" version=\"1.1\" baseProfile=\"full\" xml:space=\"preserve\" width=\"900px\" height=\"300px\" viewBox=\"0 0 900 300\">\n",
       "<!-- END OF HEADER -->\n",
       "<rect style=\"opacity:1.0;fill:#FFFFFF;stroke:none\" width=\"900.0\" height=\"300.0\" x=\"0.0\" y=\"0.0\"> </rect>\n",
       "<path class=\"bond-0 atom-0 atom-1\" d=\"M 111.2,156.5 L 143.7,137.7\" style=\"fill:none;fill-rule:evenodd;stroke:#000000;stroke-width:2.0px;stroke-linecap:butt;stroke-linejoin:miter;stroke-opacity:1\"/>\n",
       "<path class=\"bond-1 atom-1 atom-2\" d=\"M 143.7,137.7 L 157.3,145.5\" style=\"fill:none;fill-rule:evenodd;stroke:#000000;stroke-width:2.0px;stroke-linecap:butt;stroke-linejoin:miter;stroke-opacity:1\"/>\n",
       "<path class=\"bond-1 atom-1 atom-2\" d=\"M 157.3,145.5 L 170.9,153.4\" style=\"fill:none;fill-rule:evenodd;stroke:#00CC00;stroke-width:2.0px;stroke-linecap:butt;stroke-linejoin:miter;stroke-opacity:1\"/>\n",
       "<path d=\"M 142.1,138.6 L 143.7,137.7 L 144.4,138.1\" style=\"fill:none;stroke:#000000;stroke-width:2.0px;stroke-linecap:butt;stroke-linejoin:miter;stroke-opacity:1;\"/>\n",
       "<path class=\"atom-2\" d=\"M 172.1 156.8 Q 172.1 154.2, 173.3 152.8 Q 174.6 151.4, 177.0 151.4 Q 179.1 151.4, 180.3 153.0 L 179.3 153.8 Q 178.5 152.6, 177.0 152.6 Q 175.3 152.6, 174.5 153.7 Q 173.6 154.8, 173.6 156.8 Q 173.6 158.9, 174.5 160.0 Q 175.4 161.1, 177.1 161.1 Q 178.3 161.1, 179.7 160.4 L 180.1 161.5 Q 179.5 161.9, 178.7 162.1 Q 177.8 162.3, 176.9 162.3 Q 174.6 162.3, 173.3 160.9 Q 172.1 159.5, 172.1 156.8 \" fill=\"#00CC00\"/>\n",
       "<path class=\"atom-2\" d=\"M 181.4 150.8 L 182.8 150.8 L 182.8 162.2 L 181.4 162.2 L 181.4 150.8 \" fill=\"#00CC00\"/>\n",
       "<path d=\"M 198.0,140.0 L 198.0,160.0\" style=\"fill:none;fill-rule:evenodd;stroke:#000000;stroke-width:2.0px;stroke-linecap:butt;stroke-linejoin:miter;stroke-opacity:1\"/>\n",
       "<path d=\"M 188.0,150.0 L 208.0,150.0\" style=\"fill:none;fill-rule:evenodd;stroke:#000000;stroke-width:2.0px;stroke-linecap:butt;stroke-linejoin:miter;stroke-opacity:1\"/>\n",
       "<path class=\"bond-2 atom-3 atom-4\" d=\"M 437.6,141.9 L 422.0,139.9\" style=\"fill:none;fill-rule:evenodd;stroke:#000000;stroke-width:2.0px;stroke-linecap:butt;stroke-linejoin:miter;stroke-opacity:1\"/>\n",
       "<path class=\"bond-2 atom-3 atom-4\" d=\"M 422.0,139.9 L 406.5,138.0\" style=\"fill:none;fill-rule:evenodd;stroke:#FF0000;stroke-width:2.0px;stroke-linecap:butt;stroke-linejoin:miter;stroke-opacity:1\"/>\n",
       "<path class=\"bond-3 atom-4 atom-5\" d=\"M 395.2,144.0 L 386.5,155.6\" style=\"fill:none;fill-rule:evenodd;stroke:#FF0000;stroke-width:2.0px;stroke-linecap:butt;stroke-linejoin:miter;stroke-opacity:1\"/>\n",
       "<path class=\"bond-3 atom-4 atom-5\" d=\"M 386.5,155.6 L 377.7,167.2\" style=\"fill:none;fill-rule:evenodd;stroke:#000000;stroke-width:2.0px;stroke-linecap:butt;stroke-linejoin:miter;stroke-opacity:1\"/>\n",
       "<path class=\"bond-4 atom-5 atom-6\" d=\"M 374.5,166.8 L 380.7,181.5\" style=\"fill:none;fill-rule:evenodd;stroke:#000000;stroke-width:2.0px;stroke-linecap:butt;stroke-linejoin:miter;stroke-opacity:1\"/>\n",
       "<path class=\"bond-4 atom-5 atom-6\" d=\"M 380.7,181.5 L 387.0,196.2\" style=\"fill:none;fill-rule:evenodd;stroke:#FF0000;stroke-width:2.0px;stroke-linecap:butt;stroke-linejoin:miter;stroke-opacity:1\"/>\n",
       "<path class=\"bond-4 atom-5 atom-6\" d=\"M 379.7,164.6 L 385.9,179.3\" style=\"fill:none;fill-rule:evenodd;stroke:#000000;stroke-width:2.0px;stroke-linecap:butt;stroke-linejoin:miter;stroke-opacity:1\"/>\n",
       "<path class=\"bond-4 atom-5 atom-6\" d=\"M 385.9,179.3 L 392.2,194.0\" style=\"fill:none;fill-rule:evenodd;stroke:#FF0000;stroke-width:2.0px;stroke-linecap:butt;stroke-linejoin:miter;stroke-opacity:1\"/>\n",
       "<path class=\"bond-5 atom-5 atom-7\" d=\"M 377.7,167.2 L 340.5,162.6\" style=\"fill:none;fill-rule:evenodd;stroke:#000000;stroke-width:2.0px;stroke-linecap:butt;stroke-linejoin:miter;stroke-opacity:1\"/>\n",
       "<path class=\"bond-6 atom-7 atom-8\" d=\"M 340.5,162.6 L 317.9,192.5\" style=\"fill:none;fill-rule:evenodd;stroke:#000000;stroke-width:2.0px;stroke-linecap:butt;stroke-linejoin:miter;stroke-opacity:1\"/>\n",
       "<path class=\"bond-6 atom-7 atom-8\" d=\"M 334.1,161.8 L 315.4,186.5\" style=\"fill:none;fill-rule:evenodd;stroke:#000000;stroke-width:2.0px;stroke-linecap:butt;stroke-linejoin:miter;stroke-opacity:1\"/>\n",
       "<path class=\"bond-7 atom-8 atom-9\" d=\"M 317.9,192.5 L 280.7,187.9\" style=\"fill:none;fill-rule:evenodd;stroke:#000000;stroke-width:2.0px;stroke-linecap:butt;stroke-linejoin:miter;stroke-opacity:1\"/>\n",
       "<path class=\"bond-8 atom-9 atom-10\" d=\"M 280.7,187.9 L 266.0,153.4\" style=\"fill:none;fill-rule:evenodd;stroke:#000000;stroke-width:2.0px;stroke-linecap:butt;stroke-linejoin:miter;stroke-opacity:1\"/>\n",
       "<path class=\"bond-8 atom-9 atom-10\" d=\"M 284.6,182.7 L 272.5,154.2\" style=\"fill:none;fill-rule:evenodd;stroke:#000000;stroke-width:2.0px;stroke-linecap:butt;stroke-linejoin:miter;stroke-opacity:1\"/>\n",
       "<path class=\"bond-9 atom-10 atom-11\" d=\"M 266.0,153.4 L 250.5,151.4\" style=\"fill:none;fill-rule:evenodd;stroke:#000000;stroke-width:2.0px;stroke-linecap:butt;stroke-linejoin:miter;stroke-opacity:1\"/>\n",
       "<path class=\"bond-9 atom-10 atom-11\" d=\"M 250.5,151.4 L 234.9,149.5\" style=\"fill:none;fill-rule:evenodd;stroke:#FF0000;stroke-width:2.0px;stroke-linecap:butt;stroke-linejoin:miter;stroke-opacity:1\"/>\n",
       "<path class=\"bond-10 atom-10 atom-12\" d=\"M 266.0,153.4 L 288.6,123.4\" style=\"fill:none;fill-rule:evenodd;stroke:#000000;stroke-width:2.0px;stroke-linecap:butt;stroke-linejoin:miter;stroke-opacity:1\"/>\n",
       "<path class=\"bond-11 atom-12 atom-13\" d=\"M 288.6,123.4 L 325.9,128.0\" style=\"fill:none;fill-rule:evenodd;stroke:#000000;stroke-width:2.0px;stroke-linecap:butt;stroke-linejoin:miter;stroke-opacity:1\"/>\n",
       "<path class=\"bond-11 atom-12 atom-13\" d=\"M 291.2,129.4 L 322.0,133.2\" style=\"fill:none;fill-rule:evenodd;stroke:#000000;stroke-width:2.0px;stroke-linecap:butt;stroke-linejoin:miter;stroke-opacity:1\"/>\n",
       "<path class=\"bond-12 atom-13 atom-14\" d=\"M 325.9,128.0 L 334.6,116.5\" style=\"fill:none;fill-rule:evenodd;stroke:#000000;stroke-width:2.0px;stroke-linecap:butt;stroke-linejoin:miter;stroke-opacity:1\"/>\n",
       "<path class=\"bond-12 atom-13 atom-14\" d=\"M 334.6,116.5 L 343.4,104.9\" style=\"fill:none;fill-rule:evenodd;stroke:#FF0000;stroke-width:2.0px;stroke-linecap:butt;stroke-linejoin:miter;stroke-opacity:1\"/>\n",
       "<path class=\"bond-13 atom-13 atom-7\" d=\"M 325.9,128.0 L 340.5,162.6\" style=\"fill:none;fill-rule:evenodd;stroke:#000000;stroke-width:2.0px;stroke-linecap:butt;stroke-linejoin:miter;stroke-opacity:1\"/>\n",
       "<path d=\"M 378.2,166.6 L 377.7,167.2 L 375.9,167.0\" style=\"fill:none;stroke:#000000;stroke-width:2.0px;stroke-linecap:butt;stroke-linejoin:miter;stroke-opacity:1;\"/>\n",
       "<path d=\"M 282.5,188.2 L 280.7,187.9 L 279.9,186.2\" style=\"fill:none;stroke:#000000;stroke-width:2.0px;stroke-linecap:butt;stroke-linejoin:miter;stroke-opacity:1;\"/>\n",
       "<path class=\"atom-1\" d=\"M 395.5 137.3 Q 395.5 134.7, 396.7 133.3 Q 398.0 131.9, 400.3 131.9 Q 402.7 131.9, 404.0 133.3 Q 405.2 134.7, 405.2 137.3 Q 405.2 139.9, 403.9 141.3 Q 402.7 142.8, 400.3 142.8 Q 398.0 142.8, 396.7 141.3 Q 395.5 139.9, 395.5 137.3 M 400.3 141.6 Q 402.0 141.6, 402.8 140.5 Q 403.7 139.4, 403.7 137.3 Q 403.7 135.2, 402.8 134.1 Q 402.0 133.1, 400.3 133.1 Q 398.7 133.1, 397.8 134.1 Q 397.0 135.2, 397.0 137.3 Q 397.0 139.4, 397.8 140.5 Q 398.7 141.6, 400.3 141.6 \" fill=\"#FF0000\"/>\n",
       "<path class=\"atom-3\" d=\"M 387.5 201.8 Q 387.5 199.2, 388.7 197.8 Q 390.0 196.4, 392.4 196.4 Q 394.7 196.4, 396.0 197.8 Q 397.2 199.2, 397.2 201.8 Q 397.2 204.4, 396.0 205.8 Q 394.7 207.3, 392.4 207.3 Q 390.0 207.3, 388.7 205.8 Q 387.5 204.4, 387.5 201.8 M 392.4 206.1 Q 394.0 206.1, 394.9 205.0 Q 395.7 203.9, 395.7 201.8 Q 395.7 199.7, 394.9 198.6 Q 394.0 197.6, 392.4 197.6 Q 390.7 197.6, 389.9 198.6 Q 389.0 199.7, 389.0 201.8 Q 389.0 203.9, 389.9 205.0 Q 390.7 206.1, 392.4 206.1 \" fill=\"#FF0000\"/>\n",
       "<path class=\"atom-8\" d=\"M 213.4 143.5 L 214.9 143.5 L 214.9 148.0 L 220.3 148.0 L 220.3 143.5 L 221.7 143.5 L 221.7 154.1 L 220.3 154.1 L 220.3 149.2 L 214.9 149.2 L 214.9 154.1 L 213.4 154.1 L 213.4 143.5 \" fill=\"#FF0000\"/>\n",
       "<path class=\"atom-8\" d=\"M 223.9 148.8 Q 223.9 146.2, 225.2 144.8 Q 226.4 143.4, 228.8 143.4 Q 231.1 143.4, 232.4 144.8 Q 233.7 146.2, 233.7 148.8 Q 233.7 151.4, 232.4 152.8 Q 231.1 154.3, 228.8 154.3 Q 226.4 154.3, 225.2 152.8 Q 223.9 151.4, 223.9 148.8 M 228.8 153.1 Q 230.4 153.1, 231.3 152.0 Q 232.2 150.9, 232.2 148.8 Q 232.2 146.7, 231.3 145.7 Q 230.4 144.6, 228.8 144.6 Q 227.2 144.6, 226.3 145.6 Q 225.4 146.7, 225.4 148.8 Q 225.4 150.9, 226.3 152.0 Q 227.2 153.1, 228.8 153.1 \" fill=\"#FF0000\"/>\n",
       "<path class=\"atom-11\" d=\"M 343.6 98.1 Q 343.6 95.6, 344.9 94.1 Q 346.1 92.7, 348.5 92.7 Q 350.8 92.7, 352.1 94.1 Q 353.4 95.6, 353.4 98.1 Q 353.4 100.7, 352.1 102.2 Q 350.8 103.6, 348.5 103.6 Q 346.1 103.6, 344.9 102.2 Q 343.6 100.7, 343.6 98.1 M 348.5 102.4 Q 350.1 102.4, 351.0 101.3 Q 351.9 100.3, 351.9 98.1 Q 351.9 96.0, 351.0 95.0 Q 350.1 93.9, 348.5 93.9 Q 346.9 93.9, 346.0 95.0 Q 345.1 96.0, 345.1 98.1 Q 345.1 100.3, 346.0 101.3 Q 346.9 102.4, 348.5 102.4 \" fill=\"#FF0000\"/>\n",
       "<path class=\"atom-11\" d=\"M 355.0 92.8 L 356.5 92.8 L 356.5 97.4 L 361.9 97.4 L 361.9 92.8 L 363.3 92.8 L 363.3 103.5 L 361.9 103.5 L 361.9 98.6 L 356.5 98.6 L 356.5 103.5 L 355.0 103.5 L 355.0 92.8 \" fill=\"#FF0000\"/>\n",
       "<path class=\"bond-14 atom-15 atom-16\" d=\"M 528.2,119.3 L 565.6,115.9\" style=\"fill:none;fill-rule:evenodd;stroke:#000000;stroke-width:2.0px;stroke-linecap:butt;stroke-linejoin:miter;stroke-opacity:1\"/>\n",
       "<path class=\"bond-15 atom-16 atom-17\" d=\"M 565.6,115.9 L 574.1,127.9\" style=\"fill:none;fill-rule:evenodd;stroke:#000000;stroke-width:2.0px;stroke-linecap:butt;stroke-linejoin:miter;stroke-opacity:1\"/>\n",
       "<path class=\"bond-15 atom-16 atom-17\" d=\"M 574.1,127.9 L 582.6,139.9\" style=\"fill:none;fill-rule:evenodd;stroke:#FF0000;stroke-width:2.0px;stroke-linecap:butt;stroke-linejoin:miter;stroke-opacity:1\"/>\n",
       "<path class=\"bond-16 atom-17 atom-18\" d=\"M 593.3,146.0 L 609.0,144.5\" style=\"fill:none;fill-rule:evenodd;stroke:#FF0000;stroke-width:2.0px;stroke-linecap:butt;stroke-linejoin:miter;stroke-opacity:1\"/>\n",
       "<path class=\"bond-16 atom-17 atom-18\" d=\"M 609.0,144.5 L 624.6,143.1\" style=\"fill:none;fill-rule:evenodd;stroke:#000000;stroke-width:2.0px;stroke-linecap:butt;stroke-linejoin:miter;stroke-opacity:1\"/>\n",
       "<path class=\"bond-17 atom-18 atom-19\" d=\"M 624.6,143.1 L 640.3,109.1\" style=\"fill:none;fill-rule:evenodd;stroke:#000000;stroke-width:2.0px;stroke-linecap:butt;stroke-linejoin:miter;stroke-opacity:1\"/>\n",
       "<path class=\"bond-17 atom-18 atom-19\" d=\"M 631.1,142.5 L 644.1,114.4\" style=\"fill:none;fill-rule:evenodd;stroke:#000000;stroke-width:2.0px;stroke-linecap:butt;stroke-linejoin:miter;stroke-opacity:1\"/>\n",
       "<path class=\"bond-18 atom-19 atom-20\" d=\"M 640.3,109.1 L 677.7,105.6\" style=\"fill:none;fill-rule:evenodd;stroke:#000000;stroke-width:2.0px;stroke-linecap:butt;stroke-linejoin:miter;stroke-opacity:1\"/>\n",
       "<path class=\"bond-19 atom-20 atom-21\" d=\"M 677.7,105.6 L 699.3,136.3\" style=\"fill:none;fill-rule:evenodd;stroke:#000000;stroke-width:2.0px;stroke-linecap:butt;stroke-linejoin:miter;stroke-opacity:1\"/>\n",
       "<path class=\"bond-19 atom-20 atom-21\" d=\"M 675.0,111.5 L 692.8,136.9\" style=\"fill:none;fill-rule:evenodd;stroke:#000000;stroke-width:2.0px;stroke-linecap:butt;stroke-linejoin:miter;stroke-opacity:1\"/>\n",
       "<path class=\"bond-20 atom-21 atom-22\" d=\"M 699.3,136.3 L 736.7,132.9\" style=\"fill:none;fill-rule:evenodd;stroke:#000000;stroke-width:2.0px;stroke-linecap:butt;stroke-linejoin:miter;stroke-opacity:1\"/>\n",
       "<path class=\"bond-21 atom-22 atom-23\" d=\"M 733.4,133.2 L 742.4,145.9\" style=\"fill:none;fill-rule:evenodd;stroke:#000000;stroke-width:2.0px;stroke-linecap:butt;stroke-linejoin:miter;stroke-opacity:1\"/>\n",
       "<path class=\"bond-21 atom-22 atom-23\" d=\"M 742.4,145.9 L 751.4,158.5\" style=\"fill:none;fill-rule:evenodd;stroke:#FF0000;stroke-width:2.0px;stroke-linecap:butt;stroke-linejoin:miter;stroke-opacity:1\"/>\n",
       "<path class=\"bond-21 atom-22 atom-23\" d=\"M 738.0,129.9 L 747.0,142.6\" style=\"fill:none;fill-rule:evenodd;stroke:#000000;stroke-width:2.0px;stroke-linecap:butt;stroke-linejoin:miter;stroke-opacity:1\"/>\n",
       "<path class=\"bond-21 atom-22 atom-23\" d=\"M 747.0,142.6 L 756.0,155.3\" style=\"fill:none;fill-rule:evenodd;stroke:#FF0000;stroke-width:2.0px;stroke-linecap:butt;stroke-linejoin:miter;stroke-opacity:1\"/>\n",
       "<path class=\"bond-22 atom-22 atom-24\" d=\"M 736.7,132.9 L 743.0,119.2\" style=\"fill:none;fill-rule:evenodd;stroke:#000000;stroke-width:2.0px;stroke-linecap:butt;stroke-linejoin:miter;stroke-opacity:1\"/>\n",
       "<path class=\"bond-22 atom-22 atom-24\" d=\"M 743.0,119.2 L 749.3,105.6\" style=\"fill:none;fill-rule:evenodd;stroke:#FF0000;stroke-width:2.0px;stroke-linecap:butt;stroke-linejoin:miter;stroke-opacity:1\"/>\n",
       "<path class=\"bond-23 atom-24 atom-25\" d=\"M 758.5,98.3 L 774.2,96.8\" style=\"fill:none;fill-rule:evenodd;stroke:#FF0000;stroke-width:2.0px;stroke-linecap:butt;stroke-linejoin:miter;stroke-opacity:1\"/>\n",
       "<path class=\"bond-23 atom-24 atom-25\" d=\"M 774.2,96.8 L 789.8,95.4\" style=\"fill:none;fill-rule:evenodd;stroke:#000000;stroke-width:2.0px;stroke-linecap:butt;stroke-linejoin:miter;stroke-opacity:1\"/>\n",
       "<path class=\"bond-24 atom-21 atom-26\" d=\"M 699.3,136.3 L 683.6,170.4\" style=\"fill:none;fill-rule:evenodd;stroke:#000000;stroke-width:2.0px;stroke-linecap:butt;stroke-linejoin:miter;stroke-opacity:1\"/>\n",
       "<path class=\"bond-25 atom-26 atom-27\" d=\"M 683.6,170.4 L 692.1,182.4\" style=\"fill:none;fill-rule:evenodd;stroke:#000000;stroke-width:2.0px;stroke-linecap:butt;stroke-linejoin:miter;stroke-opacity:1\"/>\n",
       "<path class=\"bond-25 atom-26 atom-27\" d=\"M 692.1,182.4 L 700.6,194.4\" style=\"fill:none;fill-rule:evenodd;stroke:#FF0000;stroke-width:2.0px;stroke-linecap:butt;stroke-linejoin:miter;stroke-opacity:1\"/>\n",
       "<path class=\"bond-26 atom-26 atom-28\" d=\"M 683.6,170.4 L 646.2,173.8\" style=\"fill:none;fill-rule:evenodd;stroke:#000000;stroke-width:2.0px;stroke-linecap:butt;stroke-linejoin:miter;stroke-opacity:1\"/>\n",
       "<path class=\"bond-26 atom-26 atom-28\" d=\"M 679.8,165.1 L 649.0,167.9\" style=\"fill:none;fill-rule:evenodd;stroke:#000000;stroke-width:2.0px;stroke-linecap:butt;stroke-linejoin:miter;stroke-opacity:1\"/>\n",
       "<path class=\"bond-27 atom-28 atom-18\" d=\"M 646.2,173.8 L 624.6,143.1\" style=\"fill:none;fill-rule:evenodd;stroke:#000000;stroke-width:2.0px;stroke-linecap:butt;stroke-linejoin:miter;stroke-opacity:1\"/>\n",
       "<path class=\"atom-2\" d=\"M 582.3 146.6 Q 582.3 144.0, 583.6 142.6 Q 584.9 141.2, 587.2 141.2 Q 589.6 141.2, 590.8 142.6 Q 592.1 144.0, 592.1 146.6 Q 592.1 149.1, 590.8 150.6 Q 589.6 152.1, 587.2 152.1 Q 584.9 152.1, 583.6 150.6 Q 582.3 149.2, 582.3 146.6 M 587.2 150.9 Q 588.8 150.9, 589.7 149.8 Q 590.6 148.7, 590.6 146.6 Q 590.6 144.5, 589.7 143.4 Q 588.8 142.4, 587.2 142.4 Q 585.6 142.4, 584.7 143.4 Q 583.8 144.5, 583.8 146.6 Q 583.8 148.7, 584.7 149.8 Q 585.6 150.9, 587.2 150.9 \" fill=\"#FF0000\"/>\n",
       "<path class=\"atom-8\" d=\"M 753.4 163.6 Q 753.4 161.0, 754.7 159.6 Q 756.0 158.2, 758.3 158.2 Q 760.7 158.2, 761.9 159.6 Q 763.2 161.0, 763.2 163.6 Q 763.2 166.1, 761.9 167.6 Q 760.6 169.1, 758.3 169.1 Q 756.0 169.1, 754.7 167.6 Q 753.4 166.2, 753.4 163.6 M 758.3 167.9 Q 759.9 167.9, 760.8 166.8 Q 761.7 165.7, 761.7 163.6 Q 761.7 161.5, 760.8 160.4 Q 759.9 159.4, 758.3 159.4 Q 756.7 159.4, 755.8 160.4 Q 754.9 161.5, 754.9 163.6 Q 754.9 165.7, 755.8 166.8 Q 756.7 167.9, 758.3 167.9 \" fill=\"#FF0000\"/>\n",
       "<path class=\"atom-9\" d=\"M 747.5 98.9 Q 747.5 96.3, 748.8 94.9 Q 750.1 93.4, 752.4 93.4 Q 754.8 93.4, 756.0 94.9 Q 757.3 96.3, 757.3 98.9 Q 757.3 101.4, 756.0 102.9 Q 754.7 104.4, 752.4 104.4 Q 750.1 104.4, 748.8 102.9 Q 747.5 101.4, 747.5 98.9 M 752.4 103.2 Q 754.0 103.2, 754.9 102.1 Q 755.8 101.0, 755.8 98.9 Q 755.8 96.8, 754.9 95.7 Q 754.0 94.6, 752.4 94.6 Q 750.8 94.6, 749.9 95.7 Q 749.0 96.7, 749.0 98.9 Q 749.0 101.0, 749.9 102.1 Q 750.8 103.2, 752.4 103.2 \" fill=\"#FF0000\"/>\n",
       "<path class=\"atom-12\" d=\"M 700.4 201.0 Q 700.4 198.5, 701.6 197.1 Q 702.9 195.6, 705.2 195.6 Q 707.6 195.6, 708.8 197.1 Q 710.1 198.5, 710.1 201.0 Q 710.1 203.6, 708.8 205.1 Q 707.6 206.6, 705.2 206.6 Q 702.9 206.6, 701.6 205.1 Q 700.4 203.6, 700.4 201.0 M 705.2 205.4 Q 706.8 205.4, 707.7 204.3 Q 708.6 203.2, 708.6 201.0 Q 708.6 199.0, 707.7 197.9 Q 706.8 196.8, 705.2 196.8 Q 703.6 196.8, 702.7 197.9 Q 701.9 198.9, 701.9 201.0 Q 701.9 203.2, 702.7 204.3 Q 703.6 205.4, 705.2 205.4 \" fill=\"#FF0000\"/>\n",
       "<path class=\"atom-12\" d=\"M 711.8 195.8 L 713.2 195.8 L 713.2 200.3 L 718.6 200.3 L 718.6 195.8 L 720.1 195.8 L 720.1 206.4 L 718.6 206.4 L 718.6 201.5 L 713.2 201.5 L 713.2 206.4 L 711.8 206.4 L 711.8 195.8 \" fill=\"#FF0000\"/>\n",
       "<path d=\"M 453.0,150.0 L 513.0,150.0\" style=\"fill:none;fill-rule:evenodd;stroke:#000000;stroke-width:2.0px;stroke-linecap:butt;stroke-linejoin:miter;stroke-opacity:1\"/>\n",
       "<path d=\"M 513.0,150.0 L 508.0,152.9\" style=\"fill:none;fill-rule:evenodd;stroke:#000000;stroke-width:2.0px;stroke-linecap:butt;stroke-linejoin:miter;stroke-opacity:1\"/>\n",
       "<path d=\"M 513.0,150.0 L 508.0,147.1\" style=\"fill:none;fill-rule:evenodd;stroke:#000000;stroke-width:2.0px;stroke-linecap:butt;stroke-linejoin:miter;stroke-opacity:1\"/>\n",
       "</svg>"
      ],
      "text/plain": [
       "<IPython.core.display.SVG object>"
      ]
     },
     "metadata": {},
     "output_type": "display_data"
    },
    {
     "name": "stdout",
     "output_type": "stream",
     "text": [
      "--------------------------------------------\n",
      "\n",
      "\n",
      "\n",
      "Sequence 7\n",
      "Similarity Scores: Overall: 0.33239766081871347,Candidate Reactants: 0.6533333333333333, Product: 0.5087719298245614\n",
      "Reaction Class: 1\n",
      "Predicted Reaction: CCOc1ccc(C(=O)OC)c(OC2CCCCO2)c1>>CCOc1ccc(C(=O)OC)c(O)c1\n",
      "Template Applied: [O;D1;H1;+0:2]-[c:1]>>[O]1(-[C](-[O;H0;D2;+0:2]-[c:1])-[C]-[C]-[C]-[C]-1)\n",
      "Patent ID: US08030354B2\n",
      "\u001b[91mGround Truth Does Not Equal Prediction\u001b[0m\n"
     ]
    },
    {
     "data": {
      "image/svg+xml": [
       "<svg xmlns=\"http://www.w3.org/2000/svg\" xmlns:rdkit=\"http://www.rdkit.org/xml\" xmlns:xlink=\"http://www.w3.org/1999/xlink\" version=\"1.1\" baseProfile=\"full\" xml:space=\"preserve\" width=\"900px\" height=\"300px\" viewBox=\"0 0 900 300\">\n",
       "<!-- END OF HEADER -->\n",
       "<rect style=\"opacity:1.0;fill:#FFFFFF;stroke:none\" width=\"900.0\" height=\"300.0\" x=\"0.0\" y=\"0.0\"> </rect>\n",
       "<path class=\"bond-0 atom-0 atom-1\" d=\"M 166.0,284.9 L 168.2,246.4\" style=\"fill:none;fill-rule:evenodd;stroke:#000000;stroke-width:2.0px;stroke-linecap:butt;stroke-linejoin:miter;stroke-opacity:1\"/>\n",
       "<path class=\"bond-1 atom-1 atom-2\" d=\"M 168.2,246.4 L 182.3,239.3\" style=\"fill:none;fill-rule:evenodd;stroke:#000000;stroke-width:2.0px;stroke-linecap:butt;stroke-linejoin:miter;stroke-opacity:1\"/>\n",
       "<path class=\"bond-1 atom-1 atom-2\" d=\"M 182.3,239.3 L 196.4,232.2\" style=\"fill:none;fill-rule:evenodd;stroke:#FF0000;stroke-width:2.0px;stroke-linecap:butt;stroke-linejoin:miter;stroke-opacity:1\"/>\n",
       "<path class=\"bond-2 atom-2 atom-3\" d=\"M 203.0,222.2 L 203.9,206.3\" style=\"fill:none;fill-rule:evenodd;stroke:#FF0000;stroke-width:2.0px;stroke-linecap:butt;stroke-linejoin:miter;stroke-opacity:1\"/>\n",
       "<path class=\"bond-2 atom-2 atom-3\" d=\"M 203.9,206.3 L 204.8,190.4\" style=\"fill:none;fill-rule:evenodd;stroke:#000000;stroke-width:2.0px;stroke-linecap:butt;stroke-linejoin:miter;stroke-opacity:1\"/>\n",
       "<path class=\"bond-3 atom-3 atom-4\" d=\"M 204.8,190.4 L 172.5,169.3\" style=\"fill:none;fill-rule:evenodd;stroke:#000000;stroke-width:2.0px;stroke-linecap:butt;stroke-linejoin:miter;stroke-opacity:1\"/>\n",
       "<path class=\"bond-3 atom-3 atom-4\" d=\"M 205.2,183.8 L 178.5,166.3\" style=\"fill:none;fill-rule:evenodd;stroke:#000000;stroke-width:2.0px;stroke-linecap:butt;stroke-linejoin:miter;stroke-opacity:1\"/>\n",
       "<path class=\"bond-4 atom-4 atom-5\" d=\"M 172.5,169.3 L 174.7,130.7\" style=\"fill:none;fill-rule:evenodd;stroke:#000000;stroke-width:2.0px;stroke-linecap:butt;stroke-linejoin:miter;stroke-opacity:1\"/>\n",
       "<path class=\"bond-5 atom-5 atom-6\" d=\"M 174.7,130.7 L 209.2,113.3\" style=\"fill:none;fill-rule:evenodd;stroke:#000000;stroke-width:2.0px;stroke-linecap:butt;stroke-linejoin:miter;stroke-opacity:1\"/>\n",
       "<path class=\"bond-5 atom-5 atom-6\" d=\"M 180.3,134.4 L 208.8,120.0\" style=\"fill:none;fill-rule:evenodd;stroke:#000000;stroke-width:2.0px;stroke-linecap:butt;stroke-linejoin:miter;stroke-opacity:1\"/>\n",
       "<path class=\"bond-6 atom-6 atom-7\" d=\"M 209.2,113.3 L 211.3,74.8\" style=\"fill:none;fill-rule:evenodd;stroke:#000000;stroke-width:2.0px;stroke-linecap:butt;stroke-linejoin:miter;stroke-opacity:1\"/>\n",
       "<path class=\"bond-7 atom-7 atom-8\" d=\"M 211.1,78.1 L 226.0,70.6\" style=\"fill:none;fill-rule:evenodd;stroke:#000000;stroke-width:2.0px;stroke-linecap:butt;stroke-linejoin:miter;stroke-opacity:1\"/>\n",
       "<path class=\"bond-7 atom-7 atom-8\" d=\"M 226.0,70.6 L 240.8,63.2\" style=\"fill:none;fill-rule:evenodd;stroke:#FF0000;stroke-width:2.0px;stroke-linecap:butt;stroke-linejoin:miter;stroke-opacity:1\"/>\n",
       "<path class=\"bond-7 atom-7 atom-8\" d=\"M 208.5,73.0 L 223.4,65.5\" style=\"fill:none;fill-rule:evenodd;stroke:#000000;stroke-width:2.0px;stroke-linecap:butt;stroke-linejoin:miter;stroke-opacity:1\"/>\n",
       "<path class=\"bond-7 atom-7 atom-8\" d=\"M 223.4,65.5 L 238.2,58.0\" style=\"fill:none;fill-rule:evenodd;stroke:#FF0000;stroke-width:2.0px;stroke-linecap:butt;stroke-linejoin:miter;stroke-opacity:1\"/>\n",
       "<path class=\"bond-8 atom-7 atom-9\" d=\"M 211.3,74.8 L 198.3,66.3\" style=\"fill:none;fill-rule:evenodd;stroke:#000000;stroke-width:2.0px;stroke-linecap:butt;stroke-linejoin:miter;stroke-opacity:1\"/>\n",
       "<path class=\"bond-8 atom-7 atom-9\" d=\"M 198.3,66.3 L 185.3,57.7\" style=\"fill:none;fill-rule:evenodd;stroke:#FF0000;stroke-width:2.0px;stroke-linecap:butt;stroke-linejoin:miter;stroke-opacity:1\"/>\n",
       "<path class=\"bond-9 atom-9 atom-10\" d=\"M 179.4,46.8 L 180.3,31.0\" style=\"fill:none;fill-rule:evenodd;stroke:#FF0000;stroke-width:2.0px;stroke-linecap:butt;stroke-linejoin:miter;stroke-opacity:1\"/>\n",
       "<path class=\"bond-9 atom-9 atom-10\" d=\"M 180.3,31.0 L 181.2,15.1\" style=\"fill:none;fill-rule:evenodd;stroke:#000000;stroke-width:2.0px;stroke-linecap:butt;stroke-linejoin:miter;stroke-opacity:1\"/>\n",
       "<path class=\"bond-10 atom-6 atom-11\" d=\"M 209.2,113.3 L 241.5,134.5\" style=\"fill:none;fill-rule:evenodd;stroke:#000000;stroke-width:2.0px;stroke-linecap:butt;stroke-linejoin:miter;stroke-opacity:1\"/>\n",
       "<path class=\"bond-11 atom-11 atom-12\" d=\"M 241.5,134.5 L 255.5,127.4\" style=\"fill:none;fill-rule:evenodd;stroke:#000000;stroke-width:2.0px;stroke-linecap:butt;stroke-linejoin:miter;stroke-opacity:1\"/>\n",
       "<path class=\"bond-11 atom-11 atom-12\" d=\"M 255.5,127.4 L 269.6,120.3\" style=\"fill:none;fill-rule:evenodd;stroke:#FF0000;stroke-width:2.0px;stroke-linecap:butt;stroke-linejoin:miter;stroke-opacity:1\"/>\n",
       "<path class=\"bond-12 atom-12 atom-13\" d=\"M 282.2,121.2 L 295.2,129.7\" style=\"fill:none;fill-rule:evenodd;stroke:#FF0000;stroke-width:2.0px;stroke-linecap:butt;stroke-linejoin:miter;stroke-opacity:1\"/>\n",
       "<path class=\"bond-12 atom-12 atom-13\" d=\"M 295.2,129.7 L 308.2,138.3\" style=\"fill:none;fill-rule:evenodd;stroke:#000000;stroke-width:2.0px;stroke-linecap:butt;stroke-linejoin:miter;stroke-opacity:1\"/>\n",
       "<path class=\"bond-13 atom-13 atom-14\" d=\"M 308.2,138.3 L 306.1,176.8\" style=\"fill:none;fill-rule:evenodd;stroke:#000000;stroke-width:2.0px;stroke-linecap:butt;stroke-linejoin:miter;stroke-opacity:1\"/>\n",
       "<path class=\"bond-14 atom-14 atom-15\" d=\"M 306.1,176.8 L 338.4,198.0\" style=\"fill:none;fill-rule:evenodd;stroke:#000000;stroke-width:2.0px;stroke-linecap:butt;stroke-linejoin:miter;stroke-opacity:1\"/>\n",
       "<path class=\"bond-15 atom-15 atom-16\" d=\"M 338.4,198.0 L 372.8,180.6\" style=\"fill:none;fill-rule:evenodd;stroke:#000000;stroke-width:2.0px;stroke-linecap:butt;stroke-linejoin:miter;stroke-opacity:1\"/>\n",
       "<path class=\"bond-16 atom-16 atom-17\" d=\"M 372.8,180.6 L 375.0,142.0\" style=\"fill:none;fill-rule:evenodd;stroke:#000000;stroke-width:2.0px;stroke-linecap:butt;stroke-linejoin:miter;stroke-opacity:1\"/>\n",
       "<path class=\"bond-17 atom-17 atom-18\" d=\"M 375.0,142.0 L 362.0,133.5\" style=\"fill:none;fill-rule:evenodd;stroke:#000000;stroke-width:2.0px;stroke-linecap:butt;stroke-linejoin:miter;stroke-opacity:1\"/>\n",
       "<path class=\"bond-17 atom-17 atom-18\" d=\"M 362.0,133.5 L 349.0,125.0\" style=\"fill:none;fill-rule:evenodd;stroke:#FF0000;stroke-width:2.0px;stroke-linecap:butt;stroke-linejoin:miter;stroke-opacity:1\"/>\n",
       "<path class=\"bond-18 atom-11 atom-19\" d=\"M 241.5,134.5 L 239.3,173.0\" style=\"fill:none;fill-rule:evenodd;stroke:#000000;stroke-width:2.0px;stroke-linecap:butt;stroke-linejoin:miter;stroke-opacity:1\"/>\n",
       "<path class=\"bond-18 atom-11 atom-19\" d=\"M 235.5,137.5 L 233.7,169.4\" style=\"fill:none;fill-rule:evenodd;stroke:#000000;stroke-width:2.0px;stroke-linecap:butt;stroke-linejoin:miter;stroke-opacity:1\"/>\n",
       "<path class=\"bond-19 atom-19 atom-3\" d=\"M 239.3,173.0 L 204.8,190.4\" style=\"fill:none;fill-rule:evenodd;stroke:#000000;stroke-width:2.0px;stroke-linecap:butt;stroke-linejoin:miter;stroke-opacity:1\"/>\n",
       "<path class=\"bond-20 atom-18 atom-13\" d=\"M 336.4,124.0 L 322.3,131.1\" style=\"fill:none;fill-rule:evenodd;stroke:#FF0000;stroke-width:2.0px;stroke-linecap:butt;stroke-linejoin:miter;stroke-opacity:1\"/>\n",
       "<path class=\"bond-20 atom-18 atom-13\" d=\"M 322.3,131.1 L 308.2,138.3\" style=\"fill:none;fill-rule:evenodd;stroke:#000000;stroke-width:2.0px;stroke-linecap:butt;stroke-linejoin:miter;stroke-opacity:1\"/>\n",
       "<path d=\"M 168.1,248.3 L 168.2,246.4 L 168.9,246.0\" style=\"fill:none;stroke:#000000;stroke-width:2.0px;stroke-linecap:butt;stroke-linejoin:miter;stroke-opacity:1;\"/>\n",
       "<path d=\"M 174.1,170.3 L 172.5,169.3 L 172.6,167.3\" style=\"fill:none;stroke:#000000;stroke-width:2.0px;stroke-linecap:butt;stroke-linejoin:miter;stroke-opacity:1;\"/>\n",
       "<path d=\"M 174.6,132.7 L 174.7,130.7 L 176.4,129.9\" style=\"fill:none;stroke:#000000;stroke-width:2.0px;stroke-linecap:butt;stroke-linejoin:miter;stroke-opacity:1;\"/>\n",
       "<path d=\"M 211.2,76.7 L 211.3,74.8 L 210.7,74.4\" style=\"fill:none;stroke:#000000;stroke-width:2.0px;stroke-linecap:butt;stroke-linejoin:miter;stroke-opacity:1;\"/>\n",
       "<path d=\"M 306.2,174.9 L 306.1,176.8 L 307.7,177.9\" style=\"fill:none;stroke:#000000;stroke-width:2.0px;stroke-linecap:butt;stroke-linejoin:miter;stroke-opacity:1;\"/>\n",
       "<path d=\"M 336.7,196.9 L 338.4,198.0 L 340.1,197.1\" style=\"fill:none;stroke:#000000;stroke-width:2.0px;stroke-linecap:butt;stroke-linejoin:miter;stroke-opacity:1;\"/>\n",
       "<path d=\"M 371.1,181.4 L 372.8,180.6 L 372.9,178.6\" style=\"fill:none;stroke:#000000;stroke-width:2.0px;stroke-linecap:butt;stroke-linejoin:miter;stroke-opacity:1;\"/>\n",
       "<path d=\"M 374.9,143.9 L 375.0,142.0 L 374.3,141.6\" style=\"fill:none;stroke:#000000;stroke-width:2.0px;stroke-linecap:butt;stroke-linejoin:miter;stroke-opacity:1;\"/>\n",
       "<path d=\"M 239.4,171.1 L 239.3,173.0 L 237.6,173.9\" style=\"fill:none;stroke:#000000;stroke-width:2.0px;stroke-linecap:butt;stroke-linejoin:miter;stroke-opacity:1;\"/>\n",
       "<path class=\"atom-2\" d=\"M 197.6 229.0 Q 197.6 226.4, 198.9 224.9 Q 200.2 223.5, 202.6 223.5 Q 205.1 223.5, 206.4 224.9 Q 207.7 226.4, 207.7 229.0 Q 207.7 231.7, 206.4 233.2 Q 205.0 234.7, 202.6 234.7 Q 200.2 234.7, 198.9 233.2 Q 197.6 231.7, 197.6 229.0 M 202.6 233.4 Q 204.3 233.4, 205.2 232.3 Q 206.1 231.2, 206.1 229.0 Q 206.1 226.9, 205.2 225.8 Q 204.3 224.7, 202.6 224.7 Q 201.0 224.7, 200.1 225.8 Q 199.2 226.8, 199.2 229.0 Q 199.2 231.2, 200.1 232.3 Q 201.0 233.4, 202.6 233.4 \" fill=\"#FF0000\"/>\n",
       "<path class=\"atom-8\" d=\"M 240.8 57.4 Q 240.8 54.8, 242.1 53.3 Q 243.4 51.9, 245.8 51.9 Q 248.2 51.9, 249.5 53.3 Q 250.8 54.8, 250.8 57.4 Q 250.8 60.1, 249.5 61.6 Q 248.2 63.1, 245.8 63.1 Q 243.4 63.1, 242.1 61.6 Q 240.8 60.1, 240.8 57.4 M 245.8 61.9 Q 247.5 61.9, 248.4 60.7 Q 249.3 59.6, 249.3 57.4 Q 249.3 55.3, 248.4 54.2 Q 247.5 53.1, 245.8 53.1 Q 244.1 53.1, 243.2 54.2 Q 242.3 55.3, 242.3 57.4 Q 242.3 59.6, 243.2 60.7 Q 244.1 61.9, 245.8 61.9 \" fill=\"#FF0000\"/>\n",
       "<path class=\"atom-9\" d=\"M 174.0 53.7 Q 174.0 51.0, 175.3 49.6 Q 176.6 48.1, 179.0 48.1 Q 181.5 48.1, 182.8 49.6 Q 184.1 51.0, 184.1 53.7 Q 184.1 56.3, 182.7 57.8 Q 181.4 59.3, 179.0 59.3 Q 176.6 59.3, 175.3 57.8 Q 174.0 56.3, 174.0 53.7 M 179.0 58.1 Q 180.7 58.1, 181.6 57.0 Q 182.5 55.9, 182.5 53.7 Q 182.5 51.5, 181.6 50.4 Q 180.7 49.3, 179.0 49.3 Q 177.4 49.3, 176.5 50.4 Q 175.6 51.5, 175.6 53.7 Q 175.6 55.9, 176.5 57.0 Q 177.4 58.1, 179.0 58.1 \" fill=\"#FF0000\"/>\n",
       "<path class=\"atom-12\" d=\"M 270.9 117.1 Q 270.9 114.5, 272.2 113.0 Q 273.5 111.6, 275.9 111.6 Q 278.4 111.6, 279.7 113.0 Q 281.0 114.5, 281.0 117.1 Q 281.0 119.8, 279.6 121.3 Q 278.3 122.8, 275.9 122.8 Q 273.5 122.8, 272.2 121.3 Q 270.9 119.8, 270.9 117.1 M 275.9 121.6 Q 277.6 121.6, 278.5 120.4 Q 279.4 119.3, 279.4 117.1 Q 279.4 115.0, 278.5 113.9 Q 277.6 112.8, 275.9 112.8 Q 274.3 112.8, 273.4 113.9 Q 272.5 115.0, 272.5 117.1 Q 272.5 119.3, 273.4 120.4 Q 274.3 121.6, 275.9 121.6 \" fill=\"#FF0000\"/>\n",
       "<path class=\"atom-18\" d=\"M 337.7 120.9 Q 337.7 118.3, 339.0 116.8 Q 340.3 115.3, 342.7 115.3 Q 345.1 115.3, 346.4 116.8 Q 347.7 118.3, 347.7 120.9 Q 347.7 123.5, 346.4 125.1 Q 345.1 126.6, 342.7 126.6 Q 340.3 126.6, 339.0 125.1 Q 337.7 123.6, 337.7 120.9 M 342.7 125.3 Q 344.4 125.3, 345.3 124.2 Q 346.2 123.1, 346.2 120.9 Q 346.2 118.7, 345.3 117.7 Q 344.4 116.6, 342.7 116.6 Q 341.0 116.6, 340.1 117.6 Q 339.2 118.7, 339.2 120.9 Q 339.2 123.1, 340.1 124.2 Q 341.0 125.3, 342.7 125.3 \" fill=\"#FF0000\"/>\n",
       "<path class=\"bond-0 atom-0 atom-1\" d=\"M 465.4,118.4 L 503.9,114.9\" style=\"fill:none;fill-rule:evenodd;stroke:#000000;stroke-width:2.0px;stroke-linecap:butt;stroke-linejoin:miter;stroke-opacity:1\"/>\n",
       "<path class=\"bond-1 atom-1 atom-2\" d=\"M 503.9,114.9 L 512.6,127.3\" style=\"fill:none;fill-rule:evenodd;stroke:#000000;stroke-width:2.0px;stroke-linecap:butt;stroke-linejoin:miter;stroke-opacity:1\"/>\n",
       "<path class=\"bond-1 atom-1 atom-2\" d=\"M 512.6,127.3 L 521.3,139.6\" style=\"fill:none;fill-rule:evenodd;stroke:#FF0000;stroke-width:2.0px;stroke-linecap:butt;stroke-linejoin:miter;stroke-opacity:1\"/>\n",
       "<path class=\"bond-2 atom-2 atom-3\" d=\"M 532.4,145.9 L 548.5,144.4\" style=\"fill:none;fill-rule:evenodd;stroke:#FF0000;stroke-width:2.0px;stroke-linecap:butt;stroke-linejoin:miter;stroke-opacity:1\"/>\n",
       "<path class=\"bond-2 atom-2 atom-3\" d=\"M 548.5,144.4 L 564.6,142.9\" style=\"fill:none;fill-rule:evenodd;stroke:#000000;stroke-width:2.0px;stroke-linecap:butt;stroke-linejoin:miter;stroke-opacity:1\"/>\n",
       "<path class=\"bond-3 atom-3 atom-4\" d=\"M 564.6,142.9 L 580.8,107.9\" style=\"fill:none;fill-rule:evenodd;stroke:#000000;stroke-width:2.0px;stroke-linecap:butt;stroke-linejoin:miter;stroke-opacity:1\"/>\n",
       "<path class=\"bond-3 atom-3 atom-4\" d=\"M 571.2,142.3 L 584.6,113.3\" style=\"fill:none;fill-rule:evenodd;stroke:#000000;stroke-width:2.0px;stroke-linecap:butt;stroke-linejoin:miter;stroke-opacity:1\"/>\n",
       "<path class=\"bond-4 atom-4 atom-5\" d=\"M 580.8,107.9 L 619.2,104.4\" style=\"fill:none;fill-rule:evenodd;stroke:#000000;stroke-width:2.0px;stroke-linecap:butt;stroke-linejoin:miter;stroke-opacity:1\"/>\n",
       "<path class=\"bond-5 atom-5 atom-6\" d=\"M 619.2,104.4 L 641.5,135.9\" style=\"fill:none;fill-rule:evenodd;stroke:#000000;stroke-width:2.0px;stroke-linecap:butt;stroke-linejoin:miter;stroke-opacity:1\"/>\n",
       "<path class=\"bond-5 atom-5 atom-6\" d=\"M 616.4,110.4 L 634.8,136.5\" style=\"fill:none;fill-rule:evenodd;stroke:#000000;stroke-width:2.0px;stroke-linecap:butt;stroke-linejoin:miter;stroke-opacity:1\"/>\n",
       "<path class=\"bond-6 atom-6 atom-7\" d=\"M 641.5,135.9 L 679.9,132.4\" style=\"fill:none;fill-rule:evenodd;stroke:#000000;stroke-width:2.0px;stroke-linecap:butt;stroke-linejoin:miter;stroke-opacity:1\"/>\n",
       "<path class=\"bond-7 atom-7 atom-8\" d=\"M 676.6,132.7 L 685.8,145.7\" style=\"fill:none;fill-rule:evenodd;stroke:#000000;stroke-width:2.0px;stroke-linecap:butt;stroke-linejoin:miter;stroke-opacity:1\"/>\n",
       "<path class=\"bond-7 atom-7 atom-8\" d=\"M 685.8,145.7 L 695.0,158.8\" style=\"fill:none;fill-rule:evenodd;stroke:#FF0000;stroke-width:2.0px;stroke-linecap:butt;stroke-linejoin:miter;stroke-opacity:1\"/>\n",
       "<path class=\"bond-7 atom-7 atom-8\" d=\"M 681.3,129.4 L 690.6,142.4\" style=\"fill:none;fill-rule:evenodd;stroke:#000000;stroke-width:2.0px;stroke-linecap:butt;stroke-linejoin:miter;stroke-opacity:1\"/>\n",
       "<path class=\"bond-7 atom-7 atom-8\" d=\"M 690.6,142.4 L 699.8,155.5\" style=\"fill:none;fill-rule:evenodd;stroke:#FF0000;stroke-width:2.0px;stroke-linecap:butt;stroke-linejoin:miter;stroke-opacity:1\"/>\n",
       "<path class=\"bond-8 atom-7 atom-9\" d=\"M 679.9,132.4 L 686.4,118.3\" style=\"fill:none;fill-rule:evenodd;stroke:#000000;stroke-width:2.0px;stroke-linecap:butt;stroke-linejoin:miter;stroke-opacity:1\"/>\n",
       "<path class=\"bond-8 atom-7 atom-9\" d=\"M 686.4,118.3 L 692.9,104.3\" style=\"fill:none;fill-rule:evenodd;stroke:#FF0000;stroke-width:2.0px;stroke-linecap:butt;stroke-linejoin:miter;stroke-opacity:1\"/>\n",
       "<path class=\"bond-9 atom-9 atom-10\" d=\"M 702.4,96.8 L 718.5,95.3\" style=\"fill:none;fill-rule:evenodd;stroke:#FF0000;stroke-width:2.0px;stroke-linecap:butt;stroke-linejoin:miter;stroke-opacity:1\"/>\n",
       "<path class=\"bond-9 atom-9 atom-10\" d=\"M 718.5,95.3 L 734.6,93.8\" style=\"fill:none;fill-rule:evenodd;stroke:#000000;stroke-width:2.0px;stroke-linecap:butt;stroke-linejoin:miter;stroke-opacity:1\"/>\n",
       "<path class=\"bond-10 atom-6 atom-11\" d=\"M 641.5,135.9 L 625.3,171.0\" style=\"fill:none;fill-rule:evenodd;stroke:#000000;stroke-width:2.0px;stroke-linecap:butt;stroke-linejoin:miter;stroke-opacity:1\"/>\n",
       "<path class=\"bond-11 atom-11 atom-12\" d=\"M 625.3,171.0 L 634.0,183.3\" style=\"fill:none;fill-rule:evenodd;stroke:#000000;stroke-width:2.0px;stroke-linecap:butt;stroke-linejoin:miter;stroke-opacity:1\"/>\n",
       "<path class=\"bond-11 atom-11 atom-12\" d=\"M 634.0,183.3 L 642.8,195.7\" style=\"fill:none;fill-rule:evenodd;stroke:#FF0000;stroke-width:2.0px;stroke-linecap:butt;stroke-linejoin:miter;stroke-opacity:1\"/>\n",
       "<path class=\"bond-12 atom-11 atom-13\" d=\"M 625.3,171.0 L 586.9,174.5\" style=\"fill:none;fill-rule:evenodd;stroke:#000000;stroke-width:2.0px;stroke-linecap:butt;stroke-linejoin:miter;stroke-opacity:1\"/>\n",
       "<path class=\"bond-12 atom-11 atom-13\" d=\"M 621.4,165.5 L 589.7,168.4\" style=\"fill:none;fill-rule:evenodd;stroke:#000000;stroke-width:2.0px;stroke-linecap:butt;stroke-linejoin:miter;stroke-opacity:1\"/>\n",
       "<path class=\"bond-13 atom-13 atom-3\" d=\"M 586.9,174.5 L 564.6,142.9\" style=\"fill:none;fill-rule:evenodd;stroke:#000000;stroke-width:2.0px;stroke-linecap:butt;stroke-linejoin:miter;stroke-opacity:1\"/>\n",
       "<path d=\"M 502.0,115.1 L 503.9,114.9 L 504.3,115.5\" style=\"fill:none;stroke:#000000;stroke-width:2.0px;stroke-linecap:butt;stroke-linejoin:miter;stroke-opacity:1;\"/>\n",
       "<path d=\"M 580.0,109.6 L 580.8,107.9 L 582.7,107.7\" style=\"fill:none;stroke:#000000;stroke-width:2.0px;stroke-linecap:butt;stroke-linejoin:miter;stroke-opacity:1;\"/>\n",
       "<path d=\"M 617.3,104.5 L 619.2,104.4 L 620.3,105.9\" style=\"fill:none;stroke:#000000;stroke-width:2.0px;stroke-linecap:butt;stroke-linejoin:miter;stroke-opacity:1;\"/>\n",
       "<path d=\"M 678.0,132.6 L 679.9,132.4 L 680.3,131.7\" style=\"fill:none;stroke:#000000;stroke-width:2.0px;stroke-linecap:butt;stroke-linejoin:miter;stroke-opacity:1;\"/>\n",
       "<path d=\"M 588.8,174.3 L 586.9,174.5 L 585.7,172.9\" style=\"fill:none;stroke:#000000;stroke-width:2.0px;stroke-linecap:butt;stroke-linejoin:miter;stroke-opacity:1;\"/>\n",
       "<path class=\"atom-2\" d=\"M 521.1 146.5 Q 521.1 143.8, 522.4 142.4 Q 523.7 140.9, 526.1 140.9 Q 528.6 140.9, 529.9 142.4 Q 531.2 143.8, 531.2 146.5 Q 531.2 149.1, 529.8 150.6 Q 528.5 152.1, 526.1 152.1 Q 523.7 152.1, 522.4 150.6 Q 521.1 149.1, 521.1 146.5 M 526.1 150.9 Q 527.8 150.9, 528.7 149.8 Q 529.6 148.7, 529.6 146.5 Q 529.6 144.3, 528.7 143.2 Q 527.8 142.1, 526.1 142.1 Q 524.5 142.1, 523.6 143.2 Q 522.7 144.3, 522.7 146.5 Q 522.7 148.7, 523.6 149.8 Q 524.5 150.9, 526.1 150.9 \" fill=\"#FF0000\"/>\n",
       "<path class=\"atom-8\" d=\"M 697.2 164.0 Q 697.2 161.3, 698.5 159.9 Q 699.8 158.4, 702.2 158.4 Q 704.6 158.4, 705.9 159.9 Q 707.2 161.3, 707.2 164.0 Q 707.2 166.6, 705.9 168.1 Q 704.6 169.6, 702.2 169.6 Q 699.8 169.6, 698.5 168.1 Q 697.2 166.6, 697.2 164.0 M 702.2 168.4 Q 703.9 168.4, 704.8 167.3 Q 705.7 166.2, 705.7 164.0 Q 705.7 161.8, 704.8 160.7 Q 703.9 159.6, 702.2 159.6 Q 700.5 159.6, 699.6 160.7 Q 698.7 161.8, 698.7 164.0 Q 698.7 166.2, 699.6 167.3 Q 700.5 168.4, 702.2 168.4 \" fill=\"#FF0000\"/>\n",
       "<path class=\"atom-9\" d=\"M 691.1 97.4 Q 691.1 94.7, 692.4 93.3 Q 693.7 91.8, 696.1 91.8 Q 698.6 91.8, 699.8 93.3 Q 701.1 94.7, 701.1 97.4 Q 701.1 100.0, 699.8 101.5 Q 698.5 103.0, 696.1 103.0 Q 693.7 103.0, 692.4 101.5 Q 691.1 100.0, 691.1 97.4 M 696.1 101.8 Q 697.8 101.8, 698.7 100.7 Q 699.6 99.6, 699.6 97.4 Q 699.6 95.2, 698.7 94.1 Q 697.8 93.0, 696.1 93.0 Q 694.5 93.0, 693.5 94.1 Q 692.7 95.2, 692.7 97.4 Q 692.7 99.6, 693.5 100.7 Q 694.5 101.8, 696.1 101.8 \" fill=\"#FF0000\"/>\n",
       "<path class=\"atom-12\" d=\"M 642.6 202.5 Q 642.6 199.9, 643.8 198.4 Q 645.1 197.0, 647.6 197.0 Q 650.0 197.0, 651.3 198.4 Q 652.6 199.9, 652.6 202.5 Q 652.6 205.2, 651.3 206.7 Q 650.0 208.2, 647.6 208.2 Q 645.2 208.2, 643.8 206.7 Q 642.6 205.2, 642.6 202.5 M 647.6 207.0 Q 649.2 207.0, 650.1 205.8 Q 651.0 204.7, 651.0 202.5 Q 651.0 200.4, 650.1 199.3 Q 649.2 198.2, 647.6 198.2 Q 645.9 198.2, 645.0 199.3 Q 644.1 200.4, 644.1 202.5 Q 644.1 204.7, 645.0 205.8 Q 645.9 207.0, 647.6 207.0 \" fill=\"#FF0000\"/>\n",
       "<path class=\"atom-12\" d=\"M 654.3 197.1 L 655.8 197.1 L 655.8 201.7 L 661.4 201.7 L 661.4 197.1 L 662.8 197.1 L 662.8 208.0 L 661.4 208.0 L 661.4 203.0 L 655.8 203.0 L 655.8 208.0 L 654.3 208.0 L 654.3 197.1 \" fill=\"#FF0000\"/>\n",
       "<path d=\"M 390.0,150.0 L 450.0,150.0\" style=\"fill:none;fill-rule:evenodd;stroke:#000000;stroke-width:2.0px;stroke-linecap:butt;stroke-linejoin:miter;stroke-opacity:1\"/>\n",
       "<path d=\"M 450.0,150.0 L 445.0,152.9\" style=\"fill:none;fill-rule:evenodd;stroke:#000000;stroke-width:2.0px;stroke-linecap:butt;stroke-linejoin:miter;stroke-opacity:1\"/>\n",
       "<path d=\"M 450.0,150.0 L 445.0,147.1\" style=\"fill:none;fill-rule:evenodd;stroke:#000000;stroke-width:2.0px;stroke-linecap:butt;stroke-linejoin:miter;stroke-opacity:1\"/>\n",
       "</svg>"
      ],
      "text/plain": [
       "<IPython.core.display.SVG object>"
      ]
     },
     "metadata": {},
     "output_type": "display_data"
    },
    {
     "name": "stdout",
     "output_type": "stream",
     "text": [
      "--------------------------------------------\n",
      "\n",
      "\n",
      "\n",
      "Sequence 8\n",
      "Similarity Scores: Overall: 0.2894736842105263,Candidate Reactants: 0.5789473684210527, Product: 0.5\n",
      "Reaction Class: 1\n",
      "Predicted Reaction: CCOc1ccc(C(=O)OC)c(OCOC)c1>>CCOc1ccc(C(=O)OC)c(O)c1\n",
      "Template Applied: [O;D1;H1;+0:1]-[c:2]>>[O](-[C]-[O;H0;D2;+0:1]-[c:2])-[C]\n",
      "Patent ID: US20130267510A1\n",
      "\u001b[91mGround Truth Does Not Equal Prediction\u001b[0m\n"
     ]
    },
    {
     "data": {
      "image/svg+xml": [
       "<svg xmlns=\"http://www.w3.org/2000/svg\" xmlns:rdkit=\"http://www.rdkit.org/xml\" xmlns:xlink=\"http://www.w3.org/1999/xlink\" version=\"1.1\" baseProfile=\"full\" xml:space=\"preserve\" width=\"900px\" height=\"300px\" viewBox=\"0 0 900 300\">\n",
       "<!-- END OF HEADER -->\n",
       "<rect style=\"opacity:1.0;fill:#FFFFFF;stroke:none\" width=\"900.0\" height=\"300.0\" x=\"0.0\" y=\"0.0\"> </rect>\n",
       "<path class=\"bond-0 atom-0 atom-1\" d=\"M 98.0,148.3 L 138.9,129.3\" style=\"fill:none;fill-rule:evenodd;stroke:#000000;stroke-width:2.0px;stroke-linecap:butt;stroke-linejoin:miter;stroke-opacity:1\"/>\n",
       "<path class=\"bond-1 atom-1 atom-2\" d=\"M 138.9,129.3 L 153.6,139.7\" style=\"fill:none;fill-rule:evenodd;stroke:#000000;stroke-width:2.0px;stroke-linecap:butt;stroke-linejoin:miter;stroke-opacity:1\"/>\n",
       "<path class=\"bond-1 atom-1 atom-2\" d=\"M 153.6,139.7 L 168.4,150.0\" style=\"fill:none;fill-rule:evenodd;stroke:#FF0000;stroke-width:2.0px;stroke-linecap:butt;stroke-linejoin:miter;stroke-opacity:1\"/>\n",
       "<path class=\"bond-2 atom-2 atom-3\" d=\"M 183.1,151.8 L 199.8,144.0\" style=\"fill:none;fill-rule:evenodd;stroke:#FF0000;stroke-width:2.0px;stroke-linecap:butt;stroke-linejoin:miter;stroke-opacity:1\"/>\n",
       "<path class=\"bond-2 atom-2 atom-3\" d=\"M 199.8,144.0 L 216.6,136.2\" style=\"fill:none;fill-rule:evenodd;stroke:#000000;stroke-width:2.0px;stroke-linecap:butt;stroke-linejoin:miter;stroke-opacity:1\"/>\n",
       "<path class=\"bond-3 atom-3 atom-4\" d=\"M 216.6,136.2 L 220.6,91.3\" style=\"fill:none;fill-rule:evenodd;stroke:#000000;stroke-width:2.0px;stroke-linecap:butt;stroke-linejoin:miter;stroke-opacity:1\"/>\n",
       "<path class=\"bond-3 atom-3 atom-4\" d=\"M 223.7,132.9 L 227.0,95.8\" style=\"fill:none;fill-rule:evenodd;stroke:#000000;stroke-width:2.0px;stroke-linecap:butt;stroke-linejoin:miter;stroke-opacity:1\"/>\n",
       "<path class=\"bond-4 atom-4 atom-5\" d=\"M 220.6,91.3 L 261.4,72.3\" style=\"fill:none;fill-rule:evenodd;stroke:#000000;stroke-width:2.0px;stroke-linecap:butt;stroke-linejoin:miter;stroke-opacity:1\"/>\n",
       "<path class=\"bond-5 atom-5 atom-6\" d=\"M 261.4,72.3 L 298.3,98.2\" style=\"fill:none;fill-rule:evenodd;stroke:#000000;stroke-width:2.0px;stroke-linecap:butt;stroke-linejoin:miter;stroke-opacity:1\"/>\n",
       "<path class=\"bond-5 atom-5 atom-6\" d=\"M 260.7,80.1 L 291.2,101.5\" style=\"fill:none;fill-rule:evenodd;stroke:#000000;stroke-width:2.0px;stroke-linecap:butt;stroke-linejoin:miter;stroke-opacity:1\"/>\n",
       "<path class=\"bond-6 atom-6 atom-7\" d=\"M 298.3,98.2 L 339.2,79.2\" style=\"fill:none;fill-rule:evenodd;stroke:#000000;stroke-width:2.0px;stroke-linecap:butt;stroke-linejoin:miter;stroke-opacity:1\"/>\n",
       "<path class=\"bond-7 atom-7 atom-8\" d=\"M 335.6,80.9 L 351.2,91.8\" style=\"fill:none;fill-rule:evenodd;stroke:#000000;stroke-width:2.0px;stroke-linecap:butt;stroke-linejoin:miter;stroke-opacity:1\"/>\n",
       "<path class=\"bond-7 atom-7 atom-8\" d=\"M 351.2,91.8 L 366.8,102.7\" style=\"fill:none;fill-rule:evenodd;stroke:#FF0000;stroke-width:2.0px;stroke-linecap:butt;stroke-linejoin:miter;stroke-opacity:1\"/>\n",
       "<path class=\"bond-7 atom-7 atom-8\" d=\"M 339.5,75.3 L 355.1,86.3\" style=\"fill:none;fill-rule:evenodd;stroke:#000000;stroke-width:2.0px;stroke-linecap:butt;stroke-linejoin:miter;stroke-opacity:1\"/>\n",
       "<path class=\"bond-7 atom-7 atom-8\" d=\"M 355.1,86.3 L 370.6,97.2\" style=\"fill:none;fill-rule:evenodd;stroke:#FF0000;stroke-width:2.0px;stroke-linecap:butt;stroke-linejoin:miter;stroke-opacity:1\"/>\n",
       "<path class=\"bond-8 atom-7 atom-9\" d=\"M 339.2,79.2 L 340.8,60.9\" style=\"fill:none;fill-rule:evenodd;stroke:#000000;stroke-width:2.0px;stroke-linecap:butt;stroke-linejoin:miter;stroke-opacity:1\"/>\n",
       "<path class=\"bond-8 atom-7 atom-9\" d=\"M 340.8,60.9 L 342.4,42.5\" style=\"fill:none;fill-rule:evenodd;stroke:#FF0000;stroke-width:2.0px;stroke-linecap:butt;stroke-linejoin:miter;stroke-opacity:1\"/>\n",
       "<path class=\"bond-9 atom-9 atom-10\" d=\"M 350.5,30.9 L 367.2,23.2\" style=\"fill:none;fill-rule:evenodd;stroke:#FF0000;stroke-width:2.0px;stroke-linecap:butt;stroke-linejoin:miter;stroke-opacity:1\"/>\n",
       "<path class=\"bond-9 atom-9 atom-10\" d=\"M 367.2,23.2 L 384.0,15.4\" style=\"fill:none;fill-rule:evenodd;stroke:#000000;stroke-width:2.0px;stroke-linecap:butt;stroke-linejoin:miter;stroke-opacity:1\"/>\n",
       "<path class=\"bond-10 atom-6 atom-11\" d=\"M 298.3,98.2 L 294.3,143.1\" style=\"fill:none;fill-rule:evenodd;stroke:#000000;stroke-width:2.0px;stroke-linecap:butt;stroke-linejoin:miter;stroke-opacity:1\"/>\n",
       "<path class=\"bond-11 atom-11 atom-12\" d=\"M 294.3,143.1 L 309.1,153.5\" style=\"fill:none;fill-rule:evenodd;stroke:#000000;stroke-width:2.0px;stroke-linecap:butt;stroke-linejoin:miter;stroke-opacity:1\"/>\n",
       "<path class=\"bond-11 atom-11 atom-12\" d=\"M 309.1,153.5 L 323.9,163.8\" style=\"fill:none;fill-rule:evenodd;stroke:#FF0000;stroke-width:2.0px;stroke-linecap:butt;stroke-linejoin:miter;stroke-opacity:1\"/>\n",
       "<path class=\"bond-12 atom-12 atom-13\" d=\"M 330.5,177.1 L 328.8,195.5\" style=\"fill:none;fill-rule:evenodd;stroke:#FF0000;stroke-width:2.0px;stroke-linecap:butt;stroke-linejoin:miter;stroke-opacity:1\"/>\n",
       "<path class=\"bond-12 atom-12 atom-13\" d=\"M 328.8,195.5 L 327.2,213.9\" style=\"fill:none;fill-rule:evenodd;stroke:#000000;stroke-width:2.0px;stroke-linecap:butt;stroke-linejoin:miter;stroke-opacity:1\"/>\n",
       "<path class=\"bond-13 atom-13 atom-14\" d=\"M 327.2,213.9 L 342.0,224.2\" style=\"fill:none;fill-rule:evenodd;stroke:#000000;stroke-width:2.0px;stroke-linecap:butt;stroke-linejoin:miter;stroke-opacity:1\"/>\n",
       "<path class=\"bond-13 atom-13 atom-14\" d=\"M 342.0,224.2 L 356.7,234.6\" style=\"fill:none;fill-rule:evenodd;stroke:#FF0000;stroke-width:2.0px;stroke-linecap:butt;stroke-linejoin:miter;stroke-opacity:1\"/>\n",
       "<path class=\"bond-14 atom-14 atom-15\" d=\"M 363.4,247.9 L 361.7,266.3\" style=\"fill:none;fill-rule:evenodd;stroke:#FF0000;stroke-width:2.0px;stroke-linecap:butt;stroke-linejoin:miter;stroke-opacity:1\"/>\n",
       "<path class=\"bond-14 atom-14 atom-15\" d=\"M 361.7,266.3 L 360.1,284.6\" style=\"fill:none;fill-rule:evenodd;stroke:#000000;stroke-width:2.0px;stroke-linecap:butt;stroke-linejoin:miter;stroke-opacity:1\"/>\n",
       "<path class=\"bond-15 atom-11 atom-16\" d=\"M 294.3,143.1 L 253.5,162.1\" style=\"fill:none;fill-rule:evenodd;stroke:#000000;stroke-width:2.0px;stroke-linecap:butt;stroke-linejoin:miter;stroke-opacity:1\"/>\n",
       "<path class=\"bond-15 atom-11 atom-16\" d=\"M 287.9,138.6 L 254.2,154.3\" style=\"fill:none;fill-rule:evenodd;stroke:#000000;stroke-width:2.0px;stroke-linecap:butt;stroke-linejoin:miter;stroke-opacity:1\"/>\n",
       "<path class=\"bond-16 atom-16 atom-3\" d=\"M 253.5,162.1 L 216.6,136.2\" style=\"fill:none;fill-rule:evenodd;stroke:#000000;stroke-width:2.0px;stroke-linecap:butt;stroke-linejoin:miter;stroke-opacity:1\"/>\n",
       "<path d=\"M 136.8,130.3 L 138.9,129.3 L 139.6,129.8\" style=\"fill:none;stroke:#000000;stroke-width:2.0px;stroke-linecap:butt;stroke-linejoin:miter;stroke-opacity:1;\"/>\n",
       "<path d=\"M 220.4,93.6 L 220.6,91.3 L 222.6,90.4\" style=\"fill:none;stroke:#000000;stroke-width:2.0px;stroke-linecap:butt;stroke-linejoin:miter;stroke-opacity:1;\"/>\n",
       "<path d=\"M 259.4,73.3 L 261.4,72.3 L 263.3,73.6\" style=\"fill:none;stroke:#000000;stroke-width:2.0px;stroke-linecap:butt;stroke-linejoin:miter;stroke-opacity:1;\"/>\n",
       "<path d=\"M 337.1,80.2 L 339.2,79.2 L 339.2,78.3\" style=\"fill:none;stroke:#000000;stroke-width:2.0px;stroke-linecap:butt;stroke-linejoin:miter;stroke-opacity:1;\"/>\n",
       "<path d=\"M 327.3,213.0 L 327.2,213.9 L 328.0,214.4\" style=\"fill:none;stroke:#000000;stroke-width:2.0px;stroke-linecap:butt;stroke-linejoin:miter;stroke-opacity:1;\"/>\n",
       "<path d=\"M 255.5,161.1 L 253.5,162.1 L 251.6,160.8\" style=\"fill:none;stroke:#000000;stroke-width:2.0px;stroke-linecap:butt;stroke-linejoin:miter;stroke-opacity:1;\"/>\n",
       "<path class=\"atom-2\" d=\"M 169.9 155.2 Q 169.9 152.2, 171.4 150.5 Q 172.9 148.7, 175.7 148.7 Q 178.6 148.7, 180.1 150.5 Q 181.6 152.2, 181.6 155.2 Q 181.6 158.3, 180.1 160.1 Q 178.5 161.9, 175.7 161.9 Q 172.9 161.9, 171.4 160.1 Q 169.9 158.4, 169.9 155.2 M 175.7 160.4 Q 177.7 160.4, 178.7 159.1 Q 179.8 157.8, 179.8 155.2 Q 179.8 152.7, 178.7 151.5 Q 177.7 150.2, 175.7 150.2 Q 173.8 150.2, 172.7 151.5 Q 171.7 152.7, 171.7 155.2 Q 171.7 157.8, 172.7 159.1 Q 173.8 160.4, 175.7 160.4 \" fill=\"#FF0000\"/>\n",
       "<path class=\"atom-8\" d=\"M 370.2 105.2 Q 370.2 102.1, 371.7 100.4 Q 373.2 98.7, 376.0 98.7 Q 378.9 98.7, 380.4 100.4 Q 381.9 102.1, 381.9 105.2 Q 381.9 108.3, 380.4 110.0 Q 378.8 111.8, 376.0 111.8 Q 373.2 111.8, 371.7 110.0 Q 370.2 108.3, 370.2 105.2 M 376.0 110.3 Q 378.0 110.3, 379.0 109.0 Q 380.1 107.7, 380.1 105.2 Q 380.1 102.7, 379.0 101.4 Q 378.0 100.1, 376.0 100.1 Q 374.1 100.1, 373.0 101.4 Q 372.0 102.6, 372.0 105.2 Q 372.0 107.7, 373.0 109.0 Q 374.1 110.3, 376.0 110.3 \" fill=\"#FF0000\"/>\n",
       "<path class=\"atom-9\" d=\"M 337.3 34.4 Q 337.3 31.3, 338.8 29.6 Q 340.3 27.9, 343.1 27.9 Q 346.0 27.9, 347.5 29.6 Q 349.0 31.3, 349.0 34.4 Q 349.0 37.5, 347.5 39.3 Q 345.9 41.0, 343.1 41.0 Q 340.3 41.0, 338.8 39.3 Q 337.3 37.5, 337.3 34.4 M 343.1 39.6 Q 345.1 39.6, 346.1 38.3 Q 347.2 36.9, 347.2 34.4 Q 347.2 31.9, 346.1 30.6 Q 345.1 29.3, 343.1 29.3 Q 341.2 29.3, 340.1 30.6 Q 339.1 31.9, 339.1 34.4 Q 339.1 37.0, 340.1 38.3 Q 341.2 39.6, 343.1 39.6 \" fill=\"#FF0000\"/>\n",
       "<path class=\"atom-12\" d=\"M 325.3 169.0 Q 325.3 166.0, 326.9 164.3 Q 328.4 162.5, 331.2 162.5 Q 334.0 162.5, 335.5 164.3 Q 337.1 166.0, 337.1 169.0 Q 337.1 172.1, 335.5 173.9 Q 334.0 175.6, 331.2 175.6 Q 328.4 175.6, 326.9 173.9 Q 325.3 172.1, 325.3 169.0 M 331.2 174.2 Q 333.1 174.2, 334.2 172.9 Q 335.3 171.6, 335.3 169.0 Q 335.3 166.5, 334.2 165.3 Q 333.1 164.0, 331.2 164.0 Q 329.3 164.0, 328.2 165.2 Q 327.1 166.5, 327.1 169.0 Q 327.1 171.6, 328.2 172.9 Q 329.3 174.2, 331.2 174.2 \" fill=\"#FF0000\"/>\n",
       "<path class=\"atom-14\" d=\"M 358.2 239.8 Q 358.2 236.7, 359.8 235.0 Q 361.3 233.3, 364.1 233.3 Q 366.9 233.3, 368.4 235.0 Q 370.0 236.7, 370.0 239.8 Q 370.0 242.9, 368.4 244.7 Q 366.9 246.4, 364.1 246.4 Q 361.3 246.4, 359.8 244.7 Q 358.2 242.9, 358.2 239.8 M 364.1 245.0 Q 366.0 245.0, 367.1 243.7 Q 368.1 242.4, 368.1 239.8 Q 368.1 237.3, 367.1 236.0 Q 366.0 234.7, 364.1 234.7 Q 362.1 234.7, 361.1 236.0 Q 360.0 237.3, 360.0 239.8 Q 360.0 242.4, 361.1 243.7 Q 362.1 245.0, 364.1 245.0 \" fill=\"#FF0000\"/>\n",
       "<path class=\"bond-0 atom-0 atom-1\" d=\"M 488.5,113.1 L 533.3,109.0\" style=\"fill:none;fill-rule:evenodd;stroke:#000000;stroke-width:2.0px;stroke-linecap:butt;stroke-linejoin:miter;stroke-opacity:1\"/>\n",
       "<path class=\"bond-1 atom-1 atom-2\" d=\"M 533.3,109.0 L 543.5,123.5\" style=\"fill:none;fill-rule:evenodd;stroke:#000000;stroke-width:2.0px;stroke-linecap:butt;stroke-linejoin:miter;stroke-opacity:1\"/>\n",
       "<path class=\"bond-1 atom-1 atom-2\" d=\"M 543.5,123.5 L 553.7,137.9\" style=\"fill:none;fill-rule:evenodd;stroke:#FF0000;stroke-width:2.0px;stroke-linecap:butt;stroke-linejoin:miter;stroke-opacity:1\"/>\n",
       "<path class=\"bond-2 atom-2 atom-3\" d=\"M 566.7,145.2 L 585.4,143.5\" style=\"fill:none;fill-rule:evenodd;stroke:#FF0000;stroke-width:2.0px;stroke-linecap:butt;stroke-linejoin:miter;stroke-opacity:1\"/>\n",
       "<path class=\"bond-2 atom-2 atom-3\" d=\"M 585.4,143.5 L 604.2,141.7\" style=\"fill:none;fill-rule:evenodd;stroke:#000000;stroke-width:2.0px;stroke-linecap:butt;stroke-linejoin:miter;stroke-opacity:1\"/>\n",
       "<path class=\"bond-3 atom-3 atom-4\" d=\"M 604.2,141.7 L 623.1,100.8\" style=\"fill:none;fill-rule:evenodd;stroke:#000000;stroke-width:2.0px;stroke-linecap:butt;stroke-linejoin:miter;stroke-opacity:1\"/>\n",
       "<path class=\"bond-3 atom-3 atom-4\" d=\"M 612.0,141.0 L 627.6,107.2\" style=\"fill:none;fill-rule:evenodd;stroke:#000000;stroke-width:2.0px;stroke-linecap:butt;stroke-linejoin:miter;stroke-opacity:1\"/>\n",
       "<path class=\"bond-4 atom-4 atom-5\" d=\"M 623.1,100.8 L 667.9,96.7\" style=\"fill:none;fill-rule:evenodd;stroke:#000000;stroke-width:2.0px;stroke-linecap:butt;stroke-linejoin:miter;stroke-opacity:1\"/>\n",
       "<path class=\"bond-5 atom-5 atom-6\" d=\"M 667.9,96.7 L 693.9,133.5\" style=\"fill:none;fill-rule:evenodd;stroke:#000000;stroke-width:2.0px;stroke-linecap:butt;stroke-linejoin:miter;stroke-opacity:1\"/>\n",
       "<path class=\"bond-5 atom-5 atom-6\" d=\"M 664.7,103.8 L 686.1,134.3\" style=\"fill:none;fill-rule:evenodd;stroke:#000000;stroke-width:2.0px;stroke-linecap:butt;stroke-linejoin:miter;stroke-opacity:1\"/>\n",
       "<path class=\"bond-6 atom-6 atom-7\" d=\"M 693.9,133.5 L 738.8,129.4\" style=\"fill:none;fill-rule:evenodd;stroke:#000000;stroke-width:2.0px;stroke-linecap:butt;stroke-linejoin:miter;stroke-opacity:1\"/>\n",
       "<path class=\"bond-7 atom-7 atom-8\" d=\"M 734.9,129.8 L 745.7,145.0\" style=\"fill:none;fill-rule:evenodd;stroke:#000000;stroke-width:2.0px;stroke-linecap:butt;stroke-linejoin:miter;stroke-opacity:1\"/>\n",
       "<path class=\"bond-7 atom-7 atom-8\" d=\"M 745.7,145.0 L 756.4,160.3\" style=\"fill:none;fill-rule:evenodd;stroke:#FF0000;stroke-width:2.0px;stroke-linecap:butt;stroke-linejoin:miter;stroke-opacity:1\"/>\n",
       "<path class=\"bond-7 atom-7 atom-8\" d=\"M 740.4,125.9 L 751.2,141.1\" style=\"fill:none;fill-rule:evenodd;stroke:#000000;stroke-width:2.0px;stroke-linecap:butt;stroke-linejoin:miter;stroke-opacity:1\"/>\n",
       "<path class=\"bond-7 atom-7 atom-8\" d=\"M 751.2,141.1 L 761.9,156.4\" style=\"fill:none;fill-rule:evenodd;stroke:#FF0000;stroke-width:2.0px;stroke-linecap:butt;stroke-linejoin:miter;stroke-opacity:1\"/>\n",
       "<path class=\"bond-8 atom-7 atom-9\" d=\"M 738.8,129.4 L 746.4,113.1\" style=\"fill:none;fill-rule:evenodd;stroke:#000000;stroke-width:2.0px;stroke-linecap:butt;stroke-linejoin:miter;stroke-opacity:1\"/>\n",
       "<path class=\"bond-8 atom-7 atom-9\" d=\"M 746.4,113.1 L 753.9,96.7\" style=\"fill:none;fill-rule:evenodd;stroke:#FF0000;stroke-width:2.0px;stroke-linecap:butt;stroke-linejoin:miter;stroke-opacity:1\"/>\n",
       "<path class=\"bond-9 atom-9 atom-10\" d=\"M 765.0,87.9 L 783.8,86.2\" style=\"fill:none;fill-rule:evenodd;stroke:#FF0000;stroke-width:2.0px;stroke-linecap:butt;stroke-linejoin:miter;stroke-opacity:1\"/>\n",
       "<path class=\"bond-9 atom-9 atom-10\" d=\"M 783.8,86.2 L 802.5,84.4\" style=\"fill:none;fill-rule:evenodd;stroke:#000000;stroke-width:2.0px;stroke-linecap:butt;stroke-linejoin:miter;stroke-opacity:1\"/>\n",
       "<path class=\"bond-10 atom-6 atom-11\" d=\"M 693.9,133.5 L 675.0,174.5\" style=\"fill:none;fill-rule:evenodd;stroke:#000000;stroke-width:2.0px;stroke-linecap:butt;stroke-linejoin:miter;stroke-opacity:1\"/>\n",
       "<path class=\"bond-11 atom-11 atom-12\" d=\"M 675.0,174.5 L 685.2,188.9\" style=\"fill:none;fill-rule:evenodd;stroke:#000000;stroke-width:2.0px;stroke-linecap:butt;stroke-linejoin:miter;stroke-opacity:1\"/>\n",
       "<path class=\"bond-11 atom-11 atom-12\" d=\"M 685.2,188.9 L 695.4,203.3\" style=\"fill:none;fill-rule:evenodd;stroke:#FF0000;stroke-width:2.0px;stroke-linecap:butt;stroke-linejoin:miter;stroke-opacity:1\"/>\n",
       "<path class=\"bond-12 atom-11 atom-13\" d=\"M 675.0,174.5 L 630.2,178.5\" style=\"fill:none;fill-rule:evenodd;stroke:#000000;stroke-width:2.0px;stroke-linecap:butt;stroke-linejoin:miter;stroke-opacity:1\"/>\n",
       "<path class=\"bond-12 atom-11 atom-13\" d=\"M 670.5,168.1 L 633.4,171.5\" style=\"fill:none;fill-rule:evenodd;stroke:#000000;stroke-width:2.0px;stroke-linecap:butt;stroke-linejoin:miter;stroke-opacity:1\"/>\n",
       "<path class=\"bond-13 atom-13 atom-3\" d=\"M 630.2,178.5 L 604.2,141.7\" style=\"fill:none;fill-rule:evenodd;stroke:#000000;stroke-width:2.0px;stroke-linecap:butt;stroke-linejoin:miter;stroke-opacity:1\"/>\n",
       "<path d=\"M 531.1,109.2 L 533.3,109.0 L 533.8,109.7\" style=\"fill:none;stroke:#000000;stroke-width:2.0px;stroke-linecap:butt;stroke-linejoin:miter;stroke-opacity:1;\"/>\n",
       "<path d=\"M 622.1,102.9 L 623.1,100.8 L 625.3,100.6\" style=\"fill:none;stroke:#000000;stroke-width:2.0px;stroke-linecap:butt;stroke-linejoin:miter;stroke-opacity:1;\"/>\n",
       "<path d=\"M 665.7,96.9 L 667.9,96.7 L 669.2,98.6\" style=\"fill:none;stroke:#000000;stroke-width:2.0px;stroke-linecap:butt;stroke-linejoin:miter;stroke-opacity:1;\"/>\n",
       "<path d=\"M 736.5,129.7 L 738.8,129.4 L 739.2,128.6\" style=\"fill:none;stroke:#000000;stroke-width:2.0px;stroke-linecap:butt;stroke-linejoin:miter;stroke-opacity:1;\"/>\n",
       "<path d=\"M 632.4,178.3 L 630.2,178.5 L 628.9,176.7\" style=\"fill:none;stroke:#000000;stroke-width:2.0px;stroke-linecap:butt;stroke-linejoin:miter;stroke-opacity:1;\"/>\n",
       "<path class=\"atom-2\" d=\"M 553.5 145.9 Q 553.5 142.8, 555.0 141.1 Q 556.5 139.4, 559.3 139.4 Q 562.1 139.4, 563.7 141.1 Q 565.2 142.8, 565.2 145.9 Q 565.2 149.0, 563.6 150.7 Q 562.1 152.5, 559.3 152.5 Q 556.5 152.5, 555.0 150.7 Q 553.5 149.0, 553.5 145.9 M 559.3 151.0 Q 561.3 151.0, 562.3 149.7 Q 563.4 148.4, 563.4 145.9 Q 563.4 143.4, 562.3 142.1 Q 561.3 140.8, 559.3 140.8 Q 557.4 140.8, 556.3 142.1 Q 555.3 143.3, 555.3 145.9 Q 555.3 148.4, 556.3 149.7 Q 557.4 151.0, 559.3 151.0 \" fill=\"#FF0000\"/>\n",
       "<path class=\"atom-8\" d=\"M 758.9 166.3 Q 758.9 163.2, 760.4 161.5 Q 761.9 159.8, 764.8 159.8 Q 767.6 159.8, 769.1 161.5 Q 770.6 163.2, 770.6 166.3 Q 770.6 169.4, 769.1 171.2 Q 767.6 172.9, 764.8 172.9 Q 762.0 172.9, 760.4 171.2 Q 758.9 169.4, 758.9 166.3 M 764.8 171.5 Q 766.7 171.5, 767.8 170.2 Q 768.8 168.9, 768.8 166.3 Q 768.8 163.8, 767.8 162.5 Q 766.7 161.2, 764.8 161.2 Q 762.8 161.2, 761.8 162.5 Q 760.7 163.8, 760.7 166.3 Q 760.7 168.9, 761.8 170.2 Q 762.8 171.5, 764.8 171.5 \" fill=\"#FF0000\"/>\n",
       "<path class=\"atom-9\" d=\"M 751.8 88.6 Q 751.8 85.5, 753.3 83.8 Q 754.8 82.1, 757.7 82.1 Q 760.5 82.1, 762.0 83.8 Q 763.5 85.5, 763.5 88.6 Q 763.5 91.7, 762.0 93.4 Q 760.5 95.2, 757.7 95.2 Q 754.9 95.2, 753.3 93.4 Q 751.8 91.7, 751.8 88.6 M 757.7 93.8 Q 759.6 93.8, 760.7 92.5 Q 761.7 91.1, 761.7 88.6 Q 761.7 86.1, 760.7 84.8 Q 759.6 83.5, 757.7 83.5 Q 755.7 83.5, 754.7 84.8 Q 753.6 86.1, 753.6 88.6 Q 753.6 91.2, 754.7 92.5 Q 755.7 93.8, 757.7 93.8 \" fill=\"#FF0000\"/>\n",
       "<path class=\"atom-12\" d=\"M 695.2 211.3 Q 695.2 208.2, 696.7 206.5 Q 698.2 204.8, 701.0 204.8 Q 703.8 204.8, 705.4 206.5 Q 706.9 208.2, 706.9 211.3 Q 706.9 214.4, 705.3 216.2 Q 703.8 217.9, 701.0 217.9 Q 698.2 217.9, 696.7 216.2 Q 695.2 214.4, 695.2 211.3 M 701.0 216.5 Q 703.0 216.5, 704.0 215.2 Q 705.1 213.9, 705.1 211.3 Q 705.1 208.8, 704.0 207.5 Q 703.0 206.2, 701.0 206.2 Q 699.1 206.2, 698.0 207.5 Q 697.0 208.8, 697.0 211.3 Q 697.0 213.9, 698.0 215.2 Q 699.1 216.5, 701.0 216.5 \" fill=\"#FF0000\"/>\n",
       "<path class=\"atom-12\" d=\"M 708.9 205.0 L 710.6 205.0 L 710.6 210.4 L 717.1 210.4 L 717.1 205.0 L 718.8 205.0 L 718.8 217.7 L 717.1 217.7 L 717.1 211.8 L 710.6 211.8 L 710.6 217.7 L 708.9 217.7 L 708.9 205.0 \" fill=\"#FF0000\"/>\n",
       "<path d=\"M 401.0,150.0 L 471.0,150.0\" style=\"fill:none;fill-rule:evenodd;stroke:#000000;stroke-width:2.0px;stroke-linecap:butt;stroke-linejoin:miter;stroke-opacity:1\"/>\n",
       "<path d=\"M 471.0,150.0 L 466.0,152.9\" style=\"fill:none;fill-rule:evenodd;stroke:#000000;stroke-width:2.0px;stroke-linecap:butt;stroke-linejoin:miter;stroke-opacity:1\"/>\n",
       "<path d=\"M 471.0,150.0 L 466.0,147.1\" style=\"fill:none;fill-rule:evenodd;stroke:#000000;stroke-width:2.0px;stroke-linecap:butt;stroke-linejoin:miter;stroke-opacity:1\"/>\n",
       "</svg>"
      ],
      "text/plain": [
       "<IPython.core.display.SVG object>"
      ]
     },
     "metadata": {},
     "output_type": "display_data"
    },
    {
     "name": "stdout",
     "output_type": "stream",
     "text": [
      "--------------------------------------------\n",
      "\n",
      "\n",
      "\n",
      "Sequence 9\n",
      "Similarity Scores: Overall: 0.28452830188679246,Candidate Reactants: 0.5471698113207547, Product: 0.52\n",
      "Reaction Class: 1\n",
      "Predicted Reaction: CCOc1ccc(C(=O)OC)c(OC)c1>>CCOc1ccc(C(=O)OC)c(O)c1\n",
      "Template Applied: [O;D1;H1;+0:1]-[c:2]>>[O;H0;D2;+0:1](-[c:2])-[C]\n",
      "Patent ID: US20120022075A1\n",
      "\u001b[91mGround Truth Does Not Equal Prediction\u001b[0m\n"
     ]
    },
    {
     "data": {
      "image/svg+xml": [
       "<svg xmlns=\"http://www.w3.org/2000/svg\" xmlns:rdkit=\"http://www.rdkit.org/xml\" xmlns:xlink=\"http://www.w3.org/1999/xlink\" version=\"1.1\" baseProfile=\"full\" xml:space=\"preserve\" width=\"900px\" height=\"300px\" viewBox=\"0 0 900 300\">\n",
       "<!-- END OF HEADER -->\n",
       "<rect style=\"opacity:1.0;fill:#FFFFFF;stroke:none\" width=\"900.0\" height=\"300.0\" x=\"0.0\" y=\"0.0\"> </rect>\n",
       "<path class=\"bond-0 atom-0 atom-1\" d=\"M 99.5,104.9 L 142.5,99.7\" style=\"fill:none;fill-rule:evenodd;stroke:#000000;stroke-width:2.0px;stroke-linecap:butt;stroke-linejoin:miter;stroke-opacity:1\"/>\n",
       "<path class=\"bond-1 atom-1 atom-2\" d=\"M 142.5,99.7 L 152.7,113.1\" style=\"fill:none;fill-rule:evenodd;stroke:#000000;stroke-width:2.0px;stroke-linecap:butt;stroke-linejoin:miter;stroke-opacity:1\"/>\n",
       "<path class=\"bond-1 atom-1 atom-2\" d=\"M 152.7,113.1 L 162.8,126.6\" style=\"fill:none;fill-rule:evenodd;stroke:#FF0000;stroke-width:2.0px;stroke-linecap:butt;stroke-linejoin:miter;stroke-opacity:1\"/>\n",
       "<path class=\"bond-2 atom-2 atom-3\" d=\"M 175.6,133.4 L 193.6,131.2\" style=\"fill:none;fill-rule:evenodd;stroke:#FF0000;stroke-width:2.0px;stroke-linecap:butt;stroke-linejoin:miter;stroke-opacity:1\"/>\n",
       "<path class=\"bond-2 atom-2 atom-3\" d=\"M 193.6,131.2 L 211.6,129.0\" style=\"fill:none;fill-rule:evenodd;stroke:#000000;stroke-width:2.0px;stroke-linecap:butt;stroke-linejoin:miter;stroke-opacity:1\"/>\n",
       "<path class=\"bond-3 atom-3 atom-4\" d=\"M 211.6,129.0 L 228.5,89.1\" style=\"fill:none;fill-rule:evenodd;stroke:#000000;stroke-width:2.0px;stroke-linecap:butt;stroke-linejoin:miter;stroke-opacity:1\"/>\n",
       "<path class=\"bond-3 atom-3 atom-4\" d=\"M 219.0,128.1 L 233.0,95.1\" style=\"fill:none;fill-rule:evenodd;stroke:#000000;stroke-width:2.0px;stroke-linecap:butt;stroke-linejoin:miter;stroke-opacity:1\"/>\n",
       "<path class=\"bond-4 atom-4 atom-5\" d=\"M 228.5,89.1 L 271.5,83.9\" style=\"fill:none;fill-rule:evenodd;stroke:#000000;stroke-width:2.0px;stroke-linecap:butt;stroke-linejoin:miter;stroke-opacity:1\"/>\n",
       "<path class=\"bond-5 atom-5 atom-6\" d=\"M 271.5,83.9 L 297.6,118.5\" style=\"fill:none;fill-rule:evenodd;stroke:#000000;stroke-width:2.0px;stroke-linecap:butt;stroke-linejoin:miter;stroke-opacity:1\"/>\n",
       "<path class=\"bond-5 atom-5 atom-6\" d=\"M 268.6,90.8 L 290.1,119.4\" style=\"fill:none;fill-rule:evenodd;stroke:#000000;stroke-width:2.0px;stroke-linecap:butt;stroke-linejoin:miter;stroke-opacity:1\"/>\n",
       "<path class=\"bond-6 atom-6 atom-7\" d=\"M 297.6,118.5 L 340.6,113.2\" style=\"fill:none;fill-rule:evenodd;stroke:#000000;stroke-width:2.0px;stroke-linecap:butt;stroke-linejoin:miter;stroke-opacity:1\"/>\n",
       "<path class=\"bond-7 atom-7 atom-8\" d=\"M 336.8,113.7 L 347.6,127.9\" style=\"fill:none;fill-rule:evenodd;stroke:#000000;stroke-width:2.0px;stroke-linecap:butt;stroke-linejoin:miter;stroke-opacity:1\"/>\n",
       "<path class=\"bond-7 atom-7 atom-8\" d=\"M 347.6,127.9 L 358.3,142.2\" style=\"fill:none;fill-rule:evenodd;stroke:#FF0000;stroke-width:2.0px;stroke-linecap:butt;stroke-linejoin:miter;stroke-opacity:1\"/>\n",
       "<path class=\"bond-7 atom-7 atom-8\" d=\"M 342.0,109.8 L 352.7,124.0\" style=\"fill:none;fill-rule:evenodd;stroke:#000000;stroke-width:2.0px;stroke-linecap:butt;stroke-linejoin:miter;stroke-opacity:1\"/>\n",
       "<path class=\"bond-7 atom-7 atom-8\" d=\"M 352.7,124.0 L 363.5,138.3\" style=\"fill:none;fill-rule:evenodd;stroke:#FF0000;stroke-width:2.0px;stroke-linecap:butt;stroke-linejoin:miter;stroke-opacity:1\"/>\n",
       "<path class=\"bond-8 atom-7 atom-9\" d=\"M 340.6,113.2 L 347.4,97.2\" style=\"fill:none;fill-rule:evenodd;stroke:#000000;stroke-width:2.0px;stroke-linecap:butt;stroke-linejoin:miter;stroke-opacity:1\"/>\n",
       "<path class=\"bond-8 atom-7 atom-9\" d=\"M 347.4,97.2 L 354.2,81.2\" style=\"fill:none;fill-rule:evenodd;stroke:#FF0000;stroke-width:2.0px;stroke-linecap:butt;stroke-linejoin:miter;stroke-opacity:1\"/>\n",
       "<path class=\"bond-9 atom-9 atom-10\" d=\"M 364.6,72.5 L 382.5,70.3\" style=\"fill:none;fill-rule:evenodd;stroke:#FF0000;stroke-width:2.0px;stroke-linecap:butt;stroke-linejoin:miter;stroke-opacity:1\"/>\n",
       "<path class=\"bond-9 atom-9 atom-10\" d=\"M 382.5,70.3 L 400.5,68.1\" style=\"fill:none;fill-rule:evenodd;stroke:#000000;stroke-width:2.0px;stroke-linecap:butt;stroke-linejoin:miter;stroke-opacity:1\"/>\n",
       "<path class=\"bond-10 atom-6 atom-11\" d=\"M 297.6,118.5 L 280.6,158.4\" style=\"fill:none;fill-rule:evenodd;stroke:#000000;stroke-width:2.0px;stroke-linecap:butt;stroke-linejoin:miter;stroke-opacity:1\"/>\n",
       "<path class=\"bond-11 atom-11 atom-12\" d=\"M 280.6,158.4 L 290.8,171.8\" style=\"fill:none;fill-rule:evenodd;stroke:#000000;stroke-width:2.0px;stroke-linecap:butt;stroke-linejoin:miter;stroke-opacity:1\"/>\n",
       "<path class=\"bond-11 atom-11 atom-12\" d=\"M 290.8,171.8 L 300.9,185.3\" style=\"fill:none;fill-rule:evenodd;stroke:#FF0000;stroke-width:2.0px;stroke-linecap:butt;stroke-linejoin:miter;stroke-opacity:1\"/>\n",
       "<path class=\"bond-12 atom-12 atom-13\" d=\"M 303.3,200.8 L 296.5,216.8\" style=\"fill:none;fill-rule:evenodd;stroke:#FF0000;stroke-width:2.0px;stroke-linecap:butt;stroke-linejoin:miter;stroke-opacity:1\"/>\n",
       "<path class=\"bond-12 atom-12 atom-13\" d=\"M 296.5,216.8 L 289.7,232.8\" style=\"fill:none;fill-rule:evenodd;stroke:#000000;stroke-width:2.0px;stroke-linecap:butt;stroke-linejoin:miter;stroke-opacity:1\"/>\n",
       "<path class=\"bond-13 atom-11 atom-14\" d=\"M 280.6,158.4 L 237.6,163.6\" style=\"fill:none;fill-rule:evenodd;stroke:#000000;stroke-width:2.0px;stroke-linecap:butt;stroke-linejoin:miter;stroke-opacity:1\"/>\n",
       "<path class=\"bond-13 atom-11 atom-14\" d=\"M 276.1,152.4 L 240.5,156.7\" style=\"fill:none;fill-rule:evenodd;stroke:#000000;stroke-width:2.0px;stroke-linecap:butt;stroke-linejoin:miter;stroke-opacity:1\"/>\n",
       "<path class=\"bond-14 atom-14 atom-3\" d=\"M 237.6,163.6 L 211.6,129.0\" style=\"fill:none;fill-rule:evenodd;stroke:#000000;stroke-width:2.0px;stroke-linecap:butt;stroke-linejoin:miter;stroke-opacity:1\"/>\n",
       "<path d=\"M 140.3,99.9 L 142.5,99.7 L 143.0,100.3\" style=\"fill:none;stroke:#000000;stroke-width:2.0px;stroke-linecap:butt;stroke-linejoin:miter;stroke-opacity:1;\"/>\n",
       "<path d=\"M 227.7,91.1 L 228.5,89.1 L 230.6,88.9\" style=\"fill:none;stroke:#000000;stroke-width:2.0px;stroke-linecap:butt;stroke-linejoin:miter;stroke-opacity:1;\"/>\n",
       "<path d=\"M 269.4,84.1 L 271.5,83.9 L 272.8,85.6\" style=\"fill:none;stroke:#000000;stroke-width:2.0px;stroke-linecap:butt;stroke-linejoin:miter;stroke-opacity:1;\"/>\n",
       "<path d=\"M 338.4,113.5 L 340.6,113.2 L 340.9,112.4\" style=\"fill:none;stroke:#000000;stroke-width:2.0px;stroke-linecap:butt;stroke-linejoin:miter;stroke-opacity:1;\"/>\n",
       "<path d=\"M 239.8,163.4 L 237.6,163.6 L 236.3,161.9\" style=\"fill:none;stroke:#000000;stroke-width:2.0px;stroke-linecap:butt;stroke-linejoin:miter;stroke-opacity:1;\"/>\n",
       "<path class=\"atom-2\" d=\"M 162.9 134.3 Q 162.9 131.4, 164.4 129.7 Q 165.8 128.1, 168.6 128.1 Q 171.3 128.1, 172.7 129.7 Q 174.2 131.4, 174.2 134.3 Q 174.2 137.3, 172.7 139.0 Q 171.2 140.7, 168.6 140.7 Q 165.8 140.7, 164.4 139.0 Q 162.9 137.3, 162.9 134.3 M 168.6 139.3 Q 170.4 139.3, 171.4 138.0 Q 172.5 136.8, 172.5 134.3 Q 172.5 131.9, 171.4 130.7 Q 170.4 129.5, 168.6 129.5 Q 166.7 129.5, 165.7 130.7 Q 164.7 131.9, 164.7 134.3 Q 164.7 136.8, 165.7 138.0 Q 166.7 139.3, 168.6 139.3 \" fill=\"#FF0000\"/>\n",
       "<path class=\"atom-8\" d=\"M 361.0 147.9 Q 361.0 144.9, 362.4 143.3 Q 363.9 141.6, 366.6 141.6 Q 369.3 141.6, 370.8 143.3 Q 372.2 144.9, 372.2 147.9 Q 372.2 150.9, 370.8 152.6 Q 369.3 154.2, 366.6 154.2 Q 363.9 154.2, 362.4 152.6 Q 361.0 150.9, 361.0 147.9 M 366.6 152.9 Q 368.5 152.9, 369.5 151.6 Q 370.5 150.3, 370.5 147.9 Q 370.5 145.5, 369.5 144.3 Q 368.5 143.0, 366.6 143.0 Q 364.7 143.0, 363.7 144.2 Q 362.7 145.5, 362.7 147.9 Q 362.7 150.4, 363.7 151.6 Q 364.7 152.9, 366.6 152.9 \" fill=\"#FF0000\"/>\n",
       "<path class=\"atom-9\" d=\"M 351.9 73.4 Q 351.9 70.5, 353.3 68.8 Q 354.8 67.2, 357.5 67.2 Q 360.2 67.2, 361.7 68.8 Q 363.1 70.5, 363.1 73.4 Q 363.1 76.4, 361.7 78.1 Q 360.2 79.8, 357.5 79.8 Q 354.8 79.8, 353.3 78.1 Q 351.9 76.4, 351.9 73.4 M 357.5 78.4 Q 359.4 78.4, 360.4 77.1 Q 361.4 75.9, 361.4 73.4 Q 361.4 71.0, 360.4 69.8 Q 359.4 68.5, 357.5 68.5 Q 355.6 68.5, 354.6 69.8 Q 353.6 71.0, 353.6 73.4 Q 353.6 75.9, 354.6 77.1 Q 355.6 78.4, 357.5 78.4 \" fill=\"#FF0000\"/>\n",
       "<path class=\"atom-12\" d=\"M 301.0 193.0 Q 301.0 190.1, 302.5 188.4 Q 303.9 186.8, 306.7 186.8 Q 309.4 186.8, 310.8 188.4 Q 312.3 190.1, 312.3 193.0 Q 312.3 196.0, 310.8 197.7 Q 309.3 199.4, 306.7 199.4 Q 304.0 199.4, 302.5 197.7 Q 301.0 196.0, 301.0 193.0 M 306.7 198.0 Q 308.5 198.0, 309.5 196.7 Q 310.6 195.5, 310.6 193.0 Q 310.6 190.6, 309.5 189.4 Q 308.5 188.2, 306.7 188.2 Q 304.8 188.2, 303.8 189.4 Q 302.8 190.6, 302.8 193.0 Q 302.8 195.5, 303.8 196.7 Q 304.8 198.0, 306.7 198.0 \" fill=\"#FF0000\"/>\n",
       "<path class=\"bond-15 atom-15 atom-16\" d=\"M 499.0,114.5 L 542.1,110.6\" style=\"fill:none;fill-rule:evenodd;stroke:#000000;stroke-width:2.0px;stroke-linecap:butt;stroke-linejoin:miter;stroke-opacity:1\"/>\n",
       "<path class=\"bond-16 atom-16 atom-17\" d=\"M 542.1,110.6 L 551.9,124.5\" style=\"fill:none;fill-rule:evenodd;stroke:#000000;stroke-width:2.0px;stroke-linecap:butt;stroke-linejoin:miter;stroke-opacity:1\"/>\n",
       "<path class=\"bond-16 atom-16 atom-17\" d=\"M 551.9,124.5 L 561.7,138.4\" style=\"fill:none;fill-rule:evenodd;stroke:#FF0000;stroke-width:2.0px;stroke-linecap:butt;stroke-linejoin:miter;stroke-opacity:1\"/>\n",
       "<path class=\"bond-17 atom-17 atom-18\" d=\"M 574.2,145.4 L 592.2,143.7\" style=\"fill:none;fill-rule:evenodd;stroke:#FF0000;stroke-width:2.0px;stroke-linecap:butt;stroke-linejoin:miter;stroke-opacity:1\"/>\n",
       "<path class=\"bond-17 atom-17 atom-18\" d=\"M 592.2,143.7 L 610.3,142.1\" style=\"fill:none;fill-rule:evenodd;stroke:#000000;stroke-width:2.0px;stroke-linecap:butt;stroke-linejoin:miter;stroke-opacity:1\"/>\n",
       "<path class=\"bond-18 atom-18 atom-19\" d=\"M 610.3,142.1 L 628.4,102.7\" style=\"fill:none;fill-rule:evenodd;stroke:#000000;stroke-width:2.0px;stroke-linecap:butt;stroke-linejoin:miter;stroke-opacity:1\"/>\n",
       "<path class=\"bond-18 atom-18 atom-19\" d=\"M 617.7,141.4 L 632.8,108.9\" style=\"fill:none;fill-rule:evenodd;stroke:#000000;stroke-width:2.0px;stroke-linecap:butt;stroke-linejoin:miter;stroke-opacity:1\"/>\n",
       "<path class=\"bond-19 atom-19 atom-20\" d=\"M 628.4,102.7 L 671.6,98.8\" style=\"fill:none;fill-rule:evenodd;stroke:#000000;stroke-width:2.0px;stroke-linecap:butt;stroke-linejoin:miter;stroke-opacity:1\"/>\n",
       "<path class=\"bond-20 atom-20 atom-21\" d=\"M 671.6,98.8 L 696.6,134.2\" style=\"fill:none;fill-rule:evenodd;stroke:#000000;stroke-width:2.0px;stroke-linecap:butt;stroke-linejoin:miter;stroke-opacity:1\"/>\n",
       "<path class=\"bond-20 atom-20 atom-21\" d=\"M 668.4,105.6 L 689.1,134.9\" style=\"fill:none;fill-rule:evenodd;stroke:#000000;stroke-width:2.0px;stroke-linecap:butt;stroke-linejoin:miter;stroke-opacity:1\"/>\n",
       "<path class=\"bond-21 atom-21 atom-22\" d=\"M 696.6,134.2 L 739.7,130.2\" style=\"fill:none;fill-rule:evenodd;stroke:#000000;stroke-width:2.0px;stroke-linecap:butt;stroke-linejoin:miter;stroke-opacity:1\"/>\n",
       "<path class=\"bond-22 atom-22 atom-23\" d=\"M 736.0,130.6 L 746.3,145.2\" style=\"fill:none;fill-rule:evenodd;stroke:#000000;stroke-width:2.0px;stroke-linecap:butt;stroke-linejoin:miter;stroke-opacity:1\"/>\n",
       "<path class=\"bond-22 atom-22 atom-23\" d=\"M 746.3,145.2 L 756.6,159.9\" style=\"fill:none;fill-rule:evenodd;stroke:#FF0000;stroke-width:2.0px;stroke-linecap:butt;stroke-linejoin:miter;stroke-opacity:1\"/>\n",
       "<path class=\"bond-22 atom-22 atom-23\" d=\"M 741.3,126.8 L 751.6,141.5\" style=\"fill:none;fill-rule:evenodd;stroke:#000000;stroke-width:2.0px;stroke-linecap:butt;stroke-linejoin:miter;stroke-opacity:1\"/>\n",
       "<path class=\"bond-22 atom-22 atom-23\" d=\"M 751.6,141.5 L 761.9,156.1\" style=\"fill:none;fill-rule:evenodd;stroke:#FF0000;stroke-width:2.0px;stroke-linecap:butt;stroke-linejoin:miter;stroke-opacity:1\"/>\n",
       "<path class=\"bond-23 atom-22 atom-24\" d=\"M 739.7,130.2 L 747.0,114.5\" style=\"fill:none;fill-rule:evenodd;stroke:#000000;stroke-width:2.0px;stroke-linecap:butt;stroke-linejoin:miter;stroke-opacity:1\"/>\n",
       "<path class=\"bond-23 atom-22 atom-24\" d=\"M 747.0,114.5 L 754.2,98.7\" style=\"fill:none;fill-rule:evenodd;stroke:#FF0000;stroke-width:2.0px;stroke-linecap:butt;stroke-linejoin:miter;stroke-opacity:1\"/>\n",
       "<path class=\"bond-24 atom-24 atom-25\" d=\"M 764.9,90.3 L 783.0,88.6\" style=\"fill:none;fill-rule:evenodd;stroke:#FF0000;stroke-width:2.0px;stroke-linecap:butt;stroke-linejoin:miter;stroke-opacity:1\"/>\n",
       "<path class=\"bond-24 atom-24 atom-25\" d=\"M 783.0,88.6 L 801.0,87.0\" style=\"fill:none;fill-rule:evenodd;stroke:#000000;stroke-width:2.0px;stroke-linecap:butt;stroke-linejoin:miter;stroke-opacity:1\"/>\n",
       "<path class=\"bond-25 atom-21 atom-26\" d=\"M 696.6,134.2 L 678.4,173.5\" style=\"fill:none;fill-rule:evenodd;stroke:#000000;stroke-width:2.0px;stroke-linecap:butt;stroke-linejoin:miter;stroke-opacity:1\"/>\n",
       "<path class=\"bond-26 atom-26 atom-27\" d=\"M 678.4,173.5 L 688.2,187.4\" style=\"fill:none;fill-rule:evenodd;stroke:#000000;stroke-width:2.0px;stroke-linecap:butt;stroke-linejoin:miter;stroke-opacity:1\"/>\n",
       "<path class=\"bond-26 atom-26 atom-27\" d=\"M 688.2,187.4 L 698.0,201.3\" style=\"fill:none;fill-rule:evenodd;stroke:#FF0000;stroke-width:2.0px;stroke-linecap:butt;stroke-linejoin:miter;stroke-opacity:1\"/>\n",
       "<path class=\"bond-27 atom-26 atom-28\" d=\"M 678.4,173.5 L 635.3,177.4\" style=\"fill:none;fill-rule:evenodd;stroke:#000000;stroke-width:2.0px;stroke-linecap:butt;stroke-linejoin:miter;stroke-opacity:1\"/>\n",
       "<path class=\"bond-27 atom-26 atom-28\" d=\"M 674.1,167.4 L 638.4,170.6\" style=\"fill:none;fill-rule:evenodd;stroke:#000000;stroke-width:2.0px;stroke-linecap:butt;stroke-linejoin:miter;stroke-opacity:1\"/>\n",
       "<path class=\"bond-28 atom-28 atom-18\" d=\"M 635.3,177.4 L 610.3,142.1\" style=\"fill:none;fill-rule:evenodd;stroke:#000000;stroke-width:2.0px;stroke-linecap:butt;stroke-linejoin:miter;stroke-opacity:1\"/>\n",
       "<path class=\"atom-2\" d=\"M 561.5 146.0 Q 561.5 143.1, 563.0 141.4 Q 564.4 139.8, 567.1 139.8 Q 569.8 139.8, 571.3 141.4 Q 572.8 143.1, 572.8 146.0 Q 572.8 149.0, 571.3 150.7 Q 569.8 152.4, 567.1 152.4 Q 564.4 152.4, 563.0 150.7 Q 561.5 149.0, 561.5 146.0 M 567.1 151.0 Q 569.0 151.0, 570.0 149.8 Q 571.0 148.5, 571.0 146.0 Q 571.0 143.6, 570.0 142.4 Q 569.0 141.2, 567.1 141.2 Q 565.3 141.2, 564.2 142.4 Q 563.2 143.6, 563.2 146.0 Q 563.2 148.5, 564.2 149.8 Q 565.3 151.0, 567.1 151.0 \" fill=\"#FF0000\"/>\n",
       "<path class=\"atom-8\" d=\"M 759.0 165.7 Q 759.0 162.7, 760.5 161.1 Q 762.0 159.4, 764.7 159.4 Q 767.4 159.4, 768.9 161.1 Q 770.3 162.7, 770.3 165.7 Q 770.3 168.6, 768.8 170.3 Q 767.4 172.0, 764.7 172.0 Q 762.0 172.0, 760.5 170.3 Q 759.0 168.7, 759.0 165.7 M 764.7 170.6 Q 766.5 170.6, 767.6 169.4 Q 768.6 168.1, 768.6 165.7 Q 768.6 163.3, 767.6 162.0 Q 766.5 160.8, 764.7 160.8 Q 762.8 160.8, 761.8 162.0 Q 760.8 163.2, 760.8 165.7 Q 760.8 168.1, 761.8 169.4 Q 762.8 170.6, 764.7 170.6 \" fill=\"#FF0000\"/>\n",
       "<path class=\"atom-9\" d=\"M 752.2 90.9 Q 752.2 88.0, 753.7 86.3 Q 755.1 84.7, 757.9 84.7 Q 760.6 84.7, 762.0 86.3 Q 763.5 88.0, 763.5 90.9 Q 763.5 93.9, 762.0 95.6 Q 760.5 97.3, 757.9 97.3 Q 755.2 97.3, 753.7 95.6 Q 752.2 93.9, 752.2 90.9 M 757.9 95.9 Q 759.7 95.9, 760.7 94.7 Q 761.8 93.4, 761.8 90.9 Q 761.8 88.5, 760.7 87.3 Q 759.7 86.1, 757.9 86.1 Q 756.0 86.1, 755.0 87.3 Q 754.0 88.5, 754.0 90.9 Q 754.0 93.4, 755.0 94.7 Q 756.0 95.9, 757.9 95.9 \" fill=\"#FF0000\"/>\n",
       "<path class=\"atom-12\" d=\"M 697.7 208.9 Q 697.7 206.0, 699.2 204.3 Q 700.7 202.7, 703.4 202.7 Q 706.1 202.7, 707.6 204.3 Q 709.0 206.0, 709.0 208.9 Q 709.0 211.9, 707.5 213.6 Q 706.1 215.3, 703.4 215.3 Q 700.7 215.3, 699.2 213.6 Q 697.7 211.9, 697.7 208.9 M 703.4 213.9 Q 705.2 213.9, 706.3 212.7 Q 707.3 211.4, 707.3 208.9 Q 707.3 206.5, 706.3 205.3 Q 705.2 204.1, 703.4 204.1 Q 701.5 204.1, 700.5 205.3 Q 699.5 206.5, 699.5 208.9 Q 699.5 211.4, 700.5 212.7 Q 701.5 213.9, 703.4 213.9 \" fill=\"#FF0000\"/>\n",
       "<path class=\"atom-12\" d=\"M 710.9 202.8 L 712.6 202.8 L 712.6 208.1 L 718.9 208.1 L 718.9 202.8 L 720.5 202.8 L 720.5 215.1 L 718.9 215.1 L 718.9 209.4 L 712.6 209.4 L 712.6 215.1 L 710.9 215.1 L 710.9 202.8 \" fill=\"#FF0000\"/>\n",
       "<path d=\"M 417.0,150.0 L 483.0,150.0\" style=\"fill:none;fill-rule:evenodd;stroke:#000000;stroke-width:2.0px;stroke-linecap:butt;stroke-linejoin:miter;stroke-opacity:1\"/>\n",
       "<path d=\"M 483.0,150.0 L 478.0,152.9\" style=\"fill:none;fill-rule:evenodd;stroke:#000000;stroke-width:2.0px;stroke-linecap:butt;stroke-linejoin:miter;stroke-opacity:1\"/>\n",
       "<path d=\"M 483.0,150.0 L 478.0,147.1\" style=\"fill:none;fill-rule:evenodd;stroke:#000000;stroke-width:2.0px;stroke-linecap:butt;stroke-linejoin:miter;stroke-opacity:1\"/>\n",
       "</svg>"
      ],
      "text/plain": [
       "<IPython.core.display.SVG object>"
      ]
     },
     "metadata": {},
     "output_type": "display_data"
    },
    {
     "name": "stdout",
     "output_type": "stream",
     "text": [
      "--------------------------------------------\n",
      "\n",
      "\n",
      "\n",
      "Sequence 10\n",
      "Similarity Scores: Overall: 0.2686106346483705,Candidate Reactants: 0.5272727272727272, Product: 0.5094339622641509\n",
      "Reaction Class: 1\n",
      "Predicted Reaction: CCOc1cc(O)c(C(=O)OC)c(Br)c1>>CCOc1ccc(C(=O)OC)c(O)c1\n",
      "Template Applied: [O;D1;H0:6]=[C:4](-[#8:5])-[c:3]:[c;H1;D2;+0:1]:[c:2]>>[Br]-[c;D3;H0;+0:1](:[c:2]):[c:3]-[C:4](=[O;D1;H0:6])-[#8:5]\n",
      "Patent ID: US20100305093A1\n",
      "\u001b[91mGround Truth Does Not Equal Prediction\u001b[0m\n"
     ]
    },
    {
     "data": {
      "image/svg+xml": [
       "<svg xmlns=\"http://www.w3.org/2000/svg\" xmlns:rdkit=\"http://www.rdkit.org/xml\" xmlns:xlink=\"http://www.w3.org/1999/xlink\" version=\"1.1\" baseProfile=\"full\" xml:space=\"preserve\" width=\"900px\" height=\"300px\" viewBox=\"0 0 900 300\">\n",
       "<!-- END OF HEADER -->\n",
       "<rect style=\"opacity:1.0;fill:#FFFFFF;stroke:none\" width=\"900.0\" height=\"300.0\" x=\"0.0\" y=\"0.0\"> </rect>\n",
       "<path class=\"bond-0 atom-0 atom-1\" d=\"M 99.0,126.0 L 142.2,123.1\" style=\"fill:none;fill-rule:evenodd;stroke:#000000;stroke-width:2.0px;stroke-linecap:butt;stroke-linejoin:miter;stroke-opacity:1\"/>\n",
       "<path class=\"bond-1 atom-1 atom-2\" d=\"M 142.2,123.1 L 151.7,137.2\" style=\"fill:none;fill-rule:evenodd;stroke:#000000;stroke-width:2.0px;stroke-linecap:butt;stroke-linejoin:miter;stroke-opacity:1\"/>\n",
       "<path class=\"bond-1 atom-1 atom-2\" d=\"M 151.7,137.2 L 161.2,151.3\" style=\"fill:none;fill-rule:evenodd;stroke:#FF0000;stroke-width:2.0px;stroke-linecap:butt;stroke-linejoin:miter;stroke-opacity:1\"/>\n",
       "<path class=\"bond-2 atom-2 atom-3\" d=\"M 173.4,158.5 L 191.4,157.2\" style=\"fill:none;fill-rule:evenodd;stroke:#FF0000;stroke-width:2.0px;stroke-linecap:butt;stroke-linejoin:miter;stroke-opacity:1\"/>\n",
       "<path class=\"bond-2 atom-2 atom-3\" d=\"M 191.4,157.2 L 209.4,156.0\" style=\"fill:none;fill-rule:evenodd;stroke:#000000;stroke-width:2.0px;stroke-linecap:butt;stroke-linejoin:miter;stroke-opacity:1\"/>\n",
       "<path class=\"bond-3 atom-3 atom-4\" d=\"M 209.4,156.0 L 228.4,117.1\" style=\"fill:none;fill-rule:evenodd;stroke:#000000;stroke-width:2.0px;stroke-linecap:butt;stroke-linejoin:miter;stroke-opacity:1\"/>\n",
       "<path class=\"bond-3 atom-3 atom-4\" d=\"M 216.9,155.5 L 232.6,123.3\" style=\"fill:none;fill-rule:evenodd;stroke:#000000;stroke-width:2.0px;stroke-linecap:butt;stroke-linejoin:miter;stroke-opacity:1\"/>\n",
       "<path class=\"bond-4 atom-4 atom-5\" d=\"M 228.4,117.1 L 271.6,114.2\" style=\"fill:none;fill-rule:evenodd;stroke:#000000;stroke-width:2.0px;stroke-linecap:butt;stroke-linejoin:miter;stroke-opacity:1\"/>\n",
       "<path class=\"bond-5 atom-5 atom-6\" d=\"M 271.6,114.2 L 279.2,98.7\" style=\"fill:none;fill-rule:evenodd;stroke:#000000;stroke-width:2.0px;stroke-linecap:butt;stroke-linejoin:miter;stroke-opacity:1\"/>\n",
       "<path class=\"bond-5 atom-5 atom-6\" d=\"M 279.2,98.7 L 286.7,83.1\" style=\"fill:none;fill-rule:evenodd;stroke:#FF0000;stroke-width:2.0px;stroke-linecap:butt;stroke-linejoin:miter;stroke-opacity:1\"/>\n",
       "<path class=\"bond-6 atom-5 atom-7\" d=\"M 271.6,114.2 L 295.7,150.0\" style=\"fill:none;fill-rule:evenodd;stroke:#000000;stroke-width:2.0px;stroke-linecap:butt;stroke-linejoin:miter;stroke-opacity:1\"/>\n",
       "<path class=\"bond-6 atom-5 atom-7\" d=\"M 268.3,120.9 L 288.2,150.5\" style=\"fill:none;fill-rule:evenodd;stroke:#000000;stroke-width:2.0px;stroke-linecap:butt;stroke-linejoin:miter;stroke-opacity:1\"/>\n",
       "<path class=\"bond-7 atom-7 atom-8\" d=\"M 295.7,150.0 L 338.8,147.1\" style=\"fill:none;fill-rule:evenodd;stroke:#000000;stroke-width:2.0px;stroke-linecap:butt;stroke-linejoin:miter;stroke-opacity:1\"/>\n",
       "<path class=\"bond-8 atom-8 atom-9\" d=\"M 335.1,147.3 L 345.1,162.2\" style=\"fill:none;fill-rule:evenodd;stroke:#000000;stroke-width:2.0px;stroke-linecap:butt;stroke-linejoin:miter;stroke-opacity:1\"/>\n",
       "<path class=\"bond-8 atom-8 atom-9\" d=\"M 345.1,162.2 L 355.1,177.1\" style=\"fill:none;fill-rule:evenodd;stroke:#FF0000;stroke-width:2.0px;stroke-linecap:butt;stroke-linejoin:miter;stroke-opacity:1\"/>\n",
       "<path class=\"bond-8 atom-8 atom-9\" d=\"M 340.5,143.7 L 350.5,158.6\" style=\"fill:none;fill-rule:evenodd;stroke:#000000;stroke-width:2.0px;stroke-linecap:butt;stroke-linejoin:miter;stroke-opacity:1\"/>\n",
       "<path class=\"bond-8 atom-8 atom-9\" d=\"M 350.5,158.6 L 360.5,173.5\" style=\"fill:none;fill-rule:evenodd;stroke:#FF0000;stroke-width:2.0px;stroke-linecap:butt;stroke-linejoin:miter;stroke-opacity:1\"/>\n",
       "<path class=\"bond-9 atom-8 atom-10\" d=\"M 338.8,147.1 L 346.4,131.6\" style=\"fill:none;fill-rule:evenodd;stroke:#000000;stroke-width:2.0px;stroke-linecap:butt;stroke-linejoin:miter;stroke-opacity:1\"/>\n",
       "<path class=\"bond-9 atom-8 atom-10\" d=\"M 346.4,131.6 L 354.0,116.0\" style=\"fill:none;fill-rule:evenodd;stroke:#FF0000;stroke-width:2.0px;stroke-linecap:butt;stroke-linejoin:miter;stroke-opacity:1\"/>\n",
       "<path class=\"bond-10 atom-10 atom-11\" d=\"M 364.9,107.7 L 382.9,106.5\" style=\"fill:none;fill-rule:evenodd;stroke:#FF0000;stroke-width:2.0px;stroke-linecap:butt;stroke-linejoin:miter;stroke-opacity:1\"/>\n",
       "<path class=\"bond-10 atom-10 atom-11\" d=\"M 382.9,106.5 L 401.0,105.3\" style=\"fill:none;fill-rule:evenodd;stroke:#000000;stroke-width:2.0px;stroke-linecap:butt;stroke-linejoin:miter;stroke-opacity:1\"/>\n",
       "<path class=\"bond-11 atom-7 atom-12\" d=\"M 295.7,150.0 L 276.7,188.9\" style=\"fill:none;fill-rule:evenodd;stroke:#000000;stroke-width:2.0px;stroke-linecap:butt;stroke-linejoin:miter;stroke-opacity:1\"/>\n",
       "<path class=\"bond-12 atom-12 atom-13\" d=\"M 276.7,188.9 L 286.2,203.0\" style=\"fill:none;fill-rule:evenodd;stroke:#000000;stroke-width:2.0px;stroke-linecap:butt;stroke-linejoin:miter;stroke-opacity:1\"/>\n",
       "<path class=\"bond-12 atom-12 atom-13\" d=\"M 286.2,203.0 L 295.8,217.2\" style=\"fill:none;fill-rule:evenodd;stroke:#7F4C19;stroke-width:2.0px;stroke-linecap:butt;stroke-linejoin:miter;stroke-opacity:1\"/>\n",
       "<path class=\"bond-13 atom-12 atom-14\" d=\"M 276.7,188.9 L 233.6,191.8\" style=\"fill:none;fill-rule:evenodd;stroke:#000000;stroke-width:2.0px;stroke-linecap:butt;stroke-linejoin:miter;stroke-opacity:1\"/>\n",
       "<path class=\"bond-13 atom-12 atom-14\" d=\"M 272.5,182.7 L 236.9,185.1\" style=\"fill:none;fill-rule:evenodd;stroke:#000000;stroke-width:2.0px;stroke-linecap:butt;stroke-linejoin:miter;stroke-opacity:1\"/>\n",
       "<path class=\"bond-14 atom-14 atom-3\" d=\"M 233.6,191.8 L 209.4,156.0\" style=\"fill:none;fill-rule:evenodd;stroke:#000000;stroke-width:2.0px;stroke-linecap:butt;stroke-linejoin:miter;stroke-opacity:1\"/>\n",
       "<path d=\"M 140.0,123.2 L 142.2,123.1 L 142.6,123.8\" style=\"fill:none;stroke:#000000;stroke-width:2.0px;stroke-linecap:butt;stroke-linejoin:miter;stroke-opacity:1;\"/>\n",
       "<path d=\"M 227.5,119.1 L 228.4,117.1 L 230.6,117.0\" style=\"fill:none;stroke:#000000;stroke-width:2.0px;stroke-linecap:butt;stroke-linejoin:miter;stroke-opacity:1;\"/>\n",
       "<path d=\"M 336.7,147.2 L 338.8,147.1 L 339.2,146.3\" style=\"fill:none;stroke:#000000;stroke-width:2.0px;stroke-linecap:butt;stroke-linejoin:miter;stroke-opacity:1;\"/>\n",
       "<path d=\"M 235.7,191.7 L 233.6,191.8 L 232.4,190.0\" style=\"fill:none;stroke:#000000;stroke-width:2.0px;stroke-linecap:butt;stroke-linejoin:miter;stroke-opacity:1;\"/>\n",
       "<path class=\"atom-2\" d=\"M 160.7 159.0 Q 160.7 156.0, 162.1 154.4 Q 163.6 152.7, 166.3 152.7 Q 169.0 152.7, 170.5 154.4 Q 171.9 156.0, 171.9 159.0 Q 171.9 161.9, 170.5 163.6 Q 169.0 165.3, 166.3 165.3 Q 163.6 165.3, 162.1 163.6 Q 160.7 162.0, 160.7 159.0 M 166.3 163.9 Q 168.2 163.9, 169.2 162.7 Q 170.2 161.4, 170.2 159.0 Q 170.2 156.6, 169.2 155.4 Q 168.2 154.1, 166.3 154.1 Q 164.4 154.1, 163.4 155.3 Q 162.4 156.5, 162.4 159.0 Q 162.4 161.4, 163.4 162.7 Q 164.4 163.9, 166.3 163.9 \" fill=\"#FF0000\"/>\n",
       "<path class=\"atom-6\" d=\"M 284.9 75.4 Q 284.9 72.4, 286.4 70.8 Q 287.8 69.1, 290.6 69.1 Q 293.3 69.1, 294.7 70.8 Q 296.2 72.4, 296.2 75.4 Q 296.2 78.3, 294.7 80.0 Q 293.2 81.7, 290.6 81.7 Q 287.9 81.7, 286.4 80.0 Q 284.9 78.4, 284.9 75.4 M 290.6 80.3 Q 292.4 80.3, 293.4 79.1 Q 294.5 77.8, 294.5 75.4 Q 294.5 73.0, 293.4 71.8 Q 292.4 70.5, 290.6 70.5 Q 288.7 70.5, 287.7 71.7 Q 286.7 72.9, 286.7 75.4 Q 286.7 77.8, 287.7 79.1 Q 288.7 80.3, 290.6 80.3 \" fill=\"#FF0000\"/>\n",
       "<path class=\"atom-6\" d=\"M 298.1 69.3 L 299.7 69.3 L 299.7 74.5 L 306.0 74.5 L 306.0 69.3 L 307.7 69.3 L 307.7 81.5 L 306.0 81.5 L 306.0 75.9 L 299.7 75.9 L 299.7 81.5 L 298.1 81.5 L 298.1 69.3 \" fill=\"#FF0000\"/>\n",
       "<path class=\"atom-9\" d=\"M 357.3 183.0 Q 357.3 180.0, 358.8 178.4 Q 360.3 176.7, 363.0 176.7 Q 365.7 176.7, 367.1 178.4 Q 368.6 180.0, 368.6 183.0 Q 368.6 185.9, 367.1 187.6 Q 365.6 189.3, 363.0 189.3 Q 360.3 189.3, 358.8 187.6 Q 357.3 186.0, 357.3 183.0 M 363.0 187.9 Q 364.8 187.9, 365.8 186.7 Q 366.9 185.4, 366.9 183.0 Q 366.9 180.6, 365.8 179.4 Q 364.8 178.1, 363.0 178.1 Q 361.1 178.1, 360.1 179.3 Q 359.1 180.5, 359.1 183.0 Q 359.1 185.4, 360.1 186.7 Q 361.1 187.9, 363.0 187.9 \" fill=\"#FF0000\"/>\n",
       "<path class=\"atom-10\" d=\"M 352.2 108.3 Q 352.2 105.3, 353.7 103.7 Q 355.1 102.0, 357.8 102.0 Q 360.5 102.0, 362.0 103.7 Q 363.4 105.3, 363.4 108.3 Q 363.4 111.2, 362.0 112.9 Q 360.5 114.6, 357.8 114.6 Q 355.1 114.6, 353.7 112.9 Q 352.2 111.3, 352.2 108.3 M 357.8 113.2 Q 359.7 113.2, 360.7 112.0 Q 361.7 110.7, 361.7 108.3 Q 361.7 105.9, 360.7 104.7 Q 359.7 103.4, 357.8 103.4 Q 356.0 103.4, 354.9 104.6 Q 353.9 105.8, 353.9 108.3 Q 353.9 110.7, 354.9 112.0 Q 356.0 113.2, 357.8 113.2 \" fill=\"#FF0000\"/>\n",
       "<path class=\"atom-13\" d=\"M 302.6 224.4 Q 303.8 224.8, 304.4 225.5 Q 305.0 226.2, 305.0 227.2 Q 305.0 228.9, 303.9 229.9 Q 302.8 230.9, 300.8 230.9 L 296.7 230.9 L 296.7 218.6 L 300.3 218.6 Q 302.4 218.6, 303.4 219.5 Q 304.5 220.3, 304.5 221.9 Q 304.5 223.7, 302.6 224.4 M 298.3 220.0 L 298.3 223.8 L 300.3 223.8 Q 301.5 223.8, 302.1 223.4 Q 302.8 222.9, 302.8 221.9 Q 302.8 220.0, 300.3 220.0 L 298.3 220.0 M 300.8 229.5 Q 302.0 229.5, 302.6 228.9 Q 303.3 228.3, 303.3 227.2 Q 303.3 226.2, 302.6 225.7 Q 301.9 225.2, 300.5 225.2 L 298.3 225.2 L 298.3 229.5 L 300.8 229.5 \" fill=\"#7F4C19\"/>\n",
       "<path class=\"atom-13\" d=\"M 307.8 222.0 L 308.0 223.2 Q 308.9 221.8, 310.4 221.8 Q 310.9 221.8, 311.6 222.0 L 311.3 223.4 Q 310.6 223.3, 310.1 223.3 Q 309.4 223.3, 308.9 223.6 Q 308.5 223.8, 308.1 224.5 L 308.1 230.9 L 306.5 230.9 L 306.5 222.0 L 307.8 222.0 \" fill=\"#7F4C19\"/>\n",
       "<path class=\"bond-15 atom-15 atom-16\" d=\"M 499.3,114.6 L 542.4,110.7\" style=\"fill:none;fill-rule:evenodd;stroke:#000000;stroke-width:2.0px;stroke-linecap:butt;stroke-linejoin:miter;stroke-opacity:1\"/>\n",
       "<path class=\"bond-16 atom-16 atom-17\" d=\"M 542.4,110.7 L 552.1,124.5\" style=\"fill:none;fill-rule:evenodd;stroke:#000000;stroke-width:2.0px;stroke-linecap:butt;stroke-linejoin:miter;stroke-opacity:1\"/>\n",
       "<path class=\"bond-16 atom-16 atom-17\" d=\"M 552.1,124.5 L 561.9,138.4\" style=\"fill:none;fill-rule:evenodd;stroke:#FF0000;stroke-width:2.0px;stroke-linecap:butt;stroke-linejoin:miter;stroke-opacity:1\"/>\n",
       "<path class=\"bond-17 atom-17 atom-18\" d=\"M 574.3,145.4 L 592.3,143.7\" style=\"fill:none;fill-rule:evenodd;stroke:#FF0000;stroke-width:2.0px;stroke-linecap:butt;stroke-linejoin:miter;stroke-opacity:1\"/>\n",
       "<path class=\"bond-17 atom-17 atom-18\" d=\"M 592.3,143.7 L 610.4,142.1\" style=\"fill:none;fill-rule:evenodd;stroke:#000000;stroke-width:2.0px;stroke-linecap:butt;stroke-linejoin:miter;stroke-opacity:1\"/>\n",
       "<path class=\"bond-18 atom-18 atom-19\" d=\"M 610.4,142.1 L 628.5,102.8\" style=\"fill:none;fill-rule:evenodd;stroke:#000000;stroke-width:2.0px;stroke-linecap:butt;stroke-linejoin:miter;stroke-opacity:1\"/>\n",
       "<path class=\"bond-18 atom-18 atom-19\" d=\"M 617.8,141.4 L 632.8,108.9\" style=\"fill:none;fill-rule:evenodd;stroke:#000000;stroke-width:2.0px;stroke-linecap:butt;stroke-linejoin:miter;stroke-opacity:1\"/>\n",
       "<path class=\"bond-19 atom-19 atom-20\" d=\"M 628.5,102.8 L 671.5,98.9\" style=\"fill:none;fill-rule:evenodd;stroke:#000000;stroke-width:2.0px;stroke-linecap:butt;stroke-linejoin:miter;stroke-opacity:1\"/>\n",
       "<path class=\"bond-20 atom-20 atom-21\" d=\"M 671.5,98.9 L 696.5,134.2\" style=\"fill:none;fill-rule:evenodd;stroke:#000000;stroke-width:2.0px;stroke-linecap:butt;stroke-linejoin:miter;stroke-opacity:1\"/>\n",
       "<path class=\"bond-20 atom-20 atom-21\" d=\"M 668.4,105.7 L 689.0,134.9\" style=\"fill:none;fill-rule:evenodd;stroke:#000000;stroke-width:2.0px;stroke-linecap:butt;stroke-linejoin:miter;stroke-opacity:1\"/>\n",
       "<path class=\"bond-21 atom-21 atom-22\" d=\"M 696.5,134.2 L 739.5,130.3\" style=\"fill:none;fill-rule:evenodd;stroke:#000000;stroke-width:2.0px;stroke-linecap:butt;stroke-linejoin:miter;stroke-opacity:1\"/>\n",
       "<path class=\"bond-22 atom-22 atom-23\" d=\"M 735.8,130.6 L 746.1,145.2\" style=\"fill:none;fill-rule:evenodd;stroke:#000000;stroke-width:2.0px;stroke-linecap:butt;stroke-linejoin:miter;stroke-opacity:1\"/>\n",
       "<path class=\"bond-22 atom-22 atom-23\" d=\"M 746.1,145.2 L 756.4,159.9\" style=\"fill:none;fill-rule:evenodd;stroke:#FF0000;stroke-width:2.0px;stroke-linecap:butt;stroke-linejoin:miter;stroke-opacity:1\"/>\n",
       "<path class=\"bond-22 atom-22 atom-23\" d=\"M 741.1,126.9 L 751.4,141.5\" style=\"fill:none;fill-rule:evenodd;stroke:#000000;stroke-width:2.0px;stroke-linecap:butt;stroke-linejoin:miter;stroke-opacity:1\"/>\n",
       "<path class=\"bond-22 atom-22 atom-23\" d=\"M 751.4,141.5 L 761.7,156.1\" style=\"fill:none;fill-rule:evenodd;stroke:#FF0000;stroke-width:2.0px;stroke-linecap:butt;stroke-linejoin:miter;stroke-opacity:1\"/>\n",
       "<path class=\"bond-23 atom-22 atom-24\" d=\"M 739.5,130.3 L 746.8,114.6\" style=\"fill:none;fill-rule:evenodd;stroke:#000000;stroke-width:2.0px;stroke-linecap:butt;stroke-linejoin:miter;stroke-opacity:1\"/>\n",
       "<path class=\"bond-23 atom-22 atom-24\" d=\"M 746.8,114.6 L 754.0,98.8\" style=\"fill:none;fill-rule:evenodd;stroke:#FF0000;stroke-width:2.0px;stroke-linecap:butt;stroke-linejoin:miter;stroke-opacity:1\"/>\n",
       "<path class=\"bond-24 atom-24 atom-25\" d=\"M 764.7,90.4 L 782.7,88.7\" style=\"fill:none;fill-rule:evenodd;stroke:#FF0000;stroke-width:2.0px;stroke-linecap:butt;stroke-linejoin:miter;stroke-opacity:1\"/>\n",
       "<path class=\"bond-24 atom-24 atom-25\" d=\"M 782.7,88.7 L 800.7,87.1\" style=\"fill:none;fill-rule:evenodd;stroke:#000000;stroke-width:2.0px;stroke-linecap:butt;stroke-linejoin:miter;stroke-opacity:1\"/>\n",
       "<path class=\"bond-25 atom-21 atom-26\" d=\"M 696.5,134.2 L 678.3,173.5\" style=\"fill:none;fill-rule:evenodd;stroke:#000000;stroke-width:2.0px;stroke-linecap:butt;stroke-linejoin:miter;stroke-opacity:1\"/>\n",
       "<path class=\"bond-26 atom-26 atom-27\" d=\"M 678.3,173.5 L 688.1,187.3\" style=\"fill:none;fill-rule:evenodd;stroke:#000000;stroke-width:2.0px;stroke-linecap:butt;stroke-linejoin:miter;stroke-opacity:1\"/>\n",
       "<path class=\"bond-26 atom-26 atom-27\" d=\"M 688.1,187.3 L 697.9,201.2\" style=\"fill:none;fill-rule:evenodd;stroke:#FF0000;stroke-width:2.0px;stroke-linecap:butt;stroke-linejoin:miter;stroke-opacity:1\"/>\n",
       "<path class=\"bond-27 atom-26 atom-28\" d=\"M 678.3,173.5 L 635.3,177.4\" style=\"fill:none;fill-rule:evenodd;stroke:#000000;stroke-width:2.0px;stroke-linecap:butt;stroke-linejoin:miter;stroke-opacity:1\"/>\n",
       "<path class=\"bond-27 atom-26 atom-28\" d=\"M 674.0,167.3 L 638.4,170.6\" style=\"fill:none;fill-rule:evenodd;stroke:#000000;stroke-width:2.0px;stroke-linecap:butt;stroke-linejoin:miter;stroke-opacity:1\"/>\n",
       "<path class=\"bond-28 atom-28 atom-18\" d=\"M 635.3,177.4 L 610.4,142.1\" style=\"fill:none;fill-rule:evenodd;stroke:#000000;stroke-width:2.0px;stroke-linecap:butt;stroke-linejoin:miter;stroke-opacity:1\"/>\n",
       "<path class=\"atom-2\" d=\"M 561.7 146.0 Q 561.7 143.1, 563.1 141.5 Q 564.6 139.8, 567.3 139.8 Q 570.0 139.8, 571.5 141.5 Q 572.9 143.1, 572.9 146.0 Q 572.9 149.0, 571.4 150.7 Q 570.0 152.4, 567.3 152.4 Q 564.6 152.4, 563.1 150.7 Q 561.7 149.0, 561.7 146.0 M 567.3 151.0 Q 569.2 151.0, 570.2 149.8 Q 571.2 148.5, 571.2 146.0 Q 571.2 143.6, 570.2 142.4 Q 569.2 141.2, 567.3 141.2 Q 565.4 141.2, 564.4 142.4 Q 563.4 143.6, 563.4 146.0 Q 563.4 148.5, 564.4 149.8 Q 565.4 151.0, 567.3 151.0 \" fill=\"#FF0000\"/>\n",
       "<path class=\"atom-8\" d=\"M 758.8 165.6 Q 758.8 162.7, 760.3 161.1 Q 761.7 159.4, 764.4 159.4 Q 767.2 159.4, 768.6 161.1 Q 770.1 162.7, 770.1 165.6 Q 770.1 168.6, 768.6 170.3 Q 767.1 172.0, 764.4 172.0 Q 761.7 172.0, 760.3 170.3 Q 758.8 168.6, 758.8 165.6 M 764.4 170.6 Q 766.3 170.6, 767.3 169.4 Q 768.3 168.1, 768.3 165.6 Q 768.3 163.2, 767.3 162.0 Q 766.3 160.8, 764.4 160.8 Q 762.6 160.8, 761.6 162.0 Q 760.6 163.2, 760.6 165.6 Q 760.6 168.1, 761.6 169.4 Q 762.6 170.6, 764.4 170.6 \" fill=\"#FF0000\"/>\n",
       "<path class=\"atom-9\" d=\"M 752.0 91.1 Q 752.0 88.1, 753.5 86.5 Q 754.9 84.8, 757.6 84.8 Q 760.3 84.8, 761.8 86.5 Q 763.3 88.1, 763.3 91.1 Q 763.3 94.0, 761.8 95.7 Q 760.3 97.4, 757.6 97.4 Q 754.9 97.4, 753.5 95.7 Q 752.0 94.1, 752.0 91.1 M 757.6 96.0 Q 759.5 96.0, 760.5 94.8 Q 761.5 93.5, 761.5 91.1 Q 761.5 88.7, 760.5 87.4 Q 759.5 86.2, 757.6 86.2 Q 755.8 86.2, 754.7 87.4 Q 753.7 88.6, 753.7 91.1 Q 753.7 93.5, 754.7 94.8 Q 755.8 96.0, 757.6 96.0 \" fill=\"#FF0000\"/>\n",
       "<path class=\"atom-12\" d=\"M 697.6 208.8 Q 697.6 205.9, 699.1 204.2 Q 700.6 202.6, 703.3 202.6 Q 706.0 202.6, 707.4 204.2 Q 708.9 205.9, 708.9 208.8 Q 708.9 211.8, 707.4 213.5 Q 705.9 215.2, 703.3 215.2 Q 700.6 215.2, 699.1 213.5 Q 697.6 211.8, 697.6 208.8 M 703.3 213.8 Q 705.1 213.8, 706.1 212.5 Q 707.2 211.3, 707.2 208.8 Q 707.2 206.4, 706.1 205.2 Q 705.1 204.0, 703.3 204.0 Q 701.4 204.0, 700.4 205.2 Q 699.4 206.4, 699.4 208.8 Q 699.4 211.3, 700.4 212.5 Q 701.4 213.8, 703.3 213.8 \" fill=\"#FF0000\"/>\n",
       "<path class=\"atom-12\" d=\"M 710.8 202.7 L 712.5 202.7 L 712.5 207.9 L 718.7 207.9 L 718.7 202.7 L 720.4 202.7 L 720.4 215.0 L 718.7 215.0 L 718.7 209.3 L 712.5 209.3 L 712.5 215.0 L 710.8 215.0 L 710.8 202.7 \" fill=\"#FF0000\"/>\n",
       "<path d=\"M 417.0,150.0 L 483.0,150.0\" style=\"fill:none;fill-rule:evenodd;stroke:#000000;stroke-width:2.0px;stroke-linecap:butt;stroke-linejoin:miter;stroke-opacity:1\"/>\n",
       "<path d=\"M 483.0,150.0 L 478.0,152.9\" style=\"fill:none;fill-rule:evenodd;stroke:#000000;stroke-width:2.0px;stroke-linecap:butt;stroke-linejoin:miter;stroke-opacity:1\"/>\n",
       "<path d=\"M 483.0,150.0 L 478.0,147.1\" style=\"fill:none;fill-rule:evenodd;stroke:#000000;stroke-width:2.0px;stroke-linecap:butt;stroke-linejoin:miter;stroke-opacity:1\"/>\n",
       "</svg>"
      ],
      "text/plain": [
       "<IPython.core.display.SVG object>"
      ]
     },
     "metadata": {},
     "output_type": "display_data"
    },
    {
     "name": "stdout",
     "output_type": "stream",
     "text": [
      "--------------------------------------------\n",
      "\n",
      "\n",
      "\n"
     ]
    }
   ],
   "source": [
    "# visualize the unique predicted reactions and compare to \"ground truth\"\n",
    "for idx, (key, sequence) in enumerate(predictions[1].items()):\n",
    "    print(\"Sequence \" + str(idx))\n",
    "    print(f\"Similarity Scores: Overall: {sequence['overall_similarity']},Candidate Reactants: {sequence['candidate_similarity']}, Product: {sequence['product_similarity']}\")\n",
    "    print(f\"Reaction Class: {sequence['rxn_class']}\")\n",
    "    print(f\"Predicted Reaction: {sequence['predicted_reaction_smiles']}\")\n",
    "    print(f\"Template Applied: {training_data[key]['canonical_template']}\")\n",
    "    print(f\"Patent ID: {training_data[key]['patent_id']}\")\n",
    "\n",
    "    ground_truth_reactant_smiles = remove_atom_mapping(sequence[\"ground_truth_reactant_smiles\"])\n",
    "    \n",
    "    predicted_candidate_smile = remove_atom_mapping(sequence[\"predicted_candidate_smiles\"])\n",
    "    \n",
    "    # ANSI escape codes for colors\n",
    "    NEON_GREEN = \"\\033[92m\"\n",
    "    RED = \"\\033[91m\"\n",
    "    RESET = \"\\033[0m\"\n",
    "\n",
    "    if predicted_candidate_smile == ground_truth_reactant_smiles:\n",
    "       print(f\"{NEON_GREEN}Ground Truth Equals Prediction{RESET}\")\n",
    "    else:\n",
    "       print(f\"{RED}Ground Truth Does Not Equal Prediction{RESET}\")\n",
    "\n",
    "    # Draw reaction with RDKit using rdMolDraw2D module\n",
    "    rxn_smiles = sequence['predicted_reaction_smiles']\n",
    "    rxn = rdChemReactions.ReactionFromSmarts(rxn_smiles, useSmiles=True)\n",
    "    rdChemReactions.SanitizeRxn(rxn)\n",
    "    drawer = rdMolDraw2D.MolDraw2DSVG(900, 300)\n",
    "    drawer.drawOptions().addStereoAnnotation = False\n",
    "    drawer.DrawReaction(rxn, highlightByReactant=False)\n",
    "    drawer.FinishDrawing()\n",
    "    display(SVG(drawer.GetDrawingText()))\n",
    "\n",
    "    print('--------------------------------------------\\n\\n\\n')\n",
    "    if idx >= 15:\n",
    "        break"
   ]
  },
  {
   "cell_type": "code",
   "execution_count": 53,
   "metadata": {},
   "outputs": [],
   "source": [
    "# Process all testing data targets! (predict 9650 reactions)\n",
    "# This takes about 5 minutes on my workstation using 12 CPUs\n",
    "\n",
    "if __name__ == \"__main__\":\n",
    "    multiprocessing.set_start_method('fork', force=True)\n",
    "\n",
    "    items = list(testing_data.items())\n",
    "\n",
    "    with concurrent.futures.ProcessPoolExecutor(max_workers=max_cpus) as executor:\n",
    "        results = list(executor.map(reaction_prediction, testing_data.items()))"
   ]
  },
  {
   "cell_type": "code",
   "execution_count": 54,
   "metadata": {},
   "outputs": [
    {
     "data": {
      "text/plain": [
       "(8270,\n",
       " {'rxn_class': '1',\n",
       "  'patent_id': 'US07893058B2',\n",
       "  'rxn_smiles_mapping_name': 'Br[c:1]1[cH:2][n:3][c:4]([N:5]([C:6]([O:7][C:8]([CH3:9])([CH3:10])[CH3:11])=[O:12])[c:13]2[cH:14][cH:15][c:16]([N:17]3[CH2:18][CH2:19][O:20][CH2:21][CH2:22]3)[cH:23][cH:24]2)[c:25]2[n:26]1[cH:27][cH:28][n:29]2.C1CCOC1.CC(C)[Mg+].Cl[Sn:30]([CH2:31][CH2:32][CH2:33][CH3:34])([CH2:35][CH2:36][CH2:37][CH3:38])[CH2:39][CH2:40][CH2:41][CH3:42].[Cl-]>>[c:1]1([Sn:30]([CH2:31][CH2:32][CH2:33][CH3:34])([CH2:35][CH2:36][CH2:37][CH3:38])[CH2:39][CH2:40][CH2:41][CH3:42])[cH:2][n:3][c:4]([N:5]([C:6]([O:7][C:8]([CH3:9])([CH3:10])[CH3:11])=[O:12])[c:13]2[cH:14][cH:15][c:16]([N:17]3[CH2:18][CH2:19][O:20][CH2:21][CH2:22]3)[cH:23][cH:24]2)[c:25]2[n:26]1[cH:27][cH:28][n:29]2',\n",
       "  'standardized_rxn': 'Br[c:1]1[cH:2][n:3][c:4]([N:5]([C:6]([O:7][C:8]([CH3:9])([CH3:10])[CH3:11])=[O:12])[c:13]2[cH:14][cH:15][c:16]([N:17]3[CH2:18][CH2:19][O:20][CH2:21][CH2:22]3)[cH:23][cH:24]2)[c:25]2[n:26]1[cH:27][cH:28][n:29]2.Cl[Sn:30]([CH2:31][CH2:32][CH2:33][CH3:34])([CH2:35][CH2:36][CH2:37][CH3:38])[CH2:39][CH2:40][CH2:41][CH3:42]>>[c:1]1([Sn:30]([CH2:31][CH2:32][CH2:33][CH3:34])([CH2:35][CH2:36][CH2:37][CH3:38])[CH2:39][CH2:40][CH2:41][CH3:42])[cH:2][n:3][c:4]([N:5]([C:6]([O:7][C:8]([CH3:9])([CH3:10])[CH3:11])=[O:12])[c:13]2[cH:14][cH:15][c:16]([N:17]3[CH2:18][CH2:19][O:20][CH2:21][CH2:22]3)[cH:23][cH:24]2)[c:25]2[n:26]1[cH:27][cH:28][n:29]2',\n",
       "  'reactant_fingerprint': <rdkit.DataStructs.cDataStructs.UIntSparseIntVect at 0x7b99ad2b3560>,\n",
       "  'product_fingerprint': <rdkit.DataStructs.cDataStructs.UIntSparseIntVect at 0x7b99ad2b3a10>,\n",
       "  'reactant_smiles': 'Br[c:1]1[cH:2][n:3][c:4]([N:5]([C:6]([O:7][C:8]([CH3:9])([CH3:10])[CH3:11])=[O:12])[c:13]2[cH:14][cH:15][c:16]([N:17]3[CH2:18][CH2:19][O:20][CH2:21][CH2:22]3)[cH:23][cH:24]2)[c:25]2[n:26]1[cH:27][cH:28][n:29]2.Cl[Sn:30]([CH2:31][CH2:32][CH2:33][CH3:34])([CH2:35][CH2:36][CH2:37][CH3:38])[CH2:39][CH2:40][CH2:41][CH3:42]',\n",
       "  'product_smiles': '[c:1]1([Sn:30]([CH2:31][CH2:32][CH2:33][CH3:34])([CH2:35][CH2:36][CH2:37][CH3:38])[CH2:39][CH2:40][CH2:41][CH3:42])[cH:2][n:3][c:4]([N:5]([C:6]([O:7][C:8]([CH3:9])([CH3:10])[CH3:11])=[O:12])[c:13]2[cH:14][cH:15][c:16]([N:17]3[CH2:18][CH2:19][O:20][CH2:21][CH2:22]3)[cH:23][cH:24]2)[c:25]2[n:26]1[cH:27][cH:28][n:29]2'})"
      ]
     },
     "execution_count": 54,
     "metadata": {},
     "output_type": "execute_result"
    }
   ],
   "source": [
    "# look at one of the targets\n",
    "list(testing_data.items())[5]"
   ]
  },
  {
   "cell_type": "code",
   "execution_count": 55,
   "metadata": {},
   "outputs": [],
   "source": [
    "prediction_8270 = results[5]"
   ]
  },
  {
   "cell_type": "code",
   "execution_count": 56,
   "metadata": {},
   "outputs": [
    {
     "data": {
      "text/plain": [
       "{46191: {'template_applied': '[N;D3;H0;+0:5](-[c;D3;H0;+0:1](:[c:2]):[c:3])(-[C:4])-[C:6]>>[F]-[c;D3;H0;+0:1](:[c:2]):[c:3].[N;H1;D2;+0:5](-[C:4])-[C:6]',\n",
       "  'predicted_candidate_smiles': 'C1COCCN1.CCCC[Sn](CCCC)(CCCC)c1cnc(N(C(=O)OC(C)(C)C)c2ccc(F)cc2)c2nccn12',\n",
       "  'ground_truth_reactant_smiles': 'Br[c:1]1[cH:2][n:3][c:4]([N:5]([C:6]([O:7][C:8]([CH3:9])([CH3:10])[CH3:11])=[O:12])[c:13]2[cH:14][cH:15][c:16]([N:17]3[CH2:18][CH2:19][O:20][CH2:21][CH2:22]3)[cH:23][cH:24]2)[c:25]2[n:26]1[cH:27][cH:28][n:29]2.Cl[Sn:30]([CH2:31][CH2:32][CH2:33][CH3:34])([CH2:35][CH2:36][CH2:37][CH3:38])[CH2:39][CH2:40][CH2:41][CH3:42]',\n",
       "  'ground_truth_product_smiles': '[c:1]1([Sn:30]([CH2:31][CH2:32][CH2:33][CH3:34])([CH2:35][CH2:36][CH2:37][CH3:38])[CH2:39][CH2:40][CH2:41][CH3:42])[cH:2][n:3][c:4]([N:5]([C:6]([O:7][C:8]([CH3:9])([CH3:10])[CH3:11])=[O:12])[c:13]2[cH:14][cH:15][c:16]([N:17]3[CH2:18][CH2:19][O:20][CH2:21][CH2:22]3)[cH:23][cH:24]2)[c:25]2[n:26]1[cH:27][cH:28][n:29]2',\n",
       "  'predicted_reaction_smiles': 'C1COCCN1.CCCC[Sn](CCCC)(CCCC)c1cnc(N(C(=O)OC(C)(C)C)c2ccc(F)cc2)c2nccn12>>CCCC[Sn](CCCC)(CCCC)c1cnc(N(C(=O)OC(C)(C)C)c2ccc(N3CCOCC3)cc2)c2nccn12',\n",
       "  'overall_similarity': 0.20824324324324325,\n",
       "  'candidate_similarity': 0.46,\n",
       "  'product_similarity': 0.4527027027027027,\n",
       "  'rxn_class': '1',\n",
       "  'failed_rxn': False,\n",
       "  'duplicate_rxn': False},\n",
       " 2661: {'template_applied': '[N;D3;H0;+0:5](-[c:6])(-[C;H2;D2;+0:1]-[C:2])-[C;H2;D2;+0:3]-[C:4]>>[Cl]-[C;H2;D2;+0:1]-[C:2].[Cl]-[C;H2;D2;+0:3]-[C:4].[N;H2;D1;+0:5]-[c:6]',\n",
       "  'predicted_candidate_smiles': 'CCCC[Sn](CCCC)(CCCC)c1cnc(N(C(=O)OC(C)(C)C)c2ccc(N)cc2)c2nccn12.ClCCOCCCl',\n",
       "  'ground_truth_reactant_smiles': 'Br[c:1]1[cH:2][n:3][c:4]([N:5]([C:6]([O:7][C:8]([CH3:9])([CH3:10])[CH3:11])=[O:12])[c:13]2[cH:14][cH:15][c:16]([N:17]3[CH2:18][CH2:19][O:20][CH2:21][CH2:22]3)[cH:23][cH:24]2)[c:25]2[n:26]1[cH:27][cH:28][n:29]2.Cl[Sn:30]([CH2:31][CH2:32][CH2:33][CH3:34])([CH2:35][CH2:36][CH2:37][CH3:38])[CH2:39][CH2:40][CH2:41][CH3:42]',\n",
       "  'ground_truth_product_smiles': '[c:1]1([Sn:30]([CH2:31][CH2:32][CH2:33][CH3:34])([CH2:35][CH2:36][CH2:37][CH3:38])[CH2:39][CH2:40][CH2:41][CH3:42])[cH:2][n:3][c:4]([N:5]([C:6]([O:7][C:8]([CH3:9])([CH3:10])[CH3:11])=[O:12])[c:13]2[cH:14][cH:15][c:16]([N:17]3[CH2:18][CH2:19][O:20][CH2:21][CH2:22]3)[cH:23][cH:24]2)[c:25]2[n:26]1[cH:27][cH:28][n:29]2',\n",
       "  'predicted_reaction_smiles': 'CCCC[Sn](CCCC)(CCCC)c1cnc(N(C(=O)OC(C)(C)C)c2ccc(N)cc2)c2nccn12.ClCCOCCCl>>CCCC[Sn](CCCC)(CCCC)c1cnc(N(C(=O)OC(C)(C)C)c2ccc(N3CCOCC3)cc2)c2nccn12',\n",
       "  'overall_similarity': 0.1996856646538175,\n",
       "  'candidate_similarity': 0.45222929936305734,\n",
       "  'product_similarity': 0.44155844155844154,\n",
       "  'rxn_class': '1',\n",
       "  'failed_rxn': False,\n",
       "  'duplicate_rxn': False},\n",
       " 21498: {'template_applied': '[N;D3;H0;+0:5](-[c;D3;H0;+0:1](:[c:2]):[c:3])(-[C:4])-[C:6]>>[Cl]-[c;D3;H0;+0:1](:[c:2]):[c:3].[N;H1;D2;+0:5](-[C:4])-[C:6]',\n",
       "  'predicted_candidate_smiles': 'C1COCCN1.CCCC[Sn](CCCC)(CCCC)c1cnc(N(C(=O)OC(C)(C)C)c2ccc(Cl)cc2)c2nccn12',\n",
       "  'ground_truth_reactant_smiles': 'Br[c:1]1[cH:2][n:3][c:4]([N:5]([C:6]([O:7][C:8]([CH3:9])([CH3:10])[CH3:11])=[O:12])[c:13]2[cH:14][cH:15][c:16]([N:17]3[CH2:18][CH2:19][O:20][CH2:21][CH2:22]3)[cH:23][cH:24]2)[c:25]2[n:26]1[cH:27][cH:28][n:29]2.Cl[Sn:30]([CH2:31][CH2:32][CH2:33][CH3:34])([CH2:35][CH2:36][CH2:37][CH3:38])[CH2:39][CH2:40][CH2:41][CH3:42]',\n",
       "  'ground_truth_product_smiles': '[c:1]1([Sn:30]([CH2:31][CH2:32][CH2:33][CH3:34])([CH2:35][CH2:36][CH2:37][CH3:38])[CH2:39][CH2:40][CH2:41][CH3:42])[cH:2][n:3][c:4]([N:5]([C:6]([O:7][C:8]([CH3:9])([CH3:10])[CH3:11])=[O:12])[c:13]2[cH:14][cH:15][c:16]([N:17]3[CH2:18][CH2:19][O:20][CH2:21][CH2:22]3)[cH:23][cH:24]2)[c:25]2[n:26]1[cH:27][cH:28][n:29]2',\n",
       "  'predicted_reaction_smiles': 'C1COCCN1.CCCC[Sn](CCCC)(CCCC)c1cnc(N(C(=O)OC(C)(C)C)c2ccc(Cl)cc2)c2nccn12>>CCCC[Sn](CCCC)(CCCC)c1cnc(N(C(=O)OC(C)(C)C)c2ccc(N3CCOCC3)cc2)c2nccn12',\n",
       "  'overall_similarity': 0.18116239784504407,\n",
       "  'candidate_similarity': 0.42953020134228187,\n",
       "  'product_similarity': 0.4217687074829932,\n",
       "  'rxn_class': '1',\n",
       "  'failed_rxn': False,\n",
       "  'duplicate_rxn': False},\n",
       " 44711: {'template_applied': '[#50;D4;H0;+0:5](-[c;D3;H0;+0:1](:[#7;a:2]):[c:3]:[#7;a:4])(-[C:6])(-[C:7])-[C:8]>>[#50;D4;H0;+0:5](-[Cl])(-[C:6])(-[C:7])-[C:8].[Br]-[c;D3;H0;+0:1](:[#7;a:2]):[c:3]:[#7;a:4]',\n",
       "  'predicted_candidate_smiles': 'CC(C)(C)OC(=O)N(c1ccc(N2CCOCC2)cc1)c1ncc(Br)n2ccnc12.CCCC[Sn](Cl)(CCCC)CCCC',\n",
       "  'ground_truth_reactant_smiles': 'Br[c:1]1[cH:2][n:3][c:4]([N:5]([C:6]([O:7][C:8]([CH3:9])([CH3:10])[CH3:11])=[O:12])[c:13]2[cH:14][cH:15][c:16]([N:17]3[CH2:18][CH2:19][O:20][CH2:21][CH2:22]3)[cH:23][cH:24]2)[c:25]2[n:26]1[cH:27][cH:28][n:29]2.Cl[Sn:30]([CH2:31][CH2:32][CH2:33][CH3:34])([CH2:35][CH2:36][CH2:37][CH3:38])[CH2:39][CH2:40][CH2:41][CH3:42]',\n",
       "  'ground_truth_product_smiles': '[c:1]1([Sn:30]([CH2:31][CH2:32][CH2:33][CH3:34])([CH2:35][CH2:36][CH2:37][CH3:38])[CH2:39][CH2:40][CH2:41][CH3:42])[cH:2][n:3][c:4]([N:5]([C:6]([O:7][C:8]([CH3:9])([CH3:10])[CH3:11])=[O:12])[c:13]2[cH:14][cH:15][c:16]([N:17]3[CH2:18][CH2:19][O:20][CH2:21][CH2:22]3)[cH:23][cH:24]2)[c:25]2[n:26]1[cH:27][cH:28][n:29]2',\n",
       "  'predicted_reaction_smiles': 'CC(C)(C)OC(=O)N(c1ccc(N2CCOCC2)cc1)c1ncc(Br)n2ccnc12.CCCC[Sn](Cl)(CCCC)CCCC>>CCCC[Sn](CCCC)(CCCC)c1cnc(N(C(=O)OC(C)(C)C)c2ccc(N3CCOCC3)cc2)c2nccn12',\n",
       "  'overall_similarity': 0.17905675459632292,\n",
       "  'candidate_similarity': 0.4316546762589928,\n",
       "  'product_similarity': 0.4148148148148148,\n",
       "  'rxn_class': '1',\n",
       "  'failed_rxn': False,\n",
       "  'duplicate_rxn': False},\n",
       " 2597: {'template_applied': '[N;D3;H0;+0:5](-[c;D3;H0;+0:1](:[c:2]):[c:3])(-[C:4])-[C:6]>>[Br]-[c;D3;H0;+0:1](:[c:2]):[c:3].[N;H1;D2;+0:5](-[C:4])-[C:6]',\n",
       "  'predicted_candidate_smiles': 'C1COCCN1.CCCC[Sn](CCCC)(CCCC)c1cnc(N(C(=O)OC(C)(C)C)c2ccc(Br)cc2)c2nccn12',\n",
       "  'ground_truth_reactant_smiles': 'Br[c:1]1[cH:2][n:3][c:4]([N:5]([C:6]([O:7][C:8]([CH3:9])([CH3:10])[CH3:11])=[O:12])[c:13]2[cH:14][cH:15][c:16]([N:17]3[CH2:18][CH2:19][O:20][CH2:21][CH2:22]3)[cH:23][cH:24]2)[c:25]2[n:26]1[cH:27][cH:28][n:29]2.Cl[Sn:30]([CH2:31][CH2:32][CH2:33][CH3:34])([CH2:35][CH2:36][CH2:37][CH3:38])[CH2:39][CH2:40][CH2:41][CH3:42]',\n",
       "  'ground_truth_product_smiles': '[c:1]1([Sn:30]([CH2:31][CH2:32][CH2:33][CH3:34])([CH2:35][CH2:36][CH2:37][CH3:38])[CH2:39][CH2:40][CH2:41][CH3:42])[cH:2][n:3][c:4]([N:5]([C:6]([O:7][C:8]([CH3:9])([CH3:10])[CH3:11])=[O:12])[c:13]2[cH:14][cH:15][c:16]([N:17]3[CH2:18][CH2:19][O:20][CH2:21][CH2:22]3)[cH:23][cH:24]2)[c:25]2[n:26]1[cH:27][cH:28][n:29]2',\n",
       "  'predicted_reaction_smiles': 'C1COCCN1.CCCC[Sn](CCCC)(CCCC)c1cnc(N(C(=O)OC(C)(C)C)c2ccc(Br)cc2)c2nccn12>>CCCC[Sn](CCCC)(CCCC)c1cnc(N(C(=O)OC(C)(C)C)c2ccc(N3CCOCC3)cc2)c2nccn12',\n",
       "  'overall_similarity': 0.1761612620508326,\n",
       "  'candidate_similarity': 0.4233128834355828,\n",
       "  'product_similarity': 0.4161490683229814,\n",
       "  'rxn_class': '1',\n",
       "  'failed_rxn': False,\n",
       "  'duplicate_rxn': False},\n",
       " 46572: {'template_applied': '[N;D3;H0;+0:4](-[c:5])(-[C:3])-[C;H2;D2;+0:1]-[C:2]>>[N;H1;D2;+0:4](-[c:5])-[C:3].[O]=[C;H1;D2;+0:1]-[C:2]',\n",
       "  'predicted_candidate_smiles': 'CCCC[Sn](CCCC)(CCCC)c1cnc(N(C(=O)OC(C)(C)C)c2ccc(NCCOCC=O)cc2)c2nccn12',\n",
       "  'ground_truth_reactant_smiles': 'Br[c:1]1[cH:2][n:3][c:4]([N:5]([C:6]([O:7][C:8]([CH3:9])([CH3:10])[CH3:11])=[O:12])[c:13]2[cH:14][cH:15][c:16]([N:17]3[CH2:18][CH2:19][O:20][CH2:21][CH2:22]3)[cH:23][cH:24]2)[c:25]2[n:26]1[cH:27][cH:28][n:29]2.Cl[Sn:30]([CH2:31][CH2:32][CH2:33][CH3:34])([CH2:35][CH2:36][CH2:37][CH3:38])[CH2:39][CH2:40][CH2:41][CH3:42]',\n",
       "  'ground_truth_product_smiles': '[c:1]1([Sn:30]([CH2:31][CH2:32][CH2:33][CH3:34])([CH2:35][CH2:36][CH2:37][CH3:38])[CH2:39][CH2:40][CH2:41][CH3:42])[cH:2][n:3][c:4]([N:5]([C:6]([O:7][C:8]([CH3:9])([CH3:10])[CH3:11])=[O:12])[c:13]2[cH:14][cH:15][c:16]([N:17]3[CH2:18][CH2:19][O:20][CH2:21][CH2:22]3)[cH:23][cH:24]2)[c:25]2[n:26]1[cH:27][cH:28][n:29]2',\n",
       "  'predicted_reaction_smiles': 'CCCC[Sn](CCCC)(CCCC)c1cnc(N(C(=O)OC(C)(C)C)c2ccc(NCCOCC=O)cc2)c2nccn12>>CCCC[Sn](CCCC)(CCCC)c1cnc(N(C(=O)OC(C)(C)C)c2ccc(N3CCOCC3)cc2)c2nccn12',\n",
       "  'overall_similarity': 0.17403508771929824,\n",
       "  'candidate_similarity': 0.42105263157894735,\n",
       "  'product_similarity': 0.41333333333333333,\n",
       "  'rxn_class': '1',\n",
       "  'failed_rxn': False,\n",
       "  'duplicate_rxn': False},\n",
       " 10997: {'template_applied': '[#50;D4;H0;+0:1](-[c;D3;H0;+0:5](:[#7;a:6]):[c:7])(-[C:2])(-[C:3])-[C:4]>>[#50;D4;H0;+0:1](-[Cl])(-[C:2])(-[C:3])-[C:4].[I]-[c;D3;H0;+0:5](:[#7;a:6]):[c:7]',\n",
       "  'predicted_candidate_smiles': 'CC(C)(C)OC(=O)N(c1ccc(N2CCOCC2)cc1)c1ncc(I)n2ccnc12.CCCC[Sn](Cl)(CCCC)CCCC',\n",
       "  'ground_truth_reactant_smiles': 'Br[c:1]1[cH:2][n:3][c:4]([N:5]([C:6]([O:7][C:8]([CH3:9])([CH3:10])[CH3:11])=[O:12])[c:13]2[cH:14][cH:15][c:16]([N:17]3[CH2:18][CH2:19][O:20][CH2:21][CH2:22]3)[cH:23][cH:24]2)[c:25]2[n:26]1[cH:27][cH:28][n:29]2.Cl[Sn:30]([CH2:31][CH2:32][CH2:33][CH3:34])([CH2:35][CH2:36][CH2:37][CH3:38])[CH2:39][CH2:40][CH2:41][CH3:42]',\n",
       "  'ground_truth_product_smiles': '[c:1]1([Sn:30]([CH2:31][CH2:32][CH2:33][CH3:34])([CH2:35][CH2:36][CH2:37][CH3:38])[CH2:39][CH2:40][CH2:41][CH3:42])[cH:2][n:3][c:4]([N:5]([C:6]([O:7][C:8]([CH3:9])([CH3:10])[CH3:11])=[O:12])[c:13]2[cH:14][cH:15][c:16]([N:17]3[CH2:18][CH2:19][O:20][CH2:21][CH2:22]3)[cH:23][cH:24]2)[c:25]2[n:26]1[cH:27][cH:28][n:29]2',\n",
       "  'predicted_reaction_smiles': 'CC(C)(C)OC(=O)N(c1ccc(N2CCOCC2)cc1)c1ncc(I)n2ccnc12.CCCC[Sn](Cl)(CCCC)CCCC>>CCCC[Sn](CCCC)(CCCC)c1cnc(N(C(=O)OC(C)(C)C)c2ccc(N3CCOCC3)cc2)c2nccn12',\n",
       "  'overall_similarity': 0.1691168091168091,\n",
       "  'candidate_similarity': 0.4148148148148148,\n",
       "  'product_similarity': 0.4076923076923077,\n",
       "  'rxn_class': '1',\n",
       "  'failed_rxn': False,\n",
       "  'duplicate_rxn': False}}"
      ]
     },
     "execution_count": 56,
     "metadata": {},
     "output_type": "execute_result"
    }
   ],
   "source": [
    "# The succesful and unique predictions are at the 1st position\n",
    "prediction_8270[1]"
   ]
  },
  {
   "cell_type": "code",
   "execution_count": 57,
   "metadata": {},
   "outputs": [],
   "source": [
    "# Failed and duplicates at second position\n",
    "# prediction_8270[2]"
   ]
  },
  {
   "cell_type": "code",
   "execution_count": 58,
   "metadata": {},
   "outputs": [
    {
     "name": "stdout",
     "output_type": "stream",
     "text": [
      "Number of rxns in prediction list: 9607\n",
      "Number of entries in failed_and_duplicates: 9650\n"
     ]
    }
   ],
   "source": [
    "# Collect results and get number of predicted rxns\n",
    "\n",
    "prediction_data = {}\n",
    "failed_and_duplicates_data = {}\n",
    "for key, result, fails in results:\n",
    "    if result is not None:\n",
    "        prediction_data[key] = result\n",
    "    if fails is not None:\n",
    "        failed_and_duplicates_data[key] = fails\n",
    "\n",
    "\n",
    "print(f\"Number of rxns in prediction list: {len(prediction_data)}\")\n",
    "print(f\"Number of entries in failed_and_duplicates: {len(failed_and_duplicates_data)}\")"
   ]
  },
  {
   "cell_type": "code",
   "execution_count": 59,
   "metadata": {},
   "outputs": [
    {
     "data": {
      "text/plain": [
       "{46191: {'template_applied': '[N;D3;H0;+0:5](-[c;D3;H0;+0:1](:[c:2]):[c:3])(-[C:4])-[C:6]>>[F]-[c;D3;H0;+0:1](:[c:2]):[c:3].[N;H1;D2;+0:5](-[C:4])-[C:6]',\n",
       "  'predicted_candidate_smiles': 'C1COCCN1.CCCC[Sn](CCCC)(CCCC)c1cnc(N(C(=O)OC(C)(C)C)c2ccc(F)cc2)c2nccn12',\n",
       "  'ground_truth_reactant_smiles': 'Br[c:1]1[cH:2][n:3][c:4]([N:5]([C:6]([O:7][C:8]([CH3:9])([CH3:10])[CH3:11])=[O:12])[c:13]2[cH:14][cH:15][c:16]([N:17]3[CH2:18][CH2:19][O:20][CH2:21][CH2:22]3)[cH:23][cH:24]2)[c:25]2[n:26]1[cH:27][cH:28][n:29]2.Cl[Sn:30]([CH2:31][CH2:32][CH2:33][CH3:34])([CH2:35][CH2:36][CH2:37][CH3:38])[CH2:39][CH2:40][CH2:41][CH3:42]',\n",
       "  'ground_truth_product_smiles': '[c:1]1([Sn:30]([CH2:31][CH2:32][CH2:33][CH3:34])([CH2:35][CH2:36][CH2:37][CH3:38])[CH2:39][CH2:40][CH2:41][CH3:42])[cH:2][n:3][c:4]([N:5]([C:6]([O:7][C:8]([CH3:9])([CH3:10])[CH3:11])=[O:12])[c:13]2[cH:14][cH:15][c:16]([N:17]3[CH2:18][CH2:19][O:20][CH2:21][CH2:22]3)[cH:23][cH:24]2)[c:25]2[n:26]1[cH:27][cH:28][n:29]2',\n",
       "  'predicted_reaction_smiles': 'C1COCCN1.CCCC[Sn](CCCC)(CCCC)c1cnc(N(C(=O)OC(C)(C)C)c2ccc(F)cc2)c2nccn12>>CCCC[Sn](CCCC)(CCCC)c1cnc(N(C(=O)OC(C)(C)C)c2ccc(N3CCOCC3)cc2)c2nccn12',\n",
       "  'overall_similarity': 0.20824324324324325,\n",
       "  'candidate_similarity': 0.46,\n",
       "  'product_similarity': 0.4527027027027027,\n",
       "  'rxn_class': '1',\n",
       "  'failed_rxn': False,\n",
       "  'duplicate_rxn': False},\n",
       " 2661: {'template_applied': '[N;D3;H0;+0:5](-[c:6])(-[C;H2;D2;+0:1]-[C:2])-[C;H2;D2;+0:3]-[C:4]>>[Cl]-[C;H2;D2;+0:1]-[C:2].[Cl]-[C;H2;D2;+0:3]-[C:4].[N;H2;D1;+0:5]-[c:6]',\n",
       "  'predicted_candidate_smiles': 'CCCC[Sn](CCCC)(CCCC)c1cnc(N(C(=O)OC(C)(C)C)c2ccc(N)cc2)c2nccn12.ClCCOCCCl',\n",
       "  'ground_truth_reactant_smiles': 'Br[c:1]1[cH:2][n:3][c:4]([N:5]([C:6]([O:7][C:8]([CH3:9])([CH3:10])[CH3:11])=[O:12])[c:13]2[cH:14][cH:15][c:16]([N:17]3[CH2:18][CH2:19][O:20][CH2:21][CH2:22]3)[cH:23][cH:24]2)[c:25]2[n:26]1[cH:27][cH:28][n:29]2.Cl[Sn:30]([CH2:31][CH2:32][CH2:33][CH3:34])([CH2:35][CH2:36][CH2:37][CH3:38])[CH2:39][CH2:40][CH2:41][CH3:42]',\n",
       "  'ground_truth_product_smiles': '[c:1]1([Sn:30]([CH2:31][CH2:32][CH2:33][CH3:34])([CH2:35][CH2:36][CH2:37][CH3:38])[CH2:39][CH2:40][CH2:41][CH3:42])[cH:2][n:3][c:4]([N:5]([C:6]([O:7][C:8]([CH3:9])([CH3:10])[CH3:11])=[O:12])[c:13]2[cH:14][cH:15][c:16]([N:17]3[CH2:18][CH2:19][O:20][CH2:21][CH2:22]3)[cH:23][cH:24]2)[c:25]2[n:26]1[cH:27][cH:28][n:29]2',\n",
       "  'predicted_reaction_smiles': 'CCCC[Sn](CCCC)(CCCC)c1cnc(N(C(=O)OC(C)(C)C)c2ccc(N)cc2)c2nccn12.ClCCOCCCl>>CCCC[Sn](CCCC)(CCCC)c1cnc(N(C(=O)OC(C)(C)C)c2ccc(N3CCOCC3)cc2)c2nccn12',\n",
       "  'overall_similarity': 0.1996856646538175,\n",
       "  'candidate_similarity': 0.45222929936305734,\n",
       "  'product_similarity': 0.44155844155844154,\n",
       "  'rxn_class': '1',\n",
       "  'failed_rxn': False,\n",
       "  'duplicate_rxn': False},\n",
       " 21498: {'template_applied': '[N;D3;H0;+0:5](-[c;D3;H0;+0:1](:[c:2]):[c:3])(-[C:4])-[C:6]>>[Cl]-[c;D3;H0;+0:1](:[c:2]):[c:3].[N;H1;D2;+0:5](-[C:4])-[C:6]',\n",
       "  'predicted_candidate_smiles': 'C1COCCN1.CCCC[Sn](CCCC)(CCCC)c1cnc(N(C(=O)OC(C)(C)C)c2ccc(Cl)cc2)c2nccn12',\n",
       "  'ground_truth_reactant_smiles': 'Br[c:1]1[cH:2][n:3][c:4]([N:5]([C:6]([O:7][C:8]([CH3:9])([CH3:10])[CH3:11])=[O:12])[c:13]2[cH:14][cH:15][c:16]([N:17]3[CH2:18][CH2:19][O:20][CH2:21][CH2:22]3)[cH:23][cH:24]2)[c:25]2[n:26]1[cH:27][cH:28][n:29]2.Cl[Sn:30]([CH2:31][CH2:32][CH2:33][CH3:34])([CH2:35][CH2:36][CH2:37][CH3:38])[CH2:39][CH2:40][CH2:41][CH3:42]',\n",
       "  'ground_truth_product_smiles': '[c:1]1([Sn:30]([CH2:31][CH2:32][CH2:33][CH3:34])([CH2:35][CH2:36][CH2:37][CH3:38])[CH2:39][CH2:40][CH2:41][CH3:42])[cH:2][n:3][c:4]([N:5]([C:6]([O:7][C:8]([CH3:9])([CH3:10])[CH3:11])=[O:12])[c:13]2[cH:14][cH:15][c:16]([N:17]3[CH2:18][CH2:19][O:20][CH2:21][CH2:22]3)[cH:23][cH:24]2)[c:25]2[n:26]1[cH:27][cH:28][n:29]2',\n",
       "  'predicted_reaction_smiles': 'C1COCCN1.CCCC[Sn](CCCC)(CCCC)c1cnc(N(C(=O)OC(C)(C)C)c2ccc(Cl)cc2)c2nccn12>>CCCC[Sn](CCCC)(CCCC)c1cnc(N(C(=O)OC(C)(C)C)c2ccc(N3CCOCC3)cc2)c2nccn12',\n",
       "  'overall_similarity': 0.18116239784504407,\n",
       "  'candidate_similarity': 0.42953020134228187,\n",
       "  'product_similarity': 0.4217687074829932,\n",
       "  'rxn_class': '1',\n",
       "  'failed_rxn': False,\n",
       "  'duplicate_rxn': False},\n",
       " 44711: {'template_applied': '[#50;D4;H0;+0:5](-[c;D3;H0;+0:1](:[#7;a:2]):[c:3]:[#7;a:4])(-[C:6])(-[C:7])-[C:8]>>[#50;D4;H0;+0:5](-[Cl])(-[C:6])(-[C:7])-[C:8].[Br]-[c;D3;H0;+0:1](:[#7;a:2]):[c:3]:[#7;a:4]',\n",
       "  'predicted_candidate_smiles': 'CC(C)(C)OC(=O)N(c1ccc(N2CCOCC2)cc1)c1ncc(Br)n2ccnc12.CCCC[Sn](Cl)(CCCC)CCCC',\n",
       "  'ground_truth_reactant_smiles': 'Br[c:1]1[cH:2][n:3][c:4]([N:5]([C:6]([O:7][C:8]([CH3:9])([CH3:10])[CH3:11])=[O:12])[c:13]2[cH:14][cH:15][c:16]([N:17]3[CH2:18][CH2:19][O:20][CH2:21][CH2:22]3)[cH:23][cH:24]2)[c:25]2[n:26]1[cH:27][cH:28][n:29]2.Cl[Sn:30]([CH2:31][CH2:32][CH2:33][CH3:34])([CH2:35][CH2:36][CH2:37][CH3:38])[CH2:39][CH2:40][CH2:41][CH3:42]',\n",
       "  'ground_truth_product_smiles': '[c:1]1([Sn:30]([CH2:31][CH2:32][CH2:33][CH3:34])([CH2:35][CH2:36][CH2:37][CH3:38])[CH2:39][CH2:40][CH2:41][CH3:42])[cH:2][n:3][c:4]([N:5]([C:6]([O:7][C:8]([CH3:9])([CH3:10])[CH3:11])=[O:12])[c:13]2[cH:14][cH:15][c:16]([N:17]3[CH2:18][CH2:19][O:20][CH2:21][CH2:22]3)[cH:23][cH:24]2)[c:25]2[n:26]1[cH:27][cH:28][n:29]2',\n",
       "  'predicted_reaction_smiles': 'CC(C)(C)OC(=O)N(c1ccc(N2CCOCC2)cc1)c1ncc(Br)n2ccnc12.CCCC[Sn](Cl)(CCCC)CCCC>>CCCC[Sn](CCCC)(CCCC)c1cnc(N(C(=O)OC(C)(C)C)c2ccc(N3CCOCC3)cc2)c2nccn12',\n",
       "  'overall_similarity': 0.17905675459632292,\n",
       "  'candidate_similarity': 0.4316546762589928,\n",
       "  'product_similarity': 0.4148148148148148,\n",
       "  'rxn_class': '1',\n",
       "  'failed_rxn': False,\n",
       "  'duplicate_rxn': False},\n",
       " 2597: {'template_applied': '[N;D3;H0;+0:5](-[c;D3;H0;+0:1](:[c:2]):[c:3])(-[C:4])-[C:6]>>[Br]-[c;D3;H0;+0:1](:[c:2]):[c:3].[N;H1;D2;+0:5](-[C:4])-[C:6]',\n",
       "  'predicted_candidate_smiles': 'C1COCCN1.CCCC[Sn](CCCC)(CCCC)c1cnc(N(C(=O)OC(C)(C)C)c2ccc(Br)cc2)c2nccn12',\n",
       "  'ground_truth_reactant_smiles': 'Br[c:1]1[cH:2][n:3][c:4]([N:5]([C:6]([O:7][C:8]([CH3:9])([CH3:10])[CH3:11])=[O:12])[c:13]2[cH:14][cH:15][c:16]([N:17]3[CH2:18][CH2:19][O:20][CH2:21][CH2:22]3)[cH:23][cH:24]2)[c:25]2[n:26]1[cH:27][cH:28][n:29]2.Cl[Sn:30]([CH2:31][CH2:32][CH2:33][CH3:34])([CH2:35][CH2:36][CH2:37][CH3:38])[CH2:39][CH2:40][CH2:41][CH3:42]',\n",
       "  'ground_truth_product_smiles': '[c:1]1([Sn:30]([CH2:31][CH2:32][CH2:33][CH3:34])([CH2:35][CH2:36][CH2:37][CH3:38])[CH2:39][CH2:40][CH2:41][CH3:42])[cH:2][n:3][c:4]([N:5]([C:6]([O:7][C:8]([CH3:9])([CH3:10])[CH3:11])=[O:12])[c:13]2[cH:14][cH:15][c:16]([N:17]3[CH2:18][CH2:19][O:20][CH2:21][CH2:22]3)[cH:23][cH:24]2)[c:25]2[n:26]1[cH:27][cH:28][n:29]2',\n",
       "  'predicted_reaction_smiles': 'C1COCCN1.CCCC[Sn](CCCC)(CCCC)c1cnc(N(C(=O)OC(C)(C)C)c2ccc(Br)cc2)c2nccn12>>CCCC[Sn](CCCC)(CCCC)c1cnc(N(C(=O)OC(C)(C)C)c2ccc(N3CCOCC3)cc2)c2nccn12',\n",
       "  'overall_similarity': 0.1761612620508326,\n",
       "  'candidate_similarity': 0.4233128834355828,\n",
       "  'product_similarity': 0.4161490683229814,\n",
       "  'rxn_class': '1',\n",
       "  'failed_rxn': False,\n",
       "  'duplicate_rxn': False},\n",
       " 46572: {'template_applied': '[N;D3;H0;+0:4](-[c:5])(-[C:3])-[C;H2;D2;+0:1]-[C:2]>>[N;H1;D2;+0:4](-[c:5])-[C:3].[O]=[C;H1;D2;+0:1]-[C:2]',\n",
       "  'predicted_candidate_smiles': 'CCCC[Sn](CCCC)(CCCC)c1cnc(N(C(=O)OC(C)(C)C)c2ccc(NCCOCC=O)cc2)c2nccn12',\n",
       "  'ground_truth_reactant_smiles': 'Br[c:1]1[cH:2][n:3][c:4]([N:5]([C:6]([O:7][C:8]([CH3:9])([CH3:10])[CH3:11])=[O:12])[c:13]2[cH:14][cH:15][c:16]([N:17]3[CH2:18][CH2:19][O:20][CH2:21][CH2:22]3)[cH:23][cH:24]2)[c:25]2[n:26]1[cH:27][cH:28][n:29]2.Cl[Sn:30]([CH2:31][CH2:32][CH2:33][CH3:34])([CH2:35][CH2:36][CH2:37][CH3:38])[CH2:39][CH2:40][CH2:41][CH3:42]',\n",
       "  'ground_truth_product_smiles': '[c:1]1([Sn:30]([CH2:31][CH2:32][CH2:33][CH3:34])([CH2:35][CH2:36][CH2:37][CH3:38])[CH2:39][CH2:40][CH2:41][CH3:42])[cH:2][n:3][c:4]([N:5]([C:6]([O:7][C:8]([CH3:9])([CH3:10])[CH3:11])=[O:12])[c:13]2[cH:14][cH:15][c:16]([N:17]3[CH2:18][CH2:19][O:20][CH2:21][CH2:22]3)[cH:23][cH:24]2)[c:25]2[n:26]1[cH:27][cH:28][n:29]2',\n",
       "  'predicted_reaction_smiles': 'CCCC[Sn](CCCC)(CCCC)c1cnc(N(C(=O)OC(C)(C)C)c2ccc(NCCOCC=O)cc2)c2nccn12>>CCCC[Sn](CCCC)(CCCC)c1cnc(N(C(=O)OC(C)(C)C)c2ccc(N3CCOCC3)cc2)c2nccn12',\n",
       "  'overall_similarity': 0.17403508771929824,\n",
       "  'candidate_similarity': 0.42105263157894735,\n",
       "  'product_similarity': 0.41333333333333333,\n",
       "  'rxn_class': '1',\n",
       "  'failed_rxn': False,\n",
       "  'duplicate_rxn': False},\n",
       " 10997: {'template_applied': '[#50;D4;H0;+0:1](-[c;D3;H0;+0:5](:[#7;a:6]):[c:7])(-[C:2])(-[C:3])-[C:4]>>[#50;D4;H0;+0:1](-[Cl])(-[C:2])(-[C:3])-[C:4].[I]-[c;D3;H0;+0:5](:[#7;a:6]):[c:7]',\n",
       "  'predicted_candidate_smiles': 'CC(C)(C)OC(=O)N(c1ccc(N2CCOCC2)cc1)c1ncc(I)n2ccnc12.CCCC[Sn](Cl)(CCCC)CCCC',\n",
       "  'ground_truth_reactant_smiles': 'Br[c:1]1[cH:2][n:3][c:4]([N:5]([C:6]([O:7][C:8]([CH3:9])([CH3:10])[CH3:11])=[O:12])[c:13]2[cH:14][cH:15][c:16]([N:17]3[CH2:18][CH2:19][O:20][CH2:21][CH2:22]3)[cH:23][cH:24]2)[c:25]2[n:26]1[cH:27][cH:28][n:29]2.Cl[Sn:30]([CH2:31][CH2:32][CH2:33][CH3:34])([CH2:35][CH2:36][CH2:37][CH3:38])[CH2:39][CH2:40][CH2:41][CH3:42]',\n",
       "  'ground_truth_product_smiles': '[c:1]1([Sn:30]([CH2:31][CH2:32][CH2:33][CH3:34])([CH2:35][CH2:36][CH2:37][CH3:38])[CH2:39][CH2:40][CH2:41][CH3:42])[cH:2][n:3][c:4]([N:5]([C:6]([O:7][C:8]([CH3:9])([CH3:10])[CH3:11])=[O:12])[c:13]2[cH:14][cH:15][c:16]([N:17]3[CH2:18][CH2:19][O:20][CH2:21][CH2:22]3)[cH:23][cH:24]2)[c:25]2[n:26]1[cH:27][cH:28][n:29]2',\n",
       "  'predicted_reaction_smiles': 'CC(C)(C)OC(=O)N(c1ccc(N2CCOCC2)cc1)c1ncc(I)n2ccnc12.CCCC[Sn](Cl)(CCCC)CCCC>>CCCC[Sn](CCCC)(CCCC)c1cnc(N(C(=O)OC(C)(C)C)c2ccc(N3CCOCC3)cc2)c2nccn12',\n",
       "  'overall_similarity': 0.1691168091168091,\n",
       "  'candidate_similarity': 0.4148148148148148,\n",
       "  'product_similarity': 0.4076923076923077,\n",
       "  'rxn_class': '1',\n",
       "  'failed_rxn': False,\n",
       "  'duplicate_rxn': False}}"
      ]
     },
     "execution_count": 59,
     "metadata": {},
     "output_type": "execute_result"
    }
   ],
   "source": [
    "prediction_data[8270]"
   ]
  },
  {
   "cell_type": "code",
   "execution_count": 60,
   "metadata": {},
   "outputs": [],
   "source": [
    "# failed_and_duplicates_data[8270]"
   ]
  },
  {
   "cell_type": "markdown",
   "metadata": {},
   "source": [
    "## 5. Evaluation of Model\n",
    "\n",
    "We want to reproduce Tables 2 and 3 in https://pubs.acs.org/doi/10.1021/acscentsci.7b00355\n",
    "\n",
    "1. To do this, we need to run every target compound in the test set through the prediction workflow.\n",
    "2. Then, compare the top 100 predicted reactions to the ground truth (known reaction SMILES in test dataset)\n",
    "        - remove atom mapping first, compare canonical smiles of predicted vs. ground truth\n",
    "3. The top n predictions are then if the ground truth reaction was found in top 1%, 3%, 5%, etc of the ranked ordered list of predicted reactions.\n",
    "4. First without specifying a reaction class, but then also filtering and specifying a reaction class (e.g., if the predicted rxn is in class 2, only apply class 2 templates)"
   ]
  },
  {
   "cell_type": "code",
   "execution_count": 61,
   "metadata": {},
   "outputs": [],
   "source": [
    "def check_prediction(item):\n",
    "    \"\"\"\n",
    "    Steps:\n",
    "    Check if the prediction matches ground truth reactant smiles to the predicted candidate smiles\n",
    "    Returns:\n",
    "    key: key of the reaction\n",
    "    value: dictionary with the following\n",
    "    * Ground Truth Equals Prediction: True if the prediction matches, False otherwise\n",
    "    \"\"\"\n",
    "    key, prediction_lists = item\n",
    "    ground_truth_reactant_smiles = remove_atom_mapping(prediction_lists[list(prediction_lists.keys())[0]][\"ground_truth_reactant_smiles\"])\n",
    "    \n",
    "    for key2, specific_prediction in prediction_lists.items():\n",
    "        predicted_candidate_smile = remove_atom_mapping(specific_prediction[\"predicted_candidate_smiles\"])\n",
    "\n",
    "        # compare the canonical SMILES\n",
    "        if predicted_candidate_smile == ground_truth_reactant_smiles:\n",
    "            prediction_lists[key2][\"Ground Truth Equals Prediction\"] = True\n",
    "        else:\n",
    "            prediction_lists[key2][\"Ground Truth Equals Prediction\"] = False\n",
    "    return key, prediction_lists"
   ]
  },
  {
   "cell_type": "code",
   "execution_count": 62,
   "metadata": {},
   "outputs": [
    {
     "name": "stdout",
     "output_type": "stream",
     "text": [
      "Number of entries in successful_prediction_list: 9607\n"
     ]
    }
   ],
   "source": [
    "# Run through all of them...\n",
    "\n",
    "if __name__ == \"__main__\":\n",
    "    multiprocessing.set_start_method('fork', force=True)\n",
    "\n",
    "    items = list(prediction_data.items())\n",
    "\n",
    "    with concurrent.futures.ProcessPoolExecutor(max_workers=max_cpus) as executor:\n",
    "        results = list(executor.map(check_prediction, items))\n",
    "\n",
    "    # Collect results\n",
    "    prediction_data_list = {}\n",
    "    for key, result in results:\n",
    "        prediction_data_list[key] = result\n",
    "\n",
    "print(f\"Number of entries in successful_prediction_list: {len(prediction_data_list)}\")    "
   ]
  },
  {
   "cell_type": "code",
   "execution_count": 63,
   "metadata": {},
   "outputs": [],
   "source": [
    "top_1, top_3, top_5, top_10, top_20, top_50  = 0, 0, 0, 0, 0, 0\n",
    "\n",
    "for prediction_item in prediction_data_list.values():\n",
    "    for idx, value in enumerate(prediction_item.values()):\n",
    "        if value[\"Ground Truth Equals Prediction\"]:\n",
    "            break\n",
    "    if idx < 1:\n",
    "        top_1 += 1\n",
    "    if idx < 3:\n",
    "        top_3 += 1\n",
    "    if idx < 5:\n",
    "        top_5 += 1\n",
    "    if idx < 10:\n",
    "        top_10 += 1\n",
    "    if idx < 20:\n",
    "        top_20 += 1\n",
    "    if idx < 50:\n",
    "        top_50 += 1"
   ]
  },
  {
   "cell_type": "code",
   "execution_count": 64,
   "metadata": {},
   "outputs": [
    {
     "name": "stdout",
     "output_type": "stream",
     "text": [
      "Top 1: 39.3%\n",
      "Top 3: 63.7%\n",
      "Top 5: 77.8%\n",
      "Top 10: 95.5%\n",
      "Top 20: 100.0%\n",
      "Top 50: 100.0%\n"
     ]
    }
   ],
   "source": [
    "# 100 % with rounding to nearest decimal\n",
    "valid_prediction_counts = len(prediction_data_list)\n",
    "print(f\"Top 1: {(top_1 *100) / valid_prediction_counts:.1f}%\")\n",
    "print(f\"Top 3: {(top_3 *100) / valid_prediction_counts:.1f}%\")\n",
    "print(f\"Top 5: {(top_5 *100) / valid_prediction_counts:.1f}%\")\n",
    "print(f\"Top 10: {(top_10 *100) / valid_prediction_counts:.1f}%\")\n",
    "print(f\"Top 20: {(top_20 *100) / valid_prediction_counts:.1f}%\")\n",
    "print(f\"Top 50: {(top_50 *100) / valid_prediction_counts:.1f}%\")"
   ]
  },
  {
   "cell_type": "code",
   "execution_count": null,
   "metadata": {},
   "outputs": [],
   "source": []
  },
  {
   "cell_type": "code",
   "execution_count": null,
   "metadata": {},
   "outputs": [],
   "source": []
  },
  {
   "cell_type": "markdown",
   "metadata": {},
   "source": [
    "### Self-Study/Bonus Content"
   ]
  },
  {
   "cell_type": "code",
   "execution_count": 65,
   "metadata": {},
   "outputs": [],
   "source": [
    "#######\n",
    "#######\n",
    "#######\n",
    "#######\n",
    "####### \n",
    "#######\n",
    "#######\n",
    "#######\n",
    "\n",
    "## If you wish to use rdkit.Runreactants() instead of the rdchiral code to run and apply reaction templates.\n",
    "\n",
    "# 1. Run this block instead of the rdchiral block for reaction_prediction()\n",
    "# 2. Comment out the rdchiral block\n",
    "# 3. Run Whole Notebook\n",
    "\n",
    "def reaction_prediction(item):\n",
    "\n",
    "    # 1. Get the target compound and fingerprint (from the test set)\n",
    "    key, value = item\n",
    "    target_product_fingerpint = value[\"product_fingerprint\"]\n",
    "    target_product = Chem.MolFromSmiles(value[\"product_smiles\"])\n",
    "\n",
    "    # 2. Iterate through the training set product fingerprints, and compute the tanimoto similiary score between target and products (S_prod)\n",
    "    # Calculate similarities from training data\n",
    "    training_data_similarities = {}\n",
    "    for key2, value2 in training_data.items():\n",
    "        training_product_fingerprint = value2[\"product_fingerprint\"]\n",
    "        similarity = AllChem.DataStructs.TanimotoSimilarity(target_product_fingerpint, training_product_fingerprint)\n",
    "        training_data_similarities[key2] = similarity\n",
    "    \n",
    "    # 3. Take the 100 most similar results (closer to 1.0)\n",
    "    # Sort by similarity\n",
    "    training_data_similarities = sorted(training_data_similarities.items(), key=lambda x: x[1], reverse=True)\n",
    "\n",
    "    # Grab top 100\n",
    "    top_training_data_similarities = training_data_similarities[:100]\n",
    "\n",
    "    # Grab training_data using the keys\n",
    "    training_data_similaritiy_data = {\n",
    "        key2: {\n",
    "            \"tanimoto_similarity\": similarity,\n",
    "            **training_data[key2], # could also index into reaction_computations instead\n",
    "        }\n",
    "        for key2, similarity in top_training_data_similarities\n",
    "    }\n",
    "\n",
    "    # 4. Next, iterate through the reaction templates of the 100 most similar results and apply this reaction template to the target compound\n",
    "    # some templates will produce candidate reactants, some will not produce any candidate reactants\n",
    "\n",
    "    prediction_lists = {}\n",
    "    failed_and_duplicates = {}\n",
    "\n",
    "    # Compare to templates\n",
    "    for key2, training_data_item in training_data_similaritiy_data.items():\n",
    "        rxn_template = rdChemReactions.ReactionFromSmarts(training_data_item[\"canonical_template\"])\n",
    "        rdChemReactions.SanitizeRxn(rxn_template)\n",
    "        precedent_reactant_fingerprint = training_data_item[\"reactant_fingerprint\"]\n",
    "        \n",
    "        # 5. Now for each candidate reactant set generated, compute the fingerprint \n",
    "        # and compare tanimoto similarity to the 100 original reaction reactant fingerprints (S_reac)\n",
    "        # For each template applied, if it produces multiple candidate sets, we grab the most similar one\n",
    "        try:\n",
    "            candidates = rxn_template.RunReactants((target_product,))\n",
    "        except:\n",
    "            failed_and_duplicates[key2] = {\n",
    "                \"predicted_candidate_smiles\": \"failed candidate sanitization\",\n",
    "                \"reactant_smiles\": \"\",\n",
    "                \"product_smiles\": \"\",\n",
    "                \"predicted_reaction_smiles\": \"\",\n",
    "                \"overall_similarity\": 0.0,\n",
    "                \"candidate_similarity\": 0.0,\n",
    "                \"product_similarity\": 0.0,\n",
    "                \"rxn_class\": value[\"rxn_class\"],\n",
    "                \"failed_rxn\": True,\n",
    "                \"duplicate_rxn\": False\n",
    "            }\n",
    "            continue\n",
    "\n",
    "        best_candidate_similarity = 0.0\n",
    "        best_candidate_smiles = None\n",
    "        for candidate in candidates:\n",
    "            failed = 1\n",
    "            for candidate_reactant in candidate:\n",
    "                try:\n",
    "                    Chem.SanitizeMol(candidate_reactant)\n",
    "                except:\n",
    "                    break\n",
    "            else:\n",
    "                failed = 0\n",
    "            if failed:\n",
    "                continue\n",
    "\n",
    "            candidate_reactants = reduce(Chem.CombineMols, candidate)\n",
    "            Chem.SanitizeMol(candidate_reactants)\n",
    "            candidate_fingerprint = AllChem.GetMorganFingerprint(candidate_reactants, radius=2, useFeatures=True)\n",
    "\n",
    "            candidate_similarity = AllChem.DataStructs.TanimotoSimilarity(candidate_fingerprint, precedent_reactant_fingerprint)\n",
    "            if candidate_similarity > best_candidate_similarity:\n",
    "                best_candidate_similarity = candidate_similarity\n",
    "                best_candidate_smiles = Chem.MolToSmiles(candidate_reactants)\n",
    "\n",
    "        if best_candidate_smiles is None:\n",
    "            failed_and_duplicates[key2] = {\n",
    "                \"predicted_candidate_smiles\": \"failed candidate sanitization\",\n",
    "                \"reactant_smiles\": \"\",\n",
    "                \"product_smiles\": \"\",\n",
    "                \"predicted_reaction_smiles\": \"\",\n",
    "                \"overall_similarity\": 0.0,\n",
    "                \"candidate_similarity\": 0.0,\n",
    "                \"product_similarity\": 0.0,\n",
    "                \"rxn_class\": value[\"rxn_class\"],\n",
    "                \"failed_rxn\": True,\n",
    "                \"duplicate_rxn\": False\n",
    "            }\n",
    "            continue\n",
    "\n",
    "        # Reaction Smiles\n",
    "        predicted_reaction_smiles = best_candidate_smiles + \">>\" + value[\"product_smiles\"]\n",
    "    \n",
    "        # Canonicalize the predicted reaction\n",
    "        rxn = rdChemReactions.ReactionFromSmarts(predicted_reaction_smiles, useSmiles=True)\n",
    "        rdChemReactions.SanitizeRxn(rxn)\n",
    "        canonical_predicted_reaction_smiles = rdChemReactions.ReactionToSmiles(rxn)\n",
    "\n",
    "        # 6. Compute an overall similarity of the predicted rxn, S_overall = S_prod x S_reac\n",
    "        # Compare to original reactants\n",
    "        overall_similarity = best_candidate_similarity * training_data_item[\"tanimoto_similarity\"]\n",
    "    \n",
    "        prediction_lists[key2] = {\n",
    "            \"predicted_candidate_smiles\": best_candidate_smiles,\n",
    "            \"ground_truth_reactant_smiles\": value[\"reactant_smiles\"],\n",
    "            \"ground_truth_product_smiles\": value[\"product_smiles\"],\n",
    "            \"predicted_reaction_smiles\": canonical_predicted_reaction_smiles,\n",
    "            \"overall_similarity\": overall_similarity,\n",
    "            \"candidate_similarity\": candidate_similarity,\n",
    "            \"product_similarity\": training_data_item[\"tanimoto_similarity\"],\n",
    "            \"rxn_class\": value[\"rxn_class\"],\n",
    "            \"failed_rxn\": False,\n",
    "            \"duplicate_rxn\": False\n",
    "        }\n",
    "    \n",
    "    # 7. Now, order the predicted reactions based on overall similarity (highest number == rank 1)\n",
    "    # sort by overall similarity\n",
    "    prediction_lists = dict(sorted(prediction_lists.items(), key=lambda x: x[1][\"overall_similarity\"], reverse=True))\n",
    "\n",
    "    # If duplicate predicted_candidate_smiles, mark as duplicate reaction by moving to failed_and_duplicates\n",
    "    seen = set()\n",
    "    for sub_key, sub_value in prediction_lists.items():\n",
    "        if sub_value[\"predicted_candidate_smiles\"] in seen:\n",
    "            sub_value[\"duplicate_rxn\"] = True  # Set duplicate flag to True\n",
    "            failed_and_duplicates[sub_key] = sub_value\n",
    "            # remove from prediction_lists\n",
    "            prediction_lists[sub_key] = None\n",
    "        else:\n",
    "            seen.add(sub_value[\"predicted_candidate_smiles\"])\n",
    "\n",
    "    # Remove None values\n",
    "    prediction_lists = {k: v for k, v in prediction_lists.items() if v is not None}\n",
    "\n",
    "    if len(prediction_lists):\n",
    "        return key, prediction_lists, failed_and_duplicates\n",
    "    else:\n",
    "        return key, None, failed_and_duplicates"
   ]
  },
  {
   "cell_type": "code",
   "execution_count": null,
   "metadata": {},
   "outputs": [],
   "source": []
  },
  {
   "cell_type": "code",
   "execution_count": null,
   "metadata": {},
   "outputs": [],
   "source": []
  }
 ],
 "metadata": {
  "kernelspec": {
   "display_name": "Python 3",
   "language": "python",
   "name": "python3"
  },
  "language_info": {
   "codemirror_mode": {
    "name": "ipython",
    "version": 3
   },
   "file_extension": ".py",
   "mimetype": "text/x-python",
   "name": "python",
   "nbconvert_exporter": "python",
   "pygments_lexer": "ipython3",
   "version": "3.12.5"
  }
 },
 "nbformat": 4,
 "nbformat_minor": 2
}
